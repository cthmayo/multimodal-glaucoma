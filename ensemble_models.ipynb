{
 "cells": [
  {
   "cell_type": "markdown",
   "id": "c95d1065-bcf7-4a50-aaf9-80001cfec228",
   "metadata": {},
   "source": [
    "# Imports"
   ]
  },
  {
   "cell_type": "code",
   "execution_count": 1,
   "id": "60e7f39a-3c1d-4855-b424-416e106019af",
   "metadata": {},
   "outputs": [],
   "source": [
    "import numpy as np\n",
    "import pandas as pd\n",
    "import matplotlib.pyplot as plt\n",
    "import os\n",
    "from tqdm import tqdm\n",
    "from collections import Counter\n",
    "from matplotlib_venn import venn2, venn3\n",
    "from scipy import stats\n",
    "UKBB_PATH = '../glaucoma_project/UKBB_Data/'\n",
    "UKBB_GENOME_PATH = '../glaucoma_project/UKBB_Data_Basket2/raw_genome/merged_raw_genome/'\n",
    "UKBB_IMPUTED_GENOME_PATH = '../glaucoma_project/UKBB_Data_Basket2/imputed_genome/merged_imputed_genome/'\n",
    "GWAS_PATH = '../glaucoma_project/GWAS/'\n",
    "from sklearn.model_selection import train_test_split\n",
    "from tableone import TableOne\n",
    "import statsmodels.api as sm\n",
    "import re\n",
    "import seaborn as sns\n",
    "import gzip\n",
    "import time\n",
    "import venn\n",
    "tqdm.pandas()\n",
    "from sklearn.ensemble import RandomForestClassifier\n",
    "from sklearn.ensemble import RandomForestRegressor\n",
    "from sklearn.metrics import accuracy_score\n",
    "from sklearn.metrics import roc_auc_score\n",
    "import shap\n",
    "from joblib import dump, load\n",
    "\n",
    "UKBB_PATH = '../glaucoma_project/UKBB_Data/'\n",
    "MAIN_UKBB_FILE = '../glaucoma_project/UKBB_Data/ukb49508.tab'\n",
    "SECOND_UKBB_FILE = '../glaucoma_project/UKBB_Data_Basket3/ukb51745.tab'\n",
    "MAIN_HTML_FILE = '../glaucoma_project/UKBB_Data/ukb49508.html'\n",
    "SECOND_HTML_FILE = '../glaucoma_project/UKBB_Data_Basket3/ukb51745.html'\n",
    "TOTAL_POP = 502419\n",
    "TEST_SET_RANDOM_SPLIT = 42\n",
    "CHUNK_SIZE = 10000"
   ]
  },
  {
   "cell_type": "code",
   "execution_count": 2,
   "id": "8b1c2fdb-0f5e-4f40-9079-de4ef45f8306",
   "metadata": {},
   "outputs": [],
   "source": [
    "df_selected_genes_imputed = pd.read_pickle(UKBB_PATH+'processed_data/imputed_genes.pkl')"
   ]
  },
  {
   "cell_type": "code",
   "execution_count": 3,
   "id": "cc16b57a-dfe2-441c-93a4-19cc8332ef56",
   "metadata": {},
   "outputs": [],
   "source": [
    "glaucoma_diagnosis = pd.read_pickle(UKBB_PATH+'processed_data/glaucoma_diagnosis_for_genetic_ml.pkl')"
   ]
  },
  {
   "cell_type": "code",
   "execution_count": 4,
   "id": "5f4b6c30-bbe7-4c30-bdae-163df9b66c5e",
   "metadata": {},
   "outputs": [],
   "source": [
    "glaucoma_diagnosis_incl_no_genetic = pd.read_pickle(UKBB_PATH+'processed_data/glaucoma_diagnosis.pkl')"
   ]
  },
  {
   "cell_type": "code",
   "execution_count": 5,
   "id": "f3cf7db0-a43b-45db-ad24-2bc63a9714b2",
   "metadata": {},
   "outputs": [],
   "source": [
    "imputed_matrix = pd.read_pickle(UKBB_PATH+'processed_data/imputed_matrix_selected_clinical_features.pkl')"
   ]
  },
  {
   "cell_type": "markdown",
   "id": "65d0db19-8fb5-410b-b9e0-fa952d316cfc",
   "metadata": {},
   "source": [
    "Get test-train split data"
   ]
  },
  {
   "cell_type": "code",
   "execution_count": 6,
   "id": "43d8e83a-153f-4402-8a03-1eedc899f380",
   "metadata": {},
   "outputs": [],
   "source": [
    "train_idx, test_idx = train_test_split(range(TOTAL_POP),random_state=TEST_SET_RANDOM_SPLIT, test_size=0.1)"
   ]
  },
  {
   "cell_type": "code",
   "execution_count": 7,
   "id": "f7702823-2a5f-408d-9b32-50d93670eed6",
   "metadata": {},
   "outputs": [],
   "source": [
    "def get_dataframe_for_analysis(column_names, idx=train_idx):\n",
    "    print('Preparing dataframe...')\n",
    "    \n",
    "    cols_in_main_file = pd.read_csv(MAIN_UKBB_FILE, sep='\\t', nrows=1).columns\n",
    "    cols_in_second_file = pd.read_csv(SECOND_UKBB_FILE, sep='\\t', nrows=1).columns\n",
    "    column_names_main = [col for col in column_names if col in cols_in_main_file]\n",
    "    column_names_second = [col for col in column_names if (not col in cols_in_main_file) and (col in cols_in_second_file)]\n",
    "    \n",
    "    \n",
    "    df_selected_cols = pd.DataFrame()\n",
    "    for chunk in tqdm(pd.read_csv(MAIN_UKBB_FILE, sep='\\t', chunksize=CHUNK_SIZE, usecols=column_names_main+['f.eid']), total=TOTAL_POP // CHUNK_SIZE):\n",
    "        df_selected_cols = pd.concat([df_selected_cols, chunk])\n",
    "        \n",
    "    df_selected_cols_second = pd.DataFrame()\n",
    "    for chunk in tqdm(pd.read_csv(SECOND_UKBB_FILE, sep='\\t', chunksize=CHUNK_SIZE, usecols=column_names_second+['f.eid']), total=TOTAL_POP // CHUNK_SIZE):\n",
    "        df_selected_cols_second = pd.concat([df_selected_cols_second, chunk])\n",
    "    \n",
    "    return pd.merge(df_selected_cols,df_selected_cols_second,how='left',on='f.eid').iloc[idx].reset_index(drop=True)"
   ]
  },
  {
   "cell_type": "code",
   "execution_count": 11,
   "id": "dbb4a3ea-b694-453b-8a1e-dd9204aacd62",
   "metadata": {},
   "outputs": [],
   "source": [
    "df_glaucoma_data = pd.read_pickle(UKBB_PATH+'processed_data/Clinical Feature Selection/glaucoma_data_checkpoint.pkl')"
   ]
  },
  {
   "cell_type": "code",
   "execution_count": 12,
   "id": "78dfc7da-ffa7-4941-a68f-b3e424516731",
   "metadata": {},
   "outputs": [
    {
     "data": {
      "text/plain": [
       "452177"
      ]
     },
     "execution_count": 12,
     "metadata": {},
     "output_type": "execute_result"
    }
   ],
   "source": [
    "len(df_glaucoma_data)"
   ]
  },
  {
   "cell_type": "markdown",
   "id": "c79955bf-f45a-4fc6-bb52-c3df7d540c63",
   "metadata": {},
   "source": [
    "TESTING--"
   ]
  },
  {
   "cell_type": "code",
   "execution_count": 3,
   "id": "aba08b0a-8711-40f0-9b30-503706d83e18",
   "metadata": {},
   "outputs": [],
   "source": [
    "example_model_1a = load('../glaucoma_project/Models/LogisticRegression_clinical_1a_model.joblib')"
   ]
  },
  {
   "cell_type": "code",
   "execution_count": 6,
   "id": "468a4ff1-d76d-4f28-9a26-254d14b645b1",
   "metadata": {},
   "outputs": [],
   "source": [
    "pred_1a = example_model_1a.predict_proba(ultimate_merged_df[[col for col in classification_dict.keys() if classification_dict[col][1] == '1a']])"
   ]
  },
  {
   "cell_type": "code",
   "execution_count": 13,
   "id": "609925b7-9934-4911-a648-e66e1dc7efb9",
   "metadata": {},
   "outputs": [
    {
     "name": "stdout",
     "output_type": "stream",
     "text": [
      "AUC 0.7065832969203975\n",
      "Youden's J threshold 0.4787914537612834\n",
      "Accuracy 0.5555936467051027\n",
      "Sensitivity 0.7581982661138333\n",
      "Specificity 0.5530725339874815\n"
     ]
    },
    {
     "data": {
      "text/plain": [
       "(0.7065832969203975,\n",
       " 0.4787914537612834,\n",
       " 0.5555936467051027,\n",
       " 0.7581982661138333,\n",
       " 0.5530725339874815)"
      ]
     },
     "execution_count": 13,
     "metadata": {},
     "output_type": "execute_result"
    }
   ],
   "source": [
    "evaluate_model(ultimate_merged_df['Total Glaucoma'], pred_1a)"
   ]
  },
  {
   "cell_type": "markdown",
   "id": "ff1d4c89-c020-4c07-b369-6b3043a5147c",
   "metadata": {},
   "source": [
    "-- TESTING"
   ]
  },
  {
   "cell_type": "code",
   "execution_count": 13,
   "id": "91cba552-b266-4ef9-8389-ccd8ccd7aa96",
   "metadata": {},
   "outputs": [
    {
     "data": {
      "text/html": [
       "<div>\n",
       "<style scoped>\n",
       "    .dataframe tbody tr th:only-of-type {\n",
       "        vertical-align: middle;\n",
       "    }\n",
       "\n",
       "    .dataframe tbody tr th {\n",
       "        vertical-align: top;\n",
       "    }\n",
       "\n",
       "    .dataframe thead th {\n",
       "        text-align: right;\n",
       "    }\n",
       "</style>\n",
       "<table border=\"1\" class=\"dataframe\">\n",
       "  <thead>\n",
       "    <tr style=\"text-align: right;\">\n",
       "      <th></th>\n",
       "      <th>Waist circumference_0</th>\n",
       "      <th>Townsend deprivation index at recruitment</th>\n",
       "      <th>Number of days/week of vigorous physical activity 10+ minutes_0</th>\n",
       "      <th>Time spend outdoors in summer_0</th>\n",
       "      <th>Time spent outdoors in winter_0</th>\n",
       "      <th>Time spent watching television (TV)_0</th>\n",
       "      <th>Time spent using computer_0</th>\n",
       "      <th>Cooked vegetable intake_0</th>\n",
       "      <th>Fresh fruit intake_0</th>\n",
       "      <th>Dried fruit intake_0</th>\n",
       "      <th>...</th>\n",
       "      <th>On Ibuprofen</th>\n",
       "      <th>Sports club or gym</th>\n",
       "      <th>Religious group</th>\n",
       "      <th>Swimming/cycling/bowling/keep fit</th>\n",
       "      <th>On Fish Oil</th>\n",
       "      <th>On Glucosamine</th>\n",
       "      <th>Family history diabetes</th>\n",
       "      <th>Family history hypertension</th>\n",
       "      <th>IBS Diagnosis</th>\n",
       "      <th>Hiatus Hernia Diagnosis</th>\n",
       "    </tr>\n",
       "  </thead>\n",
       "  <tbody>\n",
       "    <tr>\n",
       "      <th>0</th>\n",
       "      <td>-0.911800</td>\n",
       "      <td>-1.118830</td>\n",
       "      <td>-4.412120e-01</td>\n",
       "      <td>0.929051</td>\n",
       "      <td>-1.454543e-01</td>\n",
       "      <td>1.950884</td>\n",
       "      <td>0.000000</td>\n",
       "      <td>-0.942502</td>\n",
       "      <td>-0.818550</td>\n",
       "      <td>-5.055417e-01</td>\n",
       "      <td>...</td>\n",
       "      <td>0.0</td>\n",
       "      <td>1.0</td>\n",
       "      <td>0.0</td>\n",
       "      <td>1.0</td>\n",
       "      <td>0.0</td>\n",
       "      <td>0.0</td>\n",
       "      <td>0.0</td>\n",
       "      <td>0.0</td>\n",
       "      <td>1.0</td>\n",
       "      <td>1.0</td>\n",
       "    </tr>\n",
       "    <tr>\n",
       "      <th>1</th>\n",
       "      <td>-1.209223</td>\n",
       "      <td>0.084647</td>\n",
       "      <td>-4.412120e-01</td>\n",
       "      <td>0.478434</td>\n",
       "      <td>-7.553898e-01</td>\n",
       "      <td>-0.573127</td>\n",
       "      <td>-0.178616</td>\n",
       "      <td>-0.412012</td>\n",
       "      <td>-0.184510</td>\n",
       "      <td>-5.055417e-01</td>\n",
       "      <td>...</td>\n",
       "      <td>1.0</td>\n",
       "      <td>0.0</td>\n",
       "      <td>0.0</td>\n",
       "      <td>1.0</td>\n",
       "      <td>0.0</td>\n",
       "      <td>0.0</td>\n",
       "      <td>0.0</td>\n",
       "      <td>1.0</td>\n",
       "      <td>0.0</td>\n",
       "      <td>0.0</td>\n",
       "    </tr>\n",
       "    <tr>\n",
       "      <th>2</th>\n",
       "      <td>1.541941</td>\n",
       "      <td>-1.556288</td>\n",
       "      <td>-4.412120e-01</td>\n",
       "      <td>-0.422799</td>\n",
       "      <td>-1.454543e-01</td>\n",
       "      <td>-0.573127</td>\n",
       "      <td>-0.178616</td>\n",
       "      <td>-0.942502</td>\n",
       "      <td>-0.818550</td>\n",
       "      <td>6.851648e-02</td>\n",
       "      <td>...</td>\n",
       "      <td>0.0</td>\n",
       "      <td>0.0</td>\n",
       "      <td>0.0</td>\n",
       "      <td>0.0</td>\n",
       "      <td>0.0</td>\n",
       "      <td>0.0</td>\n",
       "      <td>1.0</td>\n",
       "      <td>0.0</td>\n",
       "      <td>0.0</td>\n",
       "      <td>1.0</td>\n",
       "    </tr>\n",
       "    <tr>\n",
       "      <th>3</th>\n",
       "      <td>1.021451</td>\n",
       "      <td>0.072867</td>\n",
       "      <td>-9.660884e-01</td>\n",
       "      <td>-1.324032</td>\n",
       "      <td>-2.708658e-16</td>\n",
       "      <td>-0.573127</td>\n",
       "      <td>-0.178616</td>\n",
       "      <td>-0.412012</td>\n",
       "      <td>0.449530</td>\n",
       "      <td>-5.055417e-01</td>\n",
       "      <td>...</td>\n",
       "      <td>0.0</td>\n",
       "      <td>0.0</td>\n",
       "      <td>1.0</td>\n",
       "      <td>0.0</td>\n",
       "      <td>0.0</td>\n",
       "      <td>0.0</td>\n",
       "      <td>0.0</td>\n",
       "      <td>0.0</td>\n",
       "      <td>0.0</td>\n",
       "      <td>0.0</td>\n",
       "    </tr>\n",
       "    <tr>\n",
       "      <th>4</th>\n",
       "      <td>-0.019530</td>\n",
       "      <td>-0.901135</td>\n",
       "      <td>-4.412120e-01</td>\n",
       "      <td>-0.422799</td>\n",
       "      <td>-7.553898e-01</td>\n",
       "      <td>1.319881</td>\n",
       "      <td>0.000000</td>\n",
       "      <td>0.118478</td>\n",
       "      <td>11.228209</td>\n",
       "      <td>5.235040e+00</td>\n",
       "      <td>...</td>\n",
       "      <td>1.0</td>\n",
       "      <td>0.0</td>\n",
       "      <td>0.0</td>\n",
       "      <td>0.0</td>\n",
       "      <td>0.0</td>\n",
       "      <td>0.0</td>\n",
       "      <td>0.0</td>\n",
       "      <td>0.0</td>\n",
       "      <td>0.0</td>\n",
       "      <td>1.0</td>\n",
       "    </tr>\n",
       "    <tr>\n",
       "      <th>...</th>\n",
       "      <td>...</td>\n",
       "      <td>...</td>\n",
       "      <td>...</td>\n",
       "      <td>...</td>\n",
       "      <td>...</td>\n",
       "      <td>...</td>\n",
       "      <td>...</td>\n",
       "      <td>...</td>\n",
       "      <td>...</td>\n",
       "      <td>...</td>\n",
       "      <td>...</td>\n",
       "      <td>...</td>\n",
       "      <td>...</td>\n",
       "      <td>...</td>\n",
       "      <td>...</td>\n",
       "      <td>...</td>\n",
       "      <td>...</td>\n",
       "      <td>...</td>\n",
       "      <td>...</td>\n",
       "      <td>...</td>\n",
       "      <td>...</td>\n",
       "    </tr>\n",
       "    <tr>\n",
       "      <th>445154</th>\n",
       "      <td>1.095807</td>\n",
       "      <td>-0.567292</td>\n",
       "      <td>-4.412120e-01</td>\n",
       "      <td>-0.422799</td>\n",
       "      <td>4.644813e-01</td>\n",
       "      <td>-1.204130</td>\n",
       "      <td>0.000000</td>\n",
       "      <td>0.648969</td>\n",
       "      <td>-0.818550</td>\n",
       "      <td>-6.373327e-17</td>\n",
       "      <td>...</td>\n",
       "      <td>0.0</td>\n",
       "      <td>0.0</td>\n",
       "      <td>0.0</td>\n",
       "      <td>0.0</td>\n",
       "      <td>0.0</td>\n",
       "      <td>0.0</td>\n",
       "      <td>0.0</td>\n",
       "      <td>0.0</td>\n",
       "      <td>0.0</td>\n",
       "      <td>0.0</td>\n",
       "    </tr>\n",
       "    <tr>\n",
       "      <th>445155</th>\n",
       "      <td>-1.357934</td>\n",
       "      <td>0.955716</td>\n",
       "      <td>-9.660884e-01</td>\n",
       "      <td>-0.422799</td>\n",
       "      <td>-7.553898e-01</td>\n",
       "      <td>-1.204130</td>\n",
       "      <td>-0.178616</td>\n",
       "      <td>0.648969</td>\n",
       "      <td>-0.818550</td>\n",
       "      <td>6.851648e-02</td>\n",
       "      <td>...</td>\n",
       "      <td>0.0</td>\n",
       "      <td>0.0</td>\n",
       "      <td>1.0</td>\n",
       "      <td>0.0</td>\n",
       "      <td>1.0</td>\n",
       "      <td>1.0</td>\n",
       "      <td>0.0</td>\n",
       "      <td>0.0</td>\n",
       "      <td>0.0</td>\n",
       "      <td>0.0</td>\n",
       "    </tr>\n",
       "    <tr>\n",
       "      <th>445156</th>\n",
       "      <td>0.798383</td>\n",
       "      <td>-0.769106</td>\n",
       "      <td>-2.330919e-16</td>\n",
       "      <td>0.000000</td>\n",
       "      <td>-2.708658e-16</td>\n",
       "      <td>1.319881</td>\n",
       "      <td>-0.178616</td>\n",
       "      <td>-0.412012</td>\n",
       "      <td>1.083570</td>\n",
       "      <td>-6.373327e-17</td>\n",
       "      <td>...</td>\n",
       "      <td>0.0</td>\n",
       "      <td>0.0</td>\n",
       "      <td>0.0</td>\n",
       "      <td>0.0</td>\n",
       "      <td>0.0</td>\n",
       "      <td>1.0</td>\n",
       "      <td>0.0</td>\n",
       "      <td>0.0</td>\n",
       "      <td>0.0</td>\n",
       "      <td>0.0</td>\n",
       "    </tr>\n",
       "    <tr>\n",
       "      <th>445157</th>\n",
       "      <td>0.129181</td>\n",
       "      <td>-0.993041</td>\n",
       "      <td>8.366436e-02</td>\n",
       "      <td>-0.873415</td>\n",
       "      <td>-7.553898e-01</td>\n",
       "      <td>0.057876</td>\n",
       "      <td>0.000000</td>\n",
       "      <td>-0.412012</td>\n",
       "      <td>-0.184510</td>\n",
       "      <td>-5.055417e-01</td>\n",
       "      <td>...</td>\n",
       "      <td>0.0</td>\n",
       "      <td>1.0</td>\n",
       "      <td>0.0</td>\n",
       "      <td>1.0</td>\n",
       "      <td>1.0</td>\n",
       "      <td>1.0</td>\n",
       "      <td>0.0</td>\n",
       "      <td>0.0</td>\n",
       "      <td>0.0</td>\n",
       "      <td>0.0</td>\n",
       "    </tr>\n",
       "    <tr>\n",
       "      <th>445158</th>\n",
       "      <td>-0.168242</td>\n",
       "      <td>-0.927129</td>\n",
       "      <td>-4.412120e-01</td>\n",
       "      <td>0.929051</td>\n",
       "      <td>-1.454543e-01</td>\n",
       "      <td>0.057876</td>\n",
       "      <td>0.000000</td>\n",
       "      <td>0.118478</td>\n",
       "      <td>-0.184510</td>\n",
       "      <td>6.851648e-02</td>\n",
       "      <td>...</td>\n",
       "      <td>0.0</td>\n",
       "      <td>0.0</td>\n",
       "      <td>1.0</td>\n",
       "      <td>1.0</td>\n",
       "      <td>1.0</td>\n",
       "      <td>1.0</td>\n",
       "      <td>0.0</td>\n",
       "      <td>1.0</td>\n",
       "      <td>0.0</td>\n",
       "      <td>0.0</td>\n",
       "    </tr>\n",
       "  </tbody>\n",
       "</table>\n",
       "<p>445159 rows × 242 columns</p>\n",
       "</div>"
      ],
      "text/plain": [
       "        Waist circumference_0  Townsend deprivation index at recruitment  \\\n",
       "0                   -0.911800                                  -1.118830   \n",
       "1                   -1.209223                                   0.084647   \n",
       "2                    1.541941                                  -1.556288   \n",
       "3                    1.021451                                   0.072867   \n",
       "4                   -0.019530                                  -0.901135   \n",
       "...                       ...                                        ...   \n",
       "445154               1.095807                                  -0.567292   \n",
       "445155              -1.357934                                   0.955716   \n",
       "445156               0.798383                                  -0.769106   \n",
       "445157               0.129181                                  -0.993041   \n",
       "445158              -0.168242                                  -0.927129   \n",
       "\n",
       "        Number of days/week of vigorous physical activity 10+ minutes_0  \\\n",
       "0                                           -4.412120e-01                 \n",
       "1                                           -4.412120e-01                 \n",
       "2                                           -4.412120e-01                 \n",
       "3                                           -9.660884e-01                 \n",
       "4                                           -4.412120e-01                 \n",
       "...                                                   ...                 \n",
       "445154                                      -4.412120e-01                 \n",
       "445155                                      -9.660884e-01                 \n",
       "445156                                      -2.330919e-16                 \n",
       "445157                                       8.366436e-02                 \n",
       "445158                                      -4.412120e-01                 \n",
       "\n",
       "        Time spend outdoors in summer_0  Time spent outdoors in winter_0  \\\n",
       "0                              0.929051                    -1.454543e-01   \n",
       "1                              0.478434                    -7.553898e-01   \n",
       "2                             -0.422799                    -1.454543e-01   \n",
       "3                             -1.324032                    -2.708658e-16   \n",
       "4                             -0.422799                    -7.553898e-01   \n",
       "...                                 ...                              ...   \n",
       "445154                        -0.422799                     4.644813e-01   \n",
       "445155                        -0.422799                    -7.553898e-01   \n",
       "445156                         0.000000                    -2.708658e-16   \n",
       "445157                        -0.873415                    -7.553898e-01   \n",
       "445158                         0.929051                    -1.454543e-01   \n",
       "\n",
       "        Time spent watching television (TV)_0  Time spent using computer_0  \\\n",
       "0                                    1.950884                     0.000000   \n",
       "1                                   -0.573127                    -0.178616   \n",
       "2                                   -0.573127                    -0.178616   \n",
       "3                                   -0.573127                    -0.178616   \n",
       "4                                    1.319881                     0.000000   \n",
       "...                                       ...                          ...   \n",
       "445154                              -1.204130                     0.000000   \n",
       "445155                              -1.204130                    -0.178616   \n",
       "445156                               1.319881                    -0.178616   \n",
       "445157                               0.057876                     0.000000   \n",
       "445158                               0.057876                     0.000000   \n",
       "\n",
       "        Cooked vegetable intake_0  Fresh fruit intake_0  Dried fruit intake_0  \\\n",
       "0                       -0.942502             -0.818550         -5.055417e-01   \n",
       "1                       -0.412012             -0.184510         -5.055417e-01   \n",
       "2                       -0.942502             -0.818550          6.851648e-02   \n",
       "3                       -0.412012              0.449530         -5.055417e-01   \n",
       "4                        0.118478             11.228209          5.235040e+00   \n",
       "...                           ...                   ...                   ...   \n",
       "445154                   0.648969             -0.818550         -6.373327e-17   \n",
       "445155                   0.648969             -0.818550          6.851648e-02   \n",
       "445156                  -0.412012              1.083570         -6.373327e-17   \n",
       "445157                  -0.412012             -0.184510         -5.055417e-01   \n",
       "445158                   0.118478             -0.184510          6.851648e-02   \n",
       "\n",
       "        ...  On Ibuprofen  Sports club or gym  Religious group  \\\n",
       "0       ...           0.0                 1.0              0.0   \n",
       "1       ...           1.0                 0.0              0.0   \n",
       "2       ...           0.0                 0.0              0.0   \n",
       "3       ...           0.0                 0.0              1.0   \n",
       "4       ...           1.0                 0.0              0.0   \n",
       "...     ...           ...                 ...              ...   \n",
       "445154  ...           0.0                 0.0              0.0   \n",
       "445155  ...           0.0                 0.0              1.0   \n",
       "445156  ...           0.0                 0.0              0.0   \n",
       "445157  ...           0.0                 1.0              0.0   \n",
       "445158  ...           0.0                 0.0              1.0   \n",
       "\n",
       "        Swimming/cycling/bowling/keep fit  On Fish Oil  On Glucosamine  \\\n",
       "0                                     1.0          0.0             0.0   \n",
       "1                                     1.0          0.0             0.0   \n",
       "2                                     0.0          0.0             0.0   \n",
       "3                                     0.0          0.0             0.0   \n",
       "4                                     0.0          0.0             0.0   \n",
       "...                                   ...          ...             ...   \n",
       "445154                                0.0          0.0             0.0   \n",
       "445155                                0.0          1.0             1.0   \n",
       "445156                                0.0          0.0             1.0   \n",
       "445157                                1.0          1.0             1.0   \n",
       "445158                                1.0          1.0             1.0   \n",
       "\n",
       "        Family history diabetes  Family history hypertension  IBS Diagnosis  \\\n",
       "0                           0.0                          0.0            1.0   \n",
       "1                           0.0                          1.0            0.0   \n",
       "2                           1.0                          0.0            0.0   \n",
       "3                           0.0                          0.0            0.0   \n",
       "4                           0.0                          0.0            0.0   \n",
       "...                         ...                          ...            ...   \n",
       "445154                      0.0                          0.0            0.0   \n",
       "445155                      0.0                          0.0            0.0   \n",
       "445156                      0.0                          0.0            0.0   \n",
       "445157                      0.0                          0.0            0.0   \n",
       "445158                      0.0                          1.0            0.0   \n",
       "\n",
       "        Hiatus Hernia Diagnosis  \n",
       "0                           1.0  \n",
       "1                           0.0  \n",
       "2                           1.0  \n",
       "3                           0.0  \n",
       "4                           1.0  \n",
       "...                         ...  \n",
       "445154                      0.0  \n",
       "445155                      0.0  \n",
       "445156                      0.0  \n",
       "445157                      0.0  \n",
       "445158                      0.0  \n",
       "\n",
       "[445159 rows x 242 columns]"
      ]
     },
     "execution_count": 13,
     "metadata": {},
     "output_type": "execute_result"
    }
   ],
   "source": [
    "imputed_matrix"
   ]
  },
  {
   "cell_type": "code",
   "execution_count": 14,
   "id": "604eb75f-5e8b-48e7-97a9-fa84e600f4a3",
   "metadata": {},
   "outputs": [],
   "source": [
    "eids = pd.read_pickle(UKBB_PATH+'processed_data/eid_list_clinical_models.pkl')"
   ]
  },
  {
   "cell_type": "code",
   "execution_count": 25,
   "id": "9075ee7d-fd99-4672-9b06-46f464891f9c",
   "metadata": {},
   "outputs": [],
   "source": [
    "imputed_matrix['f.eid'] = eids.reset_index(drop=True)"
   ]
  },
  {
   "cell_type": "code",
   "execution_count": 17,
   "id": "e91188ff-b2e7-45bc-8dcd-bbb1c9be1f02",
   "metadata": {},
   "outputs": [],
   "source": [
    "imputed_matrix['Total Glaucoma'] = glaucoma_diagnosis_incl_no_genetic"
   ]
  },
  {
   "cell_type": "markdown",
   "id": "5e3223bc-26ab-484d-9c8f-69a97dfe66d6",
   "metadata": {},
   "source": [
    "# Make training set for ensemble methods - both has genetic data and excluding pre-2010 glaucoma cases"
   ]
  },
  {
   "cell_type": "code",
   "execution_count": 30,
   "id": "55dec278-cb9d-48ea-bc08-aedb1d23364c",
   "metadata": {},
   "outputs": [],
   "source": [
    "ultimate_merged_df = pd.merge(imputed_matrix,df_selected_genes_imputed,how='inner',on='f.eid')"
   ]
  },
  {
   "cell_type": "code",
   "execution_count": 31,
   "id": "3dd0c33c-5c75-46a7-8ca0-da24bd5e3a08",
   "metadata": {},
   "outputs": [
    {
     "data": {
      "text/plain": [
       "0    426407\n",
       "1     12098\n",
       "Name: Total Glaucoma, dtype: int64"
      ]
     },
     "execution_count": 31,
     "metadata": {},
     "output_type": "execute_result"
    }
   ],
   "source": [
    "glaucoma_diagnosis.value_counts()"
   ]
  },
  {
   "cell_type": "code",
   "execution_count": 32,
   "id": "bac873fa-709e-4056-b001-b0db1d1554b7",
   "metadata": {},
   "outputs": [
    {
     "data": {
      "text/plain": [
       "0    439661\n",
       "1      5498\n",
       "Name: Total Glaucoma, dtype: int64"
      ]
     },
     "execution_count": 32,
     "metadata": {},
     "output_type": "execute_result"
    }
   ],
   "source": [
    "imputed_matrix['Total Glaucoma'].value_counts()"
   ]
  },
  {
   "cell_type": "code",
   "execution_count": 34,
   "id": "932c45f3-66e8-47bf-bf07-0cb7f467dafa",
   "metadata": {},
   "outputs": [
    {
     "data": {
      "text/plain": [
       "0    426407\n",
       "1      5306\n",
       "Name: Total Glaucoma, dtype: int64"
      ]
     },
     "execution_count": 34,
     "metadata": {},
     "output_type": "execute_result"
    }
   ],
   "source": [
    "ultimate_merged_df['Total Glaucoma'].value_counts()"
   ]
  },
  {
   "cell_type": "code",
   "execution_count": 35,
   "id": "d7ac8b33-9775-46f4-bcfa-33338b400098",
   "metadata": {},
   "outputs": [],
   "source": [
    "ultimate_merged_df.to_pickle(UKBB_PATH+'processed_data/merged_df_for_ensemble_training.pkl')"
   ]
  },
  {
   "cell_type": "code",
   "execution_count": 7,
   "id": "b63a0a6a-a989-47d8-a0bb-622c0384e7f2",
   "metadata": {},
   "outputs": [],
   "source": [
    "ultimate_merged_df = pd.read_pickle(UKBB_PATH+'processed_data/merged_df_for_ensemble_training.pkl')"
   ]
  },
  {
   "cell_type": "markdown",
   "id": "1f6f50b4-6a7f-4427-a3b5-8b624496e46c",
   "metadata": {},
   "source": [
    "# Getting classifiers"
   ]
  },
  {
   "cell_type": "markdown",
   "id": "e196f2f1-ef9b-4542-9dac-f66803845ba4",
   "metadata": {},
   "source": [
    "Going to use a logistic regression meta-classifier to combine predictions"
   ]
  },
  {
   "cell_type": "code",
   "execution_count": 64,
   "id": "28995ce8-3625-427e-bcfa-8ce82455abba",
   "metadata": {},
   "outputs": [],
   "source": [
    "from sklearn.linear_model import LogisticRegression\n",
    "from sklearn.neural_network import MLPClassifier\n",
    "from sklearn.ensemble import GradientBoostingClassifier"
   ]
  },
  {
   "cell_type": "markdown",
   "id": "6c50adfd-7a11-49b9-9c67-45d681edd182",
   "metadata": {},
   "source": [
    "50% for training the level 1 models, 50% for training the metaclassifier"
   ]
  },
  {
   "cell_type": "code",
   "execution_count": 9,
   "id": "15062703-2d08-4d48-895e-0d422ee9f338",
   "metadata": {},
   "outputs": [],
   "source": [
    "train_idx, test_idx = train_test_split(range(len(ultimate_merged_df)),random_state=43, test_size=0.5)"
   ]
  },
  {
   "cell_type": "code",
   "execution_count": 7,
   "id": "dfd1ad16-6d0d-4c47-96d5-9be5f44c62af",
   "metadata": {},
   "outputs": [
    {
     "data": {
      "text/plain": [
       "215856"
      ]
     },
     "execution_count": 7,
     "metadata": {},
     "output_type": "execute_result"
    }
   ],
   "source": [
    "len(train_idx)"
   ]
  },
  {
   "cell_type": "markdown",
   "id": "542b5bf2-492c-4088-9169-d5a9665fa2ed",
   "metadata": {},
   "source": [
    "Define the best models"
   ]
  },
  {
   "cell_type": "code",
   "execution_count": 16,
   "id": "bad7653c-6a6a-4461-8603-434878636d8d",
   "metadata": {},
   "outputs": [],
   "source": [
    "model_1a = LogisticRegression(C=0.001, class_weight='balanced', max_iter=300,\n",
    "                   solver='liblinear')\n",
    "model_1b = GradientBoostingClassifier(max_depth=1, n_estimators=1000, random_state=42)\n",
    "model_2 = GradientBoostingClassifier(max_depth=1, n_estimators=1000, random_state=42)\n",
    "model_3 = GradientBoostingClassifier(max_depth=1, n_estimators=1000, random_state=42)"
   ]
  },
  {
   "cell_type": "code",
   "execution_count": 84,
   "id": "6eec0da4-8694-4d19-9f46-758e35bb60e4",
   "metadata": {},
   "outputs": [],
   "source": [
    "model_g = MLPClassifier(random_state=42,alpha=0.01,hidden_layer_sizes=(100,))"
   ]
  },
  {
   "cell_type": "code",
   "execution_count": 10,
   "id": "19e97486-1f01-4509-90d4-5a8a466724ed",
   "metadata": {},
   "outputs": [],
   "source": [
    "classification_dict = load(UKBB_PATH+'processed_data/classification_dict.joblib')"
   ]
  },
  {
   "cell_type": "code",
   "execution_count": 11,
   "id": "cc948556-5a08-4236-a93f-2964bf7973d1",
   "metadata": {},
   "outputs": [],
   "source": [
    "train_data = ultimate_merged_df.iloc[train_idx]\n",
    "val_data = ultimate_merged_df.iloc[test_idx]"
   ]
  },
  {
   "cell_type": "code",
   "execution_count": 12,
   "id": "eea97c9c-99c2-4c75-b4a9-aed83523f302",
   "metadata": {},
   "outputs": [],
   "source": [
    "y_train = train_data['Total Glaucoma']\n",
    "y_val = val_data['Total Glaucoma']"
   ]
  },
  {
   "cell_type": "code",
   "execution_count": 92,
   "id": "ab9272ad-3fa1-4d83-b998-7a2e8a597fb6",
   "metadata": {},
   "outputs": [],
   "source": [
    "X_train_1a = train_data[[col for col in classification_dict.keys() if classification_dict[col][1] == '1a']]\n",
    "X_train_1b = train_data[[col for col in classification_dict.keys() if classification_dict[col][1] in ['1a','1b']]]\n",
    "X_train_2 = train_data[[col for col in classification_dict.keys() if classification_dict[col][1] in ['1a','1b','2']]]\n",
    "X_train_3 = train_data[[col for col in classification_dict.keys() if classification_dict[col][1] in ['1a','1b','2','3']]]\n",
    "X_train_G = train_data[train_data.columns[245:]]"
   ]
  },
  {
   "cell_type": "code",
   "execution_count": 93,
   "id": "3eda5121-7f14-43c8-9189-bf176adc0a85",
   "metadata": {},
   "outputs": [],
   "source": [
    "X_val_1a = val_data[[col for col in classification_dict.keys() if classification_dict[col][1] == '1a']]\n",
    "X_val_1b = val_data[[col for col in classification_dict.keys() if classification_dict[col][1] in ['1a','1b']]]\n",
    "X_val_2 = val_data[[col for col in classification_dict.keys() if classification_dict[col][1] in ['1a','1b','2']]]\n",
    "X_val_3 = val_data[[col for col in classification_dict.keys() if classification_dict[col][1] in ['1a','1b','2','3']]]\n",
    "X_val_G = val_data[train_data.columns[245:]]"
   ]
  },
  {
   "cell_type": "markdown",
   "id": "c4f7444f-c518-460d-bbc6-31af0ca3a1d4",
   "metadata": {},
   "source": [
    "Training"
   ]
  },
  {
   "cell_type": "code",
   "execution_count": 15,
   "id": "b9745087-9d7e-4f30-8f22-920ac4f14f48",
   "metadata": {},
   "outputs": [
    {
     "name": "stdout",
     "output_type": "stream",
     "text": [
      "Training took 1.040104627609253\n"
     ]
    }
   ],
   "source": [
    "t0 = time.time()\n",
    "model_1a.fit(X_train_1a,y_train)\n",
    "print('Training took',time.time()-t0)"
   ]
  },
  {
   "cell_type": "code",
   "execution_count": 94,
   "id": "3eaa9709-6765-4d4d-9309-74634ee8dc34",
   "metadata": {},
   "outputs": [
    {
     "name": "stdout",
     "output_type": "stream",
     "text": [
      "AUC 0.7043875602563623\n",
      "Youden's J threshold 0.4818424999123913\n",
      "Accuracy 0.5593656911751762\n",
      "Sensitivity 0.758266818700114\n",
      "Specificity 0.5569114460713046\n"
     ]
    },
    {
     "data": {
      "text/plain": [
       "(0.7043875602563623,\n",
       " 0.4818424999123913,\n",
       " 0.5593656911751762,\n",
       " 0.758266818700114,\n",
       " 0.5569114460713046)"
      ]
     },
     "execution_count": 94,
     "metadata": {},
     "output_type": "execute_result"
    }
   ],
   "source": [
    "y_pred_1a = model_1a.predict_proba(X_val_1a)\n",
    "evaluate_model(y_val, y_pred_1a)"
   ]
  },
  {
   "cell_type": "code",
   "execution_count": 25,
   "id": "270a1408-be54-466a-a79f-1ffb59503004",
   "metadata": {},
   "outputs": [
    {
     "data": {
      "text/plain": [
       "['../glaucoma_project/Models/model_1a_50%.joblib']"
      ]
     },
     "execution_count": 25,
     "metadata": {},
     "output_type": "execute_result"
    }
   ],
   "source": [
    "dump(model_1a, '../glaucoma_project/Models/model_1a_50%.joblib')"
   ]
  },
  {
   "cell_type": "code",
   "execution_count": 26,
   "id": "0d22ae6c-5d3a-4ebd-9e20-a54dd9532cff",
   "metadata": {},
   "outputs": [
    {
     "name": "stdout",
     "output_type": "stream",
     "text": [
      "Training took 396.88813376426697\n"
     ]
    }
   ],
   "source": [
    "t0 = time.time()\n",
    "model_1b.fit(X_train_1b,y_train)\n",
    "print('Training took',time.time()-t0)"
   ]
  },
  {
   "cell_type": "code",
   "execution_count": 95,
   "id": "7819810a-d906-4f1e-8247-8d8514159a96",
   "metadata": {},
   "outputs": [
    {
     "name": "stdout",
     "output_type": "stream",
     "text": [
      "AUC 0.7042598663068091\n",
      "Youden's J threshold 0.01264703581337873\n",
      "Accuracy 0.6045669123540122\n",
      "Sensitivity 0.7134169517293805\n",
      "Specificity 0.6032238094791442\n"
     ]
    },
    {
     "data": {
      "text/plain": [
       "(0.7042598663068091,\n",
       " 0.01264703581337873,\n",
       " 0.6045669123540122,\n",
       " 0.7134169517293805,\n",
       " 0.6032238094791442)"
      ]
     },
     "execution_count": 95,
     "metadata": {},
     "output_type": "execute_result"
    }
   ],
   "source": [
    "y_pred_1b = model_1b.predict_proba(X_val_1b)\n",
    "evaluate_model(y_val, y_pred_1b)"
   ]
  },
  {
   "cell_type": "code",
   "execution_count": 28,
   "id": "a783456b-a9ca-48a8-9af1-9d70c1f972a5",
   "metadata": {},
   "outputs": [
    {
     "data": {
      "text/plain": [
       "['../glaucoma_project/Models/model_1b_50%.joblib']"
      ]
     },
     "execution_count": 28,
     "metadata": {},
     "output_type": "execute_result"
    }
   ],
   "source": [
    "dump(model_1b, '../glaucoma_project/Models/model_1b_50%.joblib')"
   ]
  },
  {
   "cell_type": "code",
   "execution_count": 29,
   "id": "0644b3b4-f267-452c-817a-31a107dc0191",
   "metadata": {},
   "outputs": [
    {
     "name": "stdout",
     "output_type": "stream",
     "text": [
      "Training took 426.6947555541992\n"
     ]
    }
   ],
   "source": [
    "t0 = time.time()\n",
    "model_2.fit(X_train_2,y_train)\n",
    "print('Training took',time.time()-t0)"
   ]
  },
  {
   "cell_type": "code",
   "execution_count": 96,
   "id": "de9d5f99-79b9-402e-9e46-f2c00dd58f45",
   "metadata": {},
   "outputs": [
    {
     "name": "stdout",
     "output_type": "stream",
     "text": [
      "AUC 0.734104492773896\n",
      "Youden's J threshold 0.013376669800552575\n",
      "Accuracy 0.6535020870298393\n",
      "Sensitivity 0.7020144431774991\n",
      "Specificity 0.6529034920694474\n"
     ]
    },
    {
     "data": {
      "text/plain": [
       "(0.734104492773896,\n",
       " 0.013376669800552575,\n",
       " 0.6535020870298393,\n",
       " 0.7020144431774991,\n",
       " 0.6529034920694474)"
      ]
     },
     "execution_count": 96,
     "metadata": {},
     "output_type": "execute_result"
    }
   ],
   "source": [
    "y_pred_2 = model_2.predict_proba(X_val_2)\n",
    "evaluate_model(y_val, y_pred_2)"
   ]
  },
  {
   "cell_type": "code",
   "execution_count": 58,
   "id": "7b0697f9-5cba-4aee-bc2f-7ab307b0c844",
   "metadata": {},
   "outputs": [
    {
     "name": "stdout",
     "output_type": "stream",
     "text": [
      "AUC 0.7949885728733174\n",
      "Youden's J threshold 0.0194972044205351\n",
      "Accuracy 0.7040319617927994\n",
      "Sensitivity 0.7439613526570048\n",
      "Specificity 0.7032581218986986\n"
     ]
    },
    {
     "data": {
      "text/plain": [
       "(0.7949885728733174,\n",
       " 0.0194972044205351,\n",
       " 0.7040319617927994,\n",
       " 0.7439613526570048,\n",
       " 0.7032581218986986)"
      ]
     },
     "execution_count": 58,
     "metadata": {},
     "output_type": "execute_result"
    }
   ],
   "source": [
    "# evaluate only on those with data available\n",
    "y_pred_2 = model_2.predict_proba(X_val_2.reset_index(drop=True)[had_ophthal_assessment])\n",
    "evaluate_model(y_val.reset_index(drop=True)[had_ophthal_assessment], y_pred_2)"
   ]
  },
  {
   "cell_type": "code",
   "execution_count": 31,
   "id": "d4a249fd-7eaf-4a66-b321-13837d3363d4",
   "metadata": {},
   "outputs": [
    {
     "data": {
      "text/plain": [
       "['../glaucoma_project/Models/model_2_50%.joblib']"
      ]
     },
     "execution_count": 31,
     "metadata": {},
     "output_type": "execute_result"
    }
   ],
   "source": [
    "dump(model_2, '../glaucoma_project/Models/model_2_50%.joblib')"
   ]
  },
  {
   "cell_type": "code",
   "execution_count": 32,
   "id": "0986d437-fdac-40ed-b2b0-b4f0b16b63b7",
   "metadata": {},
   "outputs": [
    {
     "name": "stdout",
     "output_type": "stream",
     "text": [
      "Training took 755.641188621521\n"
     ]
    }
   ],
   "source": [
    "t0 = time.time()\n",
    "model_3.fit(X_train_3,y_train)\n",
    "print('Training took',time.time()-t0)"
   ]
  },
  {
   "cell_type": "code",
   "execution_count": 97,
   "id": "bc0b4ef0-0ded-43d0-97fb-00c166351bab",
   "metadata": {},
   "outputs": [
    {
     "name": "stdout",
     "output_type": "stream",
     "text": [
      "AUC 0.7358864326419248\n",
      "Youden's J threshold 0.012255301051084681\n",
      "Accuracy 0.6185530235294663\n",
      "Sensitivity 0.7347016343595592\n",
      "Specificity 0.6171198634312889\n"
     ]
    },
    {
     "data": {
      "text/plain": [
       "(0.7358864326419248,\n",
       " 0.012255301051084681,\n",
       " 0.6185530235294663,\n",
       " 0.7347016343595592,\n",
       " 0.6171198634312889)"
      ]
     },
     "execution_count": 97,
     "metadata": {},
     "output_type": "execute_result"
    }
   ],
   "source": [
    "y_pred_3 = model_3.predict_proba(X_val_3)\n",
    "evaluate_model(y_val, y_pred_3)"
   ]
  },
  {
   "cell_type": "code",
   "execution_count": 59,
   "id": "1371ecb2-cd36-4407-9a60-a836557fed68",
   "metadata": {},
   "outputs": [
    {
     "name": "stdout",
     "output_type": "stream",
     "text": [
      "AUC 0.7963840030176841\n",
      "Youden's J threshold 0.017488456339208855\n",
      "Accuracy 0.660268185157972\n",
      "Sensitivity 0.7898550724637681\n",
      "Specificity 0.6577567643479075\n"
     ]
    },
    {
     "data": {
      "text/plain": [
       "(0.7963840030176841,\n",
       " 0.017488456339208855,\n",
       " 0.660268185157972,\n",
       " 0.7898550724637681,\n",
       " 0.6577567643479075)"
      ]
     },
     "execution_count": 59,
     "metadata": {},
     "output_type": "execute_result"
    }
   ],
   "source": [
    "# evaluate only on those with data available\n",
    "y_pred_3 = model_3.predict_proba(X_val_3.reset_index(drop=True)[had_ophthal_assessment])\n",
    "evaluate_model(y_val.reset_index(drop=True)[had_ophthal_assessment], y_pred_3)"
   ]
  },
  {
   "cell_type": "code",
   "execution_count": 34,
   "id": "655ec2e0-0081-4f80-9110-fe6389c7d3ea",
   "metadata": {},
   "outputs": [
    {
     "data": {
      "text/plain": [
       "['../glaucoma_project/Models/model_3_50%.joblib']"
      ]
     },
     "execution_count": 34,
     "metadata": {},
     "output_type": "execute_result"
    }
   ],
   "source": [
    "dump(model_3, '../glaucoma_project/Models/model_3_50%.joblib')"
   ]
  },
  {
   "cell_type": "code",
   "execution_count": 85,
   "id": "83e5c348-c157-4255-ad4c-18a0019e4a22",
   "metadata": {},
   "outputs": [
    {
     "name": "stdout",
     "output_type": "stream",
     "text": [
      "Training took 328.431099653244\n"
     ]
    }
   ],
   "source": [
    "t0 = time.time()\n",
    "model_g.fit(X_train_G,y_train)\n",
    "print('Training took',time.time()-t0)"
   ]
  },
  {
   "cell_type": "code",
   "execution_count": 98,
   "id": "3b14964d-1ee7-49b3-a3cc-312f7350abaf",
   "metadata": {},
   "outputs": [
    {
     "name": "stdout",
     "output_type": "stream",
     "text": [
      "AUC 0.6266759131232371\n",
      "Youden's J threshold 0.008161650320730641\n",
      "Accuracy 0.5799765585549692\n",
      "Sensitivity 0.6092740402888636\n",
      "Specificity 0.5796150563252136\n"
     ]
    },
    {
     "data": {
      "text/plain": [
       "(0.6266759131232371,\n",
       " 0.008161650320730641,\n",
       " 0.5799765585549692,\n",
       " 0.6092740402888636,\n",
       " 0.5796150563252136)"
      ]
     },
     "execution_count": 98,
     "metadata": {},
     "output_type": "execute_result"
    }
   ],
   "source": [
    "y_pred_g = model_g.predict_proba(X_val_G)\n",
    "evaluate_model(y_val, y_pred_g)"
   ]
  },
  {
   "cell_type": "code",
   "execution_count": 88,
   "id": "850c8770-d5ec-4816-9922-668c35feb7ec",
   "metadata": {},
   "outputs": [
    {
     "data": {
      "text/plain": [
       "['../glaucoma_project/Models/model_g_50%.joblib']"
      ]
     },
     "execution_count": 88,
     "metadata": {},
     "output_type": "execute_result"
    }
   ],
   "source": [
    "dump(model_g, '../glaucoma_project/Models/model_g_50%.joblib')"
   ]
  },
  {
   "cell_type": "code",
   "execution_count": 89,
   "id": "43ce28eb-6df5-44fd-922f-2a034ceddb1b",
   "metadata": {},
   "outputs": [],
   "source": [
    "model_1a = load('../glaucoma_project/Models/model_1a_50%.joblib')\n",
    "model_1b = load('../glaucoma_project/Models/model_1b_50%.joblib')\n",
    "model_2 = load('../glaucoma_project/Models/model_2_50%.joblib')\n",
    "model_3 = load('../glaucoma_project/Models/model_3_50%.joblib')\n",
    "model_g = load('../glaucoma_project/Models/model_g_50%.joblib')"
   ]
  },
  {
   "cell_type": "code",
   "execution_count": 99,
   "id": "ec798574-a193-434a-a72a-917940818414",
   "metadata": {},
   "outputs": [],
   "source": [
    "df_proba = pd.DataFrame()\n",
    "df_proba['1A'] = y_pred_1a[:,1]\n",
    "df_proba['1B'] = y_pred_1b[:,1]\n",
    "df_proba['2A'] = y_pred_2[:,1]\n",
    "df_proba['3A'] = y_pred_3[:,1]\n",
    "df_proba['G'] = y_pred_g[:,1]"
   ]
  },
  {
   "cell_type": "code",
   "execution_count": 102,
   "id": "d37eb49e-53de-46b5-839a-6510f2284987",
   "metadata": {},
   "outputs": [],
   "source": [
    "had_ophthal_assessment = ~val_data['Intra-ocular pressure, corneal-compensated (highest)'].apply(lambda x: x < 2e-15 and x > -2e15).reset_index(drop=True)"
   ]
  },
  {
   "cell_type": "markdown",
   "id": "31c6b58f-dd99-40a2-ad18-b5d3cc9b1ce8",
   "metadata": {
    "tags": []
   },
   "source": [
    "# Model Evaluation"
   ]
  },
  {
   "cell_type": "code",
   "execution_count": 103,
   "id": "9bc4ddde-4e07-4dba-9922-89e96bf447d8",
   "metadata": {},
   "outputs": [],
   "source": [
    "from sklearn.metrics import roc_curve, accuracy_score, confusion_matrix"
   ]
  },
  {
   "cell_type": "code",
   "execution_count": 104,
   "id": "4e11c9aa-cd6b-46d9-bd49-a65c11046c9c",
   "metadata": {},
   "outputs": [],
   "source": [
    "def specificity(y_true, y_pred):\n",
    "    tn, fp, fn, tp = confusion_matrix(y_true, y_pred).ravel()\n",
    "    specificity = tn / (tn+fp)\n",
    "    return specificity"
   ]
  },
  {
   "cell_type": "code",
   "execution_count": 105,
   "id": "0ddde5d5-fe46-4547-aa34-37aacccdb8d8",
   "metadata": {},
   "outputs": [],
   "source": [
    "def sensitivity(y_true, y_pred):\n",
    "    tn, fp, fn, tp = confusion_matrix(y_true, y_pred).ravel()\n",
    "    sensitivity = tp / (tp+fn)\n",
    "    return sensitivity"
   ]
  },
  {
   "cell_type": "code",
   "execution_count": 106,
   "id": "d5f10830-2fba-491c-afc8-920f70588fdc",
   "metadata": {},
   "outputs": [],
   "source": [
    "def cutoff_youdens_j(fpr,tpr,thresholds):\n",
    "    j_scores = tpr-fpr\n",
    "    j_ordered = sorted(zip(j_scores,thresholds))\n",
    "    return j_ordered[-1][1]"
   ]
  },
  {
   "cell_type": "code",
   "execution_count": 107,
   "id": "c91a47ae-5c04-4a67-987d-43f11a6bd7a0",
   "metadata": {},
   "outputs": [],
   "source": [
    "def evaluate_model(y_true, y_pred_proba):\n",
    "    if len(y_pred_proba.shape) == 2:\n",
    "        probs = y_pred_proba[:,1]\n",
    "    else:\n",
    "        probs = y_pred_proba\n",
    "    auc = roc_auc_score(y_true,probs)\n",
    "    print('AUC',auc)\n",
    "    fpr, tpr, thresholds = roc_curve(y_true, probs)\n",
    "    yj_threshold = cutoff_youdens_j(fpr, tpr, thresholds)\n",
    "    print('Youden\\'s J threshold',yj_threshold)\n",
    "    acc = accuracy_score(y_true,(probs > yj_threshold).astype(int))\n",
    "    print('Accuracy',acc)\n",
    "    sens = sensitivity(y_true,(probs > yj_threshold).astype(int))\n",
    "    print('Sensitivity',sens)\n",
    "    spec = specificity(y_true,(probs > yj_threshold).astype(int))\n",
    "    print('Specificity',spec)\n",
    "    return auc,yj_threshold,acc,sens,spec"
   ]
  },
  {
   "cell_type": "markdown",
   "id": "dcc37bb7-a20a-410a-8dff-4be67691bf2c",
   "metadata": {},
   "source": [
    "# Constructing metaclassifiers"
   ]
  },
  {
   "cell_type": "markdown",
   "id": "90a9057c-24ef-4d0c-98d5-a43d82799846",
   "metadata": {},
   "source": [
    "## 1C"
   ]
  },
  {
   "cell_type": "code",
   "execution_count": 108,
   "id": "f3046f4e-6e23-42f6-ae38-590dbc991f81",
   "metadata": {},
   "outputs": [],
   "source": [
    "meta_classifier_1c = LogisticRegression(class_weight='balanced')"
   ]
  },
  {
   "cell_type": "code",
   "execution_count": 109,
   "id": "a2cbd1d1-af85-4b79-a2df-1b9a9d5788fc",
   "metadata": {},
   "outputs": [
    {
     "data": {
      "text/plain": [
       "LogisticRegression(class_weight='balanced')"
      ]
     },
     "execution_count": 109,
     "metadata": {},
     "output_type": "execute_result"
    }
   ],
   "source": [
    "meta_classifier_1c.fit(df_proba[['1B','G']],y_val)"
   ]
  },
  {
   "cell_type": "code",
   "execution_count": 110,
   "id": "cc9e61cb-3d6d-4ea8-aec3-db3fceeca353",
   "metadata": {},
   "outputs": [
    {
     "data": {
      "text/plain": [
       "array([[57.15218293, 44.83243462]])"
      ]
     },
     "execution_count": 110,
     "metadata": {},
     "output_type": "execute_result"
    }
   ],
   "source": [
    "meta_classifier_1c.coef_"
   ]
  },
  {
   "cell_type": "code",
   "execution_count": 111,
   "id": "c38fc659-e600-4f8c-9080-01f8301dee0e",
   "metadata": {},
   "outputs": [],
   "source": [
    "y_pred = meta_classifier_1c.predict_proba(df_proba[['1B','G']])"
   ]
  },
  {
   "cell_type": "code",
   "execution_count": 112,
   "id": "efc875d4-2077-4e97-89bf-60190f27a70f",
   "metadata": {},
   "outputs": [
    {
     "name": "stdout",
     "output_type": "stream",
     "text": [
      "AUC 0.7312911064365575\n",
      "Youden's J threshold 0.46365234271117983\n",
      "Accuracy 0.6284901578359747\n",
      "Sensitivity 0.7198783732421132\n",
      "Specificity 0.627362516766248\n"
     ]
    },
    {
     "data": {
      "text/plain": [
       "(0.7312911064365575,\n",
       " 0.46365234271117983,\n",
       " 0.6284901578359747,\n",
       " 0.7198783732421132,\n",
       " 0.627362516766248)"
      ]
     },
     "execution_count": 112,
     "metadata": {},
     "output_type": "execute_result"
    }
   ],
   "source": [
    "evaluate_model(y_val,y_pred)"
   ]
  },
  {
   "cell_type": "code",
   "execution_count": 113,
   "id": "0e81a80f-6d42-4525-a8dd-a44ee8ae5a55",
   "metadata": {},
   "outputs": [
    {
     "data": {
      "text/plain": [
       "['../glaucoma_project/Models/meta_classifier_1c.joblib']"
      ]
     },
     "execution_count": 113,
     "metadata": {},
     "output_type": "execute_result"
    }
   ],
   "source": [
    "dump(meta_classifier_1c, '../glaucoma_project/Models/meta_classifier_1c.joblib')"
   ]
  },
  {
   "cell_type": "markdown",
   "id": "e4940425-9883-435f-a73c-81bed7be21bc",
   "metadata": {},
   "source": [
    "## For 2B and 3B, limit the set to those that have had an ophthal assessment!"
   ]
  },
  {
   "cell_type": "code",
   "execution_count": 114,
   "id": "2657dc48-694b-4fc5-a868-bd767e3ee3c3",
   "metadata": {},
   "outputs": [],
   "source": [
    "df_proba_had_ophthal_assessment = df_proba.reset_index(drop=True)[had_ophthal_assessment].reset_index(drop=True)"
   ]
  },
  {
   "cell_type": "code",
   "execution_count": 115,
   "id": "ada7b8f9-6bd0-44c2-88fd-5368c74f2950",
   "metadata": {},
   "outputs": [],
   "source": [
    "y_val_had_ophthal_assessment = y_val.reset_index(drop=True)[had_ophthal_assessment].reset_index(drop=True)"
   ]
  },
  {
   "cell_type": "markdown",
   "id": "1077ce03-7ec0-48bc-bf36-b9054af9ffc4",
   "metadata": {},
   "source": [
    "## 2B"
   ]
  },
  {
   "cell_type": "code",
   "execution_count": 116,
   "id": "7e842b7e-3438-4221-b611-690514e3f7b3",
   "metadata": {},
   "outputs": [],
   "source": [
    "meta_classifier_2b = LogisticRegression(class_weight='balanced')"
   ]
  },
  {
   "cell_type": "code",
   "execution_count": 117,
   "id": "10bb059d-ae92-4aa9-947a-52a495a60f3f",
   "metadata": {},
   "outputs": [
    {
     "data": {
      "text/plain": [
       "LogisticRegression(class_weight='balanced')"
      ]
     },
     "execution_count": 117,
     "metadata": {},
     "output_type": "execute_result"
    }
   ],
   "source": [
    "meta_classifier_2b.fit(df_proba_had_ophthal_assessment[['2A','G']],y_val_had_ophthal_assessment)"
   ]
  },
  {
   "cell_type": "code",
   "execution_count": 118,
   "id": "8bb631a1-2d9c-4c1a-b701-4318a7b3d3e4",
   "metadata": {},
   "outputs": [
    {
     "data": {
      "text/plain": [
       "array([[23.72579044,  7.967164  ]])"
      ]
     },
     "execution_count": 118,
     "metadata": {},
     "output_type": "execute_result"
    }
   ],
   "source": [
    "meta_classifier_2b.coef_"
   ]
  },
  {
   "cell_type": "code",
   "execution_count": 119,
   "id": "10f87fb5-33e3-422a-ba24-3c58d6a3be92",
   "metadata": {},
   "outputs": [],
   "source": [
    "y_pred = meta_classifier_2b.predict_proba(df_proba_had_ophthal_assessment[['2A','G']])"
   ]
  },
  {
   "cell_type": "code",
   "execution_count": 120,
   "id": "fec07a9d-3c81-4236-b4cb-11ffc019d01d",
   "metadata": {},
   "outputs": [
    {
     "name": "stdout",
     "output_type": "stream",
     "text": [
      "AUC 0.8027645821941258\n",
      "Youden's J threshold 0.4228528916581882\n",
      "Accuracy 0.7054096252755327\n",
      "Sensitivity 0.7463768115942029\n",
      "Specificity 0.7046156726898231\n"
     ]
    },
    {
     "data": {
      "text/plain": [
       "(0.8027645821941258,\n",
       " 0.4228528916581882,\n",
       " 0.7054096252755327,\n",
       " 0.7463768115942029,\n",
       " 0.7046156726898231)"
      ]
     },
     "execution_count": 120,
     "metadata": {},
     "output_type": "execute_result"
    }
   ],
   "source": [
    "evaluate_model(y_val_had_ophthal_assessment,y_pred)"
   ]
  },
  {
   "cell_type": "code",
   "execution_count": 121,
   "id": "637cb493-67e6-4ddc-b9e4-0e9ff08a9e32",
   "metadata": {},
   "outputs": [
    {
     "data": {
      "text/plain": [
       "['../glaucoma_project/Models/meta_classifier_2b.joblib']"
      ]
     },
     "execution_count": 121,
     "metadata": {},
     "output_type": "execute_result"
    }
   ],
   "source": [
    "dump(meta_classifier_2b, '../glaucoma_project/Models/meta_classifier_2b.joblib')"
   ]
  },
  {
   "cell_type": "markdown",
   "id": "07a3d255-a5f1-4f73-988c-70325ab5f4dd",
   "metadata": {},
   "source": [
    "## 3B"
   ]
  },
  {
   "cell_type": "code",
   "execution_count": 122,
   "id": "e7a82f7a-5beb-4fd8-8369-7c2328a32ab9",
   "metadata": {},
   "outputs": [],
   "source": [
    "meta_classifier_3b = LogisticRegression(class_weight='balanced')"
   ]
  },
  {
   "cell_type": "code",
   "execution_count": 123,
   "id": "7d5ae1de-5ddb-4bac-bdae-685b56cad6ed",
   "metadata": {},
   "outputs": [
    {
     "data": {
      "text/plain": [
       "LogisticRegression(class_weight='balanced')"
      ]
     },
     "execution_count": 123,
     "metadata": {},
     "output_type": "execute_result"
    }
   ],
   "source": [
    "meta_classifier_3b.fit(df_proba_had_ophthal_assessment[['3A','G']],y_val_had_ophthal_assessment)"
   ]
  },
  {
   "cell_type": "code",
   "execution_count": 124,
   "id": "3398c0ff-540f-4bd9-8651-cb6900e8b37b",
   "metadata": {},
   "outputs": [
    {
     "data": {
      "text/plain": [
       "0        0\n",
       "1        0\n",
       "2        0\n",
       "3        0\n",
       "4        0\n",
       "        ..\n",
       "21771    0\n",
       "21772    0\n",
       "21773    0\n",
       "21774    0\n",
       "21775    0\n",
       "Name: Total Glaucoma, Length: 21776, dtype: int64"
      ]
     },
     "execution_count": 124,
     "metadata": {},
     "output_type": "execute_result"
    }
   ],
   "source": [
    "y_val_had_ophthal_assessment"
   ]
  },
  {
   "cell_type": "code",
   "execution_count": 125,
   "id": "c623c869-f42a-4dd1-87dd-ffc77e72512f",
   "metadata": {},
   "outputs": [
    {
     "data": {
      "text/plain": [
       "array([[24.08228414,  8.16548987]])"
      ]
     },
     "execution_count": 125,
     "metadata": {},
     "output_type": "execute_result"
    }
   ],
   "source": [
    "meta_classifier_3b.coef_"
   ]
  },
  {
   "cell_type": "code",
   "execution_count": 126,
   "id": "fb0c5b91-19d8-475c-bab7-92b99c052272",
   "metadata": {},
   "outputs": [],
   "source": [
    "y_pred = meta_classifier_3b.predict_proba(df_proba_had_ophthal_assessment[['3A','G']])"
   ]
  },
  {
   "cell_type": "code",
   "execution_count": 127,
   "id": "21406a1f-fb20-416a-964a-14aab854162c",
   "metadata": {},
   "outputs": [
    {
     "name": "stdout",
     "output_type": "stream",
     "text": [
      "AUC 0.8044328567545331\n",
      "Youden's J threshold 0.42039642450049464\n",
      "Accuracy 0.6997152828802351\n",
      "Sensitivity 0.7560386473429952\n",
      "Specificity 0.6986237243703773\n"
     ]
    },
    {
     "data": {
      "text/plain": [
       "(0.8044328567545331,\n",
       " 0.42039642450049464,\n",
       " 0.6997152828802351,\n",
       " 0.7560386473429952,\n",
       " 0.6986237243703773)"
      ]
     },
     "execution_count": 127,
     "metadata": {},
     "output_type": "execute_result"
    }
   ],
   "source": [
    "evaluate_model(y_val_had_ophthal_assessment,y_pred)"
   ]
  },
  {
   "cell_type": "code",
   "execution_count": 128,
   "id": "71601975-7fe4-4c14-941c-e2b503a6146d",
   "metadata": {},
   "outputs": [
    {
     "data": {
      "text/plain": [
       "['../glaucoma_project/Models/meta_classifier_3b.joblib']"
      ]
     },
     "execution_count": 128,
     "metadata": {},
     "output_type": "execute_result"
    }
   ],
   "source": [
    "dump(meta_classifier_3b, '../glaucoma_project/Models/meta_classifier_3b.joblib')"
   ]
  }
 ],
 "metadata": {
  "kernelspec": {
   "display_name": "Python 3 (ipykernel)",
   "language": "python",
   "name": "python3"
  },
  "language_info": {
   "codemirror_mode": {
    "name": "ipython",
    "version": 3
   },
   "file_extension": ".py",
   "mimetype": "text/x-python",
   "name": "python",
   "nbconvert_exporter": "python",
   "pygments_lexer": "ipython3",
   "version": "3.9.7"
  }
 },
 "nbformat": 4,
 "nbformat_minor": 5
}
