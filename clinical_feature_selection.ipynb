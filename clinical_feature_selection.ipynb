{
 "cells": [
  {
   "cell_type": "markdown",
   "id": "06ea065d-1174-4f0e-b4b9-fda6793aa11c",
   "metadata": {
    "tags": []
   },
   "source": [
    "# Introduction"
   ]
  },
  {
   "cell_type": "markdown",
   "id": "45f55cfd-b8fb-40fc-9257-da67d19a23a0",
   "metadata": {
    "tags": []
   },
   "source": [
    "The purpose of this notebook is to create a shortlist of clincial variables from the UKBB for involvement in a multimodal model for glaucoma risk prediction.\n",
    "The method of clinical variable selection is loosely based off Dabbah (2021).\n",
    "\n",
    "This will involve the following steps:\n",
    "- Separate out a final test set for validating the final model\n",
    "- Identifying all the fields present in the UKBB by reading through the HTML documentation\n",
    "- Removing any fields that are difficult to deal with or have few responses\n",
    "- Removing any fields that were not taken at the initial assessment\n",
    "- Defining glaucoma (using the same definition as MacGregor (2018))\n",
    "- Expanding out ICD10 diagnoses into a table. Only count diagnoses that were from 2010 and earlier.\n",
    "- Expand out the two self-reported illness tables. Only count diagnoses from 2010 and earlier.\n",
    "- Expand out medication fields - only use the first set of medication fields from 2010 and earlier.\n",
    "- Filter out all patients who had glaucoma diagnosed 2010 and earlier, and glaucoma cases with no diagnosis date.\n",
    "- Cleaning columns so they can be used in models. No dummy variables to be used as these do not work as well with random forest models.\n",
    "- Train random forests\n",
    "- Rank features\n",
    "- Exclude collinear features\n",
    "- Review each feature and exclude those with the following characteristics:\n",
    "  - Features that cannot be obtained by self-reporting or in the clincial setting\n",
    "  - High confounding with higher ranked features\n",
    "  - The high ranking of the feature is likely due to database bias\n",
    "  - The feature is highly ranked as consequence of glaucoma treatment"
   ]
  },
  {
   "cell_type": "markdown",
   "id": "0f277716-ef67-4150-a81d-cb77501949aa",
   "metadata": {
    "tags": []
   },
   "source": [
    "# Imports"
   ]
  },
  {
   "cell_type": "code",
   "execution_count": 1,
   "id": "0ca88184-a91d-40dc-b658-4e9182cdd046",
   "metadata": {},
   "outputs": [],
   "source": [
    "import numpy as np\n",
    "import pandas as pd\n",
    "import matplotlib.pyplot as plt\n",
    "import os\n",
    "from tqdm import tqdm\n",
    "from collections import Counter\n",
    "from matplotlib_venn import venn2, venn3\n",
    "from scipy import stats\n",
    "from tableone import TableOne\n",
    "import statsmodels.api as sm\n",
    "from bs4 import BeautifulSoup\n",
    "import re\n",
    "import seaborn as sns\n",
    "import scipy\n",
    "import warnings\n",
    "from sklearn.ensemble import RandomForestClassifier\n",
    "from sklearn.ensemble import RandomForestRegressor\n",
    "from sklearn.model_selection import train_test_split\n",
    "from sklearn.metrics import accuracy_score,roc_auc_score\n",
    "warnings.simplefilter('ignore')\n",
    "import time\n",
    "import scipy.sparse\n",
    "from joblib import dump, load\n",
    "import statsmodels"
   ]
  },
  {
   "cell_type": "code",
   "execution_count": 2,
   "id": "c63c695e-a146-4d34-94c8-3f0c0bca1acd",
   "metadata": {},
   "outputs": [],
   "source": [
    "UKBB_PATH = '../glaucoma_project/UKBB_Data/'\n",
    "MAIN_UKBB_FILE = '../glaucoma_project/UKBB_Data/ukb49508.tab'\n",
    "SECOND_UKBB_FILE = '../glaucoma_project/UKBB_Data_Basket3/ukb51745.tab'\n",
    "MAIN_HTML_FILE = '../glaucoma_project/UKBB_Data/ukb49508.html'\n",
    "SECOND_HTML_FILE = '../glaucoma_project/UKBB_Data_Basket3/ukb51745.html'\n",
    "TOTAL_POP = 502419\n",
    "TEST_SET_RANDOM_SPLIT = 42\n",
    "CHUNK_SIZE = 10000"
   ]
  },
  {
   "cell_type": "markdown",
   "id": "5a31d941-d035-4836-933b-a77618ec88d3",
   "metadata": {
    "tags": []
   },
   "source": [
    "# Creating a test set"
   ]
  },
  {
   "cell_type": "markdown",
   "id": "9c42497d-2f82-4a84-ac27-57e11e0fd1da",
   "metadata": {},
   "source": [
    "Separate out the 10% of the dataset for testing the final model model"
   ]
  },
  {
   "cell_type": "code",
   "execution_count": 3,
   "id": "9f6b067c-2ca0-4aca-b7ac-102dbc455b5b",
   "metadata": {},
   "outputs": [],
   "source": [
    "train_idx, test_idx = train_test_split(range(TOTAL_POP),random_state=TEST_SET_RANDOM_SPLIT, test_size=0.1)"
   ]
  },
  {
   "cell_type": "markdown",
   "id": "35b737cb-4c97-487d-aa08-081160e60837",
   "metadata": {},
   "source": [
    "Method for loading data -- due to the large size of the dataset we can only load a few columns at once, and these should be specified.\n",
    "Chunk the data into pieces and load one piece at a time.\n",
    "\n",
    "Also selects only the train set indices by default. Is able to select the test set indices as well."
   ]
  },
  {
   "cell_type": "code",
   "execution_count": 4,
   "id": "b8b0f0ab-1ca9-4771-8974-d8338f954f15",
   "metadata": {},
   "outputs": [],
   "source": [
    "def get_dataframe_for_analysis(column_names, idx=train_idx):\n",
    "    print('Preparing dataframe...')\n",
    "    \n",
    "    cols_in_main_file = pd.read_csv(MAIN_UKBB_FILE, sep='\\t', nrows=1).columns\n",
    "    cols_in_second_file = pd.read_csv(SECOND_UKBB_FILE, sep='\\t', nrows=1).columns\n",
    "    column_names_main = [col for col in column_names if col in cols_in_main_file]\n",
    "    column_names_second = [col for col in column_names if (not col in cols_in_main_file) and (col in cols_in_second_file)]\n",
    "    \n",
    "    \n",
    "    df_selected_cols = pd.DataFrame()\n",
    "    for chunk in tqdm(pd.read_csv(MAIN_UKBB_FILE, sep='\\t', chunksize=CHUNK_SIZE, usecols=column_names_main+['f.eid']), total=TOTAL_POP // CHUNK_SIZE):\n",
    "        df_selected_cols = pd.concat([df_selected_cols, chunk])\n",
    "        \n",
    "    df_selected_cols_second = pd.DataFrame()\n",
    "    for chunk in tqdm(pd.read_csv(SECOND_UKBB_FILE, sep='\\t', chunksize=CHUNK_SIZE, usecols=column_names_second+['f.eid']), total=TOTAL_POP // CHUNK_SIZE):\n",
    "        df_selected_cols_second = pd.concat([df_selected_cols_second, chunk])\n",
    "    \n",
    "    return pd.merge(df_selected_cols,df_selected_cols_second,how='left',on='f.eid').iloc[idx].reset_index(drop=True)"
   ]
  },
  {
   "cell_type": "markdown",
   "id": "15ae8e39-a806-4c60-bf4d-bea74cc12618",
   "metadata": {
    "tags": []
   },
   "source": [
    "# Identifying fields present in UKBB"
   ]
  },
  {
   "cell_type": "markdown",
   "id": "945d1d31-5165-462b-a832-3c2fee0b8335",
   "metadata": {},
   "source": [
    "Open the UKBB HTML files"
   ]
  },
  {
   "cell_type": "code",
   "execution_count": 5,
   "id": "922317b7-f86f-4d59-93c1-d7aca175fc4c",
   "metadata": {},
   "outputs": [],
   "source": [
    "file = open(MAIN_HTML_FILE, 'r', encoding='latin-1')\n",
    "html_file = file.read()\n",
    "soup = BeautifulSoup(html_file, \"html.parser\")\n",
    "tables = soup.find_all('table')\n",
    "rows_main = tables[1].find_all('tr')"
   ]
  },
  {
   "cell_type": "code",
   "execution_count": 6,
   "id": "343b242b-4dc0-4bb5-9e02-0027bd8f9f20",
   "metadata": {},
   "outputs": [],
   "source": [
    "file = open(SECOND_HTML_FILE, 'r', encoding='latin-1')\n",
    "html_file = file.read()\n",
    "soup = BeautifulSoup(html_file, \"html.parser\")\n",
    "tables = soup.find_all('table')\n",
    "rows_second = tables[1].find_all('tr')"
   ]
  },
  {
   "cell_type": "code",
   "execution_count": 7,
   "id": "05fbb9d5-984c-43f7-8f23-2d80158ab273",
   "metadata": {},
   "outputs": [],
   "source": [
    "rows = rows_main + rows_second"
   ]
  },
  {
   "cell_type": "markdown",
   "id": "2b09d66b-1dc2-4d7b-a0a2-5835cd3dcdef",
   "metadata": {},
   "source": [
    "Putting everything into df_fields"
   ]
  },
  {
   "cell_type": "code",
   "execution_count": 8,
   "id": "d6e47418-6e03-4b01-a2cd-d975a1a17de8",
   "metadata": {},
   "outputs": [],
   "source": [
    "df_fields = pd.DataFrame()\n",
    "fields = []\n",
    "count = []\n",
    "types = []\n",
    "desc = []\n",
    "current_type = None\n",
    "current_desc = None\n",
    "for row in rows:\n",
    "    row_content = row.find_all('td')\n",
    "    if len(row_content) > 2:\n",
    "        fields.append(row_content[1].text.strip())\n",
    "        count.append(row_content[2].text.strip())\n",
    "        if len(row_content) > 4:\n",
    "            current_type = row_content[3].text.strip()\n",
    "            current_desc = row_content[4].text.strip()\n",
    "        types.append(current_type)\n",
    "        desc.append(current_desc)\n",
    "        \n",
    "df_fields['UDI'] = fields\n",
    "df_fields['Count'] = [int(n) for n in count]\n",
    "df_fields['Type'] = types\n",
    "df_fields['Desc'] = desc\n",
    "df_fields['Dating coding'] = df_fields['Desc'].apply(lambda x: re.sub('[^0-9]','', x[x.index('data-coding '):x.index(' comprises')]) if 'data-coding' in x else np.nan)\n",
    "df_fields['Valued members'] = df_fields['Desc'].apply(lambda x: int(re.sub('[^0-9]','', x[x.index('comprises '):x.index('valued members')])) if 'data-coding' in x else np.nan)\n",
    "df_fields['Field ID'] = df_fields['UDI'].apply(lambda x: 'f.'+re.sub('-','.',x))\n",
    "df_fields['Desc Short'] = df_fields['Desc'].apply(lambda x: x[0:x.index('Uses data-coding')] if 'Uses data-coding' in x else x)"
   ]
  },
  {
   "cell_type": "markdown",
   "id": "42c6ea69-8cf5-4815-87d9-62d7f64b7a9a",
   "metadata": {},
   "source": [
    "Creating a unique description identifier for each field - successive measurements of the same variable will have numbers appended to the end"
   ]
  },
  {
   "cell_type": "code",
   "execution_count": 9,
   "id": "1cab6590-9c71-43b6-bb79-b8828b250375",
   "metadata": {},
   "outputs": [],
   "source": [
    "desc_unique = []\n",
    "prev_desc = None\n",
    "counter = 0\n",
    "for desc in df_fields['Desc Short']:\n",
    "    if prev_desc == desc:\n",
    "        if counter == 0:\n",
    "            desc_unique[-1] = desc+'_0'\n",
    "        counter += 1\n",
    "        desc_unique.append(desc+'_'+str(counter))\n",
    "    else:\n",
    "        counter = 0\n",
    "        prev_desc = desc\n",
    "        desc_unique.append(desc)\n",
    "df_fields['Desc Unique'] = desc_unique"
   ]
  },
  {
   "cell_type": "markdown",
   "id": "91d6ca20-e20c-4c84-be69-c2f042aea0af",
   "metadata": {},
   "source": [
    "Create some useful dictionaries"
   ]
  },
  {
   "cell_type": "code",
   "execution_count": 10,
   "id": "41f2609b-a782-4289-83b3-6117c554c855",
   "metadata": {},
   "outputs": [],
   "source": [
    "# Field ID to description \n",
    "id_to_desc = {id_:desc for id_,desc in zip(df_fields['Field ID'], df_fields['Desc Unique'])}\n",
    "# Description to field ID\n",
    "desc_to_id = {desc:id_ for desc,id_ in zip(df_fields['Desc Unique'], df_fields['Field ID'])}\n",
    "# Field ID to field type\n",
    "id_to_type = {id_:type_ for id_,type_ in zip(df_fields['Field ID'], df_fields['Type'])}"
   ]
  },
  {
   "cell_type": "code",
   "execution_count": 11,
   "id": "a8132e05-02da-4206-afce-c50f35c5f1cf",
   "metadata": {},
   "outputs": [],
   "source": [
    "df_fields = df_fields.drop_duplicates('UDI').reset_index(drop=True)"
   ]
  },
  {
   "cell_type": "code",
   "execution_count": 12,
   "id": "5bf37db9-f5c5-48a6-aaa1-a300f5611b60",
   "metadata": {},
   "outputs": [],
   "source": [
    "coding_dicts = []\n",
    "for df_coding in [pd.read_csv(UKBB_PATH+'UKBB_encodings/coding19.tsv', sep='\\t'),\n",
    "                  pd.read_csv(UKBB_PATH+'UKBB_encodings/coding3.tsv', sep='\\t'),\n",
    "                  pd.read_csv(UKBB_PATH+'UKBB_encodings/coding6.tsv', sep='\\t'),\n",
    "                  pd.read_csv(UKBB_PATH+'UKBB_encodings/coding4.tsv', sep='\\t')]:\n",
    "    coding_dicts.append({code:meaning for code,meaning in zip(df_coding['coding'], df_coding['meaning'])})"
   ]
  },
  {
   "cell_type": "code",
   "execution_count": 13,
   "id": "015f8302-89ba-418b-847b-0ca7c60216ea",
   "metadata": {},
   "outputs": [],
   "source": [
    "def feature_id_to_name(feature_id):\n",
    "    if 'f.' in feature_id:\n",
    "        if '_' in feature_id:\n",
    "            return id_to_desc[feature_id[:feature_id.find('_')]] + feature_id[feature_id.find('_'):]\n",
    "        else:\n",
    "            return id_to_desc[feature_id]\n",
    "    if 'ICD_10_' in feature_id:\n",
    "        return coding_dicts[0][feature_id[7:]]\n",
    "    if 'Self_Report_' in feature_id:\n",
    "        return coding_dicts[2][int(feature_id[12:-2])]\n",
    "    if 'Cancer_' in feature_id:\n",
    "        return coding_dicts[1][int(feature_id[7:-2])]\n",
    "    if 'Med_' in feature_id:\n",
    "        return coding_dicts[3][int(feature_id[4:-2])]\n",
    "    return 'FEATURE NOT FOUND'"
   ]
  },
  {
   "cell_type": "markdown",
   "id": "27fa2637-3369-4056-9393-3a7c0023e246",
   "metadata": {
    "tags": []
   },
   "source": [
    "# Initial field selection"
   ]
  },
  {
   "cell_type": "code",
   "execution_count": 14,
   "id": "10f64637-fa86-484b-882b-0573db94aedf",
   "metadata": {},
   "outputs": [],
   "source": [
    "df_selected_fields = df_fields.copy()"
   ]
  },
  {
   "cell_type": "code",
   "execution_count": 15,
   "id": "62447b71-df6a-4caf-873b-6e1afcf13520",
   "metadata": {},
   "outputs": [
    {
     "data": {
      "text/plain": [
       "Categorical (single)      4751\n",
       "Continuous                4318\n",
       "Integer                   4066\n",
       "Categorical (multiple)    2948\n",
       "Text                      1401\n",
       "Date                       719\n",
       "Time                       181\n",
       "Curve                       32\n",
       "Sequence                     1\n",
       "Name: Type, dtype: int64"
      ]
     },
     "execution_count": 15,
     "metadata": {},
     "output_type": "execute_result"
    }
   ],
   "source": [
    "df_fields['Type'].value_counts()"
   ]
  },
  {
   "cell_type": "markdown",
   "id": "4c486985-34a6-4907-8388-94c179d0b82b",
   "metadata": {},
   "source": [
    "There are a number of fields here that are likely not easily usable. Filter to only include fields with categorical or numeric variables."
   ]
  },
  {
   "cell_type": "code",
   "execution_count": 17,
   "id": "5d4a34d3-4bbf-40d1-9bfc-d2a88379725d",
   "metadata": {},
   "outputs": [],
   "source": [
    "df_selected_fields = df_selected_fields[df_selected_fields['Type'].apply(lambda x: x in ['Categorical (single)','Continuous','Integer','Categorical (multiple)'])].copy()"
   ]
  },
  {
   "cell_type": "code",
   "execution_count": 18,
   "id": "5486743c-fea7-439c-94b1-ade578feed28",
   "metadata": {},
   "outputs": [
    {
     "data": {
      "text/plain": [
       "16083"
      ]
     },
     "execution_count": 18,
     "metadata": {},
     "output_type": "execute_result"
    }
   ],
   "source": [
    "len(df_selected_fields)"
   ]
  },
  {
   "cell_type": "markdown",
   "id": "8701d501-90b9-4340-97c3-89f1ccd51df8",
   "metadata": {},
   "source": [
    "Just take the first value of each field. For most clinical variables, we're not going to consider repeated measurements."
   ]
  },
  {
   "cell_type": "code",
   "execution_count": 19,
   "id": "57567dda-bc20-4f96-bcd8-0700da50d7ea",
   "metadata": {},
   "outputs": [],
   "source": [
    "df_selected_fields = df_selected_fields.drop_duplicates('Desc')"
   ]
  },
  {
   "cell_type": "code",
   "execution_count": 20,
   "id": "f60ecab2-0525-4568-9bd9-264a2f5191ed",
   "metadata": {},
   "outputs": [
    {
     "data": {
      "text/plain": [
       "3267"
      ]
     },
     "execution_count": 20,
     "metadata": {},
     "output_type": "execute_result"
    }
   ],
   "source": [
    "len(df_selected_fields)"
   ]
  },
  {
   "cell_type": "markdown",
   "id": "e1a84c24-5a3c-45b5-837c-2c1a24d58958",
   "metadata": {},
   "source": [
    "Remove all fields with more than 50 valued members (possible values). Some of these fields (e.g. diagnoses) will be considered separately."
   ]
  },
  {
   "cell_type": "code",
   "execution_count": 21,
   "id": "f0d47966-be2a-46e7-92e9-92593b99e283",
   "metadata": {},
   "outputs": [],
   "source": [
    "df_selected_fields = df_selected_fields[~(df_selected_fields['Valued members'] > 50)].copy()"
   ]
  },
  {
   "cell_type": "markdown",
   "id": "8949d807-bb9b-420a-87e2-52a6ec4d42b0",
   "metadata": {},
   "source": [
    "Remove fields with less than 1000 entries."
   ]
  },
  {
   "cell_type": "code",
   "execution_count": 22,
   "id": "9ebd6543-e795-426e-9e88-150489084a7c",
   "metadata": {},
   "outputs": [],
   "source": [
    "df_selected_fields = df_selected_fields[df_selected_fields['Count'] >= 1000].copy()"
   ]
  },
  {
   "cell_type": "markdown",
   "id": "fb67b894-2033-4bd2-bd38-4609e1eb8f3e",
   "metadata": {},
   "source": [
    "Remove fields with less than 1000 entries."
   ]
  },
  {
   "cell_type": "code",
   "execution_count": 23,
   "id": "475684b8-b40a-4a4c-8993-946fb8c6ccc1",
   "metadata": {},
   "outputs": [],
   "source": [
    "df_selected_fields = df_selected_fields[df_selected_fields['Field ID'].apply(lambda x: int(x.split('.')[2])) == 0].copy()"
   ]
  },
  {
   "cell_type": "markdown",
   "id": "2d56ed2e-5f66-44b3-95df-a35cd975b031",
   "metadata": {},
   "source": [
    "Removed fields that weren't taken at baseline"
   ]
  },
  {
   "cell_type": "code",
   "execution_count": 24,
   "id": "7f23e83c-524b-4c8f-a597-f788937a349c",
   "metadata": {},
   "outputs": [],
   "source": [
    "df_selected_fields = df_selected_fields[~df_selected_fields['Desc Short'].apply(lambda x: 'pilot' in x)].copy()"
   ]
  },
  {
   "cell_type": "markdown",
   "id": "de0ee8d1-40c9-46fa-8ec4-acb9f6686438",
   "metadata": {},
   "source": [
    "Exclude pilot fields"
   ]
  },
  {
   "cell_type": "code",
   "execution_count": 25,
   "id": "a677a1c6-ab20-4295-82fe-8de95de45e24",
   "metadata": {},
   "outputs": [
    {
     "data": {
      "text/plain": [
       "2007"
      ]
     },
     "execution_count": 25,
     "metadata": {},
     "output_type": "execute_result"
    }
   ],
   "source": [
    "len(df_selected_fields)"
   ]
  },
  {
   "cell_type": "markdown",
   "id": "7993770a-843a-4959-b1b0-31bb77cf60d8",
   "metadata": {},
   "source": [
    "2007 fields in total"
   ]
  },
  {
   "cell_type": "markdown",
   "id": "3fe51de1-798f-4781-9eb9-3c69448e7f81",
   "metadata": {
    "jp-MarkdownHeadingCollapsed": true,
    "tags": []
   },
   "source": [
    "# Defining Glaucoma"
   ]
  },
  {
   "cell_type": "markdown",
   "id": "97fa9a71-89e5-4706-9fe0-0e10cbeae6c5",
   "metadata": {},
   "source": [
    "Defining glaucoma as per MacGregor (2018)\n",
    "\n",
    "Using the following columns:\n",
    "- Non-cancer illness code, self-reported (20002)\n",
    "- Diagnoses - ICD10 (41270)\n",
    "- Diagnoses - ICD9 (41271)\n",
    "- Eye problems/disorders (6148) via touchscreen"
   ]
  },
  {
   "cell_type": "code",
   "execution_count": 19,
   "id": "3152ccd3-21bc-4733-ad60-da4a9f0c91ba",
   "metadata": {},
   "outputs": [],
   "source": [
    "glaucoma_diagnosis_columns = [column for column in df_fields['Field ID'] if '20002' in column or '41270' in column or '41271' in column or '6148' in column]"
   ]
  },
  {
   "cell_type": "code",
   "execution_count": 41,
   "id": "9b79885c-75db-498a-a529-8563518c0420",
   "metadata": {},
   "outputs": [],
   "source": [
    "touchscreen_cols = [id_to_desc[col] for col in glaucoma_diagnosis_columns if '6148' in col]\n",
    "self_reported_cols = [id_to_desc[col] for col in glaucoma_diagnosis_columns if '20002' in col]\n",
    "icd10_cols = [id_to_desc[col] for col in glaucoma_diagnosis_columns if '41270' in col]\n",
    "icd9_cols = [id_to_desc[col] for col in glaucoma_diagnosis_columns if '41271' in col]"
   ]
  },
  {
   "cell_type": "code",
   "execution_count": 42,
   "id": "61dc1a84-d5fa-4350-9d19-f198bd44c69c",
   "metadata": {},
   "outputs": [
    {
     "name": "stdout",
     "output_type": "stream",
     "text": [
      "Preparing dataframe...\n"
     ]
    },
    {
     "name": "stderr",
     "output_type": "stream",
     "text": [
      "51it [11:59, 14.11s/it]                                                                               \n"
     ]
    }
   ],
   "source": [
    "df_glaucoma_data = get_dataframe_for_analysis(glaucoma_diagnosis_columns)"
   ]
  },
  {
   "cell_type": "markdown",
   "id": "8f8a19d7-38f3-4248-bbb1-b32ea7907c58",
   "metadata": {},
   "source": [
    "Rename columns to be more descriptive"
   ]
  },
  {
   "cell_type": "code",
   "execution_count": 43,
   "id": "f62d9473-8030-49e5-9ee3-f482a5efeadc",
   "metadata": {},
   "outputs": [],
   "source": [
    "df_glaucoma_data.columns = [id_to_desc[column] for column in df_glaucoma_data.columns]"
   ]
  },
  {
   "cell_type": "markdown",
   "id": "a332f135-8467-4aac-b69c-7b15764853c7",
   "metadata": {},
   "source": [
    "Method to see if a particular diagnosis is present in a set of columns.\n",
    "- codes: the code to look for\n",
    "- key_word: filter columns by this keyword when looking for codes\n",
    "- df_columns: the relevant dataset\n",
    "\n",
    "Will output one column for each code requested"
   ]
  },
  {
   "cell_type": "code",
   "execution_count": 44,
   "id": "f368b898-c570-4cd2-b7ef-bd6f8b9765e3",
   "metadata": {},
   "outputs": [],
   "source": [
    "def patient_has_diagnosis(codes,key_word, df_columns):\n",
    "    # get only the columns that have key_word in them (e.g. selected ICD10 diagnoses only)\n",
    "    diagnoses_columns = [column for column in df_columns.columns if key_word in column]\n",
    "    df_relevant_columns = df_columns[diagnoses_columns]\n",
    "    \n",
    "    # each column in this correspond to columns in df_relevant_columns, saying which codes are present\n",
    "    df_codes_present = pd.DataFrame()\n",
    "    \n",
    "    for column in tqdm(diagnoses_columns):\n",
    "        df_codes_present[column] = df_relevant_columns[column].apply(lambda x: [code in str(x) for code in codes])\n",
    "    \n",
    "    # columns in this correspond to codes - whether or not codes are present\n",
    "    df_output_columns = pd.DataFrame()\n",
    "    for i in tqdm(range(len(codes))):\n",
    "        df_output_columns[codes[i]] = [False]*len(df_columns)\n",
    "        for column in df_codes_present.columns:\n",
    "            df_output_columns[codes[i]] = df_output_columns[codes[i]] | df_codes_present[column].apply(lambda x: x[i])\n",
    "            \n",
    "    return df_output_columns"
   ]
  },
  {
   "cell_type": "markdown",
   "id": "a0ceeefc-2604-42f0-84c4-7cb1f32dc7d5",
   "metadata": {},
   "source": [
    "Extract ICD10 information"
   ]
  },
  {
   "cell_type": "code",
   "execution_count": 45,
   "id": "cac03dbd-03c5-40bd-8c1c-0b1e2e2c846f",
   "metadata": {},
   "outputs": [],
   "source": [
    "icd10_column_names = ['ICD10 POAG','ICD10 Other glaucoma','ICD10 Glaucoma unspecified']\n",
    "icd10_codes = ['H401','H408','H409']"
   ]
  },
  {
   "cell_type": "code",
   "execution_count": 46,
   "id": "54ca9e5a-4897-4c5f-8e52-2273fd5c48b3",
   "metadata": {},
   "outputs": [
    {
     "name": "stderr",
     "output_type": "stream",
     "text": [
      "100%|███████████████████████████████████████████████████████████████| 226/226 [02:50<00:00,  1.33it/s]\n",
      "100%|███████████████████████████████████████████████████████████████████| 3/3 [00:46<00:00, 15.55s/it]\n"
     ]
    }
   ],
   "source": [
    "df_icd_10 = patient_has_diagnosis(icd10_codes,'Diagnoses - ICD10',df_glaucoma_data)"
   ]
  },
  {
   "cell_type": "code",
   "execution_count": 47,
   "id": "d43745ca-9d83-43ba-838c-857e05f969cd",
   "metadata": {},
   "outputs": [
    {
     "name": "stdout",
     "output_type": "stream",
     "text": [
      "False    449150\n",
      "True       3027\n",
      "Name: ICD10 POAG, dtype: int64\n",
      "False    452012\n",
      "True        165\n",
      "Name: ICD10 Other glaucoma, dtype: int64\n",
      "False    444959\n",
      "True       7218\n",
      "Name: ICD10 Glaucoma unspecified, dtype: int64\n"
     ]
    }
   ],
   "source": [
    "for column_name, code in zip(icd10_column_names, icd10_codes):\n",
    "    df_glaucoma_data[column_name] = df_icd_10[code]\n",
    "    print(df_glaucoma_data[column_name].value_counts())"
   ]
  },
  {
   "cell_type": "markdown",
   "id": "bb945658-3498-4b77-8236-4b950ccb403c",
   "metadata": {},
   "source": [
    "Extract ICD9 information"
   ]
  },
  {
   "cell_type": "code",
   "execution_count": 48,
   "id": "8b0c0248-c002-4038-84e5-9da7ee90368e",
   "metadata": {},
   "outputs": [],
   "source": [
    "icd9_column_names = ['ICD9 POAG', 'ICD9 Other glaucoma','ICD9 Glaucoma unspecified']\n",
    "icd9_codes = ['3651','3658','3659']"
   ]
  },
  {
   "cell_type": "code",
   "execution_count": 49,
   "id": "d8e24508-8c62-4b9e-b4fb-95737c4a6e78",
   "metadata": {},
   "outputs": [
    {
     "name": "stderr",
     "output_type": "stream",
     "text": [
      "100%|█████████████████████████████████████████████████████████████████| 47/47 [00:23<00:00,  1.97it/s]\n",
      "100%|███████████████████████████████████████████████████████████████████| 3/3 [00:12<00:00,  4.12s/it]\n"
     ]
    }
   ],
   "source": [
    "df_icd_9 = patient_has_diagnosis(icd9_codes,'Diagnoses - ICD9',df_glaucoma_data)"
   ]
  },
  {
   "cell_type": "code",
   "execution_count": 50,
   "id": "496261df-7a93-4d8d-a3bf-2f1ada5217b9",
   "metadata": {},
   "outputs": [
    {
     "name": "stdout",
     "output_type": "stream",
     "text": [
      "False    452170\n",
      "True          7\n",
      "Name: ICD9 POAG, dtype: int64\n",
      "False    452177\n",
      "Name: ICD9 Other glaucoma, dtype: int64\n",
      "False    452156\n",
      "True         21\n",
      "Name: ICD9 Glaucoma unspecified, dtype: int64\n"
     ]
    }
   ],
   "source": [
    "for column_name, code in zip(icd9_column_names, icd9_codes):\n",
    "    df_glaucoma_data[column_name] = df_icd_9[code]\n",
    "    print(df_glaucoma_data[column_name].value_counts())"
   ]
  },
  {
   "cell_type": "markdown",
   "id": "3174c2a6-b285-4952-97be-e03ebebdade0",
   "metadata": {},
   "source": [
    "Extract self-reported glaucoma information"
   ]
  },
  {
   "cell_type": "code",
   "execution_count": 51,
   "id": "a8f2465a-0dee-4da2-ba7d-7b98e455cf78",
   "metadata": {},
   "outputs": [
    {
     "name": "stderr",
     "output_type": "stream",
     "text": [
      "100%|███████████████████████████████████████████████████████████████| 136/136 [01:22<00:00,  1.64it/s]\n",
      "100%|███████████████████████████████████████████████████████████████████| 1/1 [00:10<00:00, 10.01s/it]\n"
     ]
    }
   ],
   "source": [
    "df_glaucoma_data['Self-reported glaucoma 1'] = patient_has_diagnosis(['1277'],'Non-cancer illness code, self-reported',df_glaucoma_data)['1277']"
   ]
  },
  {
   "cell_type": "code",
   "execution_count": 52,
   "id": "b6c57cc7-423e-4962-b967-0cee28b18b4b",
   "metadata": {},
   "outputs": [
    {
     "data": {
      "text/plain": [
       "False    446648\n",
       "True       5529\n",
       "Name: Self-reported glaucoma 1, dtype: int64"
      ]
     },
     "execution_count": 52,
     "metadata": {},
     "output_type": "execute_result"
    }
   ],
   "source": [
    "df_glaucoma_data['Self-reported glaucoma 1'].value_counts()"
   ]
  },
  {
   "cell_type": "code",
   "execution_count": 53,
   "id": "d9cfd0fe-ac60-41e3-a1f8-fa5e4bb0e767",
   "metadata": {},
   "outputs": [],
   "source": [
    "df_glaucoma_data['Self-reported glaucoma 2'] = ((df_glaucoma_data['Eye problems/disorders_0'] == 2) | (df_glaucoma_data['Eye problems/disorders_1'] == 2)\n",
    "| (df_glaucoma_data['Eye problems/disorders_2'] == 2) | (df_glaucoma_data['Eye problems/disorders_3'] == 2)\n",
    "| (df_glaucoma_data['Eye problems/disorders_4'] == 2))"
   ]
  },
  {
   "cell_type": "code",
   "execution_count": 54,
   "id": "4045e3d9-42fd-402a-b1b0-39335a9459c5",
   "metadata": {},
   "outputs": [
    {
     "data": {
      "text/plain": [
       "False    445609\n",
       "True       6568\n",
       "Name: Self-reported glaucoma 2, dtype: int64"
      ]
     },
     "execution_count": 54,
     "metadata": {},
     "output_type": "execute_result"
    }
   ],
   "source": [
    "df_glaucoma_data['Self-reported glaucoma 2'].value_counts()"
   ]
  },
  {
   "cell_type": "markdown",
   "id": "1b441db2-9db3-497a-bb2a-1a15f5be94d6",
   "metadata": {},
   "source": [
    "Combining it all together..."
   ]
  },
  {
   "cell_type": "code",
   "execution_count": 55,
   "id": "db787fae-4454-4d5e-a4df-efe33872a17e",
   "metadata": {},
   "outputs": [],
   "source": [
    "df_glaucoma_data['Total Glaucoma'] = df_glaucoma_data['ICD10 POAG'] | df_glaucoma_data['ICD10 Other glaucoma'] | df_glaucoma_data['ICD10 Glaucoma unspecified'] | df_glaucoma_data['Self-reported glaucoma 1'] | df_glaucoma_data['Self-reported glaucoma 2'] | df_glaucoma_data['ICD9 POAG'] | df_glaucoma_data['ICD9 Other glaucoma'] | df_glaucoma_data['ICD9 Glaucoma unspecified']"
   ]
  },
  {
   "cell_type": "code",
   "execution_count": 11,
   "id": "1119ab15-ba81-41d0-982d-09b96ea82f49",
   "metadata": {},
   "outputs": [],
   "source": [
    "import venn"
   ]
  },
  {
   "cell_type": "code",
   "execution_count": 17,
   "id": "36ae8bc0-6b4b-4d15-9498-dbfd71607867",
   "metadata": {},
   "outputs": [
    {
     "data": {
      "text/plain": [
       "<AxesSubplot:>"
      ]
     },
     "execution_count": 17,
     "metadata": {},
     "output_type": "execute_result"
    },
    {
     "data": {
      "image/png": "[encoded data removed]",
      "text/plain": [
       "<Figure size 576x576 with 1 Axes>"
      ]
     },
     "metadata": {},
     "output_type": "display_data"
    }
   ],
   "source": [
    "venn.venn({'ICD-10 diagnosis':set(df_glaucoma_data[df_glaucoma_data['ICD10 POAG'] | df_glaucoma_data['ICD10 Other glaucoma'] | df_glaucoma_data['ICD10 Glaucoma unspecified']].index),\n",
    "        'ICD-9 diagnosis':set(df_glaucoma_data[df_glaucoma_data['ICD9 POAG'] | df_glaucoma_data['ICD9 Other glaucoma'] | df_glaucoma_data['ICD9 Glaucoma unspecified']].index),\n",
    "           'Self-reported glaucoma (verbal interview)':set(df_glaucoma_data[df_glaucoma_data['Self-reported glaucoma 1']].index),\n",
    "           'Self-reported glaucoma (touchscreen)':set(df_glaucoma_data[df_glaucoma_data['Self-reported glaucoma 2']].index)\n",
    "           \n",
    "          })"
   ]
  },
  {
   "cell_type": "code",
   "execution_count": 21,
   "id": "72aece78-2b0d-4229-8c0a-ea57fb4744f2",
   "metadata": {},
   "outputs": [],
   "source": [
    "latter_glaucoma = df_glaucoma_data[df_glaucoma_data['Diagnosis Year'] > 2010]"
   ]
  },
  {
   "cell_type": "code",
   "execution_count": 22,
   "id": "4948142d-e252-4558-8949-a1e9df0bdfab",
   "metadata": {},
   "outputs": [
    {
     "data": {
      "text/plain": [
       "<AxesSubplot:>"
      ]
     },
     "execution_count": 22,
     "metadata": {},
     "output_type": "execute_result"
    },
    {
     "data": {
      "image/png": "[encoded data removed]",
      "text/plain": [
       "<Figure size 576x576 with 1 Axes>"
      ]
     },
     "metadata": {},
     "output_type": "display_data"
    }
   ],
   "source": [
    "venn.venn({'ICD-10 diagnosis':set(latter_glaucoma[latter_glaucoma['ICD10 POAG'] | latter_glaucoma['ICD10 Other glaucoma'] | latter_glaucoma['ICD10 Glaucoma unspecified']].index),\n",
    "        'ICD-9 diagnosis':set(latter_glaucoma[df_glaucoma_data['ICD9 POAG'] | latter_glaucoma['ICD9 Other glaucoma'] | latter_glaucoma['ICD9 Glaucoma unspecified']].index),\n",
    "           'Self-reported glaucoma (verbal interview)':set(latter_glaucoma[latter_glaucoma['Self-reported glaucoma 1']].index),\n",
    "           'Self-reported glaucoma (touchscreen)':set(latter_glaucoma[latter_glaucoma['Self-reported glaucoma 2']].index)\n",
    "           \n",
    "          })"
   ]
  },
  {
   "cell_type": "code",
   "execution_count": 56,
   "id": "22543c45-2fde-4d83-90ce-f16a98416ad6",
   "metadata": {},
   "outputs": [
    {
     "data": {
      "text/plain": [
       "False    439661\n",
       "True      12516\n",
       "Name: Total Glaucoma, dtype: int64"
      ]
     },
     "execution_count": 56,
     "metadata": {},
     "output_type": "execute_result"
    }
   ],
   "source": [
    "df_glaucoma_data['Total Glaucoma'].value_counts()"
   ]
  },
  {
   "cell_type": "code",
   "execution_count": 57,
   "id": "9c8271af-e20a-4540-bc8c-3fcbfe5086bf",
   "metadata": {},
   "outputs": [
    {
     "data": {
      "text/plain": [
       "False    0.972321\n",
       "True     0.027679\n",
       "Name: Total Glaucoma, dtype: float64"
      ]
     },
     "execution_count": 57,
     "metadata": {},
     "output_type": "execute_result"
    }
   ],
   "source": [
    "df_glaucoma_data['Total Glaucoma'].value_counts(normalize=True)"
   ]
  },
  {
   "cell_type": "markdown",
   "id": "01838e63-3b2c-480d-9f84-bdc31c0e62fe",
   "metadata": {
    "tags": []
   },
   "source": [
    "# Getting earliest year of glaucoma diagnosis"
   ]
  },
  {
   "cell_type": "markdown",
   "id": "979d90c9-5cde-4362-b39a-ac05e2923191",
   "metadata": {},
   "source": [
    "Getting the earliest year of glaucoma diagnosis.\n",
    "This allows us to exclude diagnoses and events that happen before the glaucoma diagnosis, minimising the possibility that reverse causation is causing an association.\n",
    "\n",
    "Using the following columns:\n",
    "- 4689 (age glaucoma diagnosed - touchscreen)\n",
    "- 34 (year of birth - for year calculation)\n",
    "- 20008 (year of self-reported)\n",
    "- 41280 (date of diagnosis ICD10)\n",
    "- 41281 (date of diagnosis ICD9)\n"
   ]
  },
  {
   "cell_type": "code",
   "execution_count": 58,
   "id": "2cea1019-10c7-4f23-99b2-da8c49cadd76",
   "metadata": {},
   "outputs": [],
   "source": [
    "year_of_diagnosis_columns = [column for column in df_fields['Field ID'] if '20008' in column or '41280' in column or '41281' in column or '4689' in column or column == 'f.34.0.0']"
   ]
  },
  {
   "cell_type": "code",
   "execution_count": 59,
   "id": "a2da0354-80e7-4177-b773-687ebb53dc4d",
   "metadata": {},
   "outputs": [],
   "source": [
    "touchscreen_cols_date = [col for col in year_of_diagnosis_columns if '4689' in col]\n",
    "self_reported_cols_date = [col for col in year_of_diagnosis_columns if '20008' in col]\n",
    "icd10_cols_date = [col for col in year_of_diagnosis_columns if '41280' in col]\n",
    "icd9_cols_date = [col for col in year_of_diagnosis_columns if '41281' in col]"
   ]
  },
  {
   "cell_type": "code",
   "execution_count": 60,
   "id": "15d3f4a1-78b0-4f4c-b9d1-d4ea3ccf1099",
   "metadata": {},
   "outputs": [
    {
     "name": "stdout",
     "output_type": "stream",
     "text": [
      "Preparing dataframe...\n"
     ]
    },
    {
     "name": "stderr",
     "output_type": "stream",
     "text": [
      "51it [12:30, 14.72s/it]                                                                               \n"
     ]
    }
   ],
   "source": [
    "df_date_data = get_dataframe_for_analysis(year_of_diagnosis_columns)"
   ]
  },
  {
   "cell_type": "markdown",
   "id": "790f757f-b469-483f-b12c-d456468f6a78",
   "metadata": {},
   "source": [
    "Determine the earliest date of glaucoma diagnosis"
   ]
  },
  {
   "cell_type": "code",
   "execution_count": 61,
   "id": "9776ad31-63d2-4a29-a90c-195a33fe8258",
   "metadata": {},
   "outputs": [
    {
     "name": "stderr",
     "output_type": "stream",
     "text": [
      "100%|███████████████████████████████████████████████████████| 452177/452177 [04:36<00:00, 1633.61it/s]\n"
     ]
    }
   ],
   "source": [
    "earliest_date = []\n",
    "\n",
    "for i in tqdm(range(len(df_glaucoma_data))):\n",
    "    if df_glaucoma_data.iloc[i]['Total Glaucoma']:\n",
    "        earliest_year_list = []\n",
    "\n",
    "        earliest_year_list.append(df_date_data.iloc[i][touchscreen_cols_date].min() + df_date_data.iloc[i]['f.34.0.0'])\n",
    "\n",
    "        prospective_years = pd.Series((df_glaucoma_data.iloc[i][self_reported_cols] == 1277).astype(int).values * df_date_data.iloc[i][self_reported_cols_date].values)\n",
    "        earliest_year_list.append(prospective_years.apply(lambda x: np.nan if x < 1900 else x).min())\n",
    "\n",
    "        prospective_years = pd.Series(df_glaucoma_data.iloc[i][icd10_cols].apply(lambda x: x in icd10_codes).astype(int).values * df_date_data.iloc[i][icd10_cols_date].apply(lambda x: x if pd.isna(x) else int(x.split('-')[0])).values)\n",
    "        earliest_year_list.append(prospective_years.apply(lambda x: np.nan if x < 1900 else x).min())\n",
    "\n",
    "        prospective_years = pd.Series(df_glaucoma_data.iloc[i][icd9_cols].apply(lambda x: x in icd9_codes).astype(int).values * df_date_data.iloc[i][icd9_cols_date].apply(lambda x: x if pd.isna(x) else int(x.split('-')[0])).values)\n",
    "        earliest_year_list.append(prospective_years.apply(lambda x: np.nan if x < 1900 else x).min())\n",
    "\n",
    "        earliest_year_list = [year for year in earliest_year_list if not pd.isna(year)]\n",
    "        if len(earliest_year_list) > 0:\n",
    "            earliest_date.append(min(earliest_year_list))\n",
    "        else:\n",
    "            earliest_date.append(np.nan)\n",
    "    else:\n",
    "        earliest_date.append(np.nan)"
   ]
  },
  {
   "cell_type": "code",
   "execution_count": 62,
   "id": "fe929703-eeeb-4edb-99ae-2d50dd407f89",
   "metadata": {},
   "outputs": [],
   "source": [
    "df_glaucoma_data['Diagnosis Year'] = earliest_date"
   ]
  },
  {
   "cell_type": "code",
   "execution_count": 63,
   "id": "6d3aba3a-01ee-4bbe-89f8-1cfd7e690c78",
   "metadata": {},
   "outputs": [
    {
     "data": {
      "text/plain": [
       "<AxesSubplot:>"
      ]
     },
     "execution_count": 63,
     "metadata": {},
     "output_type": "execute_result"
    },
    {
     "data": {
      "image/png": "[encoded data removed]",
      "text/plain": [
       "<Figure size 432x288 with 1 Axes>"
      ]
     },
     "metadata": {
      "needs_background": "light"
     },
     "output_type": "display_data"
    }
   ],
   "source": [
    "df_glaucoma_data['Diagnosis Year'].hist()"
   ]
  },
  {
   "cell_type": "code",
   "execution_count": 64,
   "id": "3f1ede47-312a-4cc2-ba0b-23a1f40f5ac4",
   "metadata": {},
   "outputs": [
    {
     "data": {
      "text/plain": [
       "False    11487\n",
       "True      1029\n",
       "Name: Diagnosis Year, dtype: int64"
      ]
     },
     "execution_count": 64,
     "metadata": {},
     "output_type": "execute_result"
    }
   ],
   "source": [
    "df_glaucoma_data[df_glaucoma_data['Total Glaucoma']]['Diagnosis Year'].isna().value_counts()"
   ]
  },
  {
   "cell_type": "code",
   "execution_count": 68,
   "id": "ad7513cb-c63e-4a60-b344-83804d6ae012",
   "metadata": {},
   "outputs": [],
   "source": [
    "df_glaucoma_data.to_pickle(UKBB_PATH+'processed_data/Clinical Feature Selection/glaucoma_data_checkpoint.pkl')"
   ]
  },
  {
   "cell_type": "code",
   "execution_count": 4,
   "id": "9b6c76f0-ef6a-4f35-b3dc-aa2a12c9eddc",
   "metadata": {},
   "outputs": [],
   "source": [
    "df_glaucoma_data = pd.read_pickle(UKBB_PATH+'processed_data/Clinical Feature Selection/glaucoma_data_checkpoint.pkl')"
   ]
  },
  {
   "cell_type": "code",
   "execution_count": 69,
   "id": "6a130dde-23ef-44b9-aba4-ec035e7c8440",
   "metadata": {},
   "outputs": [],
   "source": [
    "df_date_data.to_pickle(UKBB_PATH+'processed_data/Clinical Feature Selection/date_data_checkpoint.pkl')"
   ]
  },
  {
   "cell_type": "markdown",
   "id": "df89f859-f3d6-4576-8980-8795d92b5599",
   "metadata": {
    "tags": []
   },
   "source": [
    "# Expanding columns into matrices"
   ]
  },
  {
   "cell_type": "markdown",
   "id": "c6921a2d-583f-4013-9f81-a7a27e359895",
   "metadata": {},
   "source": [
    "Certain features (e.g. ICD10 codes) span multiple columns, and would be better processed as a matrix with each column being the possible values of the feature\n",
    "\n",
    "Does some linear algebra to multiply matrices and make everything fit together nicely"
   ]
  },
  {
   "cell_type": "code",
   "execution_count": 72,
   "id": "8c591cbc-417c-48ca-bac6-9efe00e3b074",
   "metadata": {},
   "outputs": [],
   "source": [
    "def get_binary_encoding_of_columns_combined_matrix(matrix_1, matrix_2):\n",
    "    cols_1 = matrix_1.columns\n",
    "    cols_2 = matrix_2.columns\n",
    "    combined_list = pd.Series(sorted(list(set(cols_1).union(set(cols_2)))))\n",
    "    encoding_1 = combined_list.apply(lambda x: 1 if x in cols_1 else 0)\n",
    "    encoding_2 = combined_list.apply(lambda x: 1 if x in cols_2 else 0)\n",
    "    return combined_list, encoding_1, encoding_2"
   ]
  },
  {
   "cell_type": "code",
   "execution_count": 73,
   "id": "1630da21-8714-44a6-970f-d08995c3f96a",
   "metadata": {},
   "outputs": [],
   "source": [
    "def build_matrix_from_encodings(encoding):\n",
    "    encoding_sum = encoding.sum()\n",
    "    ident = np.identity(encoding_sum)\n",
    "    final_matrix = []\n",
    "    for item in encoding:\n",
    "        if item == 1:\n",
    "            final_matrix.append(ident[0])\n",
    "            ident = ident[1:]\n",
    "        else:\n",
    "            final_matrix.append(np.zeros(encoding_sum))\n",
    "    return scipy.sparse.coo_matrix(np.asarray(final_matrix).T)"
   ]
  },
  {
   "cell_type": "code",
   "execution_count": 74,
   "id": "97a52092-734a-4698-9e54-52b48cacf3e5",
   "metadata": {},
   "outputs": [],
   "source": [
    "def combine_matrices(matrix_1, matrix_2):\n",
    "    if matrix_1 is None:\n",
    "        return matrix_2\n",
    "    combined_list, encoding_1, encoding_2 = get_binary_encoding_of_columns_combined_matrix(matrix_1, matrix_2)\n",
    "    mult_matrix_1 = build_matrix_from_encodings(encoding_1)\n",
    "    mult_matrix_2 = build_matrix_from_encodings(encoding_2)\n",
    "    combined_matrix = matrix_1.sparse.to_coo() * mult_matrix_1 + matrix_2.sparse.to_coo() * mult_matrix_2\n",
    "    df = pd.DataFrame.sparse.from_spmatrix(combined_matrix)\n",
    "    df.columns = combined_list\n",
    "    return df"
   ]
  },
  {
   "cell_type": "code",
   "execution_count": 75,
   "id": "41f13346-1017-4e01-b366-e44be52678a7",
   "metadata": {},
   "outputs": [],
   "source": [
    "def expand_matrix(df):\n",
    "    current_matrix = None\n",
    "    for column in tqdm(df.columns):\n",
    "        matrix_to_add = pd.get_dummies(df[column],sparse=True)\n",
    "        current_matrix = combine_matrices(current_matrix,matrix_to_add)\n",
    "    return current_matrix"
   ]
  },
  {
   "cell_type": "markdown",
   "id": "5627e711-b69b-42a5-82d1-6a0ad681ded8",
   "metadata": {
    "tags": []
   },
   "source": [
    "## ICD10 diagnoses"
   ]
  },
  {
   "cell_type": "code",
   "execution_count": 76,
   "id": "ee9e2aaa-9359-44cc-b926-e77c7954711e",
   "metadata": {},
   "outputs": [],
   "source": [
    "df_diagnoses = df_glaucoma_data[icd10_cols].copy()\n",
    "df_diagnoses_dates = df_date_data[icd10_cols_date]"
   ]
  },
  {
   "cell_type": "code",
   "execution_count": 79,
   "id": "dec8f396-a3fd-42e7-9cd0-38dafd3b9136",
   "metadata": {},
   "outputs": [
    {
     "data": {
      "text/html": [
       "<div>\n",
       "<style scoped>\n",
       "    .dataframe tbody tr th:only-of-type {\n",
       "        vertical-align: middle;\n",
       "    }\n",
       "\n",
       "    .dataframe tbody tr th {\n",
       "        vertical-align: top;\n",
       "    }\n",
       "\n",
       "    .dataframe thead th {\n",
       "        text-align: right;\n",
       "    }\n",
       "</style>\n",
       "<table border=\"1\" class=\"dataframe\">\n",
       "  <thead>\n",
       "    <tr style=\"text-align: right;\">\n",
       "      <th></th>\n",
       "      <th>Eye problems/disorders_0</th>\n",
       "      <th>Eye problems/disorders_1</th>\n",
       "      <th>Eye problems/disorders_2</th>\n",
       "      <th>Eye problems/disorders_3</th>\n",
       "      <th>Eye problems/disorders_4</th>\n",
       "      <th>Eye problems/disorders_5</th>\n",
       "      <th>Eye problems/disorders_6</th>\n",
       "      <th>Eye problems/disorders_7</th>\n",
       "      <th>Eye problems/disorders_8</th>\n",
       "      <th>Eye problems/disorders_9</th>\n",
       "      <th>...</th>\n",
       "      <th>ICD10 POAG</th>\n",
       "      <th>ICD10 Other glaucoma</th>\n",
       "      <th>ICD10 Glaucoma unspecified</th>\n",
       "      <th>ICD9 POAG</th>\n",
       "      <th>ICD9 Other glaucoma</th>\n",
       "      <th>ICD9 Glaucoma unspecified</th>\n",
       "      <th>Self-reported glaucoma 1</th>\n",
       "      <th>Self-reported glaucoma 2</th>\n",
       "      <th>Total Glaucoma</th>\n",
       "      <th>Diagnosis Year</th>\n",
       "    </tr>\n",
       "  </thead>\n",
       "  <tbody>\n",
       "    <tr>\n",
       "      <th>28</th>\n",
       "      <td>6.0</td>\n",
       "      <td>NaN</td>\n",
       "      <td>NaN</td>\n",
       "      <td>NaN</td>\n",
       "      <td>NaN</td>\n",
       "      <td>NaN</td>\n",
       "      <td>NaN</td>\n",
       "      <td>NaN</td>\n",
       "      <td>NaN</td>\n",
       "      <td>NaN</td>\n",
       "      <td>...</td>\n",
       "      <td>False</td>\n",
       "      <td>False</td>\n",
       "      <td>True</td>\n",
       "      <td>False</td>\n",
       "      <td>False</td>\n",
       "      <td>False</td>\n",
       "      <td>False</td>\n",
       "      <td>False</td>\n",
       "      <td>True</td>\n",
       "      <td>2015.0</td>\n",
       "    </tr>\n",
       "    <tr>\n",
       "      <th>81</th>\n",
       "      <td>-7.0</td>\n",
       "      <td>NaN</td>\n",
       "      <td>NaN</td>\n",
       "      <td>NaN</td>\n",
       "      <td>NaN</td>\n",
       "      <td>NaN</td>\n",
       "      <td>NaN</td>\n",
       "      <td>NaN</td>\n",
       "      <td>NaN</td>\n",
       "      <td>NaN</td>\n",
       "      <td>...</td>\n",
       "      <td>False</td>\n",
       "      <td>True</td>\n",
       "      <td>True</td>\n",
       "      <td>False</td>\n",
       "      <td>False</td>\n",
       "      <td>False</td>\n",
       "      <td>False</td>\n",
       "      <td>False</td>\n",
       "      <td>True</td>\n",
       "      <td>2013.0</td>\n",
       "    </tr>\n",
       "    <tr>\n",
       "      <th>172</th>\n",
       "      <td>2.0</td>\n",
       "      <td>NaN</td>\n",
       "      <td>NaN</td>\n",
       "      <td>NaN</td>\n",
       "      <td>NaN</td>\n",
       "      <td>NaN</td>\n",
       "      <td>NaN</td>\n",
       "      <td>NaN</td>\n",
       "      <td>NaN</td>\n",
       "      <td>NaN</td>\n",
       "      <td>...</td>\n",
       "      <td>False</td>\n",
       "      <td>False</td>\n",
       "      <td>True</td>\n",
       "      <td>False</td>\n",
       "      <td>False</td>\n",
       "      <td>False</td>\n",
       "      <td>True</td>\n",
       "      <td>True</td>\n",
       "      <td>True</td>\n",
       "      <td>1990.5</td>\n",
       "    </tr>\n",
       "    <tr>\n",
       "      <th>189</th>\n",
       "      <td>2.0</td>\n",
       "      <td>4.0</td>\n",
       "      <td>NaN</td>\n",
       "      <td>NaN</td>\n",
       "      <td>NaN</td>\n",
       "      <td>NaN</td>\n",
       "      <td>NaN</td>\n",
       "      <td>NaN</td>\n",
       "      <td>NaN</td>\n",
       "      <td>NaN</td>\n",
       "      <td>...</td>\n",
       "      <td>False</td>\n",
       "      <td>False</td>\n",
       "      <td>True</td>\n",
       "      <td>False</td>\n",
       "      <td>False</td>\n",
       "      <td>False</td>\n",
       "      <td>True</td>\n",
       "      <td>True</td>\n",
       "      <td>True</td>\n",
       "      <td>1993.5</td>\n",
       "    </tr>\n",
       "    <tr>\n",
       "      <th>191</th>\n",
       "      <td>NaN</td>\n",
       "      <td>NaN</td>\n",
       "      <td>NaN</td>\n",
       "      <td>NaN</td>\n",
       "      <td>NaN</td>\n",
       "      <td>NaN</td>\n",
       "      <td>NaN</td>\n",
       "      <td>NaN</td>\n",
       "      <td>NaN</td>\n",
       "      <td>NaN</td>\n",
       "      <td>...</td>\n",
       "      <td>True</td>\n",
       "      <td>False</td>\n",
       "      <td>False</td>\n",
       "      <td>False</td>\n",
       "      <td>False</td>\n",
       "      <td>False</td>\n",
       "      <td>False</td>\n",
       "      <td>False</td>\n",
       "      <td>True</td>\n",
       "      <td>2018.0</td>\n",
       "    </tr>\n",
       "    <tr>\n",
       "      <th>...</th>\n",
       "      <td>...</td>\n",
       "      <td>...</td>\n",
       "      <td>...</td>\n",
       "      <td>...</td>\n",
       "      <td>...</td>\n",
       "      <td>...</td>\n",
       "      <td>...</td>\n",
       "      <td>...</td>\n",
       "      <td>...</td>\n",
       "      <td>...</td>\n",
       "      <td>...</td>\n",
       "      <td>...</td>\n",
       "      <td>...</td>\n",
       "      <td>...</td>\n",
       "      <td>...</td>\n",
       "      <td>...</td>\n",
       "      <td>...</td>\n",
       "      <td>...</td>\n",
       "      <td>...</td>\n",
       "      <td>...</td>\n",
       "      <td>...</td>\n",
       "    </tr>\n",
       "    <tr>\n",
       "      <th>452035</th>\n",
       "      <td>NaN</td>\n",
       "      <td>NaN</td>\n",
       "      <td>NaN</td>\n",
       "      <td>NaN</td>\n",
       "      <td>NaN</td>\n",
       "      <td>NaN</td>\n",
       "      <td>NaN</td>\n",
       "      <td>NaN</td>\n",
       "      <td>NaN</td>\n",
       "      <td>NaN</td>\n",
       "      <td>...</td>\n",
       "      <td>True</td>\n",
       "      <td>False</td>\n",
       "      <td>True</td>\n",
       "      <td>False</td>\n",
       "      <td>False</td>\n",
       "      <td>False</td>\n",
       "      <td>False</td>\n",
       "      <td>False</td>\n",
       "      <td>True</td>\n",
       "      <td>2015.0</td>\n",
       "    </tr>\n",
       "    <tr>\n",
       "      <th>452054</th>\n",
       "      <td>2.0</td>\n",
       "      <td>NaN</td>\n",
       "      <td>NaN</td>\n",
       "      <td>NaN</td>\n",
       "      <td>NaN</td>\n",
       "      <td>NaN</td>\n",
       "      <td>NaN</td>\n",
       "      <td>NaN</td>\n",
       "      <td>NaN</td>\n",
       "      <td>NaN</td>\n",
       "      <td>...</td>\n",
       "      <td>False</td>\n",
       "      <td>False</td>\n",
       "      <td>True</td>\n",
       "      <td>False</td>\n",
       "      <td>False</td>\n",
       "      <td>False</td>\n",
       "      <td>True</td>\n",
       "      <td>True</td>\n",
       "      <td>True</td>\n",
       "      <td>2001.5</td>\n",
       "    </tr>\n",
       "    <tr>\n",
       "      <th>452072</th>\n",
       "      <td>6.0</td>\n",
       "      <td>NaN</td>\n",
       "      <td>NaN</td>\n",
       "      <td>NaN</td>\n",
       "      <td>NaN</td>\n",
       "      <td>NaN</td>\n",
       "      <td>NaN</td>\n",
       "      <td>NaN</td>\n",
       "      <td>NaN</td>\n",
       "      <td>NaN</td>\n",
       "      <td>...</td>\n",
       "      <td>False</td>\n",
       "      <td>False</td>\n",
       "      <td>True</td>\n",
       "      <td>False</td>\n",
       "      <td>False</td>\n",
       "      <td>False</td>\n",
       "      <td>False</td>\n",
       "      <td>False</td>\n",
       "      <td>True</td>\n",
       "      <td>2016.0</td>\n",
       "    </tr>\n",
       "    <tr>\n",
       "      <th>452119</th>\n",
       "      <td>2.0</td>\n",
       "      <td>NaN</td>\n",
       "      <td>NaN</td>\n",
       "      <td>NaN</td>\n",
       "      <td>NaN</td>\n",
       "      <td>NaN</td>\n",
       "      <td>NaN</td>\n",
       "      <td>NaN</td>\n",
       "      <td>NaN</td>\n",
       "      <td>NaN</td>\n",
       "      <td>...</td>\n",
       "      <td>False</td>\n",
       "      <td>False</td>\n",
       "      <td>True</td>\n",
       "      <td>False</td>\n",
       "      <td>False</td>\n",
       "      <td>False</td>\n",
       "      <td>True</td>\n",
       "      <td>True</td>\n",
       "      <td>True</td>\n",
       "      <td>2008.0</td>\n",
       "    </tr>\n",
       "    <tr>\n",
       "      <th>452129</th>\n",
       "      <td>-7.0</td>\n",
       "      <td>NaN</td>\n",
       "      <td>NaN</td>\n",
       "      <td>NaN</td>\n",
       "      <td>NaN</td>\n",
       "      <td>NaN</td>\n",
       "      <td>NaN</td>\n",
       "      <td>NaN</td>\n",
       "      <td>NaN</td>\n",
       "      <td>NaN</td>\n",
       "      <td>...</td>\n",
       "      <td>False</td>\n",
       "      <td>False</td>\n",
       "      <td>True</td>\n",
       "      <td>False</td>\n",
       "      <td>False</td>\n",
       "      <td>False</td>\n",
       "      <td>False</td>\n",
       "      <td>False</td>\n",
       "      <td>True</td>\n",
       "      <td>2017.0</td>\n",
       "    </tr>\n",
       "  </tbody>\n",
       "</table>\n",
       "<p>12516 rows × 439 columns</p>\n",
       "</div>"
      ],
      "text/plain": [
       "        Eye problems/disorders_0  Eye problems/disorders_1  \\\n",
       "28                           6.0                       NaN   \n",
       "81                          -7.0                       NaN   \n",
       "172                          2.0                       NaN   \n",
       "189                          2.0                       4.0   \n",
       "191                          NaN                       NaN   \n",
       "...                          ...                       ...   \n",
       "452035                       NaN                       NaN   \n",
       "452054                       2.0                       NaN   \n",
       "452072                       6.0                       NaN   \n",
       "452119                       2.0                       NaN   \n",
       "452129                      -7.0                       NaN   \n",
       "\n",
       "        Eye problems/disorders_2  Eye problems/disorders_3  \\\n",
       "28                           NaN                       NaN   \n",
       "81                           NaN                       NaN   \n",
       "172                          NaN                       NaN   \n",
       "189                          NaN                       NaN   \n",
       "191                          NaN                       NaN   \n",
       "...                          ...                       ...   \n",
       "452035                       NaN                       NaN   \n",
       "452054                       NaN                       NaN   \n",
       "452072                       NaN                       NaN   \n",
       "452119                       NaN                       NaN   \n",
       "452129                       NaN                       NaN   \n",
       "\n",
       "        Eye problems/disorders_4  Eye problems/disorders_5  \\\n",
       "28                           NaN                       NaN   \n",
       "81                           NaN                       NaN   \n",
       "172                          NaN                       NaN   \n",
       "189                          NaN                       NaN   \n",
       "191                          NaN                       NaN   \n",
       "...                          ...                       ...   \n",
       "452035                       NaN                       NaN   \n",
       "452054                       NaN                       NaN   \n",
       "452072                       NaN                       NaN   \n",
       "452119                       NaN                       NaN   \n",
       "452129                       NaN                       NaN   \n",
       "\n",
       "        Eye problems/disorders_6  Eye problems/disorders_7  \\\n",
       "28                           NaN                       NaN   \n",
       "81                           NaN                       NaN   \n",
       "172                          NaN                       NaN   \n",
       "189                          NaN                       NaN   \n",
       "191                          NaN                       NaN   \n",
       "...                          ...                       ...   \n",
       "452035                       NaN                       NaN   \n",
       "452054                       NaN                       NaN   \n",
       "452072                       NaN                       NaN   \n",
       "452119                       NaN                       NaN   \n",
       "452129                       NaN                       NaN   \n",
       "\n",
       "        Eye problems/disorders_8  Eye problems/disorders_9  ...  ICD10 POAG  \\\n",
       "28                           NaN                       NaN  ...       False   \n",
       "81                           NaN                       NaN  ...       False   \n",
       "172                          NaN                       NaN  ...       False   \n",
       "189                          NaN                       NaN  ...       False   \n",
       "191                          NaN                       NaN  ...        True   \n",
       "...                          ...                       ...  ...         ...   \n",
       "452035                       NaN                       NaN  ...        True   \n",
       "452054                       NaN                       NaN  ...       False   \n",
       "452072                       NaN                       NaN  ...       False   \n",
       "452119                       NaN                       NaN  ...       False   \n",
       "452129                       NaN                       NaN  ...       False   \n",
       "\n",
       "        ICD10 Other glaucoma  ICD10 Glaucoma unspecified  ICD9 POAG  \\\n",
       "28                     False                        True      False   \n",
       "81                      True                        True      False   \n",
       "172                    False                        True      False   \n",
       "189                    False                        True      False   \n",
       "191                    False                       False      False   \n",
       "...                      ...                         ...        ...   \n",
       "452035                 False                        True      False   \n",
       "452054                 False                        True      False   \n",
       "452072                 False                        True      False   \n",
       "452119                 False                        True      False   \n",
       "452129                 False                        True      False   \n",
       "\n",
       "        ICD9 Other glaucoma  ICD9 Glaucoma unspecified  \\\n",
       "28                    False                      False   \n",
       "81                    False                      False   \n",
       "172                   False                      False   \n",
       "189                   False                      False   \n",
       "191                   False                      False   \n",
       "...                     ...                        ...   \n",
       "452035                False                      False   \n",
       "452054                False                      False   \n",
       "452072                False                      False   \n",
       "452119                False                      False   \n",
       "452129                False                      False   \n",
       "\n",
       "        Self-reported glaucoma 1  Self-reported glaucoma 2  Total Glaucoma  \\\n",
       "28                         False                     False            True   \n",
       "81                         False                     False            True   \n",
       "172                         True                      True            True   \n",
       "189                         True                      True            True   \n",
       "191                        False                     False            True   \n",
       "...                          ...                       ...             ...   \n",
       "452035                     False                     False            True   \n",
       "452054                      True                      True            True   \n",
       "452072                     False                     False            True   \n",
       "452119                      True                      True            True   \n",
       "452129                     False                     False            True   \n",
       "\n",
       "        Diagnosis Year  \n",
       "28              2015.0  \n",
       "81              2013.0  \n",
       "172             1990.5  \n",
       "189             1993.5  \n",
       "191             2018.0  \n",
       "...                ...  \n",
       "452035          2015.0  \n",
       "452054          2001.5  \n",
       "452072          2016.0  \n",
       "452119          2008.0  \n",
       "452129          2017.0  \n",
       "\n",
       "[12516 rows x 439 columns]"
      ]
     },
     "execution_count": 79,
     "metadata": {},
     "output_type": "execute_result"
    }
   ],
   "source": [
    "df_glaucoma_data[df_glaucoma_data['Total Glaucoma']]"
   ]
  },
  {
   "cell_type": "markdown",
   "id": "a86a5781-beda-4fd2-bbe3-b88915464ea1",
   "metadata": {},
   "source": [
    "Want to exclude diagnoses that happened after 2010"
   ]
  },
  {
   "cell_type": "code",
   "execution_count": 99,
   "id": "144e5174-aad3-4f68-9fed-7c9cd4c4ed90",
   "metadata": {},
   "outputs": [
    {
     "name": "stderr",
     "output_type": "stream",
     "text": [
      "100%|███████████████████████████████████████████████████████| 452177/452177 [06:07<00:00, 1229.24it/s]\n"
     ]
    }
   ],
   "source": [
    "for i in tqdm(range(len(df_glaucoma_data))):\n",
    "    patient_all_dx = []\n",
    "    for icd_code, diagnosis_year in zip(df_diagnoses.iloc[i], df_diagnoses_dates.iloc[i].apply(lambda x: np.nan if pd.isna(x) else int(x.split('-')[0]))):\n",
    "        if diagnosis_year <= 2010:\n",
    "            patient_all_dx.append(icd_code)\n",
    "        else:\n",
    "            patient_all_dx.append(np.nan)\n",
    "    df_diagnoses.iloc[i] = patient_all_dx"
   ]
  },
  {
   "cell_type": "markdown",
   "id": "39280637-810e-4e21-b20d-599db110c63c",
   "metadata": {},
   "source": [
    "Saving a checkpoint!"
   ]
  },
  {
   "cell_type": "code",
   "execution_count": 103,
   "id": "01c8d112-1573-4d98-82cc-44e290126fdb",
   "metadata": {},
   "outputs": [],
   "source": [
    "df_diagnoses.to_pickle(UKBB_PATH+'processed_data/Clinical Feature Selection/icd10_checkpoint_1.pkl')"
   ]
  },
  {
   "cell_type": "code",
   "execution_count": 104,
   "id": "6bdf488a-9a22-47aa-aabe-0113ce3eabfe",
   "metadata": {},
   "outputs": [],
   "source": [
    "df_diagnoses = pd.read_pickle(UKBB_PATH+'processed_data/Clinical Feature Selection/icd10_checkpoint_1.pkl')"
   ]
  },
  {
   "cell_type": "code",
   "execution_count": 105,
   "id": "c4aa5fe6-3b05-4167-9a2e-623b4fa09aca",
   "metadata": {},
   "outputs": [],
   "source": [
    "df_diagnoses.dropna(axis='columns', how='all', inplace=True)"
   ]
  },
  {
   "cell_type": "code",
   "execution_count": 107,
   "id": "f18b5775-95d3-4bf8-9af3-f59cf4640326",
   "metadata": {},
   "outputs": [
    {
     "name": "stderr",
     "output_type": "stream",
     "text": [
      "100%|███████████████████████████████████████████████████████████████| 213/213 [19:53<00:00,  5.60s/it]\n"
     ]
    }
   ],
   "source": [
    "icd_10_matrix = expand_matrix(df_diagnoses)"
   ]
  },
  {
   "cell_type": "code",
   "execution_count": 110,
   "id": "d28e66f3-9f86-46fd-87b1-56bc6f4f810e",
   "metadata": {},
   "outputs": [],
   "source": [
    "icd_10_matrix.to_pickle(UKBB_PATH+'processed_data/Clinical Feature Selection/icd10_checkpoint_2.pkl')"
   ]
  },
  {
   "cell_type": "code",
   "execution_count": 26,
   "id": "c5bb64d5-a976-461c-a69d-1dde0a5d58ed",
   "metadata": {},
   "outputs": [],
   "source": [
    "icd_10_matrix = pd.read_pickle(UKBB_PATH+'processed_data/Clinical Feature Selection/icd10_checkpoint_2.pkl')"
   ]
  },
  {
   "cell_type": "markdown",
   "id": "56de4470-a446-41b1-a761-4d60cb680fd1",
   "metadata": {
    "tags": []
   },
   "source": [
    "## Self-reported diagnoses"
   ]
  },
  {
   "cell_type": "code",
   "execution_count": 115,
   "id": "d3702057-87db-47c9-94f1-7b1eed8afb3d",
   "metadata": {},
   "outputs": [],
   "source": [
    "df_self_reported = df_glaucoma_data[self_reported_cols].copy()\n",
    "df_self_reported_dates = df_date_data[self_reported_cols_date]"
   ]
  },
  {
   "cell_type": "markdown",
   "id": "175c9d60-4f8f-444d-bee2-8c48568297f7",
   "metadata": {},
   "source": [
    "Want to exclude diagnoses that happened after 2010"
   ]
  },
  {
   "cell_type": "code",
   "execution_count": 116,
   "id": "93acfe60-78ea-4c46-8a9e-05f8eec3d044",
   "metadata": {},
   "outputs": [
    {
     "name": "stderr",
     "output_type": "stream",
     "text": [
      "100%|███████████████████████████████████████████████████████| 452177/452177 [01:33<00:00, 4827.97it/s]\n"
     ]
    }
   ],
   "source": [
    "for i in tqdm(range(len(df_glaucoma_data))):\n",
    "    patient_all_dx = []\n",
    "    for code, diagnosis_year in zip(df_self_reported.iloc[i], df_self_reported_dates.iloc[i]):\n",
    "        if diagnosis_year <= 2010:\n",
    "            patient_all_dx.append(code)\n",
    "        else:\n",
    "            patient_all_dx.append(np.nan)\n",
    "    df_self_reported.iloc[i] = patient_all_dx"
   ]
  },
  {
   "cell_type": "code",
   "execution_count": 117,
   "id": "c687e282-1a53-4d90-a55f-f6c99ce9db92",
   "metadata": {},
   "outputs": [],
   "source": [
    "df_self_reported.to_pickle(UKBB_PATH+'processed_data/Clinical Feature Selection/self_reported_diagnosis_checkpoint_1.pkl')"
   ]
  },
  {
   "cell_type": "code",
   "execution_count": 118,
   "id": "fd376435-e89a-44c3-a6a1-ae97628c0787",
   "metadata": {},
   "outputs": [],
   "source": [
    "df_self_reported = pd.read_pickle(UKBB_PATH+'processed_data/Clinical Feature Selection/self_reported_diagnosis_checkpoint_1.pkl')"
   ]
  },
  {
   "cell_type": "code",
   "execution_count": 124,
   "id": "7a54cdbc-83c5-4e9a-80af-a568706656d0",
   "metadata": {},
   "outputs": [],
   "source": [
    "df_self_reported.dropna(axis='columns', how='all', inplace=True)"
   ]
  },
  {
   "cell_type": "code",
   "execution_count": 125,
   "id": "af5bae2c-1aea-4960-ad63-91664d5151e8",
   "metadata": {},
   "outputs": [
    {
     "name": "stderr",
     "output_type": "stream",
     "text": [
      "100%|█████████████████████████████████████████████████████████████████| 97/97 [00:16<00:00,  5.97it/s]\n"
     ]
    }
   ],
   "source": [
    "self_reported_matrix = expand_matrix(df_self_reported)"
   ]
  },
  {
   "cell_type": "markdown",
   "id": "9dc9edb7-969a-41a3-8d39-d52df01a45e9",
   "metadata": {},
   "source": [
    "Matrix is of the number of appearances - flatten it into a binary matrix"
   ]
  },
  {
   "cell_type": "code",
   "execution_count": 128,
   "id": "cc012afc-8938-4d0c-abc3-021fda785027",
   "metadata": {},
   "outputs": [],
   "source": [
    "self_reported_matrix = np.ceil(self_reported_matrix / 4)"
   ]
  },
  {
   "cell_type": "code",
   "execution_count": 129,
   "id": "568621ed-307e-48e4-bfbd-51b8d9ba0ae2",
   "metadata": {},
   "outputs": [],
   "source": [
    "self_reported_matrix.to_pickle(UKBB_PATH+'processed_data/Clinical Feature Selection/self_reported_diagnosis_checkpoint_2.pkl')"
   ]
  },
  {
   "cell_type": "code",
   "execution_count": 28,
   "id": "7049ae36-da8b-4884-99aa-1e3f16ac41b4",
   "metadata": {},
   "outputs": [],
   "source": [
    "self_reported_matrix = pd.read_pickle(UKBB_PATH+'processed_data/Clinical Feature Selection/self_reported_diagnosis_checkpoint_2.pkl')"
   ]
  },
  {
   "cell_type": "markdown",
   "id": "7a45a0de-2778-45ad-80c7-a9f87c37b05b",
   "metadata": {
    "tags": []
   },
   "source": [
    "## Cancer diagnoses"
   ]
  },
  {
   "cell_type": "code",
   "execution_count": 131,
   "id": "4c787058-6d63-42e4-ab54-4ac1f9385502",
   "metadata": {},
   "outputs": [],
   "source": [
    "cancer_codes = [column for column in df_fields['Field ID'] if '20001' in column]\n",
    "cancer_codes_date = [column for column in df_fields['Field ID'] if '20006' in column]"
   ]
  },
  {
   "cell_type": "code",
   "execution_count": 132,
   "id": "985255d8-c689-41a4-aee4-7b9506868f22",
   "metadata": {},
   "outputs": [
    {
     "name": "stdout",
     "output_type": "stream",
     "text": [
      "Preparing dataframe...\n"
     ]
    },
    {
     "name": "stderr",
     "output_type": "stream",
     "text": [
      "51it [08:28,  9.98s/it]                                                                               \n"
     ]
    }
   ],
   "source": [
    "df_cancer_data = get_dataframe_for_analysis(cancer_codes)"
   ]
  },
  {
   "cell_type": "code",
   "execution_count": 133,
   "id": "a3891270-8b4d-43d0-94f1-ee47a8948e0b",
   "metadata": {},
   "outputs": [
    {
     "name": "stdout",
     "output_type": "stream",
     "text": [
      "Preparing dataframe...\n"
     ]
    },
    {
     "name": "stderr",
     "output_type": "stream",
     "text": [
      "51it [08:40, 10.21s/it]                                                                               \n"
     ]
    }
   ],
   "source": [
    "df_cancer_data_dates = get_dataframe_for_analysis(cancer_codes_date)"
   ]
  },
  {
   "cell_type": "markdown",
   "id": "e660721b-315c-4eeb-a5c5-a20140e37c91",
   "metadata": {},
   "source": [
    "Excluding diagnoses that happened after 2010"
   ]
  },
  {
   "cell_type": "code",
   "execution_count": 67,
   "id": "482e38aa-fdb6-4ac1-950d-09e848423124",
   "metadata": {},
   "outputs": [
    {
     "name": "stderr",
     "output_type": "stream",
     "text": [
      "100%|███████████████████████████████████████████████████████| 452177/452177 [03:43<00:00, 2027.20it/s]\n"
     ]
    }
   ],
   "source": [
    "for i in tqdm(range(len(df_glaucoma_data))):\n",
    "    patient_all_dx = []\n",
    "    for code, diagnosis_year in zip(df_cancer_data.iloc[i], df_cancer_data_dates.iloc[i]):\n",
    "        if not diagnosis_year >= 2010:\n",
    "            patient_all_dx.append(code)\n",
    "        else:\n",
    "            patient_all_dx.append(np.nan)\n",
    "    df_cancer_data.iloc[i] = patient_all_dx"
   ]
  },
  {
   "cell_type": "code",
   "execution_count": 137,
   "id": "b05bd24b-f628-4f37-9c91-7093966f0a8f",
   "metadata": {},
   "outputs": [],
   "source": [
    "df_cancer_data.to_pickle(UKBB_PATH+'processed_data/Clinical Feature Selection/cancer_diagnosis_checkpoint_1.pkl')"
   ]
  },
  {
   "cell_type": "code",
   "execution_count": 138,
   "id": "a0256174-d3da-4991-a0bc-a1a7e20e5a45",
   "metadata": {},
   "outputs": [],
   "source": [
    "df_cancer_data = pd.read_pickle(UKBB_PATH+'processed_data/Clinical Feature Selection/cancer_diagnosis_checkpoint_1.pkl')"
   ]
  },
  {
   "cell_type": "code",
   "execution_count": 139,
   "id": "c1a60c99-4b42-438d-98fe-ab0d204d0063",
   "metadata": {},
   "outputs": [],
   "source": [
    "df_cancer_data.dropna(axis='columns', how='all', inplace=True)"
   ]
  },
  {
   "cell_type": "code",
   "execution_count": 140,
   "id": "3b8b82cf-c702-400c-819c-9a74c7f56e84",
   "metadata": {},
   "outputs": [
    {
     "name": "stderr",
     "output_type": "stream",
     "text": [
      "100%|█████████████████████████████████████████████████████████████████| 19/19 [00:00<00:00, 38.54it/s]\n"
     ]
    }
   ],
   "source": [
    "cancer_matrix = expand_matrix(df_cancer_data)"
   ]
  },
  {
   "cell_type": "code",
   "execution_count": 141,
   "id": "66acbb5e-2349-46ae-80fe-fcfe6329d90d",
   "metadata": {},
   "outputs": [],
   "source": [
    "cancer_matrix = np.ceil(cancer_matrix / 4)"
   ]
  },
  {
   "cell_type": "code",
   "execution_count": 142,
   "id": "d566742b-ddb2-44d5-8f61-10a9312df87c",
   "metadata": {},
   "outputs": [],
   "source": [
    "cancer_matrix.to_pickle(UKBB_PATH+'processed_data/Clinical Feature Selection/cancer_diagnosis_checkpoint_2.pkl')"
   ]
  },
  {
   "cell_type": "code",
   "execution_count": 30,
   "id": "3c537a35-87a2-4ecb-aeae-0202ebdc59bd",
   "metadata": {},
   "outputs": [],
   "source": [
    "cancer_matrix = pd.read_pickle(UKBB_PATH+'processed_data/Clinical Feature Selection/cancer_diagnosis_checkpoint_2.pkl')"
   ]
  },
  {
   "cell_type": "markdown",
   "id": "51ca2726-4d20-459d-9001-c80631633691",
   "metadata": {},
   "source": [
    "## Medications"
   ]
  },
  {
   "cell_type": "markdown",
   "id": "0e5458ad-0caa-48e1-8fd2-37e28c440403",
   "metadata": {},
   "source": [
    "Just get codes from initial assessment visit from 2006-2010"
   ]
  },
  {
   "cell_type": "code",
   "execution_count": 148,
   "id": "94a05c8c-d97d-4dce-b268-be956764489f",
   "metadata": {},
   "outputs": [],
   "source": [
    "med_codes = [column for column in df_fields['Field ID'] if '20003.0' in column]"
   ]
  },
  {
   "cell_type": "code",
   "execution_count": 150,
   "id": "f51ea65d-b84d-4d41-8dbb-181f9403e3a0",
   "metadata": {},
   "outputs": [
    {
     "name": "stdout",
     "output_type": "stream",
     "text": [
      "Preparing dataframe...\n"
     ]
    },
    {
     "name": "stderr",
     "output_type": "stream",
     "text": [
      "51it [07:07,  8.38s/it]                                                                               \n"
     ]
    }
   ],
   "source": [
    "df_med_data = get_dataframe_for_analysis(med_codes)"
   ]
  },
  {
   "cell_type": "code",
   "execution_count": 155,
   "id": "b9b074c7-4d55-46c6-aa62-5e586fbcd887",
   "metadata": {},
   "outputs": [],
   "source": [
    "df_med_data.to_pickle(UKBB_PATH+'processed_data/Clinical Feature Selection/meds_checkpoint_1.pkl')"
   ]
  },
  {
   "cell_type": "code",
   "execution_count": 156,
   "id": "209578e4-98a6-4ea3-b62f-ae95ee3900c1",
   "metadata": {},
   "outputs": [],
   "source": [
    "df_med_data = pd.read_pickle(UKBB_PATH+'processed_data/Clinical Feature Selection/meds_checkpoint_1.pkl')"
   ]
  },
  {
   "cell_type": "code",
   "execution_count": 157,
   "id": "1107f740-7c51-4b06-b728-7900663dd4d2",
   "metadata": {},
   "outputs": [
    {
     "name": "stderr",
     "output_type": "stream",
     "text": [
      "100%|█████████████████████████████████████████████████████████████████| 48/48 [00:46<00:00,  1.04it/s]\n"
     ]
    }
   ],
   "source": [
    "med_matrix = expand_matrix(df_med_data)"
   ]
  },
  {
   "cell_type": "code",
   "execution_count": 163,
   "id": "d30433bb-f95d-4f78-8688-272248b70d38",
   "metadata": {},
   "outputs": [],
   "source": [
    "med_matrix = np.ceil(med_matrix / len(med_codes))"
   ]
  },
  {
   "cell_type": "code",
   "execution_count": 166,
   "id": "12ab4735-13d6-45e0-ae60-95a4e1bd3157",
   "metadata": {},
   "outputs": [],
   "source": [
    "med_matrix.to_pickle(UKBB_PATH+'processed_data/Clinical Feature Selection/meds_checkpoint_2.pkl')"
   ]
  },
  {
   "cell_type": "code",
   "execution_count": 32,
   "id": "3a7eadeb-f7ea-4a64-aff8-e9d85453552b",
   "metadata": {},
   "outputs": [],
   "source": [
    "med_matrix = pd.read_pickle(UKBB_PATH+'processed_data/Clinical Feature Selection/meds_checkpoint_2.pkl')"
   ]
  },
  {
   "cell_type": "markdown",
   "id": "6b2f7e74-26f6-4a2d-995a-2c4fb579cfd7",
   "metadata": {
    "tags": []
   },
   "source": [
    "# Cleaning columns"
   ]
  },
  {
   "cell_type": "code",
   "execution_count": 121,
   "id": "7f7306a7-57e5-4bf4-9f5c-15f953732777",
   "metadata": {},
   "outputs": [
    {
     "name": "stdout",
     "output_type": "stream",
     "text": [
      "Preparing dataframe...\n"
     ]
    },
    {
     "name": "stderr",
     "output_type": "stream",
     "text": [
      "51it [23:33, 27.72s/it]                                                                                                       \n",
      "51it [00:56,  1.10s/it]                                                        \n"
     ]
    }
   ],
   "source": [
    "df_all_clinical_columns = get_dataframe_for_analysis(df_selected_fields['Field ID'].values)"
   ]
  },
  {
   "cell_type": "code",
   "execution_count": 125,
   "id": "0010a2fd-24e1-4ff7-ac7e-3eb36463867e",
   "metadata": {},
   "outputs": [],
   "source": [
    "df_all_clinical_columns = df_all_clinical_columns[df_all_clinical_columns.columns[1:]]"
   ]
  },
  {
   "cell_type": "code",
   "execution_count": 129,
   "id": "4864502b-6034-4ffa-8c41-a0fd7ca4a159",
   "metadata": {},
   "outputs": [],
   "source": [
    "df_all_clinical_columns.to_pickle(UKBB_PATH+'processed_data/Clinical Feature Selection/all_clinical_columns_raw.pkl')"
   ]
  },
  {
   "cell_type": "code",
   "execution_count": 27,
   "id": "00f21593-b9f2-4e39-8d63-49270d25c06c",
   "metadata": {},
   "outputs": [],
   "source": [
    "df_all_clinical_columns = pd.read_pickle(UKBB_PATH+'processed_data/Clinical Feature Selection/all_clinical_columns_raw.pkl')"
   ]
  },
  {
   "cell_type": "code",
   "execution_count": 15,
   "id": "00769702-b4e3-4dc4-9dfd-1ea07a5bead4",
   "metadata": {},
   "outputs": [],
   "source": [
    "def clean_numeric_column(column):\n",
    "    # Don't process things that aren't actually columns\n",
    "    if type(column) == pd.core.frame.DataFrame:\n",
    "        return clean_numeric_column(column.iloc[:,0])\n",
    "    # ensure all values are numeric -- or as many as possible\n",
    "    try:\n",
    "        col_numeric = column.astype(np.float32)\n",
    "    except:\n",
    "        col_replaced_numeric = []\n",
    "        for item in column:\n",
    "            try:\n",
    "                col_replaced_numeric.append(np.float32(item))\n",
    "            except:\n",
    "                col_replaced_numeric.append(np.nan)\n",
    "        col_numeric = pd.Series(col_replaced_numeric)\n",
    "    # deal with negative values\n",
    "    unique_negative_values = len(pd.Series([item for item in col_numeric if item < 0]).value_counts().keys())\n",
    "    col_cleaned = []\n",
    "    if unique_negative_values <= 5: # if there five or fewer unique negative values, remove them. This recognises cases where negative values are special markers\n",
    "        for value in col_numeric:\n",
    "            if value >= 0:\n",
    "                col_cleaned.append(value)\n",
    "            else:\n",
    "                col_cleaned.append(np.nan)\n",
    "        output = pd.Series(col_cleaned)\n",
    "    else:\n",
    "        output = col_numeric\n",
    "    output.name = column.name\n",
    "    #output.fillna(value=output.mean(),inplace=True)\n",
    "    return output"
   ]
  },
  {
   "cell_type": "code",
   "execution_count": 16,
   "id": "5a541143-3c01-4a0c-923b-36f2aa3b7c68",
   "metadata": {},
   "outputs": [],
   "source": [
    "def clean_categorical_column(column, dummies=True):\n",
    "    if dummies:\n",
    "        return clean_categorical_column_with_dummies(column)\n",
    "    else:\n",
    "        return clean_categorical_column_no_dummies(column)"
   ]
  },
  {
   "cell_type": "code",
   "execution_count": 17,
   "id": "bbbdd8b4-69aa-4511-b825-38fd3ec84b9e",
   "metadata": {},
   "outputs": [],
   "source": [
    "def clean_categorical_column_no_dummies(column):\n",
    "    # Don't process things that aren't actually columns\n",
    "    if type(column) == pd.core.frame.DataFrame:\n",
    "        return pd.DataFrame()\n",
    "    # replace all negative values with np.nan\n",
    "    no_neg_list = []\n",
    "    for item in column:\n",
    "        try:\n",
    "            if np.float64(item) < 0:\n",
    "                no_neg_list.append(np.nan)\n",
    "            else:\n",
    "                no_neg_list.append(item)\n",
    "        except:\n",
    "            no_neg_list.append(item)\n",
    "    output = pd.Series(no_neg_list)\n",
    "    # return empty dataframe if no values remain\n",
    "    if len(output.value_counts().keys()) == 0:\n",
    "        return pd.DataFrame()\n",
    "    output.name = column.name\n",
    "    #output.fillna(value=output.mode().values[0],inplace=True)\n",
    "    return output"
   ]
  },
  {
   "cell_type": "code",
   "execution_count": 18,
   "id": "587d78bc-d61f-4b10-9c7f-9cb8095f0582",
   "metadata": {},
   "outputs": [],
   "source": [
    "def clean_categorical_column_with_dummies(column):\n",
    "    # Don't process things that aren't actually columns\n",
    "    if type(column) == pd.core.frame.DataFrame:\n",
    "        return pd.DataFrame()\n",
    "    no_neg_list = []\n",
    "    for item in column:\n",
    "        try:\n",
    "            if np.float64(item) < 0:\n",
    "                no_neg_list.append(np.nan)\n",
    "            else:\n",
    "                no_neg_list.append(item)\n",
    "        except:\n",
    "            no_neg_list.append(item)\n",
    "    new_series = pd.Series(no_neg_list)\n",
    "    if len(new_series.value_counts().keys()) == 0:\n",
    "        return pd.DataFrame()\n",
    "    base_class = new_series.value_counts().keys()[0]\n",
    "    dummies = pd.get_dummies(new_series,prefix=column.name)#+'_'+str(base_class),dummy_na=True)\n",
    "    #dummies.drop(column.name+'_'+str(base_class)+'_'+str(base_class), axis=1, inplace=True)\n",
    "    return dummies"
   ]
  },
  {
   "cell_type": "code",
   "execution_count": 19,
   "id": "eca71e14-5ff2-4057-baa8-a5a89e9f1c18",
   "metadata": {},
   "outputs": [],
   "source": [
    "numeric_columns = [col for col in df_all_clinical_columns.columns if id_to_type[col] == 'Continuous' or id_to_type[col] == 'Integer']\n",
    "categorical_columns = [col for col in df_all_clinical_columns.columns if 'Categorical' in id_to_type[col]]"
   ]
  },
  {
   "cell_type": "code",
   "execution_count": 20,
   "id": "2fe6d152-145f-49a8-bb4c-564a3b7352c4",
   "metadata": {},
   "outputs": [
    {
     "name": "stderr",
     "output_type": "stream",
     "text": [
      "100%|███████████████████████████████████████████████████████████████████████████████████████████████████████████████████████████████████████████████████████████████████████| 923/923 [02:33<00:00,  6.00it/s]\n"
     ]
    }
   ],
   "source": [
    "processed_numeric_columns = [clean_numeric_column(df_all_clinical_columns[col]) for col in tqdm(numeric_columns)]"
   ]
  },
  {
   "cell_type": "code",
   "execution_count": 21,
   "id": "49e028ca-a782-4183-abca-ce12538e87a1",
   "metadata": {},
   "outputs": [
    {
     "name": "stderr",
     "output_type": "stream",
     "text": [
      "100%|█████████████████████████████████████████████████████████████████████████████████████████████████████████████████████████████████████████████████████████████████████| 1084/1084 [04:50<00:00,  3.73it/s]\n"
     ]
    }
   ],
   "source": [
    "processed_categorical_columns = [clean_categorical_column(df_all_clinical_columns[col]) for col in tqdm(categorical_columns)]"
   ]
  },
  {
   "cell_type": "code",
   "execution_count": 22,
   "id": "43696611-f28a-430b-9d66-7550c6739a6c",
   "metadata": {},
   "outputs": [],
   "source": [
    "# remove columns that only have NaN\n",
    "processed_categorical_columns = [col for col in processed_categorical_columns if len(col) != 0]"
   ]
  },
  {
   "cell_type": "code",
   "execution_count": 23,
   "id": "c2d5ae2a-22b3-4868-a606-6243e9c09190",
   "metadata": {},
   "outputs": [],
   "source": [
    "all_processed_columns = processed_numeric_columns + processed_categorical_columns\n",
    "df_processed = pd.concat(all_processed_columns, axis=1)"
   ]
  },
  {
   "cell_type": "code",
   "execution_count": 24,
   "id": "8ad3f14f-6101-438f-9118-c56cbfbfa530",
   "metadata": {},
   "outputs": [],
   "source": [
    "# remove remaining non-numeric columns\n",
    "cols_to_retain = []\n",
    "for col in df_processed.columns:\n",
    "    if df_processed.dtypes[col] == np.float64 or df_processed.dtypes[col] == np.float32  or df_processed.dtypes[col] == np.uint8:\n",
    "        cols_to_retain.append(col)\n",
    "df_processed = df_processed[cols_to_retain].copy()"
   ]
  },
  {
   "cell_type": "code",
   "execution_count": 26,
   "id": "a4e96e90-4b11-442b-94f2-22a3d2327533",
   "metadata": {},
   "outputs": [],
   "source": [
    "df_processed.to_pickle(UKBB_PATH+'processed_data/Clinical Feature Selection/processed_data_checkpoint_with_dummies.pkl')"
   ]
  },
  {
   "cell_type": "code",
   "execution_count": 27,
   "id": "2235e2b6-6455-4d2c-b57c-b93cef58eb35",
   "metadata": {},
   "outputs": [],
   "source": [
    "df_processed = pd.read_pickle(UKBB_PATH+'processed_data/Clinical Feature Selection/processed_data_checkpoint_with_dummies.pkl')"
   ]
  },
  {
   "cell_type": "markdown",
   "id": "a5340a8b-8f5e-432e-bc17-7155ce9fd4f3",
   "metadata": {},
   "source": [
    "Convert to sparse..."
   ]
  },
  {
   "cell_type": "code",
   "execution_count": 28,
   "id": "1d6045cf-4434-44e7-8b02-852c4d1f0fc4",
   "metadata": {},
   "outputs": [],
   "source": [
    "colnames = df_processed.columns"
   ]
  },
  {
   "cell_type": "code",
   "execution_count": 29,
   "id": "946a5650-3ad9-47c0-a653-0cf9a5e79e01",
   "metadata": {},
   "outputs": [],
   "source": [
    "df_processed = pd.DataFrame.sparse.from_spmatrix(scipy.sparse.coo_matrix(df_processed))\n",
    "df_processed.columns = colnames"
   ]
  },
  {
   "cell_type": "code",
   "execution_count": 30,
   "id": "2741330b-f98e-42a8-bcf6-18ad857a2550",
   "metadata": {},
   "outputs": [],
   "source": [
    "df_processed.to_pickle(UKBB_PATH+'processed_data/Clinical Feature Selection/processed_data_checkpoint_2_with_dummies.pkl')"
   ]
  },
  {
   "cell_type": "code",
   "execution_count": 34,
   "id": "3cf7bfac-288c-4ed0-82a2-000e17cf2d3e",
   "metadata": {},
   "outputs": [],
   "source": [
    "df_processed = pd.read_pickle(UKBB_PATH+'processed_data/Clinical Feature Selection/processed_data_checkpoint_2_with_dummies.pkl')"
   ]
  },
  {
   "cell_type": "markdown",
   "id": "62f92e2f-7063-4698-97d0-b843ac7596a8",
   "metadata": {
    "tags": []
   },
   "source": [
    "# Merge matrices"
   ]
  },
  {
   "cell_type": "code",
   "execution_count": null,
   "id": "f2f107c9-4aa2-400b-be66-7261664ba279",
   "metadata": {},
   "outputs": [],
   "source": [
    "df_processed = pd.read_pickle(UKBB_PATH+'processed_data/Clinical Feature Selection/processed_data_checkpoint_2_with_dummies.pkl')\n",
    "df_glaucoma_data = pd.read_pickle(UKBB_PATH+'processed_data/Clinical Feature Selection/glaucoma_data_checkpoint.pkl')\n",
    "df_date_data = pd.read_pickle(UKBB_PATH+'processed_data/Clinical Feature Selection/date_data_checkpoint.pkl')\n",
    "med_matrix = pd.read_pickle(UKBB_PATH+'processed_data/Clinical Feature Selection/meds_checkpoint_2.pkl')\n",
    "cancer_matrix = pd.read_pickle(UKBB_PATH+'processed_data/Clinical Feature Selection/cancer_diagnosis_checkpoint_2.pkl')\n",
    "self_reported_matrix = pd.read_pickle(UKBB_PATH+'processed_data/Clinical Feature Selection/self_reported_diagnosis_checkpoint_2.pkl')\n",
    "icd_10_matrix = pd.read_pickle(UKBB_PATH+'processed_data/Clinical Feature Selection/icd10_checkpoint_2.pkl')\n",
    "df_all_clinical_columns = pd.read_pickle(UKBB_PATH+'processed_data/Clinical Feature Selection/all_clinical_columns_raw.pkl')\n",
    "df_diagnoses = pd.read_pickle(UKBB_PATH+'processed_data/Clinical Feature Selection/icd10_checkpoint_1.pkl')"
   ]
  },
  {
   "cell_type": "markdown",
   "id": "5fd31f47-8694-4b50-bd21-0f4fd197f00b",
   "metadata": {},
   "source": [
    "Prefix the column names of the matrices"
   ]
  },
  {
   "cell_type": "code",
   "execution_count": 57,
   "id": "ae69097b-22da-42b2-b086-d313686a9433",
   "metadata": {},
   "outputs": [],
   "source": [
    "matrix_names = ['ICD_10_', 'Self_Report_', 'Cancer_', 'Med_']\n",
    "matrices = [icd_10_matrix, self_reported_matrix, cancer_matrix, med_matrix]\n",
    "\n",
    "for matrix_name, matrix in zip(matrix_names, matrices):\n",
    "    new_col_names = []\n",
    "    for col in matrix.columns:\n",
    "        new_col_names.append(matrix_name+str(col))\n",
    "    matrix.columns = new_col_names"
   ]
  },
  {
   "cell_type": "markdown",
   "id": "3b546057-8388-4829-a9c8-bc23ea1a1fe7",
   "metadata": {},
   "source": [
    "Remove columns with less than 30 positive results"
   ]
  },
  {
   "cell_type": "code",
   "execution_count": 58,
   "id": "afb09e01-90c9-4869-829c-5ed9596e129d",
   "metadata": {},
   "outputs": [],
   "source": [
    "for i in range(len(matrix_names)):\n",
    "    cols_to_keep = []\n",
    "    for col in matrices[i].columns:\n",
    "        if matrices[i][col].value_counts()[1.0] > 30:\n",
    "            cols_to_keep.append(col)\n",
    "    matrices[i] = matrices[i][cols_to_keep]"
   ]
  },
  {
   "cell_type": "markdown",
   "id": "abfd14fb-4656-4e24-8330-d817f2562c74",
   "metadata": {},
   "source": [
    "Combine matrices"
   ]
  },
  {
   "cell_type": "code",
   "execution_count": 59,
   "id": "e5d0a496-da21-46aa-9873-0cd97a095987",
   "metadata": {},
   "outputs": [],
   "source": [
    "combined_sparse_matrix = pd.concat(matrices,axis=1)\n",
    "combined_matrix = pd.concat([df_processed,combined_sparse_matrix],axis=1)"
   ]
  },
  {
   "cell_type": "markdown",
   "id": "9a4b880f-76eb-49e3-915b-1f692f91d117",
   "metadata": {},
   "source": [
    "## Remove predictors significantly correlated with endpoints"
   ]
  },
  {
   "cell_type": "markdown",
   "id": "5b501344-58e1-4ed0-b693-7ecccfd4c41a",
   "metadata": {},
   "source": [
    "Glacuoma-related columns:"
   ]
  },
  {
   "cell_type": "code",
   "execution_count": 60,
   "id": "dd89ee20-6645-42fc-b754-45352d5d06fd",
   "metadata": {},
   "outputs": [],
   "source": [
    "icd_glaucoma_columns = [col for col in combined_sparse_matrix.columns if 'ICD_10_H40' in col]\n",
    "self_reported_glaucoma_column = ['Self_Report_1277.0']\n",
    "eye_problem_columns = [column for column in combined_matrix.columns if 'f.6148.0.0' in column] + [column for column in combined_matrix.columns if 'f.2227.0.0' in column]"
   ]
  },
  {
   "cell_type": "markdown",
   "id": "5e90532d-891d-4bb3-a4d0-73127ebb03f5",
   "metadata": {},
   "source": [
    "IOP-related columns:"
   ]
  },
  {
   "cell_type": "code",
   "execution_count": 61,
   "id": "19258d56-5817-4f42-8c10-fed0b4ba5ae2",
   "metadata": {},
   "outputs": [],
   "source": [
    "iop_columns = ['f.5263.0.0','f.5262.0.0','f.5254.0.0','f.5255.0.0']"
   ]
  },
  {
   "cell_type": "code",
   "execution_count": 62,
   "id": "b5dff672-b52c-4eb4-92e9-5f00b577faec",
   "metadata": {},
   "outputs": [],
   "source": [
    "columns_to_remove = icd_glaucoma_columns + self_reported_glaucoma_column + eye_problem_columns + iop_columns"
   ]
  },
  {
   "cell_type": "code",
   "execution_count": 63,
   "id": "6d2651ef-b969-45a2-afa9-3ce16281a640",
   "metadata": {},
   "outputs": [],
   "source": [
    "combined_matrix.drop(columns_to_remove,axis=1,inplace=True)"
   ]
  },
  {
   "cell_type": "markdown",
   "id": "4592670d-a651-4840-a3aa-ac4e174362cb",
   "metadata": {
    "tags": []
   },
   "source": [
    "# Filtering the training population"
   ]
  },
  {
   "cell_type": "markdown",
   "id": "f2ba7adf-8b2d-4b06-8fff-d5ff56396a31",
   "metadata": {},
   "source": [
    "Keep participants who:\n",
    "- have no glacouma diagnosis\n",
    "- have a glaucoma diagnosis only if the diagnosis is dated after 2010\n",
    "- (and keep only participants who have at least one hospital ICD10 code)"
   ]
  },
  {
   "cell_type": "code",
   "execution_count": 76,
   "id": "f9a8376f-2e89-4552-b33e-2ea0e6c8dfa5",
   "metadata": {},
   "outputs": [],
   "source": [
    "icd_10_date_cols = [col for col in df_date_data.columns if '41280' in col]\n",
    "df_date_data = df_date_data[icd_10_date_cols]"
   ]
  },
  {
   "cell_type": "code",
   "execution_count": 88,
   "id": "8ed58f34-5ab4-4632-84ea-79d3f6bb1b46",
   "metadata": {},
   "outputs": [],
   "source": [
    "df_any_diagnosis_before_2010 = pd.DataFrame()"
   ]
  },
  {
   "cell_type": "code",
   "execution_count": 89,
   "id": "600d5a73-8ebd-4b79-8552-e93d1f575136",
   "metadata": {},
   "outputs": [],
   "source": [
    "for col in df_date_data.columns:\n",
    "    df_any_diagnosis_before_2010[col] = df_date_data[col].apply(lambda x: int(str(x)[:4]) <= 2010 if not pd.isna(x) else False)"
   ]
  },
  {
   "cell_type": "code",
   "execution_count": 94,
   "id": "092c3eaf-b0c1-439e-bd8b-39a638962efb",
   "metadata": {},
   "outputs": [
    {
     "name": "stderr",
     "output_type": "stream",
     "text": [
      "100%|███████████████████████████████████████████████████████████████████████████████████████████████████████████████████████████████████████████████████████████████| 452177/452177 [03:38<00:00, 2066.20it/s]\n"
     ]
    }
   ],
   "source": [
    "any_diag_before_2010 = []\n",
    "for i in tqdm(range(len(df_any_diagnosis_before_2010))):\n",
    "    any_diag_before_2010.append(True in df_any_diagnosis_before_2010.iloc[i].values)"
   ]
  },
  {
   "cell_type": "code",
   "execution_count": 111,
   "id": "4a062a45-bd83-45a3-80a2-af40563ce40f",
   "metadata": {},
   "outputs": [],
   "source": [
    "filter_series = (~df_glaucoma_data['Total Glaucoma'] | (df_glaucoma_data['Diagnosis Year'] > 2010)) & (pd.Series(any_diag_before_2010))"
   ]
  },
  {
   "cell_type": "code",
   "execution_count": 112,
   "id": "9eb18e8d-98af-4354-9579-08fb8fdd7967",
   "metadata": {},
   "outputs": [],
   "source": [
    "filtered_matrix = combined_matrix[filter_series].copy()\n",
    "filtered_matrix.reset_index(drop=True,inplace=True)"
   ]
  },
  {
   "cell_type": "markdown",
   "id": "b57056d5-d939-4fba-adb4-025b1243182c",
   "metadata": {},
   "source": [
    "Endpoint 1: glaucoma diagnosis"
   ]
  },
  {
   "cell_type": "code",
   "execution_count": 113,
   "id": "1c0d2f14-0f22-460e-8d03-8e3d65903ce5",
   "metadata": {},
   "outputs": [],
   "source": [
    "glaucoma_diagnosis = df_glaucoma_data[filter_series]['Total Glaucoma'].copy()\n",
    "glaucoma_diagnosis.reset_index(drop=True,inplace=True)\n",
    "glaucoma_diagnosis = glaucoma_diagnosis.apply(lambda x: 1 if x else 0)"
   ]
  },
  {
   "cell_type": "markdown",
   "id": "3fb4dc06-8581-40cb-a8cc-ba204c45cfb9",
   "metadata": {},
   "source": [
    "Endpoint 2: IOP"
   ]
  },
  {
   "cell_type": "code",
   "execution_count": 114,
   "id": "88af6486-0574-4689-bae9-4a0c27af97d3",
   "metadata": {},
   "outputs": [],
   "source": [
    "df_iop = df_all_clinical_columns[['f.5262.0.0','f.5264.0.0']]\n",
    "df_iop_filtered = df_iop[filter_series].copy()\n",
    "df_iop_filtered.reset_index(drop=True,inplace=True)"
   ]
  },
  {
   "cell_type": "code",
   "execution_count": 115,
   "id": "1de7d03f-ad2b-42bb-bc16-da0863c1750a",
   "metadata": {},
   "outputs": [],
   "source": [
    "filtered_matrix.to_pickle(UKBB_PATH+'processed_data/Clinical Feature Selection/filtered_matrix_checkpoint_with_dummies.pkl')"
   ]
  },
  {
   "cell_type": "code",
   "execution_count": 116,
   "id": "79679a09-6675-4864-b4d0-21ab112d2bbc",
   "metadata": {},
   "outputs": [],
   "source": [
    "glaucoma_diagnosis.to_pickle(UKBB_PATH+'processed_data/Clinical Feature Selection/glaucoma_diagnosis_checkpoint.pkl')"
   ]
  },
  {
   "cell_type": "code",
   "execution_count": 117,
   "id": "d3418771-3538-40c6-bc64-b87e3486aee2",
   "metadata": {},
   "outputs": [],
   "source": [
    "df_iop_filtered.to_pickle(UKBB_PATH+'processed_data/Clinical Feature Selection/iop_checkpoint.pkl')"
   ]
  },
  {
   "cell_type": "markdown",
   "id": "5797959c-c764-46a7-bbb2-4e9679ad9d0c",
   "metadata": {},
   "source": [
    "# Mann-Whitney u filtering"
   ]
  },
  {
   "cell_type": "code",
   "execution_count": 3,
   "id": "e9579f7c-b053-41fc-9a92-7d2cd7c455fd",
   "metadata": {},
   "outputs": [],
   "source": [
    "filtered_matrix = pd.read_pickle(UKBB_PATH+'processed_data/Clinical Feature Selection/filtered_matrix_checkpoint_with_dummies.pkl')"
   ]
  },
  {
   "cell_type": "code",
   "execution_count": 8,
   "id": "a499896d-6a98-4492-b9d5-bcc9c3a1aad7",
   "metadata": {},
   "outputs": [],
   "source": [
    "glaucoma_diagnosis = pd.read_pickle(UKBB_PATH+'processed_data/Clinical Feature Selection/glaucoma_diagnosis_checkpoint.pkl')"
   ]
  },
  {
   "cell_type": "code",
   "execution_count": 9,
   "id": "8f9ab36f-e536-4cc4-8ee1-6ade76af8f9b",
   "metadata": {},
   "outputs": [
    {
     "data": {
      "text/plain": [
       "0    296418\n",
       "1      4255\n",
       "Name: Total Glaucoma, dtype: int64"
      ]
     },
     "execution_count": 9,
     "metadata": {},
     "output_type": "execute_result"
    }
   ],
   "source": [
    "glaucoma_diagnosis.value_counts()"
   ]
  },
  {
   "cell_type": "code",
   "execution_count": 95,
   "id": "6efc734a-dd1d-46cc-ac6a-53280d738fc1",
   "metadata": {},
   "outputs": [],
   "source": [
    "glaucoma_matrix = filtered_matrix[glaucoma_diagnosis == 1]\n",
    "non_glaucoma_matrix = filtered_matrix[glaucoma_diagnosis == 0]"
   ]
  },
  {
   "cell_type": "code",
   "execution_count": 17,
   "id": "5144ff8d-b313-460c-a1ba-7db83925fc08",
   "metadata": {},
   "outputs": [],
   "source": [
    "mann_whitney_fields = [field for field in filtered_matrix.columns if field in df_fields['Field ID'].values]\n",
    "chi_square_fields = [field for field in filtered_matrix.columns if not field in df_fields['Field ID'].values]"
   ]
  },
  {
   "cell_type": "code",
   "execution_count": 18,
   "id": "0f208115-830e-4d14-82e2-3129e322dbe7",
   "metadata": {},
   "outputs": [],
   "source": [
    "def get_value(col, matrix, index):\n",
    "    if index in matrix[col].value_counts().keys():\n",
    "        value = matrix[col].value_counts()[index]\n",
    "    else:\n",
    "        value = 0\n",
    "    return value"
   ]
  },
  {
   "cell_type": "code",
   "execution_count": 19,
   "id": "ad81fc6a-d9c5-4a12-a89b-fe63e95a1d67",
   "metadata": {},
   "outputs": [
    {
     "name": "stderr",
     "output_type": "stream",
     "text": [
      "100%|███████████████████████████████████████████████████████████████████████████████████████████████████████████████████████████████████████████████████████████████████| 10071/10071 [01:48<00:00, 93.18it/s]\n"
     ]
    }
   ],
   "source": [
    "p_values = []\n",
    "for col in tqdm(filtered_matrix.columns):\n",
    "    if col in mann_whitney_fields:\n",
    "        glauc = glaucoma_matrix[col].dropna().values\n",
    "        non_glauc = non_glaucoma_matrix[col].dropna().values\n",
    "        if len(glauc) == 0 or len(non_glauc) == 0:\n",
    "            p_values.append(np.nan)\n",
    "        else:\n",
    "            p_values.append(scipy.stats.mannwhitneyu(glauc, non_glauc)[1])\n",
    "    else:\n",
    "        try:\n",
    "            p_value = scipy.stats.chi2_contingency([[get_value(col, glaucoma_matrix, 0), get_value(col, glaucoma_matrix, 1)],[get_value(col, non_glaucoma_matrix, 0), get_value(col, non_glaucoma_matrix, 1)]])[1]\n",
    "            p_values.append(p_value)\n",
    "        except:\n",
    "            p_values.append(np.nan)"
   ]
  },
  {
   "cell_type": "code",
   "execution_count": 22,
   "id": "8d6729f2-465b-4b00-a23b-a91001051cd8",
   "metadata": {},
   "outputs": [],
   "source": [
    "significant_results = statsmodels.stats.multitest.multipletests(p_values, alpha=0.2, method='fdr_by')[0]"
   ]
  },
  {
   "cell_type": "code",
   "execution_count": 23,
   "id": "81bc214e-63f4-4e34-b22d-3e8e0ba2e862",
   "metadata": {},
   "outputs": [],
   "source": [
    "cols_to_keep = filtered_matrix.columns[significant_results]"
   ]
  },
  {
   "cell_type": "code",
   "execution_count": 24,
   "id": "e05d25b2-24ec-4df3-a45d-dbc099bd5fe6",
   "metadata": {},
   "outputs": [],
   "source": [
    "filtered_matrix_significant_columns = filtered_matrix[cols_to_keep].copy()"
   ]
  },
  {
   "cell_type": "code",
   "execution_count": 26,
   "id": "5d7ac787-8cab-497a-8948-a075eef6b320",
   "metadata": {},
   "outputs": [],
   "source": [
    "filtered_matrix_significant_columns.to_pickle(UKBB_PATH+'processed_data/Clinical Feature Selection/filtered_matrix_pre_imputation_checkpoint.pkl')"
   ]
  },
  {
   "cell_type": "markdown",
   "id": "aed1c476-09bc-4adb-876d-a3a13306e148",
   "metadata": {},
   "source": [
    "# Imputation"
   ]
  },
  {
   "cell_type": "code",
   "execution_count": 5,
   "id": "2a726648-c35c-413f-810d-9619ef35a4d7",
   "metadata": {},
   "outputs": [],
   "source": [
    "filtered_matrix_significant_columns = pd.read_pickle(UKBB_PATH+'processed_data/Clinical Feature Selection/filtered_matrix_pre_imputation_checkpoint.pkl')"
   ]
  },
  {
   "cell_type": "markdown",
   "id": "0723a29f-4890-4906-9434-f810ec5c894a",
   "metadata": {},
   "source": [
    "Simple Imputer"
   ]
  },
  {
   "cell_type": "code",
   "execution_count": 28,
   "id": "3f55fc32-bcba-4d44-81c5-c81159e10541",
   "metadata": {},
   "outputs": [],
   "source": [
    "from sklearn.impute import SimpleImputer"
   ]
  },
  {
   "cell_type": "code",
   "execution_count": 29,
   "id": "2215953c-66e5-4745-a7f0-cb0fa5320444",
   "metadata": {},
   "outputs": [],
   "source": [
    "smp_imputer = SimpleImputer(strategy='mean',verbose=2)"
   ]
  },
  {
   "cell_type": "code",
   "execution_count": 30,
   "id": "201614b9-e26a-4e0a-892a-b939d068834f",
   "metadata": {},
   "outputs": [
    {
     "name": "stdout",
     "output_type": "stream",
     "text": [
      "5.713629484176636\n"
     ]
    }
   ],
   "source": [
    "t0 = time.time()\n",
    "smp_imputer.fit(filtered_matrix_significant_columns)\n",
    "print(time.time() - t0)"
   ]
  },
  {
   "cell_type": "code",
   "execution_count": 31,
   "id": "b4588bfb-8a03-4841-971a-836acc4e7296",
   "metadata": {},
   "outputs": [
    {
     "name": "stdout",
     "output_type": "stream",
     "text": [
      "6.082390308380127\n"
     ]
    }
   ],
   "source": [
    "t0 = time.time()\n",
    "imputed_significant_columns = pd.DataFrame.sparse.from_spmatrix(smp_imputer.transform(filtered_matrix_significant_columns), columns=filtered_matrix_significant_columns.columns)\n",
    "print(time.time() - t0)"
   ]
  },
  {
   "cell_type": "code",
   "execution_count": 32,
   "id": "7e6d7e32-8050-4596-857a-498395f0251f",
   "metadata": {},
   "outputs": [],
   "source": [
    "imputed_significant_columns.to_pickle(UKBB_PATH+'processed_data/Clinical Feature Selection/filtered_matrix_post_imputation_checkpoint.pkl')"
   ]
  },
  {
   "cell_type": "markdown",
   "id": "fe45d888-71bf-49b5-9740-f4262612bdf9",
   "metadata": {
    "tags": []
   },
   "source": [
    "# Random forests model for glaucoma"
   ]
  },
  {
   "cell_type": "markdown",
   "id": "ad874c09-eb93-47c5-b4b9-72eaf96a7918",
   "metadata": {},
   "source": [
    "## Age only model"
   ]
  },
  {
   "cell_type": "code",
   "execution_count": 202,
   "id": "9dec5c97-bbb3-48c5-aa47-a05a8d31c19b",
   "metadata": {},
   "outputs": [],
   "source": [
    "age_clf = RandomForestClassifier(class_weight='balanced',max_depth=10, random_state=42)"
   ]
  },
  {
   "cell_type": "code",
   "execution_count": 203,
   "id": "d38ecc3f-798e-4d8c-9f4c-ef002f235eb6",
   "metadata": {},
   "outputs": [],
   "source": [
    "X_train = pd.read_pickle(UKBB_PATH+'processed_data/Clinical Feature Selection/train_set_all_columns.pkl')\n",
    "X_val = pd.read_pickle(UKBB_PATH+'processed_data/Clinical Feature Selection/val_set_all_columns.pkl')"
   ]
  },
  {
   "cell_type": "code",
   "execution_count": 204,
   "id": "15afd711-29b8-422e-98f6-a339a245b235",
   "metadata": {},
   "outputs": [
    {
     "name": "stdout",
     "output_type": "stream",
     "text": [
      "16.687697649002075\n"
     ]
    }
   ],
   "source": [
    "t0 = time.time()\n",
    "age_clf.fit(X_train[['f.34.0.0']],y_train)\n",
    "print(time.time() - t0)"
   ]
  },
  {
   "cell_type": "code",
   "execution_count": 206,
   "id": "ed5491b4-9d9d-4fd9-9386-545091ed8535",
   "metadata": {},
   "outputs": [],
   "source": [
    "y_train_pred_proba = age_clf.predict_proba(X_train[['f.34.0.0']])"
   ]
  },
  {
   "cell_type": "code",
   "execution_count": 207,
   "id": "2cc664b0-3d6a-4765-bc4d-9c7c9860bfd7",
   "metadata": {},
   "outputs": [
    {
     "data": {
      "text/plain": [
       "0.9857282755307551"
      ]
     },
     "execution_count": 207,
     "metadata": {},
     "output_type": "execute_result"
    }
   ],
   "source": [
    "accuracy_score(y_train,(y_train_pred_proba[:,1] > 0.9).astype(int))"
   ]
  },
  {
   "cell_type": "code",
   "execution_count": 208,
   "id": "6ea5ddec-f810-4af2-b662-842d2ed00f20",
   "metadata": {},
   "outputs": [
    {
     "data": {
      "text/plain": [
       "0.6767978904386627"
      ]
     },
     "execution_count": 208,
     "metadata": {},
     "output_type": "execute_result"
    }
   ],
   "source": [
    "roc_auc_score(y_train,y_train_pred_proba[:,1])"
   ]
  },
  {
   "cell_type": "code",
   "execution_count": 209,
   "id": "cc107f23-928b-4cc9-8632-24a5e72a984c",
   "metadata": {},
   "outputs": [],
   "source": [
    "y_val_pred_proba = age_clf.predict_proba(X_val[['f.34.0.0']])"
   ]
  },
  {
   "cell_type": "code",
   "execution_count": 210,
   "id": "93b0d199-bda3-4b47-b010-1b3a613e08f9",
   "metadata": {},
   "outputs": [
    {
     "data": {
      "text/plain": [
       "0.9869296261806572"
      ]
     },
     "execution_count": 210,
     "metadata": {},
     "output_type": "execute_result"
    }
   ],
   "source": [
    "accuracy_score(y_val,(y_val_pred_proba[:,1] > 0.9).astype(int))"
   ]
  },
  {
   "cell_type": "code",
   "execution_count": 211,
   "id": "323dfec7-5a35-4dbc-bb8c-35a861dedd97",
   "metadata": {},
   "outputs": [
    {
     "data": {
      "text/plain": [
       "0.6925902536168972"
      ]
     },
     "execution_count": 211,
     "metadata": {},
     "output_type": "execute_result"
    }
   ],
   "source": [
    "roc_auc_score(y_val,y_val_pred_proba[:,1])"
   ]
  },
  {
   "cell_type": "markdown",
   "id": "02916050-f7d2-46bc-88ff-3348d808b6a2",
   "metadata": {
    "tags": []
   },
   "source": [
    "## Initial model"
   ]
  },
  {
   "cell_type": "code",
   "execution_count": 14,
   "id": "12afc597-0ede-4e73-bacb-559e18c1b3f4",
   "metadata": {},
   "outputs": [],
   "source": [
    "imputed_matrix = pd.read_pickle(UKBB_PATH+'processed_data/Clinical Feature Selection/filtered_matrix_post_imputation_checkpoint.pkl')"
   ]
  },
  {
   "cell_type": "code",
   "execution_count": 106,
   "id": "47459b1a-73f3-4ac1-be82-572e7371b2e7",
   "metadata": {},
   "outputs": [],
   "source": [
    "int_train_idx, int_val_idx = train_test_split(range(len(imputed_matrix)),random_state=TEST_SET_RANDOM_SPLIT, test_size=0.1)"
   ]
  },
  {
   "cell_type": "code",
   "execution_count": 16,
   "id": "0250c387-d8a0-4935-8c24-adf1d1542631",
   "metadata": {},
   "outputs": [],
   "source": [
    "X_train = imputed_matrix.iloc[int_train_idx].copy().reset_index(drop=True)\n",
    "X_val = imputed_matrix.iloc[int_val_idx].copy().reset_index(drop=True)"
   ]
  },
  {
   "cell_type": "code",
   "execution_count": 17,
   "id": "6cc0598a-7299-48c2-8c2a-31b842a2d534",
   "metadata": {},
   "outputs": [],
   "source": [
    "X_train.to_pickle(UKBB_PATH+'processed_data/Clinical Feature Selection/train_set_all_columns.pkl')\n",
    "X_val.to_pickle(UKBB_PATH+'processed_data/Clinical Feature Selection/val_set_all_columns.pkl')"
   ]
  },
  {
   "cell_type": "code",
   "execution_count": 53,
   "id": "b45028a1-7266-40d6-b9ec-921ebf8c6160",
   "metadata": {},
   "outputs": [],
   "source": [
    "X_train = pd.read_pickle(UKBB_PATH+'processed_data/Clinical Feature Selection/train_set_all_columns.pkl')\n",
    "X_val = pd.read_pickle(UKBB_PATH+'processed_data/Clinical Feature Selection/val_set_all_columns.pkl')"
   ]
  },
  {
   "cell_type": "code",
   "execution_count": 19,
   "id": "e56913f3-9c83-4418-ba45-9b4daef166ae",
   "metadata": {},
   "outputs": [],
   "source": [
    "glaucoma_diagnosis = pd.read_pickle(UKBB_PATH+'processed_data/Clinical Feature Selection/glaucoma_diagnosis_checkpoint.pkl')"
   ]
  },
  {
   "cell_type": "code",
   "execution_count": 20,
   "id": "c0071953-2c6e-46d5-bbbc-9d387f6a408a",
   "metadata": {},
   "outputs": [],
   "source": [
    "y_train = glaucoma_diagnosis.iloc[int_train_idx].copy().reset_index(drop=True)\n",
    "y_val = glaucoma_diagnosis.iloc[int_val_idx].copy().reset_index(drop=True)"
   ]
  },
  {
   "cell_type": "code",
   "execution_count": 21,
   "id": "3c4c885e-0d23-46e2-86dc-5cbd327a0183",
   "metadata": {},
   "outputs": [],
   "source": [
    "forest_clf = RandomForestClassifier(class_weight='balanced',max_depth=10, random_state=42)"
   ]
  },
  {
   "cell_type": "code",
   "execution_count": 22,
   "id": "d6efeafa-0084-45f4-a155-c4baeb72562f",
   "metadata": {},
   "outputs": [
    {
     "name": "stdout",
     "output_type": "stream",
     "text": [
      "254.37706351280212\n"
     ]
    }
   ],
   "source": [
    "t0 = time.time()\n",
    "forest_clf.fit(X_train,y_train)\n",
    "print(time.time() - t0)"
   ]
  },
  {
   "cell_type": "markdown",
   "id": "51ebbdec-6b3e-4d5b-8e57-a7aaf688bc25",
   "metadata": {
    "tags": []
   },
   "source": [
    "## Validate model"
   ]
  },
  {
   "cell_type": "markdown",
   "id": "12d68130-aa47-4182-8228-108c5385140e",
   "metadata": {},
   "source": [
    "Train set"
   ]
  },
  {
   "cell_type": "code",
   "execution_count": 23,
   "id": "99d2a98a-c485-4ecc-8043-87f1f11d7f6c",
   "metadata": {},
   "outputs": [],
   "source": [
    "y_train_pred_proba = forest_clf.predict_proba(X_train)"
   ]
  },
  {
   "cell_type": "code",
   "execution_count": 24,
   "id": "34512fab-2d79-42da-9e92-580358d5e58e",
   "metadata": {},
   "outputs": [
    {
     "data": {
      "text/plain": [
       "0.9857282755307551"
      ]
     },
     "execution_count": 24,
     "metadata": {},
     "output_type": "execute_result"
    }
   ],
   "source": [
    "accuracy_score(y_train,(y_train_pred_proba[:,1] > 0.9).astype(int))"
   ]
  },
  {
   "cell_type": "code",
   "execution_count": 25,
   "id": "f99e6a80-b488-4352-b8fb-ab4b43bfdb2f",
   "metadata": {},
   "outputs": [
    {
     "data": {
      "text/plain": [
       "0.8414426112886657"
      ]
     },
     "execution_count": 25,
     "metadata": {},
     "output_type": "execute_result"
    }
   ],
   "source": [
    "roc_auc_score(y_train,y_train_pred_proba[:,1])"
   ]
  },
  {
   "cell_type": "markdown",
   "id": "32791185-664c-41b3-9473-8c3fba1e7d0f",
   "metadata": {},
   "source": [
    "Val set"
   ]
  },
  {
   "cell_type": "code",
   "execution_count": 26,
   "id": "c5e98993-619f-4c52-8138-5bc152c7c62c",
   "metadata": {},
   "outputs": [],
   "source": [
    "y_val_pred_proba = forest_clf.predict_proba(X_val)"
   ]
  },
  {
   "cell_type": "code",
   "execution_count": 27,
   "id": "2a847c67-1a5e-4d68-9fcb-6e69e58159dd",
   "metadata": {},
   "outputs": [
    {
     "data": {
      "text/plain": [
       "0.9869296261806572"
      ]
     },
     "execution_count": 27,
     "metadata": {},
     "output_type": "execute_result"
    }
   ],
   "source": [
    "accuracy_score(y_val,(y_val_pred_proba[:,1] > 0.9).astype(int))"
   ]
  },
  {
   "cell_type": "code",
   "execution_count": 28,
   "id": "57ab7b06-0fa8-4d84-a8e5-f71981944512",
   "metadata": {},
   "outputs": [
    {
     "data": {
      "text/plain": [
       "0.7268452338844694"
      ]
     },
     "execution_count": 28,
     "metadata": {},
     "output_type": "execute_result"
    }
   ],
   "source": [
    "roc_auc_score(y_val,y_val_pred_proba[:,1])"
   ]
  },
  {
   "cell_type": "code",
   "execution_count": 46,
   "id": "c522fe1d-7249-45c2-abf8-70738e33f238",
   "metadata": {},
   "outputs": [
    {
     "data": {
      "text/plain": [
       "['../glaucoma_project/Models/forest_clf_1.joblib']"
      ]
     },
     "execution_count": 46,
     "metadata": {},
     "output_type": "execute_result"
    }
   ],
   "source": [
    "dump(forest_clf,'../glaucoma_project/Models/forest_clf_1.joblib')"
   ]
  },
  {
   "cell_type": "code",
   "execution_count": 47,
   "id": "9f4e68f3-ce01-4c0d-af12-f2a921485b6f",
   "metadata": {},
   "outputs": [],
   "source": [
    "forest_clf = load('../glaucoma_project/Models/forest_clf_1.joblib')"
   ]
  },
  {
   "cell_type": "markdown",
   "id": "8f3cd12e-4dec-4a8a-ba69-318e377c40e9",
   "metadata": {
    "tags": []
   },
   "source": [
    "## Ranking by feature importances"
   ]
  },
  {
   "cell_type": "code",
   "execution_count": 29,
   "id": "6ad6ceb3-2d3c-4356-961c-e6ea73899ac5",
   "metadata": {},
   "outputs": [],
   "source": [
    "df_feature_importances = pd.DataFrame()\n",
    "df_feature_importances['Feature ID'] = X_train.columns\n",
    "df_feature_importances['RF importance'] = forest_clf.feature_importances_"
   ]
  },
  {
   "cell_type": "code",
   "execution_count": 30,
   "id": "d8a3cbf7-7681-4cb5-9127-b015af68b3e7",
   "metadata": {},
   "outputs": [],
   "source": [
    "df_feature_importances[\"Feature Name\"] = df_feature_importances[\"Feature ID\"].apply(feature_id_to_name)"
   ]
  },
  {
   "cell_type": "code",
   "execution_count": 34,
   "id": "769f4c02-d69b-4366-87a5-515201138f45",
   "metadata": {},
   "outputs": [],
   "source": [
    "df_feature_importances.to_pickle(UKBB_PATH+'processed_data/Clinical Feature Selection/feature_importances_rf.pkl')"
   ]
  },
  {
   "cell_type": "markdown",
   "id": "59521944-b51a-4353-ad5a-bacb8375069b",
   "metadata": {
    "tags": []
   },
   "source": [
    "## 10% subsets"
   ]
  },
  {
   "cell_type": "code",
   "execution_count": 116,
   "id": "15f7637c-b25e-4bb4-9cd2-5fced80e45ef",
   "metadata": {},
   "outputs": [],
   "source": [
    "imputed_matrix = pd.read_pickle(UKBB_PATH+'processed_data/Clinical Feature Selection/filtered_matrix_post_imputation_checkpoint.pkl')"
   ]
  },
  {
   "cell_type": "code",
   "execution_count": 36,
   "id": "169df20b-5418-49b7-964c-e8d73486a07f",
   "metadata": {},
   "outputs": [],
   "source": [
    "glaucoma_diagnosis = pd.read_pickle(UKBB_PATH+'processed_data/Clinical Feature Selection/glaucoma_diagnosis_checkpoint.pkl')"
   ]
  },
  {
   "cell_type": "code",
   "execution_count": 37,
   "id": "613c95a0-92b6-449f-88d1-4cc1913d0bf8",
   "metadata": {},
   "outputs": [],
   "source": [
    "NUM_ITER = 50"
   ]
  },
  {
   "cell_type": "code",
   "execution_count": 38,
   "id": "1f47acb5-44e7-4f84-8173-b4b99122bb2d",
   "metadata": {},
   "outputs": [],
   "source": [
    "np.random.seed(42)\n",
    "sample_seeds = [np.random.randint(1,2**32 - 1) for i in range(NUM_ITER)]\n",
    "forest_seeds = [np.random.randint(1,2**32 - 1) for i in range(NUM_ITER)]"
   ]
  },
  {
   "cell_type": "code",
   "execution_count": 39,
   "id": "d4870b94-6c10-4b0d-b583-6cd3634fd2dd",
   "metadata": {},
   "outputs": [],
   "source": [
    "def get_feature_importances_from_subset(sample_seed, forest_seed):\n",
    "    subset_idx, _ = train_test_split(range(len(imputed_matrix)),random_state=sample_seed, train_size=0.1)\n",
    "    X_train = imputed_matrix.iloc[subset_idx].copy().reset_index(drop=True)\n",
    "    y_train = glaucoma_diagnosis.iloc[subset_idx].copy().reset_index(drop=True)\n",
    "    forest_clf = RandomForestClassifier(class_weight='balanced',max_depth=10, random_state=forest_seed)\n",
    "    forest_clf.fit(X_train,y_train)\n",
    "    df_feature_importances_subset = pd.DataFrame()\n",
    "    return forest_clf.feature_importances_"
   ]
  },
  {
   "cell_type": "code",
   "execution_count": 40,
   "id": "44179216-6562-45e1-b9d8-c2459d2b3098",
   "metadata": {},
   "outputs": [
    {
     "name": "stderr",
     "output_type": "stream",
     "text": [
      "100%|█████████████████████████████████████████████████████████████████████████████████████████████████████████████████████████████████████████████████████████████████████████| 50/50 [20:03<00:00, 24.07s/it]\n"
     ]
    }
   ],
   "source": [
    "df_feature_importances_subsets = pd.DataFrame(columns=imputed_matrix.columns)\n",
    "for sample_seed, forest_seed in tqdm(zip(sample_seeds, forest_seeds), total=NUM_ITER):\n",
    "    imps = get_feature_importances_from_subset(sample_seed, forest_seed)\n",
    "    importances_dict = {label:imp for label, imp in zip(imputed_matrix.columns, imps)}\n",
    "    df_feature_importances_subsets = df_feature_importances_subsets.append(importances_dict, ignore_index=True)"
   ]
  },
  {
   "cell_type": "code",
   "execution_count": 41,
   "id": "d172197e-8631-4ba1-9385-d3d692bf89ff",
   "metadata": {},
   "outputs": [],
   "source": [
    "mins = []\n",
    "means = []\n",
    "maxes = []\n",
    "sd = []\n",
    "for col in df_feature_importances_subsets:\n",
    "    means.append(df_feature_importances_subsets[col].mean())\n",
    "    mins.append(df_feature_importances_subsets[col].min())\n",
    "    maxes.append(df_feature_importances_subsets[col].max())\n",
    "    sd.append(df_feature_importances_subsets[col].std())\n",
    "df_feature_importance_stats = pd.DataFrame()\n",
    "df_feature_importance_stats['Feature ID'] = df_feature_importances_subsets.columns\n",
    "df_feature_importance_stats['Feature Names'] = df_feature_importance_stats[\"Feature ID\"].apply(feature_id_to_name)\n",
    "df_feature_importance_stats['Mean'] = means\n",
    "df_feature_importance_stats['SD'] = sd\n",
    "df_feature_importance_stats['Min'] = mins\n",
    "df_feature_importance_stats['Max'] = maxes"
   ]
  },
  {
   "cell_type": "code",
   "execution_count": 43,
   "id": "1fc674c4-7084-4e99-b5c1-6cfd2ac7ccdc",
   "metadata": {},
   "outputs": [],
   "source": [
    "df_feature_importances_subsets.to_pickle(UKBB_PATH+'processed_data/Clinical Feature Selection/feature_importances_subsets.pkl')"
   ]
  },
  {
   "cell_type": "code",
   "execution_count": 44,
   "id": "49122ec9-c4b6-4128-a389-d2fb219a3b8b",
   "metadata": {},
   "outputs": [],
   "source": [
    "df_feature_importance_stats.to_pickle(UKBB_PATH+'processed_data/Clinical Feature Selection/feature_importances_stats.pkl')"
   ]
  },
  {
   "cell_type": "code",
   "execution_count": 7,
   "id": "5d6f2ba1-ef40-48ff-ac69-f767ae420f9f",
   "metadata": {},
   "outputs": [],
   "source": [
    "df_feature_importance_stats = pd.read_pickle(UKBB_PATH+'processed_data/Clinical Feature Selection/feature_importances_stats.pkl')"
   ]
  },
  {
   "cell_type": "code",
   "execution_count": 52,
   "id": "420d8ad3-ffc8-412e-8209-c257083391c0",
   "metadata": {},
   "outputs": [],
   "source": [
    "feat_order = df_feature_importance_stats.sort_values('Min', ascending=False)['Feature ID']"
   ]
  },
  {
   "cell_type": "code",
   "execution_count": 55,
   "id": "9721bb13-5ad2-45bd-b0bb-310f38331c04",
   "metadata": {},
   "outputs": [],
   "source": [
    "X_train_ordered = X_train[feat_order]"
   ]
  },
  {
   "cell_type": "code",
   "execution_count": 56,
   "id": "2f38879e-6b5d-4960-acc1-5eeda43b1280",
   "metadata": {},
   "outputs": [],
   "source": [
    "name_to_id_full_dict = {feature_id_to_name(id_):id_ for id_ in X_train_ordered.columns}"
   ]
  },
  {
   "cell_type": "markdown",
   "id": "104bb0b4-a545-4799-b962-4cca1986a220",
   "metadata": {
    "tags": []
   },
   "source": [
    "## Correlated features - VIF"
   ]
  },
  {
   "cell_type": "code",
   "execution_count": 51,
   "id": "4ef395fa-ce91-4120-ad1d-78c55545c5f7",
   "metadata": {},
   "outputs": [],
   "source": [
    "from statsmodels.stats.outliers_influence import variance_inflation_factor"
   ]
  },
  {
   "cell_type": "code",
   "execution_count": 192,
   "id": "472bc97c-6dc2-4648-9bf7-a14b64623842",
   "metadata": {},
   "outputs": [
    {
     "name": "stdout",
     "output_type": "stream",
     "text": [
      "53.988793845279744\n",
      "0.014888525009155273\n"
     ]
    }
   ],
   "source": [
    "t0 = time.time()\n",
    "print(variance_inflation_factor(X_train_ordered[['f.34.0.0',name_to_id_full_dict['Systolic blood pressure, automated reading_0']]],1))\n",
    "print(time.time() - t0)"
   ]
  },
  {
   "cell_type": "code",
   "execution_count": 55,
   "id": "7bd44656-18c8-49d1-8740-6d884c07077a",
   "metadata": {},
   "outputs": [],
   "source": [
    "df_matrix = pd.DataFrame()"
   ]
  },
  {
   "cell_type": "code",
   "execution_count": 56,
   "id": "8da726ae-f09d-4e9d-b9ef-cbd906192b53",
   "metadata": {},
   "outputs": [],
   "source": [
    "def variance_inflation_factor_matrix(df_train):\n",
    "    df_matrix = pd.DataFrame()\n",
    "    for col_1 in tqdm(df_train.columns):\n",
    "        new_col = []\n",
    "        for col_2 in df_train.columns:\n",
    "            new_col.append(variance_inflation_factor(df_train[[col_1,col_2]],1))\n",
    "        df_matrix[col_1] = new_col\n",
    "    return df_matrix"
   ]
  },
  {
   "cell_type": "code",
   "execution_count": 57,
   "id": "a9730cc0-10ce-4639-9cf3-b8406f70bbfc",
   "metadata": {},
   "outputs": [],
   "source": [
    "def vif_matrix_to_collinear_groups(vif_matrix, vif_cutoff = 5):\n",
    "    columns_added_to_dict = []\n",
    "    collinearity_dict = {}\n",
    "    for col_1 in vif_matrix:\n",
    "        if not col_1 in columns_added_to_dict:\n",
    "            \n",
    "            collinearity_dict[col_1] = []\n",
    "            columns_added_to_dict.append(col_1)\n",
    "            \n",
    "            current_vifs = {col_name:vif for col_name, vif in zip(vif_matrix.columns, vif_matrix[col_1])}\n",
    "            \n",
    "            for col_2 in current_vifs.keys():\n",
    "                if not col_2 in columns_added_to_dict:\n",
    "                    if current_vifs[col_2] > vif_cutoff:\n",
    "                        collinearity_dict[col_1].append(col_2)\n",
    "                        columns_added_to_dict.append(col_2)\n",
    "    return collinearity_dict"
   ]
  },
  {
   "cell_type": "code",
   "execution_count": 58,
   "id": "0427fe24-a8eb-4013-81eb-df87f00ed353",
   "metadata": {},
   "outputs": [
    {
     "name": "stderr",
     "output_type": "stream",
     "text": [
      "100%|█████████████████████████████████████████████████████████████████████████████████████████████████████████████████████████████████████████████████████████████████████| 500/500 [1:03:46<00:00,  7.65s/it]\n"
     ]
    }
   ],
   "source": [
    "hundred_matrix = variance_inflation_factor_matrix(X_train_ordered[X_train_ordered.columns[:500]])"
   ]
  },
  {
   "cell_type": "code",
   "execution_count": 59,
   "id": "d1d8c6c5-8802-403d-a79e-59629d411857",
   "metadata": {},
   "outputs": [],
   "source": [
    "hundred_matrix.columns = [feature_id_to_name(id_) for id_ in hundred_matrix.columns]\n",
    "hundred_matrix['Col'] = [feature_id_to_name(id_) for id_ in hundred_matrix.columns]"
   ]
  },
  {
   "cell_type": "code",
   "execution_count": 60,
   "id": "c9dd0061-830d-4921-8582-30e0324584cb",
   "metadata": {},
   "outputs": [],
   "source": [
    "hundred_matrix.to_pickle(UKBB_PATH+'processed_data/Clinical Feature Selection/vif_matrix.pkl')"
   ]
  },
  {
   "cell_type": "code",
   "execution_count": 61,
   "id": "88d6cfbb-cbe0-4324-9bcf-72c5f6696cbc",
   "metadata": {},
   "outputs": [],
   "source": [
    "hundred_matrix.to_csv('vif_matrix.csv')"
   ]
  },
  {
   "cell_type": "code",
   "execution_count": 68,
   "id": "3681c3d7-0004-4505-9f9b-b1cf9b0c1b42",
   "metadata": {},
   "outputs": [],
   "source": [
    "collinearity_dict = vif_matrix_to_collinear_groups(hundred_matrix, 10)"
   ]
  },
  {
   "cell_type": "code",
   "execution_count": 69,
   "id": "3bb1d9e8-87d8-4966-aab5-4cdcc7a45f35",
   "metadata": {},
   "outputs": [],
   "source": [
    "df_collinearity = pd.DataFrame()\n",
    "df_collinearity['Lead Fields'] = collinearity_dict.keys()\n",
    "df_collinearity['Collinear Fields'] = collinearity_dict.values()\n",
    "df_collinearity.to_csv('vif_10_collinearity_dict.csv')"
   ]
  },
  {
   "cell_type": "code",
   "execution_count": 70,
   "id": "27b55149-e126-4126-804a-29f365f1d21a",
   "metadata": {},
   "outputs": [],
   "source": [
    "df_collinearity['Field ID'] = df_collinearity['Lead Fields'].apply(lambda x: name_to_id_full_dict[x] if x in name_to_id_full_dict.keys() else None)"
   ]
  },
  {
   "cell_type": "code",
   "execution_count": 97,
   "id": "f51ea602-b0b5-43c5-a574-5a0545818245",
   "metadata": {},
   "outputs": [],
   "source": [
    "#def remove_highly_collinear_features(feature_importance_order, df_train, vif_cutoff=5):\n",
    "#    chosen_feature_list = [feature_importance_order[0]]\n",
    "#    for feature_id in tqdm(feature_importance_order):\n",
    "#        if not feature_id in chosen_feature_list:\n",
    "#            current_subset = df_train[chosen_feature_list + [feature_id]]\n",
    "#            vif = variance_inflation_factor(current_subset, len(current_subset.columns)-1)\n",
    "#            if vif < vif_cutoff:\n",
    "#                chosen_feature_list.append(feature_id)\n",
    "#    return chosen_feature_list"
   ]
  },
  {
   "cell_type": "code",
   "execution_count": 101,
   "id": "baa1693b-769c-44c4-96bd-1681049ac581",
   "metadata": {},
   "outputs": [
    {
     "name": "stderr",
     "output_type": "stream",
     "text": [
      "100%|███████████████████████████████████████████████████████████████████████████████████| 1000/1000 [4:38:44<00:00, 16.72s/it]\n"
     ]
    }
   ],
   "source": [
    "#chosen_features = remove_highly_collinear_features(X_train_top_thousand.columns, X_train_top_thousand)"
   ]
  },
  {
   "cell_type": "code",
   "execution_count": 5,
   "id": "adf92e44-7d02-44d3-a596-e30ef78f88c5",
   "metadata": {},
   "outputs": [],
   "source": [
    "#chosen_features = pd.read_pickle(UKBB_PATH+'processed_data/Clinical Feature Selection/442_features.pkl')"
   ]
  },
  {
   "cell_type": "code",
   "execution_count": 31,
   "id": "6ca6b247-db90-445c-b349-45d02d3203a1",
   "metadata": {},
   "outputs": [],
   "source": [
    "#df_feature_importances[df_feature_importances['Feature ID'].isin(chosen_features)].sort_values('RF importance',ascending=False).to_csv('442_features_table.csv')"
   ]
  },
  {
   "cell_type": "markdown",
   "id": "9d5db74a-1c84-43a0-a7d6-12a9d5f83275",
   "metadata": {
    "tags": []
   },
   "source": [
    "## Correlated Features - Logit"
   ]
  },
  {
   "cell_type": "code",
   "execution_count": 62,
   "id": "5ad8373c-7b76-4901-b0df-bd6119dc906e",
   "metadata": {},
   "outputs": [],
   "source": [
    "from sklearn.preprocessing import StandardScaler"
   ]
  },
  {
   "cell_type": "code",
   "execution_count": 63,
   "id": "7a78afee-c614-4a64-8eca-42a7dfed32e8",
   "metadata": {},
   "outputs": [],
   "source": [
    "from statsmodels.discrete.discrete_model import Logit\n",
    "from statsmodels.tools.tools import add_constant"
   ]
  },
  {
   "cell_type": "markdown",
   "id": "ad3c7aee-41e7-4789-9c73-23d38ebec015",
   "metadata": {},
   "source": [
    "Experiment - get the unimputed data"
   ]
  },
  {
   "cell_type": "code",
   "execution_count": 105,
   "id": "979989e2-7aa0-4342-a3e6-981006db3e02",
   "metadata": {},
   "outputs": [],
   "source": [
    "unimputed_matrix = pd.read_pickle(UKBB_PATH+'processed_data/Clinical Feature Selection/filtered_matrix_pre_imputation_checkpoint.pkl')"
   ]
  },
  {
   "cell_type": "code",
   "execution_count": 107,
   "id": "5769f120-71f0-4765-a1c5-832f8d5ad7d5",
   "metadata": {},
   "outputs": [],
   "source": [
    "X_train_unimputed = unimputed_matrix.iloc[int_train_idx].copy().reset_index(drop=True)"
   ]
  },
  {
   "cell_type": "code",
   "execution_count": 180,
   "id": "601ee86f-0a17-4d28-95cd-7d8283aef4d0",
   "metadata": {},
   "outputs": [],
   "source": [
    "#small_idx, _ = train_test_split(range(len(X_train_unimputed)),random_state=0, train_size=0.1)\n",
    "std_scaler = StandardScaler()\n",
    "df_scaled = pd.DataFrame(std_scaler.fit_transform(X_train_unimputed.sparse.to_dense()),columns=X_train_unimputed.columns)\n",
    "df_scaled['Total Glaucoma'] = y_train\n",
    "def determine_rsquared_improvement(init_var,var_to_add):\n",
    "    current_df = df_scaled[[init_var,var_to_add,'Total Glaucoma']].dropna()\n",
    "    if len(current_df) == 0:\n",
    "        return 1\n",
    "    log_reg_init = Logit(current_df['Total Glaucoma'], add_constant(current_df[init_var],prepend=False))\n",
    "    try:\n",
    "        res = log_reg_init.fit(disp=False)\n",
    "    except Exception:\n",
    "        return 1\n",
    "    init_llf = res.llf\n",
    "    \n",
    "    log_reg_second = Logit(current_df['Total Glaucoma'], add_constant(current_df[[init_var,var_to_add]],prepend=False))\n",
    "    try:\n",
    "        res = log_reg_second.fit(disp=False)\n",
    "    except Exception:\n",
    "        return 1\n",
    "    second_llf = res.llf\n",
    "    \n",
    "    LR_statistic = -2*(init_llf - second_llf)\n",
    "    p_val = scipy.stats.chi2.sf(LR_statistic, 2)\n",
    "\n",
    "    return p_val"
   ]
  },
  {
   "cell_type": "code",
   "execution_count": 191,
   "id": "be5c8289-574b-4473-b4f0-e4b6975dbd67",
   "metadata": {},
   "outputs": [
    {
     "name": "stdout",
     "output_type": "stream",
     "text": [
      "0.7375049899781189\n",
      "0.340806245803833\n"
     ]
    }
   ],
   "source": [
    "t0 = time.time()\n",
    "print(determine_rsquared_improvement('f.34.0.0',name_to_id_full_dict['Systolic blood pressure, automated reading_0']))\n",
    "print(time.time() - t0)"
   ]
  },
  {
   "cell_type": "code",
   "execution_count": 339,
   "id": "1d8dba79-caa0-4a1c-b71d-0ec1c6e4fdb3",
   "metadata": {},
   "outputs": [],
   "source": [
    "df_matrix = pd.DataFrame()"
   ]
  },
  {
   "cell_type": "code",
   "execution_count": 340,
   "id": "ef2f93ff-a0b2-43a8-a75d-d355ea754690",
   "metadata": {},
   "outputs": [],
   "source": [
    "def logit_matrix(df_train):\n",
    "    df_matrix = pd.DataFrame()\n",
    "    for col_1 in tqdm(df_train.columns):\n",
    "        new_col = []\n",
    "        for col_2 in df_train.columns:\n",
    "            try:\n",
    "                new_col.append(determine_rsquared_improvement(col_1, col_2))\n",
    "            except Exception:\n",
    "                new_col.append(np.nan)\n",
    "        df_matrix[col_1] = new_col\n",
    "    return df_matrix"
   ]
  },
  {
   "cell_type": "code",
   "execution_count": 356,
   "id": "01308478-eaf3-4018-a17b-00be3901861a",
   "metadata": {},
   "outputs": [
    {
     "name": "stderr",
     "output_type": "stream",
     "text": [
      "100%|███████████████████████████████████████████████████████████████████████████████████████████████████████████████████████████████████████████████████████████████████████| 200/200 [29:54<00:00,  8.97s/it]\n"
     ]
    }
   ],
   "source": [
    "logit_matrix_output = logit_matrix(X_train_ordered[X_train_ordered.columns[:200]])"
   ]
  },
  {
   "cell_type": "code",
   "execution_count": 357,
   "id": "975b18a3-c95b-4231-aae1-1bd2a94f5b6e",
   "metadata": {},
   "outputs": [],
   "source": [
    "logit_matrix_output.columns = [feature_id_to_name(id_) for id_ in logit_matrix_output.columns]\n",
    "logit_matrix_output['Col'] = [id_ for id_ in logit_matrix_output.columns]"
   ]
  },
  {
   "cell_type": "code",
   "execution_count": 358,
   "id": "ee20ca05-36ea-4022-9b84-fd7edfbf871c",
   "metadata": {},
   "outputs": [],
   "source": [
    "def logit_matrix_to_collinear_groups(logit_matrix, cutoff = 0.005):\n",
    "    columns_added_to_dict = []\n",
    "    collinearity_dict = {}\n",
    "    for col_1 in logit_matrix:\n",
    "        if not col_1 in columns_added_to_dict:\n",
    "            \n",
    "            collinearity_dict[col_1] = []\n",
    "            columns_added_to_dict.append(col_1)\n",
    "            \n",
    "            current_diffs = {col_name:diff for col_name, diff in zip(logit_matrix.columns, logit_matrix[col_1])}\n",
    "            \n",
    "            for col_2 in current_diffs.keys():\n",
    "                if not col_2 in columns_added_to_dict:\n",
    "                    if current_diffs[col_2] < cutoff:\n",
    "                        collinearity_dict[col_1].append(col_2)\n",
    "                        columns_added_to_dict.append(col_2)\n",
    "    return collinearity_dict"
   ]
  },
  {
   "cell_type": "code",
   "execution_count": 363,
   "id": "ee7f7fe3-c91b-4a77-aeeb-6ab222d3a66c",
   "metadata": {},
   "outputs": [],
   "source": [
    "corr_dict = logit_matrix_to_collinear_groups(logit_matrix_output,0.001)"
   ]
  },
  {
   "cell_type": "code",
   "execution_count": 364,
   "id": "5a69062e-a14c-4e18-8b33-40827d35cae8",
   "metadata": {},
   "outputs": [],
   "source": [
    "df_corr = pd.DataFrame()\n",
    "df_corr['Lead Fields'] = corr_dict.keys()\n",
    "df_corr['Fields With Limited Value'] = corr_dict.values()\n",
    "df_corr.to_csv('log_reg_collinearity_dict.csv')"
   ]
  },
  {
   "cell_type": "code",
   "execution_count": 188,
   "id": "df8df281-3a07-4374-954d-6686f0996d28",
   "metadata": {},
   "outputs": [],
   "source": [
    "def vif_matrix_to_collinear_groups_with_log_reg_check(vif_matrix, vif_cutoff = 5, pr_cutoff=0.05):\n",
    "    columns_added_to_dict = []\n",
    "    collinearity_dict = {}\n",
    "    for col_1 in tqdm(vif_matrix):\n",
    "        if not col_1 in columns_added_to_dict:\n",
    "            \n",
    "            collinearity_dict[col_1] = []\n",
    "            columns_added_to_dict.append(col_1)\n",
    "            \n",
    "            current_vifs = {col_name:vif for col_name, vif in zip(vif_matrix.columns, vif_matrix[col_1])}\n",
    "            \n",
    "            for col_2 in current_vifs.keys():\n",
    "                if not col_2 in columns_added_to_dict:\n",
    "                    if current_vifs[col_2] > vif_cutoff:\n",
    "                        if determine_rsquared_improvement(name_to_id_full_dict[col_1], name_to_id_full_dict[col_2]) > pr_cutoff:\n",
    "                            collinearity_dict[col_1].append(col_2)\n",
    "                            columns_added_to_dict.append(col_2)\n",
    "    return collinearity_dict"
   ]
  },
  {
   "cell_type": "code",
   "execution_count": 189,
   "id": "c7f01748-cffa-4993-8f92-36bb390d9b18",
   "metadata": {},
   "outputs": [
    {
     "name": "stderr",
     "output_type": "stream",
     "text": [
      "501it [01:38,  5.06it/s]                                                                                                                                                                                      \n"
     ]
    }
   ],
   "source": [
    "improved_collinearity_dict = vif_matrix_to_collinear_groups_with_log_reg_check(hundred_matrix, 10, 0.05)"
   ]
  },
  {
   "cell_type": "code",
   "execution_count": 190,
   "id": "8c102c6c-fab3-41ae-b02b-3a832f16ae04",
   "metadata": {},
   "outputs": [],
   "source": [
    "df_collinearity_improved = pd.DataFrame()\n",
    "df_collinearity_improved['Lead Fields'] = improved_collinearity_dict.keys()\n",
    "df_collinearity_improved['Collinear Fields'] = improved_collinearity_dict.values()\n",
    "df_collinearity_improved.to_csv('vif_10_0.05_collinearity_dict.csv')"
   ]
  },
  {
   "cell_type": "markdown",
   "id": "d2829008-2e0f-4f32-b2fd-d7f735ac0d62",
   "metadata": {
    "tags": []
   },
   "source": [
    "## Taking only non-correlated features"
   ]
  },
  {
   "cell_type": "code",
   "execution_count": 237,
   "id": "f1933c09-7277-46d7-b6f4-1765f68a548b",
   "metadata": {},
   "outputs": [],
   "source": [
    "X_train_non_correlated = X_train[df_collinearity['Field ID'].values[:-1]]\n",
    "X_val_non_correlated = X_val[df_collinearity['Field ID'].values[:-1]]"
   ]
  },
  {
   "cell_type": "code",
   "execution_count": 238,
   "id": "cc4ece3d-71aa-43b3-8c8e-11321172d8ab",
   "metadata": {},
   "outputs": [],
   "source": [
    "forest_clf_3 = RandomForestClassifier(class_weight='balanced',max_depth=10, random_state=42)"
   ]
  },
  {
   "cell_type": "code",
   "execution_count": 239,
   "id": "85642345-d10e-4651-bd0f-5b95e908403c",
   "metadata": {},
   "outputs": [
    {
     "name": "stdout",
     "output_type": "stream",
     "text": [
      "268.4484393596649\n"
     ]
    }
   ],
   "source": [
    "t0 = time.time()\n",
    "forest_clf_3.fit(X_train_non_correlated,y_train)\n",
    "print(time.time() - t0)"
   ]
  },
  {
   "cell_type": "code",
   "execution_count": null,
   "id": "be47f5a0-94c5-4e32-a986-7b0b6c4144e4",
   "metadata": {},
   "outputs": [],
   "source": [
    "forest_clf_3 = load('../glaucoma_project/Models/forest_clf_3.joblib')"
   ]
  },
  {
   "cell_type": "markdown",
   "id": "49359051-2d33-4035-9f39-319ae4e8320e",
   "metadata": {
    "tags": []
   },
   "source": [
    "## Validate new model"
   ]
  },
  {
   "cell_type": "markdown",
   "id": "18b4c649-1453-4c54-89bd-94cd05d93c0c",
   "metadata": {},
   "source": [
    "Train"
   ]
  },
  {
   "cell_type": "code",
   "execution_count": 240,
   "id": "c26fc62b-8a48-420a-9c20-fc6fa0f206e4",
   "metadata": {},
   "outputs": [],
   "source": [
    "y_train_pred_proba = forest_clf_3.predict_proba(X_train_non_correlated)"
   ]
  },
  {
   "cell_type": "code",
   "execution_count": 241,
   "id": "aa220eb3-62eb-4aa6-9dce-d92ad5501682",
   "metadata": {},
   "outputs": [
    {
     "data": {
      "text/plain": [
       "0.6956192919881291"
      ]
     },
     "execution_count": 241,
     "metadata": {},
     "output_type": "execute_result"
    }
   ],
   "source": [
    "accuracy_score(y_train,(y_train_pred_proba[:,1] > 0.5).astype(int))"
   ]
  },
  {
   "cell_type": "code",
   "execution_count": 242,
   "id": "9efe7231-2fda-45da-b78d-634be3bc67be",
   "metadata": {},
   "outputs": [
    {
     "data": {
      "text/plain": [
       "0.8366392241787824"
      ]
     },
     "execution_count": 242,
     "metadata": {},
     "output_type": "execute_result"
    }
   ],
   "source": [
    "roc_auc_score(y_train,y_train_pred_proba[:,1])"
   ]
  },
  {
   "cell_type": "markdown",
   "id": "0eacf0a3-345c-4eaf-a5fc-7cc3d87c756a",
   "metadata": {},
   "source": [
    "Val"
   ]
  },
  {
   "cell_type": "code",
   "execution_count": 243,
   "id": "7413f518-0e50-4a7b-a18b-1caa4cf6dc17",
   "metadata": {},
   "outputs": [],
   "source": [
    "y_val_pred_proba = forest_clf_3.predict_proba(X_val_non_correlated)"
   ]
  },
  {
   "cell_type": "code",
   "execution_count": 244,
   "id": "8a19d619-dc79-4336-a091-9c2b4e10ad16",
   "metadata": {},
   "outputs": [
    {
     "data": {
      "text/plain": [
       "0.6900440291131279"
      ]
     },
     "execution_count": 244,
     "metadata": {},
     "output_type": "execute_result"
    }
   ],
   "source": [
    "accuracy_score(y_val,(y_val_pred_proba[:,1] > 0.5).astype(int))"
   ]
  },
  {
   "cell_type": "code",
   "execution_count": 245,
   "id": "da820bbc-ad9c-44ed-ab28-bf716b403be3",
   "metadata": {},
   "outputs": [
    {
     "data": {
      "text/plain": [
       "0.7425545491544384"
      ]
     },
     "execution_count": 245,
     "metadata": {},
     "output_type": "execute_result"
    }
   ],
   "source": [
    "roc_auc_score(y_val,y_val_pred_proba[:,1])"
   ]
  },
  {
   "cell_type": "markdown",
   "id": "a9628728-9c2a-4cde-9e4a-2698452cf738",
   "metadata": {
    "jp-MarkdownHeadingCollapsed": true,
    "tags": []
   },
   "source": [
    "# Random forests model for IOP"
   ]
  },
  {
   "cell_type": "code",
   "execution_count": 10,
   "id": "e5f69879-ac94-4fa2-8682-e9f585e0a962",
   "metadata": {},
   "outputs": [],
   "source": [
    "forest_reg = RandomForestRegressor(n_jobs=-1)"
   ]
  },
  {
   "cell_type": "code",
   "execution_count": 4,
   "id": "327e41d0-3d88-44aa-9fb7-dc63a0ea137f",
   "metadata": {},
   "outputs": [],
   "source": [
    "filtered_matrix = pd.read_pickle(UKBB_PATH+'processed_data/Clinical Feature Selection/filtered_matrix_checkpoint.pkl')\n",
    "df_iop_filtered = pd.read_pickle(UKBB_PATH+'processed_data/Clinical Feature Selection/iop_checkpoint.pkl')"
   ]
  },
  {
   "cell_type": "code",
   "execution_count": 5,
   "id": "e7b0c13b-4d16-43ae-a6c4-2d1d8976a0c0",
   "metadata": {},
   "outputs": [],
   "source": [
    "highest_iop = [max(left, right) for left, right in zip(df_iop_filtered['f.5262.0.0'], df_iop_filtered['f.5264.0.0'])]\n",
    "df_iop_filtered['Worst IOP'] = highest_iop"
   ]
  },
  {
   "cell_type": "code",
   "execution_count": 6,
   "id": "fc419256-b468-46bc-9e5b-800d320b632d",
   "metadata": {},
   "outputs": [],
   "source": [
    "iop_filtered_matrix = filtered_matrix[~df_iop_filtered['Worst IOP'].isna()].reset_index(drop=True)"
   ]
  },
  {
   "cell_type": "code",
   "execution_count": 7,
   "id": "16b09ac7-91e0-4cab-9c76-d4c7f8ca292f",
   "metadata": {},
   "outputs": [],
   "source": [
    "df_iop_filtered = df_iop_filtered[~df_iop_filtered['Worst IOP'].isna()].reset_index(drop=True)"
   ]
  },
  {
   "cell_type": "code",
   "execution_count": 8,
   "id": "5b8184a5-3e54-464c-9019-16bd68b7597c",
   "metadata": {},
   "outputs": [],
   "source": [
    "iop_filtered_matrix.dropna(axis=1, inplace=True)"
   ]
  },
  {
   "cell_type": "code",
   "execution_count": 11,
   "id": "181679f6-894c-46aa-84a8-947c0323de9e",
   "metadata": {},
   "outputs": [
    {
     "name": "stdout",
     "output_type": "stream",
     "text": [
      "20428.30959033966\n"
     ]
    }
   ],
   "source": [
    "#t0 = time.time()\n",
    "#forest_reg.fit(iop_filtered_matrix,df_iop_filtered['Worst IOP'])\n",
    "#print(time.time() - t0)"
   ]
  },
  {
   "cell_type": "code",
   "execution_count": 17,
   "id": "a25f8c74-a3f0-4fc7-b405-852f74077249",
   "metadata": {},
   "outputs": [],
   "source": [
    "forest_reg = load('../glaucoma_project/Models/forest_reg_clinical_features_iop.joblib')"
   ]
  },
  {
   "cell_type": "code",
   "execution_count": 40,
   "id": "d4331eaf-78f8-488f-a8b7-41ce0f13fa75",
   "metadata": {},
   "outputs": [],
   "source": [
    "df_feature_importances = pd.read_pickle(UKBB_PATH+'processed_data/Clinical Feature Selection/feature_importances_table_rf.pkl')\n",
    "df_feature_importances['IOP RF Importance'] = forest_reg_2.feature_importances_\n",
    "df_feature_importances.to_pickle(UKBB_PATH+'processed_data/Clinical Feature Selection/feature_importances_table_rf.pkl')"
   ]
  },
  {
   "cell_type": "markdown",
   "id": "0464c9e1-927c-43eb-8330-812ba0c9323c",
   "metadata": {
    "jp-MarkdownHeadingCollapsed": true,
    "tags": []
   },
   "source": [
    "# Feature importances"
   ]
  },
  {
   "cell_type": "code",
   "execution_count": 3,
   "id": "a41e748e-1b31-4eff-bc68-4a8dfbebfb7d",
   "metadata": {},
   "outputs": [],
   "source": [
    "df_feature_importances = pd.read_pickle(UKBB_PATH+'processed_data/Clinical Feature Selection/feature_importances_table_rf.pkl')"
   ]
  },
  {
   "cell_type": "code",
   "execution_count": 16,
   "id": "343f399c-ef1f-4b14-8c81-8d8143c71a24",
   "metadata": {},
   "outputs": [
    {
     "data": {
      "text/plain": [
       "<AxesSubplot:xlabel='Importance for glaucoma prediction', ylabel='Importance for IOP prediction'>"
      ]
     },
     "execution_count": 16,
     "metadata": {},
     "output_type": "execute_result"
    },
    {
     "data": {
      "image/png": "[encoded data removed]",
      "text/plain": [
       "<Figure size 720x720 with 1 Axes>"
      ]
     },
     "metadata": {
      "needs_background": "light"
     },
     "output_type": "display_data"
    }
   ],
   "source": [
    "plt.figure(figsize=(10,10))\n",
    "plt.ylim(0,0.001)\n",
    "plt.xlabel('Importance for glaucoma prediction')\n",
    "plt.ylabel('Importance for IOP prediction')\n",
    "sns.scatterplot(df_feature_importances['RF importance'], df_feature_importances['IOP RF Importance'])"
   ]
  },
  {
   "cell_type": "code",
   "execution_count": 5,
   "id": "6263c247-48f3-4384-b750-7191831f559a",
   "metadata": {},
   "outputs": [
    {
     "data": {
      "text/plain": [
       "<BarContainer object of 50 artists>"
      ]
     },
     "execution_count": 5,
     "metadata": {},
     "output_type": "execute_result"
    },
    {
     "data": {
      "image/png": "[encoded data removed]",
      "text/plain": [
       "<Figure size 2160x432 with 1 Axes>"
      ]
     },
     "metadata": {
      "needs_background": "light"
     },
     "output_type": "display_data"
    }
   ],
   "source": [
    "plt.figure(figsize=(30,6))\n",
    "plt.xticks(rotation=90)\n",
    "\n",
    "num_feats = 50\n",
    "plt.bar(df_feature_importances.sort_values('RF importance', ascending=False)['Feature Name'].values[:num_feats], df_feature_importances.sort_values('RF importance', ascending=False)['RF importance'].values[:num_feats])"
   ]
  },
  {
   "cell_type": "code",
   "execution_count": 12,
   "id": "fc5a07c3-be6d-46bc-8ae2-c928c71d2a32",
   "metadata": {},
   "outputs": [],
   "source": [
    "df_feature_importances.sort_values('IOP RF Importance', ascending=False).head(50).to_csv('rf_importance.csv')"
   ]
  },
  {
   "cell_type": "code",
   "execution_count": 115,
   "id": "bbcab401-fe3b-47ed-ada4-b37b09553407",
   "metadata": {},
   "outputs": [],
   "source": [
    "ranking = {id:rank for id, rank in zip(df_feature_importances.sort_values('RF importance', ascending=False)['Feature ID'], range(1,len(df_feature_importances)+1))}\n",
    "df_feature_importances['Rank'] = df_feature_importances['Feature ID'].apply(lambda x: ranking[x])"
   ]
  },
  {
   "cell_type": "code",
   "execution_count": 125,
   "id": "f18d250d-f0b7-499a-b6ab-fa938ff1b33e",
   "metadata": {},
   "outputs": [
    {
     "data": {
      "text/html": [
       "<div>\n",
       "<style scoped>\n",
       "    .dataframe tbody tr th:only-of-type {\n",
       "        vertical-align: middle;\n",
       "    }\n",
       "\n",
       "    .dataframe tbody tr th {\n",
       "        vertical-align: top;\n",
       "    }\n",
       "\n",
       "    .dataframe thead th {\n",
       "        text-align: right;\n",
       "    }\n",
       "</style>\n",
       "<table border=\"1\" class=\"dataframe\">\n",
       "  <thead>\n",
       "    <tr style=\"text-align: right;\">\n",
       "      <th></th>\n",
       "      <th>Feature ID</th>\n",
       "      <th>RF importance</th>\n",
       "      <th>Feature Name</th>\n",
       "      <th>IOP RF Importance</th>\n",
       "      <th>Rank</th>\n",
       "    </tr>\n",
       "  </thead>\n",
       "  <tbody>\n",
       "    <tr>\n",
       "      <th>2643</th>\n",
       "      <td>ICD_10_I10</td>\n",
       "      <td>0.000694</td>\n",
       "      <td>I10 Essential (primary) hypertension</td>\n",
       "      <td>7.875360e-06</td>\n",
       "      <td>372</td>\n",
       "    </tr>\n",
       "    <tr>\n",
       "      <th>5155</th>\n",
       "      <td>Self_Report_1065.0</td>\n",
       "      <td>0.000626</td>\n",
       "      <td>hypertension</td>\n",
       "      <td>1.431032e-05</td>\n",
       "      <td>390</td>\n",
       "    </tr>\n",
       "    <tr>\n",
       "      <th>5240</th>\n",
       "      <td>Self_Report_1242.0</td>\n",
       "      <td>0.000530</td>\n",
       "      <td>eye/eyelid problem</td>\n",
       "      <td>3.318756e-07</td>\n",
       "      <td>438</td>\n",
       "    </tr>\n",
       "    <tr>\n",
       "      <th>6422</th>\n",
       "      <td>Med_1141146188.0</td>\n",
       "      <td>0.000492</td>\n",
       "      <td>latanoprost</td>\n",
       "      <td>1.390138e-07</td>\n",
       "      <td>467</td>\n",
       "    </tr>\n",
       "    <tr>\n",
       "      <th>5857</th>\n",
       "      <td>Med_1140868226.0</td>\n",
       "      <td>0.000455</td>\n",
       "      <td>aspirin</td>\n",
       "      <td>2.260801e-05</td>\n",
       "      <td>506</td>\n",
       "    </tr>\n",
       "    <tr>\n",
       "      <th>2524</th>\n",
       "      <td>ICD_10_H269</td>\n",
       "      <td>0.000382</td>\n",
       "      <td>H26.9 Cataract, unspecified</td>\n",
       "      <td>1.276840e-08</td>\n",
       "      <td>590</td>\n",
       "    </tr>\n",
       "    <tr>\n",
       "      <th>5382</th>\n",
       "      <td>Self_Report_1465.0</td>\n",
       "      <td>0.000308</td>\n",
       "      <td>osteoarthritis</td>\n",
       "      <td>2.631987e-05</td>\n",
       "      <td>684</td>\n",
       "    </tr>\n",
       "    <tr>\n",
       "      <th>2252</th>\n",
       "      <td>ICD_10_E119</td>\n",
       "      <td>0.000292</td>\n",
       "      <td>E11.9 Without complications</td>\n",
       "      <td>1.591044e-08</td>\n",
       "      <td>696</td>\n",
       "    </tr>\n",
       "    <tr>\n",
       "      <th>5268</th>\n",
       "      <td>Self_Report_1278.0</td>\n",
       "      <td>0.000283</td>\n",
       "      <td>cataract</td>\n",
       "      <td>9.021179e-05</td>\n",
       "      <td>706</td>\n",
       "    </tr>\n",
       "    <tr>\n",
       "      <th>5222</th>\n",
       "      <td>Self_Report_1220.0</td>\n",
       "      <td>0.000267</td>\n",
       "      <td>diabetes</td>\n",
       "      <td>1.535563e-06</td>\n",
       "      <td>725</td>\n",
       "    </tr>\n",
       "    <tr>\n",
       "      <th>6423</th>\n",
       "      <td>Med_1141146198.0</td>\n",
       "      <td>0.000264</td>\n",
       "      <td>xalatan 0.005% eye drops</td>\n",
       "      <td>6.583411e-10</td>\n",
       "      <td>728</td>\n",
       "    </tr>\n",
       "    <tr>\n",
       "      <th>5390</th>\n",
       "      <td>Self_Report_1473.0</td>\n",
       "      <td>0.000251</td>\n",
       "      <td>high cholesterol</td>\n",
       "      <td>9.962349e-07</td>\n",
       "      <td>742</td>\n",
       "    </tr>\n",
       "    <tr>\n",
       "      <th>6760</th>\n",
       "      <td>Med_2038460150.0</td>\n",
       "      <td>0.000218</td>\n",
       "      <td>paracetamol</td>\n",
       "      <td>4.912226e-05</td>\n",
       "      <td>784</td>\n",
       "    </tr>\n",
       "    <tr>\n",
       "      <th>6684</th>\n",
       "      <td>Med_1141188442.0</td>\n",
       "      <td>0.000203</td>\n",
       "      <td>glucosamine product</td>\n",
       "      <td>6.613580e-07</td>\n",
       "      <td>808</td>\n",
       "    </tr>\n",
       "    <tr>\n",
       "      <th>5945</th>\n",
       "      <td>Med_1140871310.0</td>\n",
       "      <td>0.000201</td>\n",
       "      <td>ibuprofen</td>\n",
       "      <td>1.799288e-06</td>\n",
       "      <td>810</td>\n",
       "    </tr>\n",
       "    <tr>\n",
       "      <th>6724</th>\n",
       "      <td>Med_1141194794.0</td>\n",
       "      <td>0.000196</td>\n",
       "      <td>bendroflumethiazide</td>\n",
       "      <td>1.063707e-06</td>\n",
       "      <td>820</td>\n",
       "    </tr>\n",
       "    <tr>\n",
       "      <th>4225</th>\n",
       "      <td>ICD_10_R69</td>\n",
       "      <td>0.000193</td>\n",
       "      <td>R69 Unknown and unspecified causes of morbidity</td>\n",
       "      <td>3.946754e-08</td>\n",
       "      <td>830</td>\n",
       "    </tr>\n",
       "    <tr>\n",
       "      <th>6274</th>\n",
       "      <td>Med_1140909674.0</td>\n",
       "      <td>0.000192</td>\n",
       "      <td>cod liver oil capsule</td>\n",
       "      <td>6.532682e-08</td>\n",
       "      <td>832</td>\n",
       "    </tr>\n",
       "    <tr>\n",
       "      <th>5632</th>\n",
       "      <td>Med_1193.0</td>\n",
       "      <td>0.000188</td>\n",
       "      <td>omega-3/fish oil supplement</td>\n",
       "      <td>8.851328e-08</td>\n",
       "      <td>846</td>\n",
       "    </tr>\n",
       "    <tr>\n",
       "      <th>6126</th>\n",
       "      <td>Med_1140879802.0</td>\n",
       "      <td>0.000182</td>\n",
       "      <td>amlodipine</td>\n",
       "      <td>2.805340e-06</td>\n",
       "      <td>851</td>\n",
       "    </tr>\n",
       "    <tr>\n",
       "      <th>2283</th>\n",
       "      <td>ICD_10_E780</td>\n",
       "      <td>0.000180</td>\n",
       "      <td>E78.0 Pure hypercholesterolaemia</td>\n",
       "      <td>8.906180e-08</td>\n",
       "      <td>855</td>\n",
       "    </tr>\n",
       "    <tr>\n",
       "      <th>5705</th>\n",
       "      <td>Med_1140861958.0</td>\n",
       "      <td>0.000179</td>\n",
       "      <td>simvastatin</td>\n",
       "      <td>1.059261e-04</td>\n",
       "      <td>857</td>\n",
       "    </tr>\n",
       "    <tr>\n",
       "      <th>5675</th>\n",
       "      <td>Med_1140860806.0</td>\n",
       "      <td>0.000176</td>\n",
       "      <td>ramipril</td>\n",
       "      <td>3.607889e-07</td>\n",
       "      <td>865</td>\n",
       "    </tr>\n",
       "    <tr>\n",
       "      <th>5319</th>\n",
       "      <td>Self_Report_1387.0</td>\n",
       "      <td>0.000173</td>\n",
       "      <td>hayfever/allergic rhinitis</td>\n",
       "      <td>7.517688e-06</td>\n",
       "      <td>872</td>\n",
       "    </tr>\n",
       "    <tr>\n",
       "      <th>5669</th>\n",
       "      <td>Med_1140860696.0</td>\n",
       "      <td>0.000170</td>\n",
       "      <td>lisinopril</td>\n",
       "      <td>3.745206e-08</td>\n",
       "      <td>877</td>\n",
       "    </tr>\n",
       "    <tr>\n",
       "      <th>4122</th>\n",
       "      <td>ICD_10_R074</td>\n",
       "      <td>0.000159</td>\n",
       "      <td>R07.4 Chest pain, unspecified</td>\n",
       "      <td>1.637692e-06</td>\n",
       "      <td>902</td>\n",
       "    </tr>\n",
       "    <tr>\n",
       "      <th>5176</th>\n",
       "      <td>Self_Report_1111.0</td>\n",
       "      <td>0.000158</td>\n",
       "      <td>asthma</td>\n",
       "      <td>4.907110e-07</td>\n",
       "      <td>907</td>\n",
       "    </tr>\n",
       "    <tr>\n",
       "      <th>5766</th>\n",
       "      <td>Med_1140864752.0</td>\n",
       "      <td>0.000157</td>\n",
       "      <td>lansoprazole</td>\n",
       "      <td>1.317507e-05</td>\n",
       "      <td>910</td>\n",
       "    </tr>\n",
       "    <tr>\n",
       "      <th>5795</th>\n",
       "      <td>Med_1140865634.0</td>\n",
       "      <td>0.000154</td>\n",
       "      <td>omeprazole</td>\n",
       "      <td>2.573213e-07</td>\n",
       "      <td>921</td>\n",
       "    </tr>\n",
       "    <tr>\n",
       "      <th>5479</th>\n",
       "      <td>Self_Report_1571.0</td>\n",
       "      <td>0.000149</td>\n",
       "      <td>chickenpox</td>\n",
       "      <td>1.020722e-08</td>\n",
       "      <td>934</td>\n",
       "    </tr>\n",
       "    <tr>\n",
       "      <th>5192</th>\n",
       "      <td>Self_Report_1138.0</td>\n",
       "      <td>0.000144</td>\n",
       "      <td>gastro-oesophageal reflux (gord) / gastric reflux</td>\n",
       "      <td>2.133821e-07</td>\n",
       "      <td>950</td>\n",
       "    </tr>\n",
       "    <tr>\n",
       "      <th>5824</th>\n",
       "      <td>Med_1140866738.0</td>\n",
       "      <td>0.000144</td>\n",
       "      <td>atenolol</td>\n",
       "      <td>6.371788e-08</td>\n",
       "      <td>952</td>\n",
       "    </tr>\n",
       "    <tr>\n",
       "      <th>4174</th>\n",
       "      <td>ICD_10_R31</td>\n",
       "      <td>0.000140</td>\n",
       "      <td>R31 Unspecified haematuria</td>\n",
       "      <td>1.879735e-07</td>\n",
       "      <td>966</td>\n",
       "    </tr>\n",
       "    <tr>\n",
       "      <th>6424</th>\n",
       "      <td>Med_1141146234.0</td>\n",
       "      <td>0.000140</td>\n",
       "      <td>atorvastatin</td>\n",
       "      <td>1.648493e-08</td>\n",
       "      <td>967</td>\n",
       "    </tr>\n",
       "    <tr>\n",
       "      <th>2897</th>\n",
       "      <td>ICD_10_J459</td>\n",
       "      <td>0.000139</td>\n",
       "      <td>J45.9 Asthma, unspecified</td>\n",
       "      <td>1.538190e-07</td>\n",
       "      <td>972</td>\n",
       "    </tr>\n",
       "    <tr>\n",
       "      <th>3035</th>\n",
       "      <td>ICD_10_K449</td>\n",
       "      <td>0.000138</td>\n",
       "      <td>K44.9 Diaphragmatic hernia without obstruction...</td>\n",
       "      <td>1.339413e-06</td>\n",
       "      <td>974</td>\n",
       "    </tr>\n",
       "    <tr>\n",
       "      <th>5639</th>\n",
       "      <td>Med_99999.0</td>\n",
       "      <td>0.000136</td>\n",
       "      <td>Free-text entry, unable to be coded</td>\n",
       "      <td>4.397242e-06</td>\n",
       "      <td>979</td>\n",
       "    </tr>\n",
       "    <tr>\n",
       "      <th>4941</th>\n",
       "      <td>ICD_10_Z370</td>\n",
       "      <td>0.000136</td>\n",
       "      <td>Z37.0 Single live birth</td>\n",
       "      <td>1.186119e-08</td>\n",
       "      <td>981</td>\n",
       "    </tr>\n",
       "    <tr>\n",
       "      <th>5228</th>\n",
       "      <td>Self_Report_1226.0</td>\n",
       "      <td>0.000131</td>\n",
       "      <td>hypothyroidism/myxoedema</td>\n",
       "      <td>4.003627e-08</td>\n",
       "      <td>1007</td>\n",
       "    </tr>\n",
       "    <tr>\n",
       "      <th>5646</th>\n",
       "      <td>Med_1140852976.0</td>\n",
       "      <td>0.000128</td>\n",
       "      <td>multivitamins</td>\n",
       "      <td>2.285465e-07</td>\n",
       "      <td>1014</td>\n",
       "    </tr>\n",
       "  </tbody>\n",
       "</table>\n",
       "</div>"
      ],
      "text/plain": [
       "              Feature ID  RF importance  \\\n",
       "2643          ICD_10_I10       0.000694   \n",
       "5155  Self_Report_1065.0       0.000626   \n",
       "5240  Self_Report_1242.0       0.000530   \n",
       "6422    Med_1141146188.0       0.000492   \n",
       "5857    Med_1140868226.0       0.000455   \n",
       "2524         ICD_10_H269       0.000382   \n",
       "5382  Self_Report_1465.0       0.000308   \n",
       "2252         ICD_10_E119       0.000292   \n",
       "5268  Self_Report_1278.0       0.000283   \n",
       "5222  Self_Report_1220.0       0.000267   \n",
       "6423    Med_1141146198.0       0.000264   \n",
       "5390  Self_Report_1473.0       0.000251   \n",
       "6760    Med_2038460150.0       0.000218   \n",
       "6684    Med_1141188442.0       0.000203   \n",
       "5945    Med_1140871310.0       0.000201   \n",
       "6724    Med_1141194794.0       0.000196   \n",
       "4225          ICD_10_R69       0.000193   \n",
       "6274    Med_1140909674.0       0.000192   \n",
       "5632          Med_1193.0       0.000188   \n",
       "6126    Med_1140879802.0       0.000182   \n",
       "2283         ICD_10_E780       0.000180   \n",
       "5705    Med_1140861958.0       0.000179   \n",
       "5675    Med_1140860806.0       0.000176   \n",
       "5319  Self_Report_1387.0       0.000173   \n",
       "5669    Med_1140860696.0       0.000170   \n",
       "4122         ICD_10_R074       0.000159   \n",
       "5176  Self_Report_1111.0       0.000158   \n",
       "5766    Med_1140864752.0       0.000157   \n",
       "5795    Med_1140865634.0       0.000154   \n",
       "5479  Self_Report_1571.0       0.000149   \n",
       "5192  Self_Report_1138.0       0.000144   \n",
       "5824    Med_1140866738.0       0.000144   \n",
       "4174          ICD_10_R31       0.000140   \n",
       "6424    Med_1141146234.0       0.000140   \n",
       "2897         ICD_10_J459       0.000139   \n",
       "3035         ICD_10_K449       0.000138   \n",
       "5639         Med_99999.0       0.000136   \n",
       "4941         ICD_10_Z370       0.000136   \n",
       "5228  Self_Report_1226.0       0.000131   \n",
       "5646    Med_1140852976.0       0.000128   \n",
       "\n",
       "                                           Feature Name  IOP RF Importance  \\\n",
       "2643               I10 Essential (primary) hypertension       7.875360e-06   \n",
       "5155                                       hypertension       1.431032e-05   \n",
       "5240                                 eye/eyelid problem       3.318756e-07   \n",
       "6422                                        latanoprost       1.390138e-07   \n",
       "5857                                            aspirin       2.260801e-05   \n",
       "2524                        H26.9 Cataract, unspecified       1.276840e-08   \n",
       "5382                                     osteoarthritis       2.631987e-05   \n",
       "2252                        E11.9 Without complications       1.591044e-08   \n",
       "5268                                           cataract       9.021179e-05   \n",
       "5222                                           diabetes       1.535563e-06   \n",
       "6423                           xalatan 0.005% eye drops       6.583411e-10   \n",
       "5390                                   high cholesterol       9.962349e-07   \n",
       "6760                                        paracetamol       4.912226e-05   \n",
       "6684                                glucosamine product       6.613580e-07   \n",
       "5945                                          ibuprofen       1.799288e-06   \n",
       "6724                                bendroflumethiazide       1.063707e-06   \n",
       "4225    R69 Unknown and unspecified causes of morbidity       3.946754e-08   \n",
       "6274                              cod liver oil capsule       6.532682e-08   \n",
       "5632                        omega-3/fish oil supplement       8.851328e-08   \n",
       "6126                                         amlodipine       2.805340e-06   \n",
       "2283                   E78.0 Pure hypercholesterolaemia       8.906180e-08   \n",
       "5705                                        simvastatin       1.059261e-04   \n",
       "5675                                           ramipril       3.607889e-07   \n",
       "5319                         hayfever/allergic rhinitis       7.517688e-06   \n",
       "5669                                         lisinopril       3.745206e-08   \n",
       "4122                      R07.4 Chest pain, unspecified       1.637692e-06   \n",
       "5176                                             asthma       4.907110e-07   \n",
       "5766                                       lansoprazole       1.317507e-05   \n",
       "5795                                         omeprazole       2.573213e-07   \n",
       "5479                                         chickenpox       1.020722e-08   \n",
       "5192  gastro-oesophageal reflux (gord) / gastric reflux       2.133821e-07   \n",
       "5824                                           atenolol       6.371788e-08   \n",
       "4174                         R31 Unspecified haematuria       1.879735e-07   \n",
       "6424                                       atorvastatin       1.648493e-08   \n",
       "2897                          J45.9 Asthma, unspecified       1.538190e-07   \n",
       "3035  K44.9 Diaphragmatic hernia without obstruction...       1.339413e-06   \n",
       "5639                Free-text entry, unable to be coded       4.397242e-06   \n",
       "4941                            Z37.0 Single live birth       1.186119e-08   \n",
       "5228                           hypothyroidism/myxoedema       4.003627e-08   \n",
       "5646                                      multivitamins       2.285465e-07   \n",
       "\n",
       "      Rank  \n",
       "2643   372  \n",
       "5155   390  \n",
       "5240   438  \n",
       "6422   467  \n",
       "5857   506  \n",
       "2524   590  \n",
       "5382   684  \n",
       "2252   696  \n",
       "5268   706  \n",
       "5222   725  \n",
       "6423   728  \n",
       "5390   742  \n",
       "6760   784  \n",
       "6684   808  \n",
       "5945   810  \n",
       "6724   820  \n",
       "4225   830  \n",
       "6274   832  \n",
       "5632   846  \n",
       "6126   851  \n",
       "2283   855  \n",
       "5705   857  \n",
       "5675   865  \n",
       "5319   872  \n",
       "5669   877  \n",
       "4122   902  \n",
       "5176   907  \n",
       "5766   910  \n",
       "5795   921  \n",
       "5479   934  \n",
       "5192   950  \n",
       "5824   952  \n",
       "4174   966  \n",
       "6424   967  \n",
       "2897   972  \n",
       "3035   974  \n",
       "5639   979  \n",
       "4941   981  \n",
       "5228  1007  \n",
       "5646  1014  "
      ]
     },
     "execution_count": 125,
     "metadata": {},
     "output_type": "execute_result"
    }
   ],
   "source": [
    "df_feature_importances[df_feature_importances['Feature ID'].apply(lambda x: x[:2] != 'f.')].sort_values('RF importance', ascending=False).head(40)"
   ]
  },
  {
   "cell_type": "markdown",
   "id": "75884735-97bb-478c-a0cc-559066bd1cae",
   "metadata": {
    "jp-MarkdownHeadingCollapsed": true,
    "tags": []
   },
   "source": [
    "# Lasso regression"
   ]
  },
  {
   "cell_type": "code",
   "execution_count": 14,
   "id": "3815c8db-5a7e-4aef-a3b4-a396ab7982ad",
   "metadata": {},
   "outputs": [],
   "source": [
    "filtered_matrix = pd.read_pickle(UKBB_PATH+'processed_data/Clinical Feature Selection/filtered_matrix_post_imputation_checkpoint.pkl')"
   ]
  },
  {
   "cell_type": "code",
   "execution_count": 15,
   "id": "a8c8f102-a229-4b4e-a7ca-efa3ebe4f0ce",
   "metadata": {},
   "outputs": [],
   "source": [
    "glaucoma_diagnosis = pd.read_pickle(UKBB_PATH+'processed_data/Clinical Feature Selection/glaucoma_diagnosis_checkpoint.pkl')"
   ]
  },
  {
   "cell_type": "markdown",
   "id": "cc4b218d-18c4-4009-b342-49365ceb642c",
   "metadata": {},
   "source": [
    "Get a small set"
   ]
  },
  {
   "cell_type": "code",
   "execution_count": 65,
   "id": "0d4b669a-1081-4f6c-af82-206c6f05710a",
   "metadata": {},
   "outputs": [],
   "source": [
    "t0 = time.time()"
   ]
  },
  {
   "cell_type": "code",
   "execution_count": 66,
   "id": "5bd3f9c7-fcef-4554-9828-58544567a1b8",
   "metadata": {},
   "outputs": [],
   "source": [
    "train_idx_small, val_idx_small = train_test_split(range(len(glaucoma_diagnosis)),random_state=TEST_SET_RANDOM_SPLIT, train_size=0.1, test_size=0.1)"
   ]
  },
  {
   "cell_type": "code",
   "execution_count": 67,
   "id": "88584a79-9c47-4d41-8d24-2fe15e08effc",
   "metadata": {},
   "outputs": [],
   "source": [
    "train_matrix = filtered_matrix.iloc[train_idx_small].to_numpy()\n",
    "val_matrix = filtered_matrix.iloc[val_idx_small].to_numpy()"
   ]
  },
  {
   "cell_type": "code",
   "execution_count": 68,
   "id": "0171cc7c-23e9-4fcb-89d0-1bcaeea10772",
   "metadata": {},
   "outputs": [],
   "source": [
    "train_target = glaucoma_diagnosis[train_idx_small].to_numpy()\n",
    "val_target = glaucoma_diagnosis[val_idx_small].to_numpy()"
   ]
  },
  {
   "cell_type": "code",
   "execution_count": 69,
   "id": "956234e7-1c45-4ce9-91cf-c805928ac3d6",
   "metadata": {},
   "outputs": [],
   "source": [
    "from sklearn.linear_model import LogisticRegression\n",
    "from sklearn.preprocessing import StandardScaler"
   ]
  },
  {
   "cell_type": "code",
   "execution_count": 70,
   "id": "e2261157-089c-427a-9fd6-ac9ae0f8c14b",
   "metadata": {},
   "outputs": [],
   "source": [
    "std_scaler = StandardScaler()"
   ]
  },
  {
   "cell_type": "code",
   "execution_count": 71,
   "id": "701ba94f-976d-4609-b003-cd2174be4801",
   "metadata": {},
   "outputs": [],
   "source": [
    "train_matrix = std_scaler.fit_transform(train_matrix)"
   ]
  },
  {
   "cell_type": "code",
   "execution_count": 72,
   "id": "dafd8385-c412-416b-8733-f27c19b8045e",
   "metadata": {},
   "outputs": [],
   "source": [
    "val_matrix = std_scaler.transform(val_matrix)"
   ]
  },
  {
   "cell_type": "code",
   "execution_count": 73,
   "id": "76855248-3df3-4f92-af0d-268b6268f899",
   "metadata": {},
   "outputs": [],
   "source": [
    "log_reg = LogisticRegression(penalty='l1',class_weight='balanced',verbose=2,solver='liblinear',random_state=42)"
   ]
  },
  {
   "cell_type": "code",
   "execution_count": 74,
   "id": "07d146c4-79c8-43d4-94de-a9870a09d181",
   "metadata": {},
   "outputs": [
    {
     "name": "stdout",
     "output_type": "stream",
     "text": [
      "[LibLinear]iter   1  #CD cycles 1\n",
      "iter   2  #CD cycles 1\n",
      "iter   3  #CD cycles 3\n",
      "iter   4  #CD cycles 1\n",
      "iter   5  #CD cycles 7\n",
      "iter   6  #CD cycles 2\n",
      "iter   7  #CD cycles 1\n",
      "iter   8  #CD cycles 30\n",
      "iter   9  #CD cycles 31\n",
      "iter  10  #CD cycles 18\n",
      "iter  11  #CD cycles 17\n",
      "iter  12  #CD cycles 19\n",
      "iter  13  #CD cycles 10\n",
      "iter  14  #CD cycles 7\n",
      "iter  15  #CD cycles 1\n",
      "iter  16  #CD cycles 150\n",
      "iter  17  #CD cycles 72\n",
      "iter  18  #CD cycles 14\n",
      "iter  19  #CD cycles 1\n",
      "iter  20  #CD cycles 581\n",
      "iter  21  #CD cycles 199\n",
      "iter  22  #CD cycles 15\n",
      "iter  23  #CD cycles 7\n",
      "iter  24  #CD cycles 10\n",
      "iter  25  #CD cycles 3\n",
      "iter  26  #CD cycles 1\n",
      "WARNING: reaching max number of inner iterations\n",
      "iter  27  #CD cycles 1000\n",
      "WARNING: reaching max number of inner iterations\n",
      "iter  28  #CD cycles 1000\n",
      "iter  29  #CD cycles 154\n",
      "iter  30  #CD cycles 51\n",
      "iter  31  #CD cycles 13\n",
      "iter  32  #CD cycles 1\n",
      "WARNING: reaching max number of inner iterations\n",
      "iter  33  #CD cycles 1000\n",
      "WARNING: reaching max number of inner iterations\n",
      "iter  34  #CD cycles 1000\n",
      "WARNING: reaching max number of inner iterations\n",
      "iter  35  #CD cycles 1000\n",
      "WARNING: reaching max number of inner iterations\n",
      "iter  36  #CD cycles 1000\n",
      "WARNING: reaching max number of inner iterations\n",
      "iter  37  #CD cycles 1000\n",
      "WARNING: reaching max number of inner iterations\n",
      "iter  38  #CD cycles 1000\n",
      "iter  39  #CD cycles 125\n",
      "iter  40  #CD cycles 164\n",
      "iter  41  #CD cycles 8\n",
      "iter  42  #CD cycles 3\n",
      "iter  43  #CD cycles 124\n",
      "iter  44  #CD cycles 12\n",
      "iter  45  #CD cycles 11\n",
      "iter  46  #CD cycles 8\n",
      "iter  47  #CD cycles 2\n",
      "iter  48  #CD cycles 9\n",
      "iter  49  #CD cycles 14\n",
      "iter  50  #CD cycles 34\n",
      "iter  51  #CD cycles 9\n",
      "iter  52  #CD cycles 49\n",
      "iter  53  #CD cycles 1\n",
      "WARNING: reaching max number of inner iterations\n",
      "iter  54  #CD cycles 1000\n",
      "WARNING: reaching max number of inner iterations\n",
      "iter  55  #CD cycles 1000\n",
      "WARNING: reaching max number of inner iterations\n",
      "iter  56  #CD cycles 1000\n",
      "WARNING: reaching max number of inner iterations\n",
      "iter  57  #CD cycles 1000\n",
      "WARNING: reaching max number of inner iterations\n",
      "iter  58  #CD cycles 1000\n",
      "WARNING: reaching max number of inner iterations\n",
      "iter  59  #CD cycles 1000\n",
      "WARNING: reaching max number of inner iterations\n",
      "iter  60  #CD cycles 1000\n",
      "WARNING: reaching max number of inner iterations\n",
      "iter  61  #CD cycles 1000\n",
      "WARNING: reaching max number of inner iterations\n",
      "iter  62  #CD cycles 1000\n",
      "WARNING: reaching max number of inner iterations\n",
      "iter  63  #CD cycles 1000\n",
      "WARNING: reaching max number of inner iterations\n",
      "iter  64  #CD cycles 1000\n",
      "WARNING: reaching max number of inner iterations\n",
      "iter  65  #CD cycles 1000\n",
      "WARNING: reaching max number of inner iterations\n",
      "iter  66  #CD cycles 1000\n",
      "WARNING: reaching max number of inner iterations\n",
      "iter  67  #CD cycles 1000\n",
      "WARNING: reaching max number of inner iterations\n",
      "iter  68  #CD cycles 1000\n",
      "WARNING: reaching max number of inner iterations\n",
      "iter  69  #CD cycles 1000\n",
      "WARNING: reaching max number of inner iterations\n",
      "iter  70  #CD cycles 1000\n",
      "iter  71  #CD cycles 598\n",
      "WARNING: reaching max number of inner iterations\n",
      "iter  72  #CD cycles 1000\n",
      "iter  73  #CD cycles 690\n",
      "iter  74  #CD cycles 415\n",
      "iter  75  #CD cycles 34\n",
      "iter  76  #CD cycles 143\n",
      "iter  77  #CD cycles 102\n",
      "iter  78  #CD cycles 66\n",
      "iter  79  #CD cycles 106\n",
      "iter  80  #CD cycles 26\n",
      "iter  81  #CD cycles 13\n",
      "iter  82  #CD cycles 34\n",
      "iter  83  #CD cycles 63\n",
      "iter  84  #CD cycles 74\n",
      "iter  85  #CD cycles 44\n",
      "iter  86  #CD cycles 3\n",
      "iter  87  #CD cycles 36\n",
      "iter  88  #CD cycles 1\n",
      "WARNING: reaching max number of inner iterations\n",
      "iter  89  #CD cycles 1000\n",
      "WARNING: reaching max number of inner iterations\n",
      "iter  90  #CD cycles 1000\n",
      "WARNING: reaching max number of inner iterations\n",
      "iter  91  #CD cycles 1000\n",
      "WARNING: reaching max number of inner iterations\n",
      "iter  92  #CD cycles 1000\n",
      "WARNING: reaching max number of inner iterations\n",
      "iter  93  #CD cycles 1000\n",
      "WARNING: reaching max number of inner iterations\n",
      "iter  94  #CD cycles 1000\n",
      "WARNING: reaching max number of inner iterations\n",
      "iter  95  #CD cycles 1000\n",
      "WARNING: reaching max number of inner iterations\n",
      "iter  96  #CD cycles 1000\n",
      "WARNING: reaching max number of inner iterations\n",
      "iter  97  #CD cycles 1000\n",
      "WARNING: reaching max number of inner iterations\n",
      "iter  98  #CD cycles 1000\n",
      "WARNING: reaching max number of inner iterations\n",
      "iter  99  #CD cycles 1000\n",
      "WARNING: reaching max number of inner iterations\n",
      "iter 100  #CD cycles 1000\n",
      "=========================\n",
      "optimization finished, #iter = 100\n",
      "WARNING: reaching max number of iterations\n",
      "Objective value = 9821.535386\n",
      "#nonzeros/#features = 1458/1562\n"
     ]
    },
    {
     "data": {
      "text/plain": [
       "LogisticRegression(class_weight='balanced', penalty='l1', random_state=42,\n",
       "                   solver='liblinear', verbose=2)"
      ]
     },
     "execution_count": 74,
     "metadata": {},
     "output_type": "execute_result"
    }
   ],
   "source": [
    "log_reg.fit(train_matrix,train_target)"
   ]
  },
  {
   "cell_type": "code",
   "execution_count": 78,
   "id": "56e97618-2bbb-4ea1-9578-d64d5ec96449",
   "metadata": {},
   "outputs": [],
   "source": [
    "df_feature_weights = pd.DataFrame()\n",
    "df_feature_weights['Feature ID'] = filtered_matrix.columns\n",
    "df_feature_weights['Feature Names'] = df_feature_weights['Feature ID'].apply(feature_id_to_name)\n",
    "df_feature_weights['Weight'] = log_reg.coef_[0]\n",
    "df_feature_weights['Abs Weight'] = df_feature_weights['Weight'].apply(lambda x: np.abs(x))"
   ]
  },
  {
   "cell_type": "code",
   "execution_count": 79,
   "id": "15d7c6aa-110b-4068-b0d5-333ece61eca7",
   "metadata": {},
   "outputs": [
    {
     "data": {
      "text/html": [
       "<div>\n",
       "<style scoped>\n",
       "    .dataframe tbody tr th:only-of-type {\n",
       "        vertical-align: middle;\n",
       "    }\n",
       "\n",
       "    .dataframe tbody tr th {\n",
       "        vertical-align: top;\n",
       "    }\n",
       "\n",
       "    .dataframe thead th {\n",
       "        text-align: right;\n",
       "    }\n",
       "</style>\n",
       "<table border=\"1\" class=\"dataframe\">\n",
       "  <thead>\n",
       "    <tr style=\"text-align: right;\">\n",
       "      <th></th>\n",
       "      <th>Feature ID</th>\n",
       "      <th>Feature Names</th>\n",
       "      <th>Weight</th>\n",
       "      <th>Abs Weight</th>\n",
       "    </tr>\n",
       "  </thead>\n",
       "  <tbody>\n",
       "    <tr>\n",
       "      <th>266</th>\n",
       "      <td>f.90126.0.0</td>\n",
       "      <td>Fraction acceleration &lt;= 95 milli-gravities</td>\n",
       "      <td>11.370685</td>\n",
       "      <td>11.370685</td>\n",
       "    </tr>\n",
       "    <tr>\n",
       "      <th>248</th>\n",
       "      <td>f.90108.0.0</td>\n",
       "      <td>Fraction acceleration &lt;= 17 milli-gravities</td>\n",
       "      <td>-7.499328</td>\n",
       "      <td>7.499328</td>\n",
       "    </tr>\n",
       "    <tr>\n",
       "      <th>596</th>\n",
       "      <td>f.5205.0.0_0.0</td>\n",
       "      <td>Direct or mirror view (right)_0_0.0</td>\n",
       "      <td>7.337325</td>\n",
       "      <td>7.337325</td>\n",
       "    </tr>\n",
       "    <tr>\n",
       "      <th>267</th>\n",
       "      <td>f.90127.0.0</td>\n",
       "      <td>Fraction acceleration &lt;= 100 milli-gravities</td>\n",
       "      <td>-6.729832</td>\n",
       "      <td>6.729832</td>\n",
       "    </tr>\n",
       "    <tr>\n",
       "      <th>249</th>\n",
       "      <td>f.90109.0.0</td>\n",
       "      <td>Fraction acceleration &lt;= 18 milli-gravities</td>\n",
       "      <td>5.952268</td>\n",
       "      <td>5.952268</td>\n",
       "    </tr>\n",
       "    <tr>\n",
       "      <th>588</th>\n",
       "      <td>f.5182.0.0_1.0</td>\n",
       "      <td>Both eyes present_0_1.0</td>\n",
       "      <td>-4.827424</td>\n",
       "      <td>4.827424</td>\n",
       "    </tr>\n",
       "    <tr>\n",
       "      <th>263</th>\n",
       "      <td>f.90123.0.0</td>\n",
       "      <td>Fraction acceleration &lt;= 80 milli-gravities</td>\n",
       "      <td>-4.524578</td>\n",
       "      <td>4.524578</td>\n",
       "    </tr>\n",
       "    <tr>\n",
       "      <th>256</th>\n",
       "      <td>f.90116.0.0</td>\n",
       "      <td>Fraction acceleration &lt;= 45 milli-gravities</td>\n",
       "      <td>4.423517</td>\n",
       "      <td>4.423517</td>\n",
       "    </tr>\n",
       "    <tr>\n",
       "      <th>623</th>\n",
       "      <td>f.6019.0.0_1.0</td>\n",
       "      <td>ECG/bike method for fitness test_0_1.0</td>\n",
       "      <td>-4.081067</td>\n",
       "      <td>4.081067</td>\n",
       "    </tr>\n",
       "    <tr>\n",
       "      <th>276</th>\n",
       "      <td>f.90136.0.0</td>\n",
       "      <td>Fraction acceleration &lt;= 325 milli-gravities</td>\n",
       "      <td>-3.812459</td>\n",
       "      <td>3.812459</td>\n",
       "    </tr>\n",
       "    <tr>\n",
       "      <th>255</th>\n",
       "      <td>f.90115.0.0</td>\n",
       "      <td>Fraction acceleration &lt;= 40 milli-gravities</td>\n",
       "      <td>-3.787138</td>\n",
       "      <td>3.787138</td>\n",
       "    </tr>\n",
       "    <tr>\n",
       "      <th>624</th>\n",
       "      <td>f.6020.0.0_1.0</td>\n",
       "      <td>Completion status of test_0_1.0</td>\n",
       "      <td>3.404708</td>\n",
       "      <td>3.404708</td>\n",
       "    </tr>\n",
       "    <tr>\n",
       "      <th>275</th>\n",
       "      <td>f.90135.0.0</td>\n",
       "      <td>Fraction acceleration &lt;= 300 milli-gravities</td>\n",
       "      <td>3.161373</td>\n",
       "      <td>3.161373</td>\n",
       "    </tr>\n",
       "    <tr>\n",
       "      <th>293</th>\n",
       "      <td>f.90185.0.0</td>\n",
       "      <td>Readings exceeding +/-8 gravities after calibr...</td>\n",
       "      <td>3.116184</td>\n",
       "      <td>3.116184</td>\n",
       "    </tr>\n",
       "    <tr>\n",
       "      <th>291</th>\n",
       "      <td>f.90183.0.0</td>\n",
       "      <td>Readings exceeding +/-8 gravities before calib...</td>\n",
       "      <td>-3.103734</td>\n",
       "      <td>3.103734</td>\n",
       "    </tr>\n",
       "    <tr>\n",
       "      <th>479</th>\n",
       "      <td>f.2492.0.0_0.0</td>\n",
       "      <td>Taking other prescription medications_0_0.0</td>\n",
       "      <td>3.078607</td>\n",
       "      <td>3.078607</td>\n",
       "    </tr>\n",
       "    <tr>\n",
       "      <th>108</th>\n",
       "      <td>f.5992.0.0</td>\n",
       "      <td>ECG, phase duration_0</td>\n",
       "      <td>-3.063986</td>\n",
       "      <td>3.063986</td>\n",
       "    </tr>\n",
       "    <tr>\n",
       "      <th>480</th>\n",
       "      <td>f.2492.0.0_1.0</td>\n",
       "      <td>Taking other prescription medications_0_1.0</td>\n",
       "      <td>3.055963</td>\n",
       "      <td>3.055963</td>\n",
       "    </tr>\n",
       "    <tr>\n",
       "      <th>589</th>\n",
       "      <td>f.5183.0.0_0.0</td>\n",
       "      <td>Current eye infection_0_0.0</td>\n",
       "      <td>-2.992552</td>\n",
       "      <td>2.992552</td>\n",
       "    </tr>\n",
       "    <tr>\n",
       "      <th>278</th>\n",
       "      <td>f.90138.0.0</td>\n",
       "      <td>Fraction acceleration &lt;= 375 milli-gravities</td>\n",
       "      <td>2.945380</td>\n",
       "      <td>2.945380</td>\n",
       "    </tr>\n",
       "    <tr>\n",
       "      <th>2</th>\n",
       "      <td>f.34.0.0</td>\n",
       "      <td>Year of birth</td>\n",
       "      <td>-2.881776</td>\n",
       "      <td>2.881776</td>\n",
       "    </tr>\n",
       "    <tr>\n",
       "      <th>573</th>\n",
       "      <td>f.4728.0.0_1.0</td>\n",
       "      <td>Leg pain on walking_0_1.0</td>\n",
       "      <td>-2.770352</td>\n",
       "      <td>2.770352</td>\n",
       "    </tr>\n",
       "    <tr>\n",
       "      <th>592</th>\n",
       "      <td>f.5189.0.0_1.0</td>\n",
       "      <td>Auto-refraction method (right)_0_1.0</td>\n",
       "      <td>2.708422</td>\n",
       "      <td>2.708422</td>\n",
       "    </tr>\n",
       "    <tr>\n",
       "      <th>272</th>\n",
       "      <td>f.90132.0.0</td>\n",
       "      <td>Fraction acceleration &lt;= 225 milli-gravities</td>\n",
       "      <td>2.536452</td>\n",
       "      <td>2.536452</td>\n",
       "    </tr>\n",
       "    <tr>\n",
       "      <th>1076</th>\n",
       "      <td>f.41251.0.0_1000.0</td>\n",
       "      <td>Sources of admission to hospital (recoded)_0_1...</td>\n",
       "      <td>2.470332</td>\n",
       "      <td>2.470332</td>\n",
       "    </tr>\n",
       "    <tr>\n",
       "      <th>187</th>\n",
       "      <td>f.30290.0.0</td>\n",
       "      <td>High light scatter reticulocyte percentage_0</td>\n",
       "      <td>-2.340337</td>\n",
       "      <td>2.340337</td>\n",
       "    </tr>\n",
       "    <tr>\n",
       "      <th>905</th>\n",
       "      <td>f.22134.0.0_0.0</td>\n",
       "      <td>Doctor diagnosed bronchiectasis_0.0</td>\n",
       "      <td>-2.339857</td>\n",
       "      <td>2.339857</td>\n",
       "    </tr>\n",
       "    <tr>\n",
       "      <th>455</th>\n",
       "      <td>f.2296.0.0_1.0</td>\n",
       "      <td>Falls in the last year_0_1.0</td>\n",
       "      <td>2.324229</td>\n",
       "      <td>2.324229</td>\n",
       "    </tr>\n",
       "    <tr>\n",
       "      <th>314</th>\n",
       "      <td>f.54.0.0_11005.0</td>\n",
       "      <td>UK Biobank assessment centre_0_11005.0</td>\n",
       "      <td>-2.303579</td>\n",
       "      <td>2.303579</td>\n",
       "    </tr>\n",
       "    <tr>\n",
       "      <th>271</th>\n",
       "      <td>f.90131.0.0</td>\n",
       "      <td>Fraction acceleration &lt;= 200 milli-gravities</td>\n",
       "      <td>-2.201401</td>\n",
       "      <td>2.201401</td>\n",
       "    </tr>\n",
       "    <tr>\n",
       "      <th>246</th>\n",
       "      <td>f.90106.0.0</td>\n",
       "      <td>Fraction acceleration &lt;= 15 milli-gravities</td>\n",
       "      <td>2.186957</td>\n",
       "      <td>2.186957</td>\n",
       "    </tr>\n",
       "    <tr>\n",
       "      <th>531</th>\n",
       "      <td>f.3606.0.0_0.0</td>\n",
       "      <td>Chest pain or discomfort walking normally_0_0.0</td>\n",
       "      <td>2.154652</td>\n",
       "      <td>2.154652</td>\n",
       "    </tr>\n",
       "    <tr>\n",
       "      <th>380</th>\n",
       "      <td>f.1190.0.0_2.0</td>\n",
       "      <td>Nap during day_0_2.0</td>\n",
       "      <td>2.112582</td>\n",
       "      <td>2.112582</td>\n",
       "    </tr>\n",
       "    <tr>\n",
       "      <th>461</th>\n",
       "      <td>f.2335.0.0_1.0</td>\n",
       "      <td>Chest pain or discomfort_0_1.0</td>\n",
       "      <td>-2.095189</td>\n",
       "      <td>2.095189</td>\n",
       "    </tr>\n",
       "    <tr>\n",
       "      <th>710</th>\n",
       "      <td>f.20118.0.0_11.0</td>\n",
       "      <td>Home area population density - urban or rural_...</td>\n",
       "      <td>2.048876</td>\n",
       "      <td>2.048876</td>\n",
       "    </tr>\n",
       "    <tr>\n",
       "      <th>379</th>\n",
       "      <td>f.1190.0.0_1.0</td>\n",
       "      <td>Nap during day_0_1.0</td>\n",
       "      <td>2.038278</td>\n",
       "      <td>2.038278</td>\n",
       "    </tr>\n",
       "    <tr>\n",
       "      <th>313</th>\n",
       "      <td>f.54.0.0_11004.0</td>\n",
       "      <td>UK Biobank assessment centre_0_11004.0</td>\n",
       "      <td>-2.037603</td>\n",
       "      <td>2.037603</td>\n",
       "    </tr>\n",
       "    <tr>\n",
       "      <th>456</th>\n",
       "      <td>f.2296.0.0_2.0</td>\n",
       "      <td>Falls in the last year_0_2.0</td>\n",
       "      <td>2.013661</td>\n",
       "      <td>2.013661</td>\n",
       "    </tr>\n",
       "    <tr>\n",
       "      <th>273</th>\n",
       "      <td>f.90133.0.0</td>\n",
       "      <td>Fraction acceleration &lt;= 250 milli-gravities</td>\n",
       "      <td>-2.007290</td>\n",
       "      <td>2.007290</td>\n",
       "    </tr>\n",
       "    <tr>\n",
       "      <th>236</th>\n",
       "      <td>f.90096.0.0</td>\n",
       "      <td>Fraction acceleration &lt;= 5 milli-gravities</td>\n",
       "      <td>-1.952520</td>\n",
       "      <td>1.952520</td>\n",
       "    </tr>\n",
       "    <tr>\n",
       "      <th>517</th>\n",
       "      <td>f.3140.0.0_0.0</td>\n",
       "      <td>Pregnant_0_0.0</td>\n",
       "      <td>1.911517</td>\n",
       "      <td>1.911517</td>\n",
       "    </tr>\n",
       "    <tr>\n",
       "      <th>594</th>\n",
       "      <td>f.5194.0.0_1.0</td>\n",
       "      <td>Intra-ocular pressure (IOP) method (right)_0_1.0</td>\n",
       "      <td>-1.860061</td>\n",
       "      <td>1.860061</td>\n",
       "    </tr>\n",
       "    <tr>\n",
       "      <th>286</th>\n",
       "      <td>f.90146.0.0</td>\n",
       "      <td>Fraction acceleration &lt;= 800 milli-gravities</td>\n",
       "      <td>1.814507</td>\n",
       "      <td>1.814507</td>\n",
       "    </tr>\n",
       "    <tr>\n",
       "      <th>1044</th>\n",
       "      <td>f.41223.0.0_4.0</td>\n",
       "      <td>Delivery places_0_4.0</td>\n",
       "      <td>-1.795259</td>\n",
       "      <td>1.795259</td>\n",
       "    </tr>\n",
       "    <tr>\n",
       "      <th>529</th>\n",
       "      <td>f.3591.0.0_0.0</td>\n",
       "      <td>Ever had hysterectomy (womb removed)_0_0.0</td>\n",
       "      <td>1.725737</td>\n",
       "      <td>1.725737</td>\n",
       "    </tr>\n",
       "    <tr>\n",
       "      <th>279</th>\n",
       "      <td>f.90139.0.0</td>\n",
       "      <td>Fraction acceleration &lt;= 400 milli-gravities</td>\n",
       "      <td>-1.692042</td>\n",
       "      <td>1.692042</td>\n",
       "    </tr>\n",
       "    <tr>\n",
       "      <th>574</th>\n",
       "      <td>f.4792.0.0_0.0</td>\n",
       "      <td>Cochlear implant_0_0.0</td>\n",
       "      <td>-1.677388</td>\n",
       "      <td>1.677388</td>\n",
       "    </tr>\n",
       "    <tr>\n",
       "      <th>148</th>\n",
       "      <td>f.22501.0.0</td>\n",
       "      <td>Year ended full time education</td>\n",
       "      <td>1.640953</td>\n",
       "      <td>1.640953</td>\n",
       "    </tr>\n",
       "    <tr>\n",
       "      <th>472</th>\n",
       "      <td>f.2415.0.0_1.0</td>\n",
       "      <td>Had major operations_0_1.0</td>\n",
       "      <td>1.634421</td>\n",
       "      <td>1.634421</td>\n",
       "    </tr>\n",
       "    <tr>\n",
       "      <th>611</th>\n",
       "      <td>f.5540.0.0_0.0</td>\n",
       "      <td>Surgery/amputation of toe or leg_0_0.0</td>\n",
       "      <td>1.547051</td>\n",
       "      <td>1.547051</td>\n",
       "    </tr>\n",
       "    <tr>\n",
       "      <th>751</th>\n",
       "      <td>f.20421.0.0_0.0</td>\n",
       "      <td>Ever felt worried, tense, or anxious for most ...</td>\n",
       "      <td>1.520288</td>\n",
       "      <td>1.520288</td>\n",
       "    </tr>\n",
       "    <tr>\n",
       "      <th>457</th>\n",
       "      <td>f.2296.0.0_3.0</td>\n",
       "      <td>Falls in the last year_0_3.0</td>\n",
       "      <td>1.513014</td>\n",
       "      <td>1.513014</td>\n",
       "    </tr>\n",
       "    <tr>\n",
       "      <th>794</th>\n",
       "      <td>f.20485.0.0_0.0</td>\n",
       "      <td>Ever contemplated self-harm_0.0</td>\n",
       "      <td>-1.500305</td>\n",
       "      <td>1.500305</td>\n",
       "    </tr>\n",
       "    <tr>\n",
       "      <th>487</th>\n",
       "      <td>f.2674.0.0_1.0</td>\n",
       "      <td>Ever had breast cancer screening / mammogram_0...</td>\n",
       "      <td>-1.499717</td>\n",
       "      <td>1.499717</td>\n",
       "    </tr>\n",
       "    <tr>\n",
       "      <th>855</th>\n",
       "      <td>f.20531.0.0_0.0</td>\n",
       "      <td>Victim of sexual assault_0.0</td>\n",
       "      <td>-1.486888</td>\n",
       "      <td>1.486888</td>\n",
       "    </tr>\n",
       "    <tr>\n",
       "      <th>638</th>\n",
       "      <td>f.6142.0.0_1.0</td>\n",
       "      <td>Current employment status_0_1.0</td>\n",
       "      <td>-1.472571</td>\n",
       "      <td>1.472571</td>\n",
       "    </tr>\n",
       "    <tr>\n",
       "      <th>990</th>\n",
       "      <td>f.30835.0.0_1.0</td>\n",
       "      <td>SHBG missing reason_0_1.0</td>\n",
       "      <td>-1.437720</td>\n",
       "      <td>1.437720</td>\n",
       "    </tr>\n",
       "    <tr>\n",
       "      <th>150</th>\n",
       "      <td>f.22602.0.0</td>\n",
       "      <td>Year job started_0</td>\n",
       "      <td>-1.433046</td>\n",
       "      <td>1.433046</td>\n",
       "    </tr>\n",
       "    <tr>\n",
       "      <th>788</th>\n",
       "      <td>f.20468.0.0_0.0</td>\n",
       "      <td>Ever believed in an un-real conspiracy against...</td>\n",
       "      <td>1.400535</td>\n",
       "      <td>1.400535</td>\n",
       "    </tr>\n",
       "    <tr>\n",
       "      <th>904</th>\n",
       "      <td>f.22133.0.0_0.0</td>\n",
       "      <td>Doctor diagnosed sarcoidosis_0.0</td>\n",
       "      <td>-1.383121</td>\n",
       "      <td>1.383121</td>\n",
       "    </tr>\n",
       "  </tbody>\n",
       "</table>\n",
       "</div>"
      ],
      "text/plain": [
       "              Feature ID                                      Feature Names  \\\n",
       "266          f.90126.0.0        Fraction acceleration <= 95 milli-gravities   \n",
       "248          f.90108.0.0        Fraction acceleration <= 17 milli-gravities   \n",
       "596       f.5205.0.0_0.0                Direct or mirror view (right)_0_0.0   \n",
       "267          f.90127.0.0       Fraction acceleration <= 100 milli-gravities   \n",
       "249          f.90109.0.0        Fraction acceleration <= 18 milli-gravities   \n",
       "588       f.5182.0.0_1.0                            Both eyes present_0_1.0   \n",
       "263          f.90123.0.0        Fraction acceleration <= 80 milli-gravities   \n",
       "256          f.90116.0.0        Fraction acceleration <= 45 milli-gravities   \n",
       "623       f.6019.0.0_1.0             ECG/bike method for fitness test_0_1.0   \n",
       "276          f.90136.0.0       Fraction acceleration <= 325 milli-gravities   \n",
       "255          f.90115.0.0        Fraction acceleration <= 40 milli-gravities   \n",
       "624       f.6020.0.0_1.0                    Completion status of test_0_1.0   \n",
       "275          f.90135.0.0       Fraction acceleration <= 300 milli-gravities   \n",
       "293          f.90185.0.0  Readings exceeding +/-8 gravities after calibr...   \n",
       "291          f.90183.0.0  Readings exceeding +/-8 gravities before calib...   \n",
       "479       f.2492.0.0_0.0        Taking other prescription medications_0_0.0   \n",
       "108           f.5992.0.0                              ECG, phase duration_0   \n",
       "480       f.2492.0.0_1.0        Taking other prescription medications_0_1.0   \n",
       "589       f.5183.0.0_0.0                        Current eye infection_0_0.0   \n",
       "278          f.90138.0.0       Fraction acceleration <= 375 milli-gravities   \n",
       "2               f.34.0.0                                      Year of birth   \n",
       "573       f.4728.0.0_1.0                          Leg pain on walking_0_1.0   \n",
       "592       f.5189.0.0_1.0               Auto-refraction method (right)_0_1.0   \n",
       "272          f.90132.0.0       Fraction acceleration <= 225 milli-gravities   \n",
       "1076  f.41251.0.0_1000.0  Sources of admission to hospital (recoded)_0_1...   \n",
       "187          f.30290.0.0       High light scatter reticulocyte percentage_0   \n",
       "905      f.22134.0.0_0.0                Doctor diagnosed bronchiectasis_0.0   \n",
       "455       f.2296.0.0_1.0                       Falls in the last year_0_1.0   \n",
       "314     f.54.0.0_11005.0             UK Biobank assessment centre_0_11005.0   \n",
       "271          f.90131.0.0       Fraction acceleration <= 200 milli-gravities   \n",
       "246          f.90106.0.0        Fraction acceleration <= 15 milli-gravities   \n",
       "531       f.3606.0.0_0.0    Chest pain or discomfort walking normally_0_0.0   \n",
       "380       f.1190.0.0_2.0                               Nap during day_0_2.0   \n",
       "461       f.2335.0.0_1.0                     Chest pain or discomfort_0_1.0   \n",
       "710     f.20118.0.0_11.0  Home area population density - urban or rural_...   \n",
       "379       f.1190.0.0_1.0                               Nap during day_0_1.0   \n",
       "313     f.54.0.0_11004.0             UK Biobank assessment centre_0_11004.0   \n",
       "456       f.2296.0.0_2.0                       Falls in the last year_0_2.0   \n",
       "273          f.90133.0.0       Fraction acceleration <= 250 milli-gravities   \n",
       "236          f.90096.0.0         Fraction acceleration <= 5 milli-gravities   \n",
       "517       f.3140.0.0_0.0                                     Pregnant_0_0.0   \n",
       "594       f.5194.0.0_1.0   Intra-ocular pressure (IOP) method (right)_0_1.0   \n",
       "286          f.90146.0.0       Fraction acceleration <= 800 milli-gravities   \n",
       "1044     f.41223.0.0_4.0                              Delivery places_0_4.0   \n",
       "529       f.3591.0.0_0.0         Ever had hysterectomy (womb removed)_0_0.0   \n",
       "279          f.90139.0.0       Fraction acceleration <= 400 milli-gravities   \n",
       "574       f.4792.0.0_0.0                             Cochlear implant_0_0.0   \n",
       "148          f.22501.0.0                     Year ended full time education   \n",
       "472       f.2415.0.0_1.0                         Had major operations_0_1.0   \n",
       "611       f.5540.0.0_0.0             Surgery/amputation of toe or leg_0_0.0   \n",
       "751      f.20421.0.0_0.0  Ever felt worried, tense, or anxious for most ...   \n",
       "457       f.2296.0.0_3.0                       Falls in the last year_0_3.0   \n",
       "794      f.20485.0.0_0.0                    Ever contemplated self-harm_0.0   \n",
       "487       f.2674.0.0_1.0  Ever had breast cancer screening / mammogram_0...   \n",
       "855      f.20531.0.0_0.0                       Victim of sexual assault_0.0   \n",
       "638       f.6142.0.0_1.0                    Current employment status_0_1.0   \n",
       "990      f.30835.0.0_1.0                          SHBG missing reason_0_1.0   \n",
       "150          f.22602.0.0                                 Year job started_0   \n",
       "788      f.20468.0.0_0.0  Ever believed in an un-real conspiracy against...   \n",
       "904      f.22133.0.0_0.0                   Doctor diagnosed sarcoidosis_0.0   \n",
       "\n",
       "         Weight  Abs Weight  \n",
       "266   11.370685   11.370685  \n",
       "248   -7.499328    7.499328  \n",
       "596    7.337325    7.337325  \n",
       "267   -6.729832    6.729832  \n",
       "249    5.952268    5.952268  \n",
       "588   -4.827424    4.827424  \n",
       "263   -4.524578    4.524578  \n",
       "256    4.423517    4.423517  \n",
       "623   -4.081067    4.081067  \n",
       "276   -3.812459    3.812459  \n",
       "255   -3.787138    3.787138  \n",
       "624    3.404708    3.404708  \n",
       "275    3.161373    3.161373  \n",
       "293    3.116184    3.116184  \n",
       "291   -3.103734    3.103734  \n",
       "479    3.078607    3.078607  \n",
       "108   -3.063986    3.063986  \n",
       "480    3.055963    3.055963  \n",
       "589   -2.992552    2.992552  \n",
       "278    2.945380    2.945380  \n",
       "2     -2.881776    2.881776  \n",
       "573   -2.770352    2.770352  \n",
       "592    2.708422    2.708422  \n",
       "272    2.536452    2.536452  \n",
       "1076   2.470332    2.470332  \n",
       "187   -2.340337    2.340337  \n",
       "905   -2.339857    2.339857  \n",
       "455    2.324229    2.324229  \n",
       "314   -2.303579    2.303579  \n",
       "271   -2.201401    2.201401  \n",
       "246    2.186957    2.186957  \n",
       "531    2.154652    2.154652  \n",
       "380    2.112582    2.112582  \n",
       "461   -2.095189    2.095189  \n",
       "710    2.048876    2.048876  \n",
       "379    2.038278    2.038278  \n",
       "313   -2.037603    2.037603  \n",
       "456    2.013661    2.013661  \n",
       "273   -2.007290    2.007290  \n",
       "236   -1.952520    1.952520  \n",
       "517    1.911517    1.911517  \n",
       "594   -1.860061    1.860061  \n",
       "286    1.814507    1.814507  \n",
       "1044  -1.795259    1.795259  \n",
       "529    1.725737    1.725737  \n",
       "279   -1.692042    1.692042  \n",
       "574   -1.677388    1.677388  \n",
       "148    1.640953    1.640953  \n",
       "472    1.634421    1.634421  \n",
       "611    1.547051    1.547051  \n",
       "751    1.520288    1.520288  \n",
       "457    1.513014    1.513014  \n",
       "794   -1.500305    1.500305  \n",
       "487   -1.499717    1.499717  \n",
       "855   -1.486888    1.486888  \n",
       "638   -1.472571    1.472571  \n",
       "990   -1.437720    1.437720  \n",
       "150   -1.433046    1.433046  \n",
       "788    1.400535    1.400535  \n",
       "904   -1.383121    1.383121  "
      ]
     },
     "execution_count": 79,
     "metadata": {},
     "output_type": "execute_result"
    }
   ],
   "source": [
    "df_feature_weights.sort_values('Abs Weight', ascending=False).head(60)"
   ]
  },
  {
   "cell_type": "code",
   "execution_count": 77,
   "id": "a1cc56f5-da49-4228-9e10-400d9e1f3cee",
   "metadata": {},
   "outputs": [
    {
     "name": "stdout",
     "output_type": "stream",
     "text": [
      "9108.897134780884\n"
     ]
    }
   ],
   "source": [
    "print(time.time() - t0)"
   ]
  },
  {
   "cell_type": "code",
   "execution_count": 80,
   "id": "cea5a6f7-d27d-4e66-9530-3c9084789c88",
   "metadata": {},
   "outputs": [
    {
     "data": {
      "text/plain": [
       "['../glaucoma_project/Models/lasso_reg_full.joblib']"
      ]
     },
     "execution_count": 80,
     "metadata": {},
     "output_type": "execute_result"
    }
   ],
   "source": [
    "dump(log_reg,'../glaucoma_project/Models/lasso_reg_full.joblib')"
   ]
  }
 ],
 "metadata": {
  "kernelspec": {
   "display_name": "Python 3 (ipykernel)",
   "language": "python",
   "name": "python3"
  },
  "language_info": {
   "codemirror_mode": {
    "name": "ipython",
    "version": 3
   },
   "file_extension": ".py",
   "mimetype": "text/x-python",
   "name": "python",
   "nbconvert_exporter": "python",
   "pygments_lexer": "ipython3",
   "version": "3.9.7"
  }
 },
 "nbformat": 4,
 "nbformat_minor": 5
}
