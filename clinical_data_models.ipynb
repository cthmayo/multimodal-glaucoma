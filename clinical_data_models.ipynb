{
 "cells": [
  {
   "cell_type": "markdown",
   "id": "61a03638-7da3-4675-b2f1-44799efa552b",
   "metadata": {},
   "source": [
    "# Imports"
   ]
  },
  {
   "cell_type": "code",
   "execution_count": 2,
   "id": "4860c93c-6b51-4789-8618-94a368249f8a",
   "metadata": {},
   "outputs": [],
   "source": [
    "import numpy as np\n",
    "import pandas as pd\n",
    "import matplotlib.pyplot as plt\n",
    "import os\n",
    "from tqdm import tqdm\n",
    "from collections import Counter\n",
    "from matplotlib_venn import venn2, venn3\n",
    "from scipy import stats\n",
    "from tableone import TableOne\n",
    "import statsmodels.api as sm\n",
    "from bs4 import BeautifulSoup\n",
    "import re\n",
    "import seaborn as sns\n",
    "import scipy\n",
    "import warnings\n",
    "from sklearn.ensemble import RandomForestClassifier\n",
    "from sklearn.ensemble import RandomForestRegressor\n",
    "from sklearn.model_selection import train_test_split\n",
    "from sklearn.metrics import accuracy_score,roc_auc_score\n",
    "warnings.simplefilter('ignore')\n",
    "import time\n",
    "import scipy.sparse\n",
    "from joblib import dump, load\n",
    "import statsmodels\n",
    "from sklearn.preprocessing import StandardScaler\n",
    "from sklearn.impute import SimpleImputer"
   ]
  },
  {
   "cell_type": "code",
   "execution_count": 3,
   "id": "64c2a129-8808-46f2-9df3-6a7074a625de",
   "metadata": {},
   "outputs": [],
   "source": [
    "UKBB_PATH = '../glaucoma_project/UKBB_Data/'\n",
    "MAIN_UKBB_FILE = '../glaucoma_project/UKBB_Data/ukb49508.tab'\n",
    "SECOND_UKBB_FILE = '../glaucoma_project/UKBB_Data_Basket3/ukb51745.tab'\n",
    "MAIN_HTML_FILE = '../glaucoma_project/UKBB_Data/ukb49508.html'\n",
    "SECOND_HTML_FILE = '../glaucoma_project/UKBB_Data_Basket3/ukb51745.html'\n",
    "TOTAL_POP = 502419\n",
    "TEST_SET_RANDOM_SPLIT = 42\n",
    "CHUNK_SIZE = 10000"
   ]
  },
  {
   "cell_type": "markdown",
   "id": "d0ee7e84-12fd-4449-9082-ab3cb6ffe2e7",
   "metadata": {
    "tags": []
   },
   "source": [
    "# Creating test set"
   ]
  },
  {
   "cell_type": "code",
   "execution_count": 39,
   "id": "2663c547-bb81-4f61-86d5-61397fff9f13",
   "metadata": {},
   "outputs": [],
   "source": [
    "train_idx, test_idx = train_test_split(range(TOTAL_POP),random_state=TEST_SET_RANDOM_SPLIT, test_size=0.1)"
   ]
  },
  {
   "cell_type": "code",
   "execution_count": 40,
   "id": "682dc644-85a7-4f34-9afb-2aa15013d0a4",
   "metadata": {},
   "outputs": [],
   "source": [
    "def get_dataframe_for_analysis(column_names, idx=train_idx):\n",
    "    print('Preparing dataframe...')\n",
    "    \n",
    "    cols_in_main_file = pd.read_csv(MAIN_UKBB_FILE, sep='\\t', nrows=1).columns\n",
    "    cols_in_second_file = pd.read_csv(SECOND_UKBB_FILE, sep='\\t', nrows=1).columns\n",
    "    column_names_main = [col for col in column_names if col in cols_in_main_file]\n",
    "    column_names_second = [col for col in column_names if (not col in cols_in_main_file) and (col in cols_in_second_file)]\n",
    "    \n",
    "    \n",
    "    df_selected_cols = pd.DataFrame()\n",
    "    for chunk in tqdm(pd.read_csv(MAIN_UKBB_FILE, sep='\\t', chunksize=CHUNK_SIZE, usecols=column_names_main+['f.eid']), total=TOTAL_POP // CHUNK_SIZE):\n",
    "        df_selected_cols = pd.concat([df_selected_cols, chunk])\n",
    "        \n",
    "    df_selected_cols_second = pd.DataFrame()\n",
    "    for chunk in tqdm(pd.read_csv(SECOND_UKBB_FILE, sep='\\t', chunksize=CHUNK_SIZE, usecols=column_names_second+['f.eid']), total=TOTAL_POP // CHUNK_SIZE):\n",
    "        df_selected_cols_second = pd.concat([df_selected_cols_second, chunk])\n",
    "    \n",
    "    return pd.merge(df_selected_cols,df_selected_cols_second,how='left',on='f.eid').iloc[idx].reset_index(drop=True)"
   ]
  },
  {
   "cell_type": "markdown",
   "id": "009d44c5-29ab-43e7-84aa-1a55d9b6b402",
   "metadata": {
    "tags": []
   },
   "source": [
    "# Helpful code for field ids"
   ]
  },
  {
   "cell_type": "code",
   "execution_count": 41,
   "id": "15c33301-9ca9-41fe-b7ca-683d58b95fae",
   "metadata": {},
   "outputs": [],
   "source": [
    "file = open(MAIN_HTML_FILE, 'r', encoding='latin-1')\n",
    "html_file = file.read()\n",
    "soup = BeautifulSoup(html_file, \"html.parser\")\n",
    "tables = soup.find_all('table')\n",
    "rows_main = tables[1].find_all('tr')\n",
    "file = open(SECOND_HTML_FILE, 'r', encoding='latin-1')\n",
    "html_file = file.read()\n",
    "soup = BeautifulSoup(html_file, \"html.parser\")\n",
    "tables = soup.find_all('table')\n",
    "rows_second = tables[1].find_all('tr')\n",
    "rows = rows_main + rows_second"
   ]
  },
  {
   "cell_type": "code",
   "execution_count": 42,
   "id": "2945f2d8-ef22-4e42-81b9-5d5fe5f2052f",
   "metadata": {},
   "outputs": [],
   "source": [
    "df_fields = pd.DataFrame()\n",
    "fields = []\n",
    "count = []\n",
    "types = []\n",
    "desc = []\n",
    "current_type = None\n",
    "current_desc = None\n",
    "for row in rows:\n",
    "    row_content = row.find_all('td')\n",
    "    if len(row_content) > 2:\n",
    "        fields.append(row_content[1].text.strip())\n",
    "        count.append(row_content[2].text.strip())\n",
    "        if len(row_content) > 4:\n",
    "            current_type = row_content[3].text.strip()\n",
    "            current_desc = row_content[4].text.strip()\n",
    "        types.append(current_type)\n",
    "        desc.append(current_desc)\n",
    "        \n",
    "df_fields['UDI'] = fields\n",
    "df_fields['Count'] = [int(n) for n in count]\n",
    "df_fields['Type'] = types\n",
    "df_fields['Desc'] = desc\n",
    "df_fields['Dating coding'] = df_fields['Desc'].apply(lambda x: re.sub('[^0-9]','', x[x.index('data-coding '):x.index(' comprises')]) if 'data-coding' in x else np.nan)\n",
    "df_fields['Valued members'] = df_fields['Desc'].apply(lambda x: int(re.sub('[^0-9]','', x[x.index('comprises '):x.index('valued members')])) if 'data-coding' in x else np.nan)\n",
    "df_fields['Field ID'] = df_fields['UDI'].apply(lambda x: 'f.'+re.sub('-','.',x))\n",
    "df_fields['Desc Short'] = df_fields['Desc'].apply(lambda x: x[0:x.index('Uses data-coding')] if 'Uses data-coding' in x else x)"
   ]
  },
  {
   "cell_type": "code",
   "execution_count": 43,
   "id": "353d6d3d-e61d-41fb-af16-b6c4dcd18155",
   "metadata": {},
   "outputs": [],
   "source": [
    "desc_unique = []\n",
    "prev_desc = None\n",
    "counter = 0\n",
    "for desc in df_fields['Desc Short']:\n",
    "    if prev_desc == desc:\n",
    "        if counter == 0:\n",
    "            desc_unique[-1] = desc+'_0'\n",
    "        counter += 1\n",
    "        desc_unique.append(desc+'_'+str(counter))\n",
    "    else:\n",
    "        counter = 0\n",
    "        prev_desc = desc\n",
    "        desc_unique.append(desc)\n",
    "df_fields['Desc Unique'] = desc_unique"
   ]
  },
  {
   "cell_type": "code",
   "execution_count": 44,
   "id": "96c5ebfb-c079-4dcc-9456-b75fdf390fac",
   "metadata": {},
   "outputs": [],
   "source": [
    "# Field ID to description \n",
    "id_to_desc = {id_:desc for id_,desc in zip(df_fields['Field ID'], df_fields['Desc Unique'])}\n",
    "# Description to field ID\n",
    "desc_to_id = {desc:id_ for desc,id_ in zip(df_fields['Desc Unique'], df_fields['Field ID'])}\n",
    "# Field ID to field type\n",
    "id_to_type = {id_:type_ for id_,type_ in zip(df_fields['Field ID'], df_fields['Type'])}"
   ]
  },
  {
   "cell_type": "code",
   "execution_count": 45,
   "id": "610fee05-05b5-4662-90f9-f1b42b289050",
   "metadata": {},
   "outputs": [],
   "source": [
    "df_fields = df_fields.drop_duplicates('UDI').reset_index(drop=True)"
   ]
  },
  {
   "cell_type": "code",
   "execution_count": 46,
   "id": "63846560-d818-4b60-b08b-a7c2d8cb07cf",
   "metadata": {},
   "outputs": [],
   "source": [
    "coding_dicts = []\n",
    "for df_coding in [pd.read_csv(UKBB_PATH+'UKBB_encodings/coding19.tsv', sep='\\t'),\n",
    "                  pd.read_csv(UKBB_PATH+'UKBB_encodings/coding3.tsv', sep='\\t'),\n",
    "                  pd.read_csv(UKBB_PATH+'UKBB_encodings/coding6.tsv', sep='\\t'),\n",
    "                  pd.read_csv(UKBB_PATH+'UKBB_encodings/coding4.tsv', sep='\\t')]:\n",
    "    coding_dicts.append({code:meaning for code,meaning in zip(df_coding['coding'], df_coding['meaning'])})"
   ]
  },
  {
   "cell_type": "code",
   "execution_count": 47,
   "id": "c8d4339b-ff0b-4cc9-9c1d-a14cb70bc5c0",
   "metadata": {},
   "outputs": [],
   "source": [
    "def feature_id_to_name(feature_id):\n",
    "    if 'f.' in feature_id:\n",
    "        if '_' in feature_id:\n",
    "            return id_to_desc[feature_id[:feature_id.find('_')]] + feature_id[feature_id.find('_'):]\n",
    "        else:\n",
    "            return id_to_desc[feature_id]\n",
    "    if 'ICD_10_' in feature_id:\n",
    "        return coding_dicts[0][feature_id[7:]]\n",
    "    if 'Self_Report_' in feature_id:\n",
    "        return coding_dicts[2][int(feature_id[12:-2])]\n",
    "    if 'Cancer_' in feature_id:\n",
    "        return coding_dicts[1][int(feature_id[7:-2])]\n",
    "    if 'Med_' in feature_id:\n",
    "        return coding_dicts[3][int(feature_id[4:-2])]\n",
    "    return 'FEATURE NOT FOUND'"
   ]
  },
  {
   "cell_type": "code",
   "execution_count": 48,
   "id": "6ae9260a-79ee-4850-b3ab-beb19a7afefe",
   "metadata": {},
   "outputs": [],
   "source": [
    "glaucoma_diagnosis = pd.read_pickle(UKBB_PATH+'processed_data/Clinical Feature Selection/glaucoma_diagnosis_checkpoint.pkl')"
   ]
  },
  {
   "cell_type": "markdown",
   "id": "47fa1fd9-f7fd-4109-be78-7e3d22f8e4fe",
   "metadata": {
    "jp-MarkdownHeadingCollapsed": true,
    "tags": []
   },
   "source": [
    "# Importing fields"
   ]
  },
  {
   "cell_type": "code",
   "execution_count": null,
   "id": "1264e62e-fe43-4b16-b91a-7d78d3e4aa38",
   "metadata": {},
   "outputs": [],
   "source": [
    "df_chosen_fields = pd.read_excel(UKBB_PATH+'processed_data/chosen_fields.xlsx')"
   ]
  },
  {
   "cell_type": "code",
   "execution_count": null,
   "id": "26334a5f-38e4-404b-8ed3-d189c20e8cb7",
   "metadata": {},
   "outputs": [],
   "source": [
    "self_reported_matrix = pd.read_pickle(UKBB_PATH+'processed_data/Clinical Feature Selection/self_reported_diagnosis_checkpoint_2.pkl')\n",
    "icd_10_matrix = pd.read_pickle(UKBB_PATH+'processed_data/Clinical Feature Selection/icd10_checkpoint_2.pkl')\n",
    "med_matrix = pd.read_pickle(UKBB_PATH+'processed_data/Clinical Feature Selection/meds_checkpoint_2.pkl')"
   ]
  },
  {
   "cell_type": "code",
   "execution_count": null,
   "id": "6502f527-c728-4481-a24c-2f25325d061b",
   "metadata": {},
   "outputs": [],
   "source": [
    "all_fields = list(df_chosen_fields['Pragmatic'].dropna().values) + list(df_chosen_fields['Specialised'].values)"
   ]
  },
  {
   "cell_type": "code",
   "execution_count": null,
   "id": "087b2dee-fb84-4002-a74f-8e25f1b32a64",
   "metadata": {},
   "outputs": [],
   "source": [
    "general_fields = [field.split('_')[0] for field in all_fields if field[0] == 'f']"
   ]
  },
  {
   "cell_type": "code",
   "execution_count": null,
   "id": "1107da1d-1933-4289-9722-cc19bd56363c",
   "metadata": {},
   "outputs": [],
   "source": [
    "icd_10_fields = [field.split('_')[2] for field in all_fields if 'ICD_10_' in field]"
   ]
  },
  {
   "cell_type": "code",
   "execution_count": 18,
   "id": "3f5e3035-2c36-42a2-a5d2-e7230bb4d5f0",
   "metadata": {},
   "outputs": [],
   "source": [
    "self_reported_fields = [float(field.split('_')[2]) for field in all_fields if 'Self_Report_' in field]"
   ]
  },
  {
   "cell_type": "code",
   "execution_count": 19,
   "id": "b459a09b-b9d5-48f9-92b4-c957f957f551",
   "metadata": {},
   "outputs": [],
   "source": [
    "med_fields = [float(field.split('_')[1]) for field in all_fields if 'Med_' in field]"
   ]
  },
  {
   "cell_type": "code",
   "execution_count": 20,
   "id": "a8fcb34f-71eb-454c-b052-c4430a0e2d17",
   "metadata": {},
   "outputs": [],
   "source": [
    "assert len(med_fields) + len(self_reported_fields) + len(icd_10_fields) + len(general_fields) == len(all_fields)"
   ]
  },
  {
   "cell_type": "code",
   "execution_count": 21,
   "id": "e59a0e0c-eb92-45fd-a6b4-3a2f176c53a5",
   "metadata": {},
   "outputs": [
    {
     "name": "stdout",
     "output_type": "stream",
     "text": [
      "Preparing dataframe...\n"
     ]
    },
    {
     "name": "stderr",
     "output_type": "stream",
     "text": [
      "51it [05:01,  5.90s/it]                                                        \n",
      "51it [00:38,  1.31it/s]                                                        \n"
     ]
    }
   ],
   "source": [
    "general_matrix = get_dataframe_for_analysis(general_fields)"
   ]
  },
  {
   "cell_type": "code",
   "execution_count": 22,
   "id": "a091f8ab-b57e-4f97-8498-78a30b7e9447",
   "metadata": {},
   "outputs": [],
   "source": [
    "assert [f for f in general_fields if not f in general_matrix.columns] == []"
   ]
  },
  {
   "cell_type": "code",
   "execution_count": 23,
   "id": "7424a280-8cac-45b6-9a5f-07bdfc31771e",
   "metadata": {},
   "outputs": [],
   "source": [
    "self_reported_matrix = self_reported_matrix[self_reported_fields]\n",
    "icd_10_matrix = icd_10_matrix[icd_10_fields]\n",
    "med_matrix = med_matrix[med_fields]"
   ]
  },
  {
   "cell_type": "markdown",
   "id": "18b3d43d-65f7-4b0b-8e93-717df22aa09f",
   "metadata": {
    "jp-MarkdownHeadingCollapsed": true,
    "tags": []
   },
   "source": [
    "# Cleaning columns"
   ]
  },
  {
   "cell_type": "code",
   "execution_count": 24,
   "id": "1959ca7c-dade-4e88-97f1-0e46519bf11e",
   "metadata": {},
   "outputs": [],
   "source": [
    "def clean_categorical_column_with_dummies(column):\n",
    "    # Don't process things that aren't actually columns\n",
    "    if type(column) == pd.core.frame.DataFrame:\n",
    "        return pd.DataFrame()\n",
    "    no_neg_list = []\n",
    "    for item in column:\n",
    "        try:\n",
    "            if np.float64(item) < 0:\n",
    "                no_neg_list.append(np.nan)\n",
    "            else:\n",
    "                no_neg_list.append(item)\n",
    "        except:\n",
    "            no_neg_list.append(item)\n",
    "    new_series = pd.Series(no_neg_list)\n",
    "    if len(new_series.value_counts().keys()) == 0:\n",
    "        return pd.DataFrame()\n",
    "    base_class = new_series.value_counts().keys()[0]\n",
    "    dummies = pd.get_dummies(new_series,prefix=column.name)#+'_'+str(base_class),dummy_na=True)\n",
    "    return dummies"
   ]
  },
  {
   "cell_type": "code",
   "execution_count": 25,
   "id": "f97e81ed-4de7-415f-b277-30a6d49a2f53",
   "metadata": {},
   "outputs": [],
   "source": [
    "def clean_numeric_column(column):\n",
    "    # Don't process things that aren't actually columns\n",
    "    if type(column) == pd.core.frame.DataFrame:\n",
    "        return clean_numeric_column(column.iloc[:,0])\n",
    "    # ensure all values are numeric -- or as many as possible\n",
    "    try:\n",
    "        col_numeric = column.astype(np.float32)\n",
    "    except:\n",
    "        col_replaced_numeric = []\n",
    "        for item in column:\n",
    "            try:\n",
    "                col_replaced_numeric.append(np.float32(item))\n",
    "            except:\n",
    "                col_replaced_numeric.append(np.nan)\n",
    "        col_numeric = pd.Series(col_replaced_numeric)\n",
    "    # deal with negative values\n",
    "    unique_negative_values = len(pd.Series([item for item in col_numeric if item < 0]).value_counts().keys())\n",
    "    col_cleaned = []\n",
    "    if unique_negative_values <= 5: # if there five or fewer unique negative values, remove them. This recognises cases where negative values are special markers\n",
    "        for value in col_numeric:\n",
    "            if value >= 0:\n",
    "                col_cleaned.append(value)\n",
    "            else:\n",
    "                col_cleaned.append(np.nan)\n",
    "        output = pd.Series(col_cleaned)\n",
    "    else:\n",
    "        output = col_numeric\n",
    "    output.name = column.name\n",
    "    return output"
   ]
  },
  {
   "cell_type": "code",
   "execution_count": 26,
   "id": "c44fd22f-53c6-4834-8e6d-0a035f79b634",
   "metadata": {},
   "outputs": [],
   "source": [
    "general_matrix_processed = pd.DataFrame()"
   ]
  },
  {
   "cell_type": "code",
   "execution_count": 27,
   "id": "ef44996b-e106-49aa-857b-2e4ce3a3e891",
   "metadata": {},
   "outputs": [],
   "source": [
    "numeric_columns = [col for col in general_matrix.columns if id_to_type[col] == 'Continuous' or id_to_type[col] == 'Integer']\n",
    "categorical_columns = [col for col in general_matrix.columns if 'Categorical' in id_to_type[col]]"
   ]
  },
  {
   "cell_type": "code",
   "execution_count": 28,
   "id": "32af4db4-942a-41e4-9f45-97fa984641ed",
   "metadata": {},
   "outputs": [
    {
     "name": "stderr",
     "output_type": "stream",
     "text": [
      "100%|██████████████████████████████████████████| 62/62 [00:10<00:00,  6.18it/s]\n",
      "100%|████████████████████████████████████████| 124/124 [00:33<00:00,  3.67it/s]\n"
     ]
    }
   ],
   "source": [
    "processed_numeric_columns = [clean_numeric_column(general_matrix[col]) for col in tqdm(numeric_columns)]\n",
    "processed_categorical_columns = [clean_categorical_column_with_dummies(general_matrix[col]) for col in tqdm(categorical_columns)]"
   ]
  },
  {
   "cell_type": "code",
   "execution_count": 29,
   "id": "539622ad-a709-4feb-95a1-61973738e56a",
   "metadata": {},
   "outputs": [],
   "source": [
    "for col in processed_numeric_columns:\n",
    "    general_matrix_processed[feature_id_to_name(col.name)] = col"
   ]
  },
  {
   "cell_type": "code",
   "execution_count": 30,
   "id": "af7e5021-5197-46d5-8055-3e7969a8f9d7",
   "metadata": {},
   "outputs": [],
   "source": [
    "for df_dummies in processed_categorical_columns:\n",
    "    for col in df_dummies.columns:\n",
    "        general_matrix_processed[feature_id_to_name(col)] = df_dummies[col]"
   ]
  },
  {
   "cell_type": "code",
   "execution_count": 31,
   "id": "8e39a8bd-a443-4124-b38e-aeaf1e87c1a9",
   "metadata": {},
   "outputs": [],
   "source": [
    "self_reported_matrix.columns = [feature_id_to_name('Self_Report_'+str(col)) for col in self_reported_matrix.columns]"
   ]
  },
  {
   "cell_type": "code",
   "execution_count": 32,
   "id": "9db687a8-c143-4d44-a56a-5161d6ed5167",
   "metadata": {},
   "outputs": [],
   "source": [
    "icd_10_matrix.columns = [feature_id_to_name('ICD_10_'+str(col)) for col in icd_10_matrix.columns]"
   ]
  },
  {
   "cell_type": "code",
   "execution_count": 33,
   "id": "7f93e4b8-362e-4052-ae3f-2018cdc9be3d",
   "metadata": {},
   "outputs": [],
   "source": [
    "med_matrix.columns = [feature_id_to_name('Med_'+str(col)) for col in med_matrix.columns]"
   ]
  },
  {
   "cell_type": "code",
   "execution_count": 34,
   "id": "8c79d6c1-034b-42b9-b572-a3863273c3f1",
   "metadata": {},
   "outputs": [],
   "source": [
    "combined_matrix = pd.concat([general_matrix_processed, self_reported_matrix, icd_10_matrix, med_matrix],axis=1)"
   ]
  },
  {
   "cell_type": "markdown",
   "id": "bed7f7c8-c99d-4e5d-88e8-449de0d4bbe7",
   "metadata": {
    "jp-MarkdownHeadingCollapsed": true,
    "tags": []
   },
   "source": [
    "# Manual tidy up"
   ]
  },
  {
   "cell_type": "code",
   "execution_count": 35,
   "id": "444cbb1e-c8dd-4bd4-8478-8a3542e9f218",
   "metadata": {},
   "outputs": [],
   "source": [
    "combined_matrix['Number of live births_0'] = combined_matrix['Number of live births_0'].fillna(0)"
   ]
  },
  {
   "cell_type": "code",
   "execution_count": 36,
   "id": "f2b08bef-9518-408a-9d2c-392ba28c99eb",
   "metadata": {},
   "outputs": [],
   "source": [
    "combined_matrix['Cylindrical power (highest)'] = [np.nanmax([l,r]) for l,r in zip(combined_matrix['Cylindrical power (left)_0'], combined_matrix['Cylindrical power (right)_0'])]"
   ]
  },
  {
   "cell_type": "code",
   "execution_count": 37,
   "id": "109f43bb-400e-4e84-a24c-1baed16a0eb7",
   "metadata": {},
   "outputs": [],
   "source": [
    "combined_matrix['3mm asymmetry index (highest)'] = [np.nanmax([l,r]) for l,r in zip(combined_matrix['3mm asymmetry index (left)_0'], combined_matrix['3mm asymmetry index (right)_0'])]"
   ]
  },
  {
   "cell_type": "code",
   "execution_count": 38,
   "id": "24104754-d626-4c63-b3f2-0fabc8ec07ea",
   "metadata": {},
   "outputs": [],
   "source": [
    "combined_matrix['3mm regularity index (highest)'] = [np.nanmax([l,r]) for l,r in zip(combined_matrix['3mm regularity index (left)_0'], combined_matrix['3mm regularity index (right)_0'])]"
   ]
  },
  {
   "cell_type": "code",
   "execution_count": 39,
   "id": "dc94331f-5c2f-4145-9440-16575c97be2f",
   "metadata": {},
   "outputs": [],
   "source": [
    "combined_matrix['logMAR, final (highest)'] = [np.nanmax([l,r]) for l,r in zip(combined_matrix['logMAR, final (right)_0'], combined_matrix['logMAR, final (left)_0'])]"
   ]
  },
  {
   "cell_type": "code",
   "execution_count": 40,
   "id": "ea9c6903-49b0-48b9-8e2e-2b0f43e97674",
   "metadata": {},
   "outputs": [],
   "source": [
    "combined_matrix['Intra-ocular pressure, corneal-compensated (highest)'] = [np.nanmax([l,r]) for l,r in zip(combined_matrix[ 'Intra-ocular pressure, corneal-compensated (right)_0'], combined_matrix['Intra-ocular pressure, corneal-compensated (left)_0'])]"
   ]
  },
  {
   "cell_type": "code",
   "execution_count": 41,
   "id": "f640322e-8b93-4084-b0fb-2306065f4be3",
   "metadata": {},
   "outputs": [],
   "source": [
    "combined_matrix['Corneal hysteresis (lowest)'] = [np.nanmin([l,r]) for l,r in zip(combined_matrix['Corneal hysteresis (right)_0'], combined_matrix['Corneal hysteresis (left)_0'])]"
   ]
  },
  {
   "cell_type": "code",
   "execution_count": 42,
   "id": "bc1adedb-61de-480b-93da-1012e6699429",
   "metadata": {},
   "outputs": [],
   "source": [
    "combined_matrix['Corneal resistance factor (highest)'] =  [np.nanmax([l,r]) for l,r in zip(combined_matrix['Corneal resistance factor (right)_0'], combined_matrix['Corneal resistance factor (left)_0'])]"
   ]
  },
  {
   "cell_type": "code",
   "execution_count": 43,
   "id": "203e6c27-434b-4f3c-8f70-af9684e72cbc",
   "metadata": {},
   "outputs": [],
   "source": [
    "health_score_scaler = StandardScaler()"
   ]
  },
  {
   "cell_type": "code",
   "execution_count": 44,
   "id": "4349dfe0-2c3c-4993-9a9b-4c4f99319143",
   "metadata": {},
   "outputs": [],
   "source": [
    "combined_matrix[['Health score (England)','Health score (Scotland)', 'Health score (Wales)']] = health_score_scaler.fit_transform(combined_matrix[['Health score (England)','Health score (Scotland)', 'Health score (Wales)']])"
   ]
  },
  {
   "cell_type": "code",
   "execution_count": 45,
   "id": "d0d1a51b-0da6-485a-a859-dd012ccb83f7",
   "metadata": {},
   "outputs": [
    {
     "data": {
      "text/plain": [
       "['../glaucoma_project/Models/health_score_scaler.joblib']"
      ]
     },
     "execution_count": 45,
     "metadata": {},
     "output_type": "execute_result"
    }
   ],
   "source": [
    "dump(health_score_scaler, '../glaucoma_project/Models/health_score_scaler.joblib')"
   ]
  },
  {
   "cell_type": "code",
   "execution_count": 46,
   "id": "93d18840-ddbb-4c24-bbbc-08b2aaaefe02",
   "metadata": {},
   "outputs": [],
   "source": [
    "combined_matrix['Health score'] = [e if not pd.isna(e) else (s if not pd.isna(s) else w) for e,s,w in zip(combined_matrix['Health score (England)'], combined_matrix['Health score (Scotland)'], combined_matrix['Health score (Wales)'])]"
   ]
  },
  {
   "cell_type": "code",
   "execution_count": 47,
   "id": "c66c4719-8159-4c45-bf13-b7811523b3c8",
   "metadata": {},
   "outputs": [],
   "source": [
    "combined_matrix['Vertical cup to disc ratio (VCDR) (highest)'] = [np.nanmax([l,r]) for l,r in zip(combined_matrix['Vertical cup to disc ratio (VCDR) (left)_0'], combined_matrix['Vertical cup to disc ratio (VCDR) (right)_0'])]"
   ]
  },
  {
   "cell_type": "code",
   "execution_count": 48,
   "id": "3786763f-b753-4606-83ce-2ec4c3c8009e",
   "metadata": {},
   "outputs": [],
   "source": [
    "combined_matrix['Average ganglion cell-inner plexiform layer thickness (lowest)'] = [np.nanmin([l,r]) for l,r in zip(combined_matrix[ 'Average ganglion cell-inner plexiform layer thickness (left)_0'], combined_matrix['Average ganglion cell-inner plexiform layer thickness (right)_0'])]"
   ]
  },
  {
   "cell_type": "code",
   "execution_count": 49,
   "id": "b262f726-d1df-4e15-ac41-ba7166da5487",
   "metadata": {},
   "outputs": [],
   "source": [
    "combined_matrix['Overall health rating_0'] = general_matrix['f.2178.0.0']"
   ]
  },
  {
   "cell_type": "code",
   "execution_count": 50,
   "id": "db8ef062-b45a-4ae9-aafe-4468ee18fa62",
   "metadata": {},
   "outputs": [],
   "source": [
    "diabetes_diagnosis_cols = ['Diabetes diagnosed by doctor_0_1.0','diabetes'] + list([col for col in combined_matrix.columns if 'E1' in col])"
   ]
  },
  {
   "cell_type": "code",
   "execution_count": 51,
   "id": "da8bb9f6-aa63-40e6-96dc-cbb32a9ea78e",
   "metadata": {},
   "outputs": [],
   "source": [
    "def merge_columns(df, cols_to_merge):\n",
    "    current_col = df[cols_to_merge[0]].fillna(0).astype(bool)\n",
    "    for col in cols_to_merge:\n",
    "        current_col = current_col | df[col].fillna(0).astype(bool)\n",
    "    return current_col.astype(int)"
   ]
  },
  {
   "cell_type": "code",
   "execution_count": 52,
   "id": "11158b52-2b51-4c94-8a7d-c992263590f3",
   "metadata": {},
   "outputs": [],
   "source": [
    "combined_matrix['Diabetes Diagnosis'] = merge_columns(combined_matrix, diabetes_diagnosis_cols)"
   ]
  },
  {
   "cell_type": "code",
   "execution_count": 53,
   "id": "d88e4068-ed1c-4b9e-882b-8dedfb9d9a01",
   "metadata": {},
   "outputs": [],
   "source": [
    "combined_matrix['Urban'] = merge_columns(combined_matrix, ['Home area population density - urban or rural_5.0','Home area population density - urban or rural_11.0'])"
   ]
  },
  {
   "cell_type": "code",
   "execution_count": 54,
   "id": "149f4b2e-e31a-4370-a8ea-e5f252b5a37b",
   "metadata": {},
   "outputs": [],
   "source": [
    "combined_matrix['FI2 : identify largest number_Incorrect'] = merge_columns(combined_matrix,  ['FI2 : identify largest number_1.0', 'FI2 : identify largest number_2.0',\n",
    "                                                                                              'FI2 : identify largest number_4.0', 'FI2 : identify largest number_5.0'])"
   ]
  },
  {
   "cell_type": "code",
   "execution_count": 55,
   "id": "abaf7411-0c70-4cac-a1cd-c20b134a6cd2",
   "metadata": {},
   "outputs": [],
   "source": [
    "combined_matrix['Ethnic background_0_White/Other'] = merge_columns(combined_matrix, ['Ethnic background_0_1.0','Ethnic background_0_1001.0','Ethnic background_0_1002.0',\n",
    "                                                                                     'Ethnic background_0_1003.0','Ethnic background_0_6.0','Ethnic background_0_2004.0','Ethnic background_0_2.0'])\n",
    "combined_matrix['Ethnic background_0_Black'] = merge_columns(combined_matrix, ['Ethnic background_0_4.0','Ethnic background_0_4001.0','Ethnic background_0_4002.0',\n",
    "                                                                               'Ethnic background_0_4003.0','Ethnic background_0_2001.0','Ethnic background_0_2002.0'])\n",
    "combined_matrix['Ethnic background_0_Asian'] = merge_columns(combined_matrix, ['Ethnic background_0_3.0','Ethnic background_0_5.0','Ethnic background_0_3001.0',\n",
    " 'Ethnic background_0_3002.0','Ethnic background_0_3003.0','Ethnic background_0_3004.0','Ethnic background_0_2003.0'])"
   ]
  },
  {
   "cell_type": "code",
   "execution_count": 56,
   "id": "7000d08e-aba0-4121-86e4-287842490fcd",
   "metadata": {},
   "outputs": [],
   "source": [
    "combined_matrix['High Cholesterol Diagnosis'] = merge_columns(combined_matrix, ['high cholesterol','E78.0 Pure hypercholesterolaemia'])"
   ]
  },
  {
   "cell_type": "code",
   "execution_count": 57,
   "id": "db2c02ba-2bea-46ba-88f2-cad5e6bbb4d8",
   "metadata": {},
   "outputs": [],
   "source": [
    "arthritis_cols = list([col for col in combined_matrix.columns if 'M1' in col]) + ['osteoarthritis']"
   ]
  },
  {
   "cell_type": "code",
   "execution_count": 58,
   "id": "fbccaaca-c5f1-41cf-9288-2aa7bfcc083a",
   "metadata": {},
   "outputs": [],
   "source": [
    "combined_matrix['Osteoarthritis Diagnosis'] = merge_columns(combined_matrix, arthritis_cols)"
   ]
  },
  {
   "cell_type": "code",
   "execution_count": 59,
   "id": "47692fe3-f599-457a-a292-ace872d75143",
   "metadata": {},
   "outputs": [],
   "source": [
    "statins = [col for col in combined_matrix.columns if 'vastatin' in col]"
   ]
  },
  {
   "cell_type": "code",
   "execution_count": 60,
   "id": "8e6e5da3-1f4f-4024-82c6-298a3fbeb305",
   "metadata": {},
   "outputs": [],
   "source": [
    "combined_matrix['On Statin'] = merge_columns(combined_matrix, statins)"
   ]
  },
  {
   "cell_type": "code",
   "execution_count": 61,
   "id": "27701c33-f26d-4dc8-bce0-789ace6fe9a2",
   "metadata": {},
   "outputs": [],
   "source": [
    "ppis = [col for col in combined_matrix.columns if 'prazole' in col] + ['Medication for pain relief, constipation, heartburn_0_5.0','Medication for pain relief, constipation, heartburn_1_5.0','Medication for pain relief, constipation, heartburn_2_5.0','Medication for pain relief, constipation, heartburn_3_5.0','Medication for pain relief, constipation, heartburn_4_5.0']"
   ]
  },
  {
   "cell_type": "code",
   "execution_count": 62,
   "id": "a1e5e0d6-52dc-405c-b9fc-f1a554c4a673",
   "metadata": {},
   "outputs": [],
   "source": [
    "combined_matrix['On PPI'] = merge_columns(combined_matrix, ppis)"
   ]
  },
  {
   "cell_type": "code",
   "execution_count": 63,
   "id": "303c11cb-cd98-43dc-921f-d5e46fd6c609",
   "metadata": {},
   "outputs": [],
   "source": [
    "combined_matrix['Never eat sugar'] = merge_columns(combined_matrix, ['Never eat eggs, dairy, wheat, sugar_0_4.0','Never eat eggs, dairy, wheat, sugar_1_4.0',\n",
    "                                                                    'Never eat eggs, dairy, wheat, sugar_2_4.0','Never eat eggs, dairy, wheat, sugar_3_4.0'])"
   ]
  },
  {
   "cell_type": "code",
   "execution_count": 64,
   "id": "3d05d5e0-5ac6-430d-b4d7-8c1b40661682",
   "metadata": {},
   "outputs": [],
   "source": [
    "never_eat_eggs_cols = [col for col in combined_matrix.columns if 'Never eat eggs, dairy, wheat, sugar' in col]"
   ]
  },
  {
   "cell_type": "code",
   "execution_count": 65,
   "id": "7dd3ddcc-d560-4547-9074-c8c556fcde98",
   "metadata": {},
   "outputs": [],
   "source": [
    "dental_problems_cols = [col for col in combined_matrix.columns if 'Mouth/teeth dental problems' in col]"
   ]
  },
  {
   "cell_type": "code",
   "execution_count": 66,
   "id": "49db2a02-15b1-4528-9b95-f8f8d09ac2b3",
   "metadata": {},
   "outputs": [],
   "source": [
    "combined_matrix['Bleeding gums'] = merge_columns(combined_matrix,['Mouth/teeth dental problems_0_3.0','Mouth/teeth dental problems_1_3.0','Mouth/teeth dental problems_2_3.0'])"
   ]
  },
  {
   "cell_type": "code",
   "execution_count": 67,
   "id": "3455730a-6a31-4dac-83d5-fb133f3b1c95",
   "metadata": {},
   "outputs": [],
   "source": [
    "combined_matrix['Dentures'] = merge_columns(combined_matrix,['Mouth/teeth dental problems_0_6.0','Mouth/teeth dental problems_1_6.0','Mouth/teeth dental problems_2_6.0',\n",
    "                                                            'Mouth/teeth dental problems_3_6.0','Mouth/teeth dental problems_4_6.0','Mouth/teeth dental problems_5_6.0'])"
   ]
  },
  {
   "cell_type": "code",
   "execution_count": 68,
   "id": "bd1b3988-f2e5-451f-8cd4-81b2eeb6dd24",
   "metadata": {},
   "outputs": [],
   "source": [
    "vasc_problems_cols = [col for col in combined_matrix.columns if 'Vascular/heart problems' in col]"
   ]
  },
  {
   "cell_type": "code",
   "execution_count": 69,
   "id": "fa754449-1722-459e-b9b2-29b492cd9f0d",
   "metadata": {},
   "outputs": [],
   "source": [
    "combined_matrix['Hypertension Diagnosis'] = merge_columns(combined_matrix,['Vascular/heart problems diagnosed by doctor_0_4.0','Vascular/heart problems diagnosed by doctor_1_4.0',\n",
    "                                                                          'Vascular/heart problems diagnosed by doctor_2_4.0','Vascular/heart problems diagnosed by doctor_3_4.0',\n",
    "                                                                           'hypertension','I10 Essential (primary) hypertension'])"
   ]
  },
  {
   "cell_type": "code",
   "execution_count": 70,
   "id": "04a648e2-ba82-4837-a218-c203ac860597",
   "metadata": {},
   "outputs": [],
   "source": [
    "analg_meds_cols = [col for col in combined_matrix.columns if 'Medication for pain relief, constipation, heartburn' in col]"
   ]
  },
  {
   "cell_type": "code",
   "execution_count": 71,
   "id": "4316ddc3-5ef9-4d34-b680-482213fac6a1",
   "metadata": {},
   "outputs": [],
   "source": [
    "combined_matrix['On Ibuprofen'] = merge_columns(combined_matrix,['ibuprofen', 'Medication for pain relief, constipation, heartburn_0_2.0','Medication for pain relief, constipation, heartburn_1_2.0'])"
   ]
  },
  {
   "cell_type": "code",
   "execution_count": 72,
   "id": "171e33d1-eaad-453a-b4da-7506159fcfdd",
   "metadata": {},
   "outputs": [],
   "source": [
    "leisure_cols = [col for col in combined_matrix.columns if 'Leisure/social' in col]"
   ]
  },
  {
   "cell_type": "code",
   "execution_count": 73,
   "id": "95da93e0-8b3c-4990-81b4-74168a76a462",
   "metadata": {},
   "outputs": [],
   "source": [
    "combined_matrix['Sports club or gym'] = combined_matrix['Leisure/social activities_0_1.0']"
   ]
  },
  {
   "cell_type": "code",
   "execution_count": 74,
   "id": "64c2a075-7224-4efa-a966-448327bdbf8c",
   "metadata": {},
   "outputs": [],
   "source": [
    "combined_matrix['Religious group'] = merge_columns(combined_matrix, ['Leisure/social activities_0_3.0','Leisure/social activities_1_3.0','Leisure/social activities_2_3.0'])"
   ]
  },
  {
   "cell_type": "code",
   "execution_count": 75,
   "id": "3b332104-50d5-45d0-8d4c-c46c728ebfc4",
   "metadata": {},
   "outputs": [],
   "source": [
    "ex_type_cols = [col for col in combined_matrix.columns if 'Types of physical activity' in col]"
   ]
  },
  {
   "cell_type": "code",
   "execution_count": 76,
   "id": "1e4b8fa4-f0ec-4b23-a9f1-fdf4f62d7774",
   "metadata": {},
   "outputs": [],
   "source": [
    "combined_matrix['Swimming/cycling/bowling/keep fit'] = merge_columns(combined_matrix,['Types of physical activity in last 4 weeks_0_2.0','Types of physical activity in last 4 weeks_1_2.0'])"
   ]
  },
  {
   "cell_type": "code",
   "execution_count": 77,
   "id": "ed05c6c3-065c-4906-824a-3a84bb27c391",
   "metadata": {},
   "outputs": [],
   "source": [
    "supplement_cols = [col for col in combined_matrix.columns if 'Mineral and other dietary' in col] + ['glucosamine product','omega-3/fish oil supplement']"
   ]
  },
  {
   "cell_type": "code",
   "execution_count": 78,
   "id": "5d34230f-f897-48a3-a7d5-ce1a577817f9",
   "metadata": {},
   "outputs": [],
   "source": [
    "combined_matrix['On Fish Oil'] = merge_columns(combined_matrix,['Mineral and other dietary supplements_0_1.0','omega-3/fish oil supplement'])"
   ]
  },
  {
   "cell_type": "code",
   "execution_count": 79,
   "id": "cce64c0e-0699-4ce7-80d9-37c8c67bc2d5",
   "metadata": {},
   "outputs": [],
   "source": [
    "combined_matrix['On Glucosamine'] = merge_columns(combined_matrix,['Mineral and other dietary supplements_0_2.0','Mineral and other dietary supplements_1_2.0','glucosamine product'])"
   ]
  },
  {
   "cell_type": "code",
   "execution_count": 80,
   "id": "a66dcc85-b015-40bf-b854-9e0d9ba3caac",
   "metadata": {},
   "outputs": [],
   "source": [
    "illnesses_of_family_col = [col for col in combined_matrix.columns if 'Illnesses of' in col]"
   ]
  },
  {
   "cell_type": "code",
   "execution_count": 81,
   "id": "9cb54795-e9e5-4e40-b37a-73196d0b9ea0",
   "metadata": {},
   "outputs": [],
   "source": [
    "combined_matrix['Family history diabetes'] = merge_columns(combined_matrix,['Illnesses of father_0_9.0','Illnesses of father_1_9.0','Illnesses of father_2_9.0',\n",
    "                                                                           'Illnesses of father_3_9.0','Illnesses of father_4_9.0','Illnesses of mother_0_9.0',\n",
    "                                                                           'Illnesses of mother_1_9.0','Illnesses of mother_2_9.0','Illnesses of mother_3_9.0',\n",
    "                                                                           'Illnesses of siblings_0_9.0','Illnesses of siblings_1_9.0','Illnesses of siblings_2_9.0',\n",
    "                                                                           'Illnesses of siblings_3_9.0','Illnesses of siblings_4_9.0'])"
   ]
  },
  {
   "cell_type": "code",
   "execution_count": 82,
   "id": "3e981304-89c2-40f9-8f5f-6a037a75f56c",
   "metadata": {},
   "outputs": [],
   "source": [
    "combined_matrix['Family history hypertension'] = merge_columns(combined_matrix,['Illnesses of father_0_8.0','Illnesses of father_1_8.0','Illnesses of father_2_8.0','Illnesses of father_3_8.0','Illnesses of father_4_8.0',\n",
    "                                                                                'Illnesses of mother_0_8.0','Illnesses of mother_1_8.0','Illnesses of mother_2_8.0','Illnesses of mother_3_8.0','Illnesses of mother_4_8.0',\n",
    "                                                                                'Illnesses of siblings_0_8.0','Illnesses of siblings_1_8.0','Illnesses of siblings_2_8.0','Illnesses of siblings_3_8.0','Illnesses of siblings_4_8.0'])"
   ]
  },
  {
   "cell_type": "code",
   "execution_count": 83,
   "id": "faf760e2-cb3c-4324-9076-5c52ea1645d4",
   "metadata": {},
   "outputs": [],
   "source": [
    "combined_matrix['IBS Diagnosis'] = merge_columns(combined_matrix,['Ever diagnosed with IBS_1.0','irritable bowel syndrome','K58.0 Irritable bowel syndrome with diarrhoea','K58.9 Irritable bowel syndrome without diarrhoea'])"
   ]
  },
  {
   "cell_type": "code",
   "execution_count": 84,
   "id": "1bc2a4b8-4492-404a-8ec8-9379d4514dc1",
   "metadata": {},
   "outputs": [],
   "source": [
    "combined_matrix['Hiatus Hernia Diagnosis'] = merge_columns(combined_matrix,['K44.9 Diaphragmatic hernia without obstruction or gangrene','hiatus hernia'])"
   ]
  },
  {
   "cell_type": "code",
   "execution_count": 85,
   "id": "b59fe1a0-f57a-4cf2-95b7-e0ff305fed29",
   "metadata": {},
   "outputs": [],
   "source": [
    "ibs_cols = [col for col in combined_matrix.columns if 'bowel' in col] + [ 'Ever diagnosed with IBS_0.0','Ever diagnosed with IBS_1.0']"
   ]
  },
  {
   "cell_type": "code",
   "execution_count": 86,
   "id": "2344ae64-0720-413d-9d2f-4ed35c23e4e7",
   "metadata": {},
   "outputs": [],
   "source": [
    "cols_to_remove = ['Cylindrical power (left)_0','Cylindrical power (right)_0','3mm asymmetry index (left)_0','3mm asymmetry index (right)_0','3mm regularity index (left)_0',\n",
    "                 '3mm regularity index (right)_0','logMAR, final (right)_0','logMAR, final (left)_0','Intra-ocular pressure, corneal-compensated (right)_0',\n",
    "                 'Intra-ocular pressure, corneal-compensated (left)_0','Corneal hysteresis (right)_0','Corneal hysteresis (left)_0','Corneal resistance factor (right)_0',\n",
    "                 'Corneal resistance factor (left)_0','Health score (England)','Health score (Scotland)','Health score (Wales)','Vertical cup to disc ratio (VCDR) (left)_0',\n",
    "                 'Vertical cup to disc ratio (VCDR) (right)_0', 'Average ganglion cell-inner plexiform layer thickness (left)_0', 'Average ganglion cell-inner plexiform layer thickness (right)_0',\n",
    "                  'Sex_0.0','Maternal smoking around birth_0_0.0','Miserableness_0_0.0','Overall health rating_0_1.0','Overall health rating_0_2.0','Overall health rating_0_3.0',\n",
    "                  'Overall health rating_0_4.0','Wears glasses or contact lenses_0_0.0','Hearing difficulty/problems with background noise_0_0.0', 'Wheeze or whistling in the chest in last year_0_0.0',\n",
    "                  'Chest pain or discomfort_0_0.0', 'Diabetes diagnosed by doctor_0_0.0','Ever taken oral contraceptive pill_0_0.0', 'Ever used hormone-replacement therapy (HRT)_0_0.0',\n",
    "                  'Neck/shoulder pain for 3+ months_0_0.0', 'Knee pain for 3+ months_0_0.0', 'Ever highly irritable/argumentative for 2 days_0_0.0', 'Mouth/teeth dental problems_0_1.0',\n",
    "                 'Mouth/teeth dental problems_0_2.0','Mouth/teeth dental problems_0_4.0', 'Mouth/teeth dental problems_0_5.0', 'Home area population density - urban or rural_1.0', 'Home area population density - urban or rural_2.0',\n",
    " 'Home area population density - urban or rural_3.0', 'Home area population density - urban or rural_4.0','Home area population density - urban or rural_5.0',\n",
    " 'Home area population density - urban or rural_6.0','Home area population density - urban or rural_7.0','Home area population density - urban or rural_8.0',\n",
    " 'Home area population density - urban or rural_9.0','Home area population density - urban or rural_11.0','Home area population density - urban or rural_12.0',\n",
    " 'Home area population density - urban or rural_13.0','Home area population density - urban or rural_14.0', 'Home area population density - urban or rural_16.0',\n",
    "'Home area population density - urban or rural_17.0', 'Home area population density - urban or rural_18.0','FI2 : identify largest number_1.0', 'FI2 : identify largest number_2.0',\n",
    " 'FI2 : identify largest number_3.0', 'FI2 : identify largest number_4.0', 'FI2 : identify largest number_5.0','Ever seen an un-real vision_0.0', 'Did your sleep change?_0.0',\n",
    " 'Ethnic background_0_1.0','Ethnic background_0_2.0','Ethnic background_0_3.0','Ethnic background_0_4.0','Ethnic background_0_5.0','Ethnic background_0_6.0','Ethnic background_0_1001.0','Ethnic background_0_1002.0',\n",
    " 'Ethnic background_0_1003.0','Ethnic background_0_2001.0','Ethnic background_0_2002.0','Ethnic background_0_2003.0','Ethnic background_0_2004.0','Ethnic background_0_3001.0',\n",
    " 'Ethnic background_0_3002.0','Ethnic background_0_3003.0','Ethnic background_0_3004.0','Ethnic background_0_4001.0','Ethnic background_0_4002.0','Ethnic background_0_4003.0',\n",
    "                  'Family history of IBS_0.0','high cholesterol','E78.0 Pure hypercholesterolaemia','hypertension','I10 Essential (primary) hypertension','ibuprofen','K44.9 Diaphragmatic hernia without obstruction or gangrene','hiatus hernia'\n",
    "] + diabetes_diagnosis_cols + arthritis_cols + statins + ppis + never_eat_eggs_cols + dental_problems_cols + vasc_problems_cols + analg_meds_cols + leisure_cols + ex_type_cols + supplement_cols + illnesses_of_family_col + ibs_cols"
   ]
  },
  {
   "cell_type": "code",
   "execution_count": 87,
   "id": "9885a371-4f6e-4df1-a452-9e91f6815821",
   "metadata": {},
   "outputs": [],
   "source": [
    "new_set = [col for col in combined_matrix.columns if not col in cols_to_remove]"
   ]
  },
  {
   "cell_type": "code",
   "execution_count": 88,
   "id": "a1bca540-3fd4-46f3-aad4-e2f8cad44312",
   "metadata": {},
   "outputs": [],
   "source": [
    "cleaned_matrix = combined_matrix[new_set]"
   ]
  },
  {
   "cell_type": "code",
   "execution_count": 89,
   "id": "01933e48-a764-4456-a292-b5037203aca1",
   "metadata": {},
   "outputs": [],
   "source": [
    "cleaned_matrix.to_pickle(UKBB_PATH+'processed_data/Clinical Feature Selection/cleaned_matrix_with_selected_variables.pkl')"
   ]
  },
  {
   "cell_type": "code",
   "execution_count": 8,
   "id": "2a0d8bf0-2861-4ab4-b89c-810200fa3e57",
   "metadata": {},
   "outputs": [],
   "source": [
    "cleaned_matrix = pd.read_pickle(UKBB_PATH+'processed_data/Clinical Feature Selection/cleaned_matrix_with_selected_variables.pkl')"
   ]
  },
  {
   "cell_type": "markdown",
   "id": "f8ea0dae-fbdc-4d7e-99ef-299c1f89f9c9",
   "metadata": {
    "jp-MarkdownHeadingCollapsed": true,
    "tags": []
   },
   "source": [
    "# Classification"
   ]
  },
  {
   "cell_type": "code",
   "execution_count": 1,
   "id": "fc5e11e4-b777-47f9-9b9c-18521451c016",
   "metadata": {},
   "outputs": [],
   "source": [
    "classification_dict = {\n",
    " 'Waist circumference_0': ['Biometrics','1b'],\n",
    " 'Townsend deprivation index at recruitment': ['Demographics','1b'],\n",
    " 'Number of days/week of vigorous physical activity 10+ minutes_0': ['Lifestyle','1b'],\n",
    " 'Time spend outdoors in summer_0': ['Lifestyle','3'],\n",
    " 'Time spent outdoors in winter_0': ['Lifestyle','3'],\n",
    " 'Time spent watching television (TV)_0': ['Lifestyle','3'],\n",
    " 'Time spent using computer_0': ['Lifestyle','3'],\n",
    " 'Cooked vegetable intake_0': ['Diet','3'],\n",
    " 'Fresh fruit intake_0': ['Diet','3'],\n",
    " 'Dried fruit intake_0': ['Diet','3'],\n",
    " 'Bread intake_0': ['Diet','3'],\n",
    " 'Cereal intake_0': ['Diet','3'],\n",
    " 'Tea intake_0': ['Diet','3'],\n",
    " 'Average weekly spirits intake_0': ['Alcohol/drugs','3'],\n",
    " 'Age started wearing glasses or contact lenses_0': ['Vision','1a'],\n",
    " 'Frequency of solarium/sunlamp use_0': ['Lifestyle','3'],\n",
    " 'Number of live births_0': ['Demographics','1b'],\n",
    " 'Forced expiratory volume in 1-second (FEV1)_0': ['Misc Investigation','1b'],\n",
    " 'Time to complete round_0': ['Misc Investigation','3'],\n",
    " 'Pack years of smoking_0': ['Alcohol/drugs','1a'],\n",
    " 'Duration to entering symbol choice_0': ['Misc Investigation','3'],\n",
    " 'Forced vital capacity (FVC) Z-score': ['Misc Investigation','1b'],\n",
    " 'Body mass index (BMI)_0': ['Biometrics','1a'],\n",
    " 'Age when attended assessment centre_0': ['Demographics','1a'],\n",
    " 'MET minutes per week for vigorous activity': ['Lifestyle','3'],\n",
    " 'Particulate matter air pollution (pm10); 2007': ['Environment','3'],\n",
    " 'Monocyte count_0': ['Bloods', '3'],\n",
    " 'Microalbumin in urine_0': ['Misc Investigation','1b'],\n",
    " 'Apolipoprotein B_0': ['Bloods', '3'],\n",
    " 'Aspartate aminotransferase_0': ['Bloods', '1b'],\n",
    " 'Cholesterol_0': ['Bloods', '1a'],\n",
    " 'Creatinine_0': ['Bloods', '1b'],\n",
    " 'C-reactive protein_0': ['Bloods', '1b'],\n",
    " 'Cystatin C_0': ['Bloods', '3'],\n",
    " 'Gamma glutamyltransferase_0': ['Bloods', '1b'],\n",
    " 'Glucose_0': ['Bloods', '1b'],\n",
    " 'Glycated haemoglobin (HbA1c)_0': ['Bloods', '1a'],\n",
    " 'HDL cholesterol_0': ['Bloods', '1a'],\n",
    " 'IGF-1_0': ['Bloods', '3'],\n",
    " 'LDL direct_0': ['Bloods', '1a'],\n",
    " 'Oestradiol_0': ['Bloods', '3'],\n",
    " 'Sex_1.0': ['Demographics', '1a'],\n",
    " 'Average total household income before tax_0_1.0': ['Demographics', '3'],\n",
    " 'Average total household income before tax_0_2.0': [None, '3'],\n",
    " 'Average total household income before tax_0_3.0': [None, '3'],\n",
    " 'Average total household income before tax_0_4.0': [None, '3'],\n",
    " 'Average total household income before tax_0_5.0': [None, '3'],\n",
    " 'Usual walking pace_0_1.0': ['Lifestyle', '3'],\n",
    " 'Usual walking pace_0_2.0': [None, '3'],\n",
    " 'Usual walking pace_0_3.0': [None, '3'],\n",
    " 'Frequency of stair climbing in last 4 weeks_0_0.0': ['Lifestyle', '3'],\n",
    " 'Frequency of stair climbing in last 4 weeks_0_1.0': [None, '3'],\n",
    " 'Frequency of stair climbing in last 4 weeks_0_2.0': [None, '3'],\n",
    " 'Frequency of stair climbing in last 4 weeks_0_3.0': [None, '3'],\n",
    " 'Frequency of stair climbing in last 4 weeks_0_4.0': [None, '3'],\n",
    " 'Frequency of stair climbing in last 4 weeks_0_5.0': [None, '3'],\n",
    " 'Length of mobile phone use_0_0.0': ['Lifestyle', '3'],\n",
    " 'Length of mobile phone use_0_1.0': [None, '3'],\n",
    " 'Length of mobile phone use_0_2.0': [None, '3'],\n",
    " 'Length of mobile phone use_0_3.0': [None, '3'],\n",
    " 'Length of mobile phone use_0_4.0': [None, '3'],\n",
    " 'Weekly usage of mobile phone in last 3 months_0_0.0': ['Lifestyle', '3'],\n",
    " 'Weekly usage of mobile phone in last 3 months_0_1.0': [None, '3'],\n",
    " 'Weekly usage of mobile phone in last 3 months_0_2.0': [None, '3'],\n",
    " 'Weekly usage of mobile phone in last 3 months_0_3.0': [None, '3'],\n",
    " 'Weekly usage of mobile phone in last 3 months_0_4.0': [None, '3'],\n",
    " 'Weekly usage of mobile phone in last 3 months_0_5.0': [None, '3'],\n",
    " 'Getting up in morning_0_1.0': ['Sleep', '3'],\n",
    " 'Getting up in morning_0_2.0': [None, '3'],\n",
    " 'Getting up in morning_0_3.0': [None, '3'],\n",
    " 'Getting up in morning_0_4.0': [None, '3'],\n",
    " 'Nap during day_0_1.0': ['Sleep', '3'],\n",
    " 'Nap during day_0_2.0': [None, '3'],\n",
    " 'Nap during day_0_3.0': [None, '3'],\n",
    " 'Sleeplessness / insomnia_0_1.0': ['Sleep', '1b'],\n",
    " 'Sleeplessness / insomnia_0_2.0': [None, '1b'],\n",
    " 'Sleeplessness / insomnia_0_3.0': [None, '1b'],\n",
    " 'Daytime dozing / sleeping (narcolepsy)_0_0.0': ['Sleep', '1b'],\n",
    " 'Daytime dozing / sleeping (narcolepsy)_0_1.0': [None, '1b'],\n",
    " 'Daytime dozing / sleeping (narcolepsy)_0_2.0': [None, '1b'],\n",
    " 'Daytime dozing / sleeping (narcolepsy)_0_3.0': [None, '1b'],\n",
    " 'Current tobacco smoking_0_0.0': ['Alcohol/drugs', '1b'],\n",
    " 'Current tobacco smoking_0_1.0': [None, '1b'],\n",
    " 'Current tobacco smoking_0_2.0': [None, '1b'],\n",
    " 'Past tobacco smoking_0_1.0': ['Alcohol/drugs', '3'],\n",
    " 'Past tobacco smoking_0_2.0': [None, '3'],\n",
    " 'Past tobacco smoking_0_3.0': [None, '3'],\n",
    " 'Past tobacco smoking_0_4.0': [None, '3'],\n",
    " 'Smoking/smokers in household_0_0.0': ['Alcohol/drugs', '3'],\n",
    " 'Smoking/smokers in household_0_1.0': [None, '3'],\n",
    " 'Smoking/smokers in household_0_2.0': [None, '3'],\n",
    " 'Oily fish intake_0_0.0': ['Diet','3'],\n",
    " 'Oily fish intake_0_1.0': [None,'3'],\n",
    " 'Oily fish intake_0_2.0': [None,'3'],\n",
    " 'Oily fish intake_0_3.0': [None,'3'],\n",
    " 'Oily fish intake_0_4.0': [None,'3'],\n",
    " 'Oily fish intake_0_5.0': [None,'3'],\n",
    " 'Non-oily fish intake_0_0.0': ['Diet','3'],\n",
    " 'Non-oily fish intake_0_1.0': [None,'3'],\n",
    " 'Non-oily fish intake_0_2.0': [None,'3'],\n",
    " 'Non-oily fish intake_0_3.0': [None,'3'],\n",
    " 'Non-oily fish intake_0_4.0': [None,'3'],\n",
    " 'Non-oily fish intake_0_5.0': [None,'3'],\n",
    " 'Poultry intake_0_0.0': ['Diet','3'],\n",
    " 'Poultry intake_0_1.0': [None,'3'],\n",
    " 'Poultry intake_0_2.0': [None,'3'],\n",
    " 'Poultry intake_0_3.0': [None,'3'],\n",
    " 'Poultry intake_0_4.0': [None,'3'],\n",
    " 'Poultry intake_0_5.0': [None,'3'],\n",
    " 'Lamb/mutton intake_0_0.0': ['Diet','3'],\n",
    " 'Lamb/mutton intake_0_1.0': [None,'3'],\n",
    " 'Lamb/mutton intake_0_2.0': [None,'3'],\n",
    " 'Lamb/mutton intake_0_3.0': [None,'3'],\n",
    " 'Lamb/mutton intake_0_4.0': [None,'3'],\n",
    " 'Lamb/mutton intake_0_5.0': [None,'3'],\n",
    " 'Pork intake_0_0.0': ['Diet','3'],\n",
    " 'Pork intake_0_1.0': [None,'3'],\n",
    " 'Pork intake_0_2.0': [None,'3'],\n",
    " 'Pork intake_0_3.0': [None,'3'],\n",
    " 'Pork intake_0_4.0': [None,'3'],\n",
    " 'Pork intake_0_5.0': [None,'3'],\n",
    " 'Major dietary changes in the last 5 years_0_0.0': ['Diet','3'],\n",
    " 'Major dietary changes in the last 5 years_0_1.0': [None,'3'],\n",
    " 'Major dietary changes in the last 5 years_0_2.0': [None,'3'],\n",
    " 'Alcohol intake frequency._0_1.0': ['Alcohol/drugs','1b'],\n",
    " 'Alcohol intake frequency._0_2.0': [None,'1b'],\n",
    " 'Alcohol intake frequency._0_3.0': [None,'1b'],\n",
    " 'Alcohol intake frequency._0_4.0': [None,'1b'],\n",
    " 'Alcohol intake frequency._0_5.0': [None,'1b'],\n",
    " 'Alcohol intake frequency._0_6.0': [None,'1b'],\n",
    " 'Maternal smoking around birth_0_1.0': ['Early life','3'],\n",
    " 'Miserableness_0_1.0': ['Mental health','1b'],\n",
    " 'Frequency of depressed mood in last 2 weeks_0_1.0': ['Mental health', '1b'],\n",
    " 'Frequency of depressed mood in last 2 weeks_0_2.0': [None,'1b'],\n",
    " 'Frequency of depressed mood in last 2 weeks_0_3.0': [None,'1b'],\n",
    " 'Frequency of depressed mood in last 2 weeks_0_4.0': [None,'1b'],\n",
    " 'Frequency of tiredness / lethargy in last 2 weeks_0_1.0': ['Mental health', '1b'],\n",
    " 'Frequency of tiredness / lethargy in last 2 weeks_0_2.0': [None,'1b'],\n",
    " 'Frequency of tiredness / lethargy in last 2 weeks_0_3.0': [None,'1b'],\n",
    " 'Frequency of tiredness / lethargy in last 2 weeks_0_4.0': [None,'1b'],\n",
    " 'Wears glasses or contact lenses_0_1.0': ['Vision','1a'],\n",
    " 'Hearing difficulty/problems_0_0.0': ['Hearing','1b'],\n",
    " 'Hearing difficulty/problems_0_1.0': [None,'1b'],\n",
    " 'Hearing difficulty/problems_0_99.0': [None,'1b'],\n",
    " 'Hearing difficulty/problems with background noise_0_1.0': ['Hearing','1b'],\n",
    " 'Use of sun/uv protection_0_1.0': ['Lifestyle','3'],\n",
    " 'Use of sun/uv protection_0_2.0': [None,'3'],\n",
    " 'Use of sun/uv protection_0_3.0': [None,'3'],\n",
    " 'Use of sun/uv protection_0_4.0': [None,'3'],\n",
    " 'Use of sun/uv protection_0_5.0': [None,'3'],\n",
    " 'Falls in the last year_0_1.0': ['Symptom','1b'],\n",
    " 'Falls in the last year_0_2.0': [None,'1b'],\n",
    " 'Falls in the last year_0_3.0': [None,'1b'],\n",
    " 'Wheeze or whistling in the chest in last year_0_1.0': ['Symptom','1b'],\n",
    " 'Chest pain or discomfort_0_1.0': ['Symptom','1b'],\n",
    " 'Relative age voice broke_0_1.0': ['Early life','3'],\n",
    " 'Relative age voice broke_0_2.0': [None,'3'],\n",
    " 'Relative age voice broke_0_3.0': [None,'3'],\n",
    " 'Had menopause_0_0.0': ['Demographics','1b'],\n",
    " 'Had menopause_0_1.0': [None,'1b'],\n",
    " 'Had menopause_0_2.0': [None,'1b'],\n",
    " 'Had menopause_0_3.0': [None,'1b'],\n",
    " 'Ever taken oral contraceptive pill_0_1.0': ['Medication','1b'],\n",
    " 'Ever used hormone-replacement therapy (HRT)_0_1.0': ['Medication','1b'],\n",
    " 'Neck/shoulder pain for 3+ months_0_1.0': ['Symptom', '1b'],\n",
    " 'Frequency of other exercises in last 4 weeks_0_1.0': ['Lifestyle','3'],\n",
    " 'Frequency of other exercises in last 4 weeks_0_2.0': [None,'3'],\n",
    " 'Frequency of other exercises in last 4 weeks_0_3.0': [None,'3'],\n",
    " 'Frequency of other exercises in last 4 weeks_0_4.0': [None,'3'],\n",
    " 'Frequency of other exercises in last 4 weeks_0_5.0': [None,'3'],\n",
    " 'Frequency of other exercises in last 4 weeks_0_6.0': [None,'3'],\n",
    " 'Duration of other exercises_0_1.0': ['Lifestyle','3'],\n",
    " 'Duration of other exercises_0_2.0': [None,'3'],\n",
    " 'Duration of other exercises_0_3.0': [None,'3'],\n",
    " 'Duration of other exercises_0_4.0': [None,'3'],\n",
    " 'Duration of other exercises_0_5.0': [None,'3'],\n",
    " 'Duration of other exercises_0_6.0': [None,'3'],\n",
    " 'Duration of other exercises_0_7.0': [None,'3'],\n",
    " 'Knee pain for 3+ months_0_1.0': ['Symptom', '1b'],\n",
    " 'Ever highly irritable/argumentative for 2 days_0_1.0': ['Mental health', '1b'],\n",
    " 'Smoking status_0_0.0': ['Alcohol/drugs', '1a'],\n",
    " 'Smoking status_0_1.0': [None, '1a'],\n",
    " 'Smoking status_0_2.0': [None, '1a'],\n",
    " 'Ever seen an un-real vision_1.0': ['Mental health', '1b'],\n",
    " 'Recent easy annoyance or irritability_1.0': ['Mental health', '1b'],\n",
    " 'Recent easy annoyance or irritability_2.0': [None,'1b'],\n",
    " 'Recent easy annoyance or irritability_3.0': [None,'1b'],\n",
    " 'Recent easy annoyance or irritability_4.0': [None,'1b'],\n",
    " 'Recent trouble concentrating on things_1.0': ['Mental health','1b'],\n",
    " 'Recent trouble concentrating on things_2.0': [None,'1b'],\n",
    " 'Recent trouble concentrating on things_3.0': [None,'1b'],\n",
    " 'Recent trouble concentrating on things_4.0': [None,'1b'],\n",
    " 'Recent feelings of depression_1.0': ['Mental health', '1b'],\n",
    " 'Recent feelings of depression_2.0': [None,'1b'],\n",
    " 'Recent feelings of depression_3.0': [None,'1b'],\n",
    " 'Recent feelings of depression_4.0': [None,'1b'],\n",
    " 'Recent feelings of foreboding_1.0': ['Mental health', '1b'],\n",
    " 'Recent feelings of foreboding_2.0': [None,'1b'],\n",
    " 'Recent feelings of foreboding_3.0': [None,'1b'],\n",
    " 'Recent feelings of foreboding_4.0': [None,'1b'],\n",
    " 'Recent feelings of tiredness or low energy_1.0': ['Mental health', '1b'],\n",
    " 'Recent feelings of tiredness or low energy_2.0': [None,'1b'],\n",
    " 'Recent feelings of tiredness or low energy_3.0': [None,'1b'],\n",
    " 'Recent feelings of tiredness or low energy_4.0': [None,'1b'],\n",
    " 'Did your sleep change?_1.0': ['Mental health','1b'],\n",
    " 'Family history of IBS_1.0': ['Family history','1b'],\n",
    " 'aspirin': ['Medication','1b'],\n",
    " 'Cylindrical power (highest)': ['Vision','2'],\n",
    " '3mm asymmetry index (highest)': ['Vision','2'],\n",
    " '3mm regularity index (highest)': ['Vision','2'],\n",
    " 'logMAR, final (highest)': ['Vision','2'],\n",
    " 'Intra-ocular pressure, corneal-compensated (highest)': ['Vision','2'],\n",
    " 'Corneal hysteresis (lowest)': ['Vision','2'],\n",
    " 'Corneal resistance factor (highest)': ['Vision','2'],\n",
    " 'Health score': ['Health ratings','3'],\n",
    " 'Vertical cup to disc ratio (VCDR) (highest)': ['Vision','2'],\n",
    " 'Average ganglion cell-inner plexiform layer thickness (lowest)': ['Vision','2'],\n",
    " 'Overall health rating_0': ['Health ratings','3'],\n",
    " 'Diabetes Diagnosis': ['Diagnosis','1a'],\n",
    " 'Urban':['Demographics','1b'],\n",
    " 'FI2 : identify largest number_Incorrect':['Misc Investigation','3'],\n",
    " 'Ethnic background_0_White/Other':['Demographics','1a'],\n",
    " 'Ethnic background_0_Black':[None,'1a'],\n",
    " 'Ethnic background_0_Asian':[None,'1a'],\n",
    " 'High Cholesterol Diagnosis': ['Diagnosis','1a'],\n",
    " 'Osteoarthritis Diagnosis': ['Diagnosis','1b'],\n",
    " 'On Statin': ['Medication','1a'],\n",
    " 'On PPI': ['Medication','1b'],\n",
    " 'Never eat sugar': ['Diet','3'],\n",
    " 'Bleeding gums': ['Symptom','1b'],\n",
    " 'Dentures': ['Diagnosis','1b'],\n",
    " 'Hypertension Diagnosis': ['Diagnosis','1a'],\n",
    " 'On Ibuprofen': ['Medication','1b'],\n",
    " 'Sports club or gym': ['Lifestyle','3'],\n",
    " 'Religious group': ['Lifestyle','3'],\n",
    " 'Swimming/cycling/bowling/keep fit': ['Lifestyle','3'],\n",
    " 'On Fish Oil': ['Medication','1b'],\n",
    " 'On Glucosamine': ['Medication','1b'],\n",
    " 'Family history diabetes': ['Family history','1b'],\n",
    " 'Family history hypertension': ['Family history','1b'],\n",
    " 'IBS Diagnosis': ['Diagnosis','1b'],\n",
    " 'Hiatus Hernia Diagnosis': ['Diagnosis','1b']}"
   ]
  },
  {
   "cell_type": "code",
   "execution_count": 6,
   "id": "65387609-8b19-46b3-9c2d-2d3f16d251db",
   "metadata": {},
   "outputs": [
    {
     "data": {
      "text/plain": [
       "['../glaucoma_project/UKBB_Data/processed_data/classification_dict.joblib']"
      ]
     },
     "execution_count": 6,
     "metadata": {},
     "output_type": "execute_result"
    }
   ],
   "source": [
    "dump(classification_dict, UKBB_PATH+'processed_data/classification_dict.joblib')"
   ]
  },
  {
   "cell_type": "code",
   "execution_count": 3,
   "id": "99c51195-de71-44c6-9dad-cab66e633359",
   "metadata": {},
   "outputs": [],
   "source": [
    "classification_dict = load(UKBB_PATH+'processed_data/classification_dict.joblib')"
   ]
  },
  {
   "cell_type": "code",
   "execution_count": 4,
   "id": "4aa69d17-05bf-4929-9f71-3d5c9d4b2814",
   "metadata": {},
   "outputs": [
    {
     "data": {
      "text/plain": [
       "242"
      ]
     },
     "execution_count": 4,
     "metadata": {},
     "output_type": "execute_result"
    }
   ],
   "source": [
    "len(classification_dict)"
   ]
  },
  {
   "cell_type": "code",
   "execution_count": 11,
   "id": "100ea948-1469-446b-a8c3-424769b37092",
   "metadata": {},
   "outputs": [],
   "source": [
    "df_selected_field_data = pd.DataFrame()"
   ]
  },
  {
   "cell_type": "code",
   "execution_count": 12,
   "id": "c3ee8139-3c32-4872-a0e7-259191f7f19c",
   "metadata": {},
   "outputs": [],
   "source": [
    "df_selected_field_data['Field Name'] = cleaned_matrix.columns"
   ]
  },
  {
   "cell_type": "code",
   "execution_count": 13,
   "id": "97574f97-da87-4ab3-8873-6ef147800a7d",
   "metadata": {},
   "outputs": [],
   "source": [
    "df_selected_field_data['Field Type'] = df_selected_field_data['Field Name'].apply(lambda x: classification_dict[x][0])"
   ]
  },
  {
   "cell_type": "code",
   "execution_count": 14,
   "id": "03923dd8-8f12-4c17-85f7-279d108a3fc9",
   "metadata": {},
   "outputs": [],
   "source": [
    "df_selected_field_data['Model'] = df_selected_field_data['Field Name'].apply(lambda x: classification_dict[x][1])"
   ]
  },
  {
   "cell_type": "code",
   "execution_count": 15,
   "id": "3e9fc3f3-1dd5-463a-9d5d-ccca25c845b4",
   "metadata": {},
   "outputs": [],
   "source": [
    "df_selected_field_data = df_selected_field_data.dropna()"
   ]
  },
  {
   "cell_type": "code",
   "execution_count": 16,
   "id": "716d84b9-c3b4-4ac9-9f6e-e326d555ad6a",
   "metadata": {},
   "outputs": [
    {
     "data": {
      "text/plain": [
       "Lifestyle             17\n",
       "Bloods                14\n",
       "Diet                  13\n",
       "Mental health         11\n",
       "Vision                11\n",
       "Medication             8\n",
       "Demographics           8\n",
       "Diagnosis              7\n",
       "Alcohol/drugs          7\n",
       "Misc Investigation     6\n",
       "Symptom                6\n",
       "Sleep                  4\n",
       "Family history         3\n",
       "Hearing                2\n",
       "Early life             2\n",
       "Health ratings         2\n",
       "Biometrics             2\n",
       "Environment            1\n",
       "Name: Field Type, dtype: int64"
      ]
     },
     "execution_count": 16,
     "metadata": {},
     "output_type": "execute_result"
    }
   ],
   "source": [
    "df_selected_field_data['Field Type'].value_counts()"
   ]
  },
  {
   "cell_type": "code",
   "execution_count": 21,
   "id": "e3044d55-50e2-44ef-b589-3a7d4a377771",
   "metadata": {},
   "outputs": [],
   "source": [
    "df_selected_field_data['Feature Set'] = df_selected_field_data['Model'].apply(lambda x: {'1a':'A', '1b':'B', '2':'C', '3':'D'}[x])"
   ]
  },
  {
   "cell_type": "code",
   "execution_count": 30,
   "id": "93d22b18-e0fb-4b35-bda9-36af02635924",
   "metadata": {},
   "outputs": [],
   "source": [
    "df_selected_field_data.sort_values(['Field Type','Model'], ascending=[True,True]).to_csv('chosen_fields_table.csv')"
   ]
  },
  {
   "cell_type": "code",
   "execution_count": 23,
   "id": "9606f86e-cc8d-4cc9-8d14-376bdf4a4747",
   "metadata": {},
   "outputs": [
    {
     "data": {
      "text/html": [
       "<div>\n",
       "<style scoped>\n",
       "    .dataframe tbody tr th:only-of-type {\n",
       "        vertical-align: middle;\n",
       "    }\n",
       "\n",
       "    .dataframe tbody tr th {\n",
       "        vertical-align: top;\n",
       "    }\n",
       "\n",
       "    .dataframe thead th {\n",
       "        text-align: right;\n",
       "    }\n",
       "</style>\n",
       "<table border=\"1\" class=\"dataframe\">\n",
       "  <thead>\n",
       "    <tr style=\"text-align: right;\">\n",
       "      <th></th>\n",
       "      <th>Field Name</th>\n",
       "      <th>Field Type</th>\n",
       "      <th>Model</th>\n",
       "      <th>Feature Set</th>\n",
       "    </tr>\n",
       "  </thead>\n",
       "  <tbody>\n",
       "    <tr>\n",
       "      <th>2</th>\n",
       "      <td>Number of days/week of vigorous physical activ...</td>\n",
       "      <td>Lifestyle</td>\n",
       "      <td>1b</td>\n",
       "      <td>B</td>\n",
       "    </tr>\n",
       "    <tr>\n",
       "      <th>3</th>\n",
       "      <td>Time spend outdoors in summer_0</td>\n",
       "      <td>Lifestyle</td>\n",
       "      <td>3</td>\n",
       "      <td>D</td>\n",
       "    </tr>\n",
       "    <tr>\n",
       "      <th>4</th>\n",
       "      <td>Time spent outdoors in winter_0</td>\n",
       "      <td>Lifestyle</td>\n",
       "      <td>3</td>\n",
       "      <td>D</td>\n",
       "    </tr>\n",
       "    <tr>\n",
       "      <th>5</th>\n",
       "      <td>Time spent watching television (TV)_0</td>\n",
       "      <td>Lifestyle</td>\n",
       "      <td>3</td>\n",
       "      <td>D</td>\n",
       "    </tr>\n",
       "    <tr>\n",
       "      <th>6</th>\n",
       "      <td>Time spent using computer_0</td>\n",
       "      <td>Lifestyle</td>\n",
       "      <td>3</td>\n",
       "      <td>D</td>\n",
       "    </tr>\n",
       "    <tr>\n",
       "      <th>15</th>\n",
       "      <td>Frequency of solarium/sunlamp use_0</td>\n",
       "      <td>Lifestyle</td>\n",
       "      <td>3</td>\n",
       "      <td>D</td>\n",
       "    </tr>\n",
       "    <tr>\n",
       "      <th>24</th>\n",
       "      <td>MET minutes per week for vigorous activity</td>\n",
       "      <td>Lifestyle</td>\n",
       "      <td>3</td>\n",
       "      <td>D</td>\n",
       "    </tr>\n",
       "    <tr>\n",
       "      <th>47</th>\n",
       "      <td>Usual walking pace_0_1.0</td>\n",
       "      <td>Lifestyle</td>\n",
       "      <td>3</td>\n",
       "      <td>D</td>\n",
       "    </tr>\n",
       "    <tr>\n",
       "      <th>50</th>\n",
       "      <td>Frequency of stair climbing in last 4 weeks_0_0.0</td>\n",
       "      <td>Lifestyle</td>\n",
       "      <td>3</td>\n",
       "      <td>D</td>\n",
       "    </tr>\n",
       "    <tr>\n",
       "      <th>56</th>\n",
       "      <td>Length of mobile phone use_0_0.0</td>\n",
       "      <td>Lifestyle</td>\n",
       "      <td>3</td>\n",
       "      <td>D</td>\n",
       "    </tr>\n",
       "    <tr>\n",
       "      <th>61</th>\n",
       "      <td>Weekly usage of mobile phone in last 3 months_...</td>\n",
       "      <td>Lifestyle</td>\n",
       "      <td>3</td>\n",
       "      <td>D</td>\n",
       "    </tr>\n",
       "    <tr>\n",
       "      <th>145</th>\n",
       "      <td>Use of sun/uv protection_0_1.0</td>\n",
       "      <td>Lifestyle</td>\n",
       "      <td>3</td>\n",
       "      <td>D</td>\n",
       "    </tr>\n",
       "    <tr>\n",
       "      <th>165</th>\n",
       "      <td>Frequency of other exercises in last 4 weeks_0...</td>\n",
       "      <td>Lifestyle</td>\n",
       "      <td>3</td>\n",
       "      <td>D</td>\n",
       "    </tr>\n",
       "    <tr>\n",
       "      <th>171</th>\n",
       "      <td>Duration of other exercises_0_1.0</td>\n",
       "      <td>Lifestyle</td>\n",
       "      <td>3</td>\n",
       "      <td>D</td>\n",
       "    </tr>\n",
       "    <tr>\n",
       "      <th>233</th>\n",
       "      <td>Sports club or gym</td>\n",
       "      <td>Lifestyle</td>\n",
       "      <td>3</td>\n",
       "      <td>D</td>\n",
       "    </tr>\n",
       "    <tr>\n",
       "      <th>234</th>\n",
       "      <td>Religious group</td>\n",
       "      <td>Lifestyle</td>\n",
       "      <td>3</td>\n",
       "      <td>D</td>\n",
       "    </tr>\n",
       "    <tr>\n",
       "      <th>235</th>\n",
       "      <td>Swimming/cycling/bowling/keep fit</td>\n",
       "      <td>Lifestyle</td>\n",
       "      <td>3</td>\n",
       "      <td>D</td>\n",
       "    </tr>\n",
       "  </tbody>\n",
       "</table>\n",
       "</div>"
      ],
      "text/plain": [
       "                                            Field Name Field Type Model  \\\n",
       "2    Number of days/week of vigorous physical activ...  Lifestyle    1b   \n",
       "3                      Time spend outdoors in summer_0  Lifestyle     3   \n",
       "4                      Time spent outdoors in winter_0  Lifestyle     3   \n",
       "5                Time spent watching television (TV)_0  Lifestyle     3   \n",
       "6                          Time spent using computer_0  Lifestyle     3   \n",
       "15                 Frequency of solarium/sunlamp use_0  Lifestyle     3   \n",
       "24          MET minutes per week for vigorous activity  Lifestyle     3   \n",
       "47                            Usual walking pace_0_1.0  Lifestyle     3   \n",
       "50   Frequency of stair climbing in last 4 weeks_0_0.0  Lifestyle     3   \n",
       "56                    Length of mobile phone use_0_0.0  Lifestyle     3   \n",
       "61   Weekly usage of mobile phone in last 3 months_...  Lifestyle     3   \n",
       "145                     Use of sun/uv protection_0_1.0  Lifestyle     3   \n",
       "165  Frequency of other exercises in last 4 weeks_0...  Lifestyle     3   \n",
       "171                  Duration of other exercises_0_1.0  Lifestyle     3   \n",
       "233                                 Sports club or gym  Lifestyle     3   \n",
       "234                                    Religious group  Lifestyle     3   \n",
       "235                  Swimming/cycling/bowling/keep fit  Lifestyle     3   \n",
       "\n",
       "    Feature Set  \n",
       "2             B  \n",
       "3             D  \n",
       "4             D  \n",
       "5             D  \n",
       "6             D  \n",
       "15            D  \n",
       "24            D  \n",
       "47            D  \n",
       "50            D  \n",
       "56            D  \n",
       "61            D  \n",
       "145           D  \n",
       "165           D  \n",
       "171           D  \n",
       "233           D  \n",
       "234           D  \n",
       "235           D  "
      ]
     },
     "execution_count": 23,
     "metadata": {},
     "output_type": "execute_result"
    }
   ],
   "source": [
    "df_selected_field_data[df_selected_field_data['Field Type'] == 'Lifestyle']"
   ]
  },
  {
   "cell_type": "code",
   "execution_count": 24,
   "id": "470706a7-dbb6-4eb2-a768-b7246d5f7372",
   "metadata": {},
   "outputs": [
    {
     "data": {
      "text/html": [
       "<div>\n",
       "<style scoped>\n",
       "    .dataframe tbody tr th:only-of-type {\n",
       "        vertical-align: middle;\n",
       "    }\n",
       "\n",
       "    .dataframe tbody tr th {\n",
       "        vertical-align: top;\n",
       "    }\n",
       "\n",
       "    .dataframe thead th {\n",
       "        text-align: right;\n",
       "    }\n",
       "</style>\n",
       "<table border=\"1\" class=\"dataframe\">\n",
       "  <thead>\n",
       "    <tr style=\"text-align: right;\">\n",
       "      <th></th>\n",
       "      <th>Field Name</th>\n",
       "      <th>Field Type</th>\n",
       "      <th>Model</th>\n",
       "      <th>Feature Set</th>\n",
       "    </tr>\n",
       "  </thead>\n",
       "  <tbody>\n",
       "    <tr>\n",
       "      <th>26</th>\n",
       "      <td>Monocyte count_0</td>\n",
       "      <td>Bloods</td>\n",
       "      <td>3</td>\n",
       "      <td>D</td>\n",
       "    </tr>\n",
       "    <tr>\n",
       "      <th>28</th>\n",
       "      <td>Apolipoprotein B_0</td>\n",
       "      <td>Bloods</td>\n",
       "      <td>3</td>\n",
       "      <td>D</td>\n",
       "    </tr>\n",
       "    <tr>\n",
       "      <th>29</th>\n",
       "      <td>Aspartate aminotransferase_0</td>\n",
       "      <td>Bloods</td>\n",
       "      <td>1b</td>\n",
       "      <td>B</td>\n",
       "    </tr>\n",
       "    <tr>\n",
       "      <th>30</th>\n",
       "      <td>Cholesterol_0</td>\n",
       "      <td>Bloods</td>\n",
       "      <td>1a</td>\n",
       "      <td>A</td>\n",
       "    </tr>\n",
       "    <tr>\n",
       "      <th>31</th>\n",
       "      <td>Creatinine_0</td>\n",
       "      <td>Bloods</td>\n",
       "      <td>1b</td>\n",
       "      <td>B</td>\n",
       "    </tr>\n",
       "    <tr>\n",
       "      <th>32</th>\n",
       "      <td>C-reactive protein_0</td>\n",
       "      <td>Bloods</td>\n",
       "      <td>1b</td>\n",
       "      <td>B</td>\n",
       "    </tr>\n",
       "    <tr>\n",
       "      <th>33</th>\n",
       "      <td>Cystatin C_0</td>\n",
       "      <td>Bloods</td>\n",
       "      <td>3</td>\n",
       "      <td>D</td>\n",
       "    </tr>\n",
       "    <tr>\n",
       "      <th>34</th>\n",
       "      <td>Gamma glutamyltransferase_0</td>\n",
       "      <td>Bloods</td>\n",
       "      <td>1b</td>\n",
       "      <td>B</td>\n",
       "    </tr>\n",
       "    <tr>\n",
       "      <th>35</th>\n",
       "      <td>Glucose_0</td>\n",
       "      <td>Bloods</td>\n",
       "      <td>1b</td>\n",
       "      <td>B</td>\n",
       "    </tr>\n",
       "    <tr>\n",
       "      <th>36</th>\n",
       "      <td>Glycated haemoglobin (HbA1c)_0</td>\n",
       "      <td>Bloods</td>\n",
       "      <td>1a</td>\n",
       "      <td>A</td>\n",
       "    </tr>\n",
       "    <tr>\n",
       "      <th>37</th>\n",
       "      <td>HDL cholesterol_0</td>\n",
       "      <td>Bloods</td>\n",
       "      <td>1a</td>\n",
       "      <td>A</td>\n",
       "    </tr>\n",
       "    <tr>\n",
       "      <th>38</th>\n",
       "      <td>IGF-1_0</td>\n",
       "      <td>Bloods</td>\n",
       "      <td>3</td>\n",
       "      <td>D</td>\n",
       "    </tr>\n",
       "    <tr>\n",
       "      <th>39</th>\n",
       "      <td>LDL direct_0</td>\n",
       "      <td>Bloods</td>\n",
       "      <td>1a</td>\n",
       "      <td>A</td>\n",
       "    </tr>\n",
       "    <tr>\n",
       "      <th>40</th>\n",
       "      <td>Oestradiol_0</td>\n",
       "      <td>Bloods</td>\n",
       "      <td>3</td>\n",
       "      <td>D</td>\n",
       "    </tr>\n",
       "  </tbody>\n",
       "</table>\n",
       "</div>"
      ],
      "text/plain": [
       "                        Field Name Field Type Model Feature Set\n",
       "26                Monocyte count_0     Bloods     3           D\n",
       "28              Apolipoprotein B_0     Bloods     3           D\n",
       "29    Aspartate aminotransferase_0     Bloods    1b           B\n",
       "30                   Cholesterol_0     Bloods    1a           A\n",
       "31                    Creatinine_0     Bloods    1b           B\n",
       "32            C-reactive protein_0     Bloods    1b           B\n",
       "33                    Cystatin C_0     Bloods     3           D\n",
       "34     Gamma glutamyltransferase_0     Bloods    1b           B\n",
       "35                       Glucose_0     Bloods    1b           B\n",
       "36  Glycated haemoglobin (HbA1c)_0     Bloods    1a           A\n",
       "37               HDL cholesterol_0     Bloods    1a           A\n",
       "38                         IGF-1_0     Bloods     3           D\n",
       "39                    LDL direct_0     Bloods    1a           A\n",
       "40                    Oestradiol_0     Bloods     3           D"
      ]
     },
     "execution_count": 24,
     "metadata": {},
     "output_type": "execute_result"
    }
   ],
   "source": [
    "df_selected_field_data[df_selected_field_data['Field Type'] == 'Bloods']"
   ]
  },
  {
   "cell_type": "code",
   "execution_count": 25,
   "id": "e4553981-e301-46cd-8d4e-6f42a5d394aa",
   "metadata": {},
   "outputs": [
    {
     "data": {
      "text/html": [
       "<div>\n",
       "<style scoped>\n",
       "    .dataframe tbody tr th:only-of-type {\n",
       "        vertical-align: middle;\n",
       "    }\n",
       "\n",
       "    .dataframe tbody tr th {\n",
       "        vertical-align: top;\n",
       "    }\n",
       "\n",
       "    .dataframe thead th {\n",
       "        text-align: right;\n",
       "    }\n",
       "</style>\n",
       "<table border=\"1\" class=\"dataframe\">\n",
       "  <thead>\n",
       "    <tr style=\"text-align: right;\">\n",
       "      <th></th>\n",
       "      <th>Field Name</th>\n",
       "      <th>Field Type</th>\n",
       "      <th>Model</th>\n",
       "      <th>Feature Set</th>\n",
       "    </tr>\n",
       "  </thead>\n",
       "  <tbody>\n",
       "    <tr>\n",
       "      <th>7</th>\n",
       "      <td>Cooked vegetable intake_0</td>\n",
       "      <td>Diet</td>\n",
       "      <td>3</td>\n",
       "      <td>D</td>\n",
       "    </tr>\n",
       "    <tr>\n",
       "      <th>8</th>\n",
       "      <td>Fresh fruit intake_0</td>\n",
       "      <td>Diet</td>\n",
       "      <td>3</td>\n",
       "      <td>D</td>\n",
       "    </tr>\n",
       "    <tr>\n",
       "      <th>9</th>\n",
       "      <td>Dried fruit intake_0</td>\n",
       "      <td>Diet</td>\n",
       "      <td>3</td>\n",
       "      <td>D</td>\n",
       "    </tr>\n",
       "    <tr>\n",
       "      <th>10</th>\n",
       "      <td>Bread intake_0</td>\n",
       "      <td>Diet</td>\n",
       "      <td>3</td>\n",
       "      <td>D</td>\n",
       "    </tr>\n",
       "    <tr>\n",
       "      <th>11</th>\n",
       "      <td>Cereal intake_0</td>\n",
       "      <td>Diet</td>\n",
       "      <td>3</td>\n",
       "      <td>D</td>\n",
       "    </tr>\n",
       "    <tr>\n",
       "      <th>12</th>\n",
       "      <td>Tea intake_0</td>\n",
       "      <td>Diet</td>\n",
       "      <td>3</td>\n",
       "      <td>D</td>\n",
       "    </tr>\n",
       "    <tr>\n",
       "      <th>91</th>\n",
       "      <td>Oily fish intake_0_0.0</td>\n",
       "      <td>Diet</td>\n",
       "      <td>3</td>\n",
       "      <td>D</td>\n",
       "    </tr>\n",
       "    <tr>\n",
       "      <th>97</th>\n",
       "      <td>Non-oily fish intake_0_0.0</td>\n",
       "      <td>Diet</td>\n",
       "      <td>3</td>\n",
       "      <td>D</td>\n",
       "    </tr>\n",
       "    <tr>\n",
       "      <th>103</th>\n",
       "      <td>Poultry intake_0_0.0</td>\n",
       "      <td>Diet</td>\n",
       "      <td>3</td>\n",
       "      <td>D</td>\n",
       "    </tr>\n",
       "    <tr>\n",
       "      <th>109</th>\n",
       "      <td>Lamb/mutton intake_0_0.0</td>\n",
       "      <td>Diet</td>\n",
       "      <td>3</td>\n",
       "      <td>D</td>\n",
       "    </tr>\n",
       "    <tr>\n",
       "      <th>115</th>\n",
       "      <td>Pork intake_0_0.0</td>\n",
       "      <td>Diet</td>\n",
       "      <td>3</td>\n",
       "      <td>D</td>\n",
       "    </tr>\n",
       "    <tr>\n",
       "      <th>121</th>\n",
       "      <td>Major dietary changes in the last 5 years_0_0.0</td>\n",
       "      <td>Diet</td>\n",
       "      <td>3</td>\n",
       "      <td>D</td>\n",
       "    </tr>\n",
       "    <tr>\n",
       "      <th>228</th>\n",
       "      <td>Never eat sugar</td>\n",
       "      <td>Diet</td>\n",
       "      <td>3</td>\n",
       "      <td>D</td>\n",
       "    </tr>\n",
       "  </tbody>\n",
       "</table>\n",
       "</div>"
      ],
      "text/plain": [
       "                                          Field Name Field Type Model  \\\n",
       "7                          Cooked vegetable intake_0       Diet     3   \n",
       "8                               Fresh fruit intake_0       Diet     3   \n",
       "9                               Dried fruit intake_0       Diet     3   \n",
       "10                                    Bread intake_0       Diet     3   \n",
       "11                                   Cereal intake_0       Diet     3   \n",
       "12                                      Tea intake_0       Diet     3   \n",
       "91                            Oily fish intake_0_0.0       Diet     3   \n",
       "97                        Non-oily fish intake_0_0.0       Diet     3   \n",
       "103                             Poultry intake_0_0.0       Diet     3   \n",
       "109                         Lamb/mutton intake_0_0.0       Diet     3   \n",
       "115                                Pork intake_0_0.0       Diet     3   \n",
       "121  Major dietary changes in the last 5 years_0_0.0       Diet     3   \n",
       "228                                  Never eat sugar       Diet     3   \n",
       "\n",
       "    Feature Set  \n",
       "7             D  \n",
       "8             D  \n",
       "9             D  \n",
       "10            D  \n",
       "11            D  \n",
       "12            D  \n",
       "91            D  \n",
       "97            D  \n",
       "103           D  \n",
       "109           D  \n",
       "115           D  \n",
       "121           D  \n",
       "228           D  "
      ]
     },
     "execution_count": 25,
     "metadata": {},
     "output_type": "execute_result"
    }
   ],
   "source": [
    "df_selected_field_data[df_selected_field_data['Field Type'] == 'Diet']"
   ]
  },
  {
   "cell_type": "code",
   "execution_count": 26,
   "id": "6e6a2930-b14a-48f3-9627-6c8cc34fac99",
   "metadata": {},
   "outputs": [
    {
     "data": {
      "text/html": [
       "<div>\n",
       "<style scoped>\n",
       "    .dataframe tbody tr th:only-of-type {\n",
       "        vertical-align: middle;\n",
       "    }\n",
       "\n",
       "    .dataframe tbody tr th {\n",
       "        vertical-align: top;\n",
       "    }\n",
       "\n",
       "    .dataframe thead th {\n",
       "        text-align: right;\n",
       "    }\n",
       "</style>\n",
       "<table border=\"1\" class=\"dataframe\">\n",
       "  <thead>\n",
       "    <tr style=\"text-align: right;\">\n",
       "      <th></th>\n",
       "      <th>Field Name</th>\n",
       "      <th>Field Type</th>\n",
       "      <th>Model</th>\n",
       "      <th>Feature Set</th>\n",
       "    </tr>\n",
       "  </thead>\n",
       "  <tbody>\n",
       "    <tr>\n",
       "      <th>14</th>\n",
       "      <td>Age started wearing glasses or contact lenses_0</td>\n",
       "      <td>Vision</td>\n",
       "      <td>1a</td>\n",
       "      <td>A</td>\n",
       "    </tr>\n",
       "    <tr>\n",
       "      <th>140</th>\n",
       "      <td>Wears glasses or contact lenses_0_1.0</td>\n",
       "      <td>Vision</td>\n",
       "      <td>1a</td>\n",
       "      <td>A</td>\n",
       "    </tr>\n",
       "    <tr>\n",
       "      <th>207</th>\n",
       "      <td>Cylindrical power (highest)</td>\n",
       "      <td>Vision</td>\n",
       "      <td>2</td>\n",
       "      <td>C</td>\n",
       "    </tr>\n",
       "    <tr>\n",
       "      <th>208</th>\n",
       "      <td>3mm asymmetry index (highest)</td>\n",
       "      <td>Vision</td>\n",
       "      <td>2</td>\n",
       "      <td>C</td>\n",
       "    </tr>\n",
       "    <tr>\n",
       "      <th>209</th>\n",
       "      <td>3mm regularity index (highest)</td>\n",
       "      <td>Vision</td>\n",
       "      <td>2</td>\n",
       "      <td>C</td>\n",
       "    </tr>\n",
       "    <tr>\n",
       "      <th>210</th>\n",
       "      <td>logMAR, final (highest)</td>\n",
       "      <td>Vision</td>\n",
       "      <td>2</td>\n",
       "      <td>C</td>\n",
       "    </tr>\n",
       "    <tr>\n",
       "      <th>211</th>\n",
       "      <td>Intra-ocular pressure, corneal-compensated (hi...</td>\n",
       "      <td>Vision</td>\n",
       "      <td>2</td>\n",
       "      <td>C</td>\n",
       "    </tr>\n",
       "    <tr>\n",
       "      <th>212</th>\n",
       "      <td>Corneal hysteresis (lowest)</td>\n",
       "      <td>Vision</td>\n",
       "      <td>2</td>\n",
       "      <td>C</td>\n",
       "    </tr>\n",
       "    <tr>\n",
       "      <th>213</th>\n",
       "      <td>Corneal resistance factor (highest)</td>\n",
       "      <td>Vision</td>\n",
       "      <td>2</td>\n",
       "      <td>C</td>\n",
       "    </tr>\n",
       "    <tr>\n",
       "      <th>215</th>\n",
       "      <td>Vertical cup to disc ratio (VCDR) (highest)</td>\n",
       "      <td>Vision</td>\n",
       "      <td>2</td>\n",
       "      <td>C</td>\n",
       "    </tr>\n",
       "    <tr>\n",
       "      <th>216</th>\n",
       "      <td>Average ganglion cell-inner plexiform layer th...</td>\n",
       "      <td>Vision</td>\n",
       "      <td>2</td>\n",
       "      <td>C</td>\n",
       "    </tr>\n",
       "  </tbody>\n",
       "</table>\n",
       "</div>"
      ],
      "text/plain": [
       "                                            Field Name Field Type Model  \\\n",
       "14     Age started wearing glasses or contact lenses_0     Vision    1a   \n",
       "140              Wears glasses or contact lenses_0_1.0     Vision    1a   \n",
       "207                        Cylindrical power (highest)     Vision     2   \n",
       "208                      3mm asymmetry index (highest)     Vision     2   \n",
       "209                     3mm regularity index (highest)     Vision     2   \n",
       "210                            logMAR, final (highest)     Vision     2   \n",
       "211  Intra-ocular pressure, corneal-compensated (hi...     Vision     2   \n",
       "212                        Corneal hysteresis (lowest)     Vision     2   \n",
       "213                Corneal resistance factor (highest)     Vision     2   \n",
       "215        Vertical cup to disc ratio (VCDR) (highest)     Vision     2   \n",
       "216  Average ganglion cell-inner plexiform layer th...     Vision     2   \n",
       "\n",
       "    Feature Set  \n",
       "14            A  \n",
       "140           A  \n",
       "207           C  \n",
       "208           C  \n",
       "209           C  \n",
       "210           C  \n",
       "211           C  \n",
       "212           C  \n",
       "213           C  \n",
       "215           C  \n",
       "216           C  "
      ]
     },
     "execution_count": 26,
     "metadata": {},
     "output_type": "execute_result"
    }
   ],
   "source": [
    "df_selected_field_data[df_selected_field_data['Field Type'] == 'Vision']"
   ]
  },
  {
   "cell_type": "code",
   "execution_count": 27,
   "id": "75a34437-66d7-4892-8bc3-e4822d9cc728",
   "metadata": {},
   "outputs": [
    {
     "data": {
      "text/html": [
       "<div>\n",
       "<style scoped>\n",
       "    .dataframe tbody tr th:only-of-type {\n",
       "        vertical-align: middle;\n",
       "    }\n",
       "\n",
       "    .dataframe tbody tr th {\n",
       "        vertical-align: top;\n",
       "    }\n",
       "\n",
       "    .dataframe thead th {\n",
       "        text-align: right;\n",
       "    }\n",
       "</style>\n",
       "<table border=\"1\" class=\"dataframe\">\n",
       "  <thead>\n",
       "    <tr style=\"text-align: right;\">\n",
       "      <th></th>\n",
       "      <th>Field Name</th>\n",
       "      <th>Field Type</th>\n",
       "      <th>Model</th>\n",
       "      <th>Feature Set</th>\n",
       "    </tr>\n",
       "  </thead>\n",
       "  <tbody>\n",
       "    <tr>\n",
       "      <th>131</th>\n",
       "      <td>Miserableness_0_1.0</td>\n",
       "      <td>Mental health</td>\n",
       "      <td>1b</td>\n",
       "      <td>B</td>\n",
       "    </tr>\n",
       "    <tr>\n",
       "      <th>132</th>\n",
       "      <td>Frequency of depressed mood in last 2 weeks_0_1.0</td>\n",
       "      <td>Mental health</td>\n",
       "      <td>1b</td>\n",
       "      <td>B</td>\n",
       "    </tr>\n",
       "    <tr>\n",
       "      <th>136</th>\n",
       "      <td>Frequency of tiredness / lethargy in last 2 we...</td>\n",
       "      <td>Mental health</td>\n",
       "      <td>1b</td>\n",
       "      <td>B</td>\n",
       "    </tr>\n",
       "    <tr>\n",
       "      <th>179</th>\n",
       "      <td>Ever highly irritable/argumentative for 2 days...</td>\n",
       "      <td>Mental health</td>\n",
       "      <td>1b</td>\n",
       "      <td>B</td>\n",
       "    </tr>\n",
       "    <tr>\n",
       "      <th>183</th>\n",
       "      <td>Ever seen an un-real vision_1.0</td>\n",
       "      <td>Mental health</td>\n",
       "      <td>1b</td>\n",
       "      <td>B</td>\n",
       "    </tr>\n",
       "    <tr>\n",
       "      <th>184</th>\n",
       "      <td>Recent easy annoyance or irritability_1.0</td>\n",
       "      <td>Mental health</td>\n",
       "      <td>1b</td>\n",
       "      <td>B</td>\n",
       "    </tr>\n",
       "    <tr>\n",
       "      <th>188</th>\n",
       "      <td>Recent trouble concentrating on things_1.0</td>\n",
       "      <td>Mental health</td>\n",
       "      <td>1b</td>\n",
       "      <td>B</td>\n",
       "    </tr>\n",
       "    <tr>\n",
       "      <th>192</th>\n",
       "      <td>Recent feelings of depression_1.0</td>\n",
       "      <td>Mental health</td>\n",
       "      <td>1b</td>\n",
       "      <td>B</td>\n",
       "    </tr>\n",
       "    <tr>\n",
       "      <th>196</th>\n",
       "      <td>Recent feelings of foreboding_1.0</td>\n",
       "      <td>Mental health</td>\n",
       "      <td>1b</td>\n",
       "      <td>B</td>\n",
       "    </tr>\n",
       "    <tr>\n",
       "      <th>200</th>\n",
       "      <td>Recent feelings of tiredness or low energy_1.0</td>\n",
       "      <td>Mental health</td>\n",
       "      <td>1b</td>\n",
       "      <td>B</td>\n",
       "    </tr>\n",
       "    <tr>\n",
       "      <th>204</th>\n",
       "      <td>Did your sleep change?_1.0</td>\n",
       "      <td>Mental health</td>\n",
       "      <td>1b</td>\n",
       "      <td>B</td>\n",
       "    </tr>\n",
       "  </tbody>\n",
       "</table>\n",
       "</div>"
      ],
      "text/plain": [
       "                                            Field Name     Field Type Model  \\\n",
       "131                                Miserableness_0_1.0  Mental health    1b   \n",
       "132  Frequency of depressed mood in last 2 weeks_0_1.0  Mental health    1b   \n",
       "136  Frequency of tiredness / lethargy in last 2 we...  Mental health    1b   \n",
       "179  Ever highly irritable/argumentative for 2 days...  Mental health    1b   \n",
       "183                    Ever seen an un-real vision_1.0  Mental health    1b   \n",
       "184          Recent easy annoyance or irritability_1.0  Mental health    1b   \n",
       "188         Recent trouble concentrating on things_1.0  Mental health    1b   \n",
       "192                  Recent feelings of depression_1.0  Mental health    1b   \n",
       "196                  Recent feelings of foreboding_1.0  Mental health    1b   \n",
       "200     Recent feelings of tiredness or low energy_1.0  Mental health    1b   \n",
       "204                         Did your sleep change?_1.0  Mental health    1b   \n",
       "\n",
       "    Feature Set  \n",
       "131           B  \n",
       "132           B  \n",
       "136           B  \n",
       "179           B  \n",
       "183           B  \n",
       "184           B  \n",
       "188           B  \n",
       "192           B  \n",
       "196           B  \n",
       "200           B  \n",
       "204           B  "
      ]
     },
     "execution_count": 27,
     "metadata": {},
     "output_type": "execute_result"
    }
   ],
   "source": [
    "df_selected_field_data[df_selected_field_data['Field Type'] == 'Mental health']"
   ]
  },
  {
   "cell_type": "code",
   "execution_count": 28,
   "id": "e6959d95-3b8b-4b75-881b-8dbbd24d4b49",
   "metadata": {},
   "outputs": [
    {
     "data": {
      "text/html": [
       "<div>\n",
       "<style scoped>\n",
       "    .dataframe tbody tr th:only-of-type {\n",
       "        vertical-align: middle;\n",
       "    }\n",
       "\n",
       "    .dataframe tbody tr th {\n",
       "        vertical-align: top;\n",
       "    }\n",
       "\n",
       "    .dataframe thead th {\n",
       "        text-align: right;\n",
       "    }\n",
       "</style>\n",
       "<table border=\"1\" class=\"dataframe\">\n",
       "  <thead>\n",
       "    <tr style=\"text-align: right;\">\n",
       "      <th></th>\n",
       "      <th>Field Name</th>\n",
       "      <th>Field Type</th>\n",
       "      <th>Model</th>\n",
       "      <th>Feature Set</th>\n",
       "    </tr>\n",
       "  </thead>\n",
       "  <tbody>\n",
       "    <tr>\n",
       "      <th>1</th>\n",
       "      <td>Townsend deprivation index at recruitment</td>\n",
       "      <td>Demographics</td>\n",
       "      <td>1b</td>\n",
       "      <td>B</td>\n",
       "    </tr>\n",
       "    <tr>\n",
       "      <th>16</th>\n",
       "      <td>Number of live births_0</td>\n",
       "      <td>Demographics</td>\n",
       "      <td>1b</td>\n",
       "      <td>B</td>\n",
       "    </tr>\n",
       "    <tr>\n",
       "      <th>23</th>\n",
       "      <td>Age when attended assessment centre_0</td>\n",
       "      <td>Demographics</td>\n",
       "      <td>1a</td>\n",
       "      <td>A</td>\n",
       "    </tr>\n",
       "    <tr>\n",
       "      <th>41</th>\n",
       "      <td>Sex_1.0</td>\n",
       "      <td>Demographics</td>\n",
       "      <td>1a</td>\n",
       "      <td>A</td>\n",
       "    </tr>\n",
       "    <tr>\n",
       "      <th>42</th>\n",
       "      <td>Average total household income before tax_0_1.0</td>\n",
       "      <td>Demographics</td>\n",
       "      <td>3</td>\n",
       "      <td>D</td>\n",
       "    </tr>\n",
       "    <tr>\n",
       "      <th>158</th>\n",
       "      <td>Had menopause_0_0.0</td>\n",
       "      <td>Demographics</td>\n",
       "      <td>1b</td>\n",
       "      <td>B</td>\n",
       "    </tr>\n",
       "    <tr>\n",
       "      <th>219</th>\n",
       "      <td>Urban</td>\n",
       "      <td>Demographics</td>\n",
       "      <td>1b</td>\n",
       "      <td>B</td>\n",
       "    </tr>\n",
       "    <tr>\n",
       "      <th>221</th>\n",
       "      <td>Ethnic background_0_White/Other</td>\n",
       "      <td>Demographics</td>\n",
       "      <td>1a</td>\n",
       "      <td>A</td>\n",
       "    </tr>\n",
       "  </tbody>\n",
       "</table>\n",
       "</div>"
      ],
      "text/plain": [
       "                                          Field Name    Field Type Model  \\\n",
       "1          Townsend deprivation index at recruitment  Demographics    1b   \n",
       "16                           Number of live births_0  Demographics    1b   \n",
       "23             Age when attended assessment centre_0  Demographics    1a   \n",
       "41                                           Sex_1.0  Demographics    1a   \n",
       "42   Average total household income before tax_0_1.0  Demographics     3   \n",
       "158                              Had menopause_0_0.0  Demographics    1b   \n",
       "219                                            Urban  Demographics    1b   \n",
       "221                  Ethnic background_0_White/Other  Demographics    1a   \n",
       "\n",
       "    Feature Set  \n",
       "1             B  \n",
       "16            B  \n",
       "23            A  \n",
       "41            A  \n",
       "42            D  \n",
       "158           B  \n",
       "219           B  \n",
       "221           A  "
      ]
     },
     "execution_count": 28,
     "metadata": {},
     "output_type": "execute_result"
    }
   ],
   "source": [
    "df_selected_field_data[df_selected_field_data['Field Type'] == 'Demographics']"
   ]
  },
  {
   "cell_type": "code",
   "execution_count": 29,
   "id": "916c3b9e-b81e-48e4-b724-d1c07e22a8f0",
   "metadata": {},
   "outputs": [
    {
     "data": {
      "text/html": [
       "<div>\n",
       "<style scoped>\n",
       "    .dataframe tbody tr th:only-of-type {\n",
       "        vertical-align: middle;\n",
       "    }\n",
       "\n",
       "    .dataframe tbody tr th {\n",
       "        vertical-align: top;\n",
       "    }\n",
       "\n",
       "    .dataframe thead th {\n",
       "        text-align: right;\n",
       "    }\n",
       "</style>\n",
       "<table border=\"1\" class=\"dataframe\">\n",
       "  <thead>\n",
       "    <tr style=\"text-align: right;\">\n",
       "      <th></th>\n",
       "      <th>Field Name</th>\n",
       "      <th>Field Type</th>\n",
       "      <th>Model</th>\n",
       "      <th>Feature Set</th>\n",
       "    </tr>\n",
       "  </thead>\n",
       "  <tbody>\n",
       "    <tr>\n",
       "      <th>218</th>\n",
       "      <td>Diabetes Diagnosis</td>\n",
       "      <td>Diagnosis</td>\n",
       "      <td>1a</td>\n",
       "      <td>A</td>\n",
       "    </tr>\n",
       "    <tr>\n",
       "      <th>224</th>\n",
       "      <td>High Cholesterol Diagnosis</td>\n",
       "      <td>Diagnosis</td>\n",
       "      <td>1a</td>\n",
       "      <td>A</td>\n",
       "    </tr>\n",
       "    <tr>\n",
       "      <th>225</th>\n",
       "      <td>Osteoarthritis Diagnosis</td>\n",
       "      <td>Diagnosis</td>\n",
       "      <td>1b</td>\n",
       "      <td>B</td>\n",
       "    </tr>\n",
       "    <tr>\n",
       "      <th>230</th>\n",
       "      <td>Dentures</td>\n",
       "      <td>Diagnosis</td>\n",
       "      <td>1b</td>\n",
       "      <td>B</td>\n",
       "    </tr>\n",
       "    <tr>\n",
       "      <th>231</th>\n",
       "      <td>Hypertension Diagnosis</td>\n",
       "      <td>Diagnosis</td>\n",
       "      <td>1a</td>\n",
       "      <td>A</td>\n",
       "    </tr>\n",
       "    <tr>\n",
       "      <th>240</th>\n",
       "      <td>IBS Diagnosis</td>\n",
       "      <td>Diagnosis</td>\n",
       "      <td>1b</td>\n",
       "      <td>B</td>\n",
       "    </tr>\n",
       "    <tr>\n",
       "      <th>241</th>\n",
       "      <td>Hiatus Hernia Diagnosis</td>\n",
       "      <td>Diagnosis</td>\n",
       "      <td>1b</td>\n",
       "      <td>B</td>\n",
       "    </tr>\n",
       "  </tbody>\n",
       "</table>\n",
       "</div>"
      ],
      "text/plain": [
       "                     Field Name Field Type Model Feature Set\n",
       "218          Diabetes Diagnosis  Diagnosis    1a           A\n",
       "224  High Cholesterol Diagnosis  Diagnosis    1a           A\n",
       "225    Osteoarthritis Diagnosis  Diagnosis    1b           B\n",
       "230                    Dentures  Diagnosis    1b           B\n",
       "231      Hypertension Diagnosis  Diagnosis    1a           A\n",
       "240               IBS Diagnosis  Diagnosis    1b           B\n",
       "241     Hiatus Hernia Diagnosis  Diagnosis    1b           B"
      ]
     },
     "execution_count": 29,
     "metadata": {},
     "output_type": "execute_result"
    }
   ],
   "source": [
    "df_selected_field_data[df_selected_field_data['Field Type'] == 'Diagnosis']"
   ]
  },
  {
   "cell_type": "code",
   "execution_count": 130,
   "id": "5aa2742d-4cd2-43b6-86c8-e951bff2604e",
   "metadata": {},
   "outputs": [
    {
     "data": {
      "text/html": [
       "<div>\n",
       "<style scoped>\n",
       "    .dataframe tbody tr th:only-of-type {\n",
       "        vertical-align: middle;\n",
       "    }\n",
       "\n",
       "    .dataframe tbody tr th {\n",
       "        vertical-align: top;\n",
       "    }\n",
       "\n",
       "    .dataframe thead th {\n",
       "        text-align: right;\n",
       "    }\n",
       "</style>\n",
       "<table border=\"1\" class=\"dataframe\">\n",
       "  <thead>\n",
       "    <tr style=\"text-align: right;\">\n",
       "      <th></th>\n",
       "      <th>Field Name</th>\n",
       "      <th>Field Type</th>\n",
       "      <th>Model</th>\n",
       "    </tr>\n",
       "  </thead>\n",
       "  <tbody>\n",
       "    <tr>\n",
       "      <th>162</th>\n",
       "      <td>Ever taken oral contraceptive pill_0_1.0</td>\n",
       "      <td>Medication</td>\n",
       "      <td>1b</td>\n",
       "    </tr>\n",
       "    <tr>\n",
       "      <th>163</th>\n",
       "      <td>Ever used hormone-replacement therapy (HRT)_0_1.0</td>\n",
       "      <td>Medication</td>\n",
       "      <td>1b</td>\n",
       "    </tr>\n",
       "    <tr>\n",
       "      <th>206</th>\n",
       "      <td>aspirin</td>\n",
       "      <td>Medication</td>\n",
       "      <td>1b</td>\n",
       "    </tr>\n",
       "    <tr>\n",
       "      <th>226</th>\n",
       "      <td>On Statin</td>\n",
       "      <td>Medication</td>\n",
       "      <td>1a</td>\n",
       "    </tr>\n",
       "    <tr>\n",
       "      <th>227</th>\n",
       "      <td>On PPI</td>\n",
       "      <td>Medication</td>\n",
       "      <td>1b</td>\n",
       "    </tr>\n",
       "    <tr>\n",
       "      <th>232</th>\n",
       "      <td>On Ibuprofen</td>\n",
       "      <td>Medication</td>\n",
       "      <td>1b</td>\n",
       "    </tr>\n",
       "    <tr>\n",
       "      <th>236</th>\n",
       "      <td>On Fish Oil</td>\n",
       "      <td>Medication</td>\n",
       "      <td>1b</td>\n",
       "    </tr>\n",
       "    <tr>\n",
       "      <th>237</th>\n",
       "      <td>On Glucosamine</td>\n",
       "      <td>Medication</td>\n",
       "      <td>1b</td>\n",
       "    </tr>\n",
       "  </tbody>\n",
       "</table>\n",
       "</div>"
      ],
      "text/plain": [
       "                                            Field Name  Field Type Model\n",
       "162           Ever taken oral contraceptive pill_0_1.0  Medication    1b\n",
       "163  Ever used hormone-replacement therapy (HRT)_0_1.0  Medication    1b\n",
       "206                                            aspirin  Medication    1b\n",
       "226                                          On Statin  Medication    1a\n",
       "227                                             On PPI  Medication    1b\n",
       "232                                       On Ibuprofen  Medication    1b\n",
       "236                                        On Fish Oil  Medication    1b\n",
       "237                                     On Glucosamine  Medication    1b"
      ]
     },
     "execution_count": 130,
     "metadata": {},
     "output_type": "execute_result"
    }
   ],
   "source": [
    "df_selected_field_data[df_selected_field_data['Field Type'] == 'Medication']"
   ]
  },
  {
   "cell_type": "code",
   "execution_count": 131,
   "id": "33599405-fe65-4056-9a84-2f8514203f81",
   "metadata": {},
   "outputs": [
    {
     "data": {
      "text/html": [
       "<div>\n",
       "<style scoped>\n",
       "    .dataframe tbody tr th:only-of-type {\n",
       "        vertical-align: middle;\n",
       "    }\n",
       "\n",
       "    .dataframe tbody tr th {\n",
       "        vertical-align: top;\n",
       "    }\n",
       "\n",
       "    .dataframe thead th {\n",
       "        text-align: right;\n",
       "    }\n",
       "</style>\n",
       "<table border=\"1\" class=\"dataframe\">\n",
       "  <thead>\n",
       "    <tr style=\"text-align: right;\">\n",
       "      <th></th>\n",
       "      <th>Field Name</th>\n",
       "      <th>Field Type</th>\n",
       "      <th>Model</th>\n",
       "    </tr>\n",
       "  </thead>\n",
       "  <tbody>\n",
       "    <tr>\n",
       "      <th>17</th>\n",
       "      <td>Forced expiratory volume in 1-second (FEV1)_0</td>\n",
       "      <td>Misc Investigation</td>\n",
       "      <td>1b</td>\n",
       "    </tr>\n",
       "    <tr>\n",
       "      <th>18</th>\n",
       "      <td>Time to complete round_0</td>\n",
       "      <td>Misc Investigation</td>\n",
       "      <td>3</td>\n",
       "    </tr>\n",
       "    <tr>\n",
       "      <th>20</th>\n",
       "      <td>Duration to entering symbol choice_0</td>\n",
       "      <td>Misc Investigation</td>\n",
       "      <td>3</td>\n",
       "    </tr>\n",
       "    <tr>\n",
       "      <th>21</th>\n",
       "      <td>Forced vital capacity (FVC) Z-score</td>\n",
       "      <td>Misc Investigation</td>\n",
       "      <td>1b</td>\n",
       "    </tr>\n",
       "    <tr>\n",
       "      <th>27</th>\n",
       "      <td>Microalbumin in urine_0</td>\n",
       "      <td>Misc Investigation</td>\n",
       "      <td>1b</td>\n",
       "    </tr>\n",
       "    <tr>\n",
       "      <th>220</th>\n",
       "      <td>FI2 : identify largest number_Incorrect</td>\n",
       "      <td>Misc Investigation</td>\n",
       "      <td>3</td>\n",
       "    </tr>\n",
       "  </tbody>\n",
       "</table>\n",
       "</div>"
      ],
      "text/plain": [
       "                                        Field Name          Field Type Model\n",
       "17   Forced expiratory volume in 1-second (FEV1)_0  Misc Investigation    1b\n",
       "18                        Time to complete round_0  Misc Investigation     3\n",
       "20            Duration to entering symbol choice_0  Misc Investigation     3\n",
       "21             Forced vital capacity (FVC) Z-score  Misc Investigation    1b\n",
       "27                         Microalbumin in urine_0  Misc Investigation    1b\n",
       "220        FI2 : identify largest number_Incorrect  Misc Investigation     3"
      ]
     },
     "execution_count": 131,
     "metadata": {},
     "output_type": "execute_result"
    }
   ],
   "source": [
    "df_selected_field_data[df_selected_field_data['Field Type'] == 'Misc Investigation']"
   ]
  },
  {
   "cell_type": "code",
   "execution_count": 132,
   "id": "1695d3f8-073d-41af-8328-79583e113df1",
   "metadata": {},
   "outputs": [
    {
     "data": {
      "text/html": [
       "<div>\n",
       "<style scoped>\n",
       "    .dataframe tbody tr th:only-of-type {\n",
       "        vertical-align: middle;\n",
       "    }\n",
       "\n",
       "    .dataframe tbody tr th {\n",
       "        vertical-align: top;\n",
       "    }\n",
       "\n",
       "    .dataframe thead th {\n",
       "        text-align: right;\n",
       "    }\n",
       "</style>\n",
       "<table border=\"1\" class=\"dataframe\">\n",
       "  <thead>\n",
       "    <tr style=\"text-align: right;\">\n",
       "      <th></th>\n",
       "      <th>Field Name</th>\n",
       "      <th>Field Type</th>\n",
       "      <th>Model</th>\n",
       "    </tr>\n",
       "  </thead>\n",
       "  <tbody>\n",
       "    <tr>\n",
       "      <th>13</th>\n",
       "      <td>Average weekly spirits intake_0</td>\n",
       "      <td>Alcohol/drugs</td>\n",
       "      <td>3</td>\n",
       "    </tr>\n",
       "    <tr>\n",
       "      <th>19</th>\n",
       "      <td>Pack years of smoking_0</td>\n",
       "      <td>Alcohol/drugs</td>\n",
       "      <td>1a</td>\n",
       "    </tr>\n",
       "    <tr>\n",
       "      <th>81</th>\n",
       "      <td>Current tobacco smoking_0_0.0</td>\n",
       "      <td>Alcohol/drugs</td>\n",
       "      <td>1b</td>\n",
       "    </tr>\n",
       "    <tr>\n",
       "      <th>84</th>\n",
       "      <td>Past tobacco smoking_0_1.0</td>\n",
       "      <td>Alcohol/drugs</td>\n",
       "      <td>3</td>\n",
       "    </tr>\n",
       "    <tr>\n",
       "      <th>88</th>\n",
       "      <td>Smoking/smokers in household_0_0.0</td>\n",
       "      <td>Alcohol/drugs</td>\n",
       "      <td>3</td>\n",
       "    </tr>\n",
       "    <tr>\n",
       "      <th>124</th>\n",
       "      <td>Alcohol intake frequency._0_1.0</td>\n",
       "      <td>Alcohol/drugs</td>\n",
       "      <td>1b</td>\n",
       "    </tr>\n",
       "    <tr>\n",
       "      <th>180</th>\n",
       "      <td>Smoking status_0_0.0</td>\n",
       "      <td>Alcohol/drugs</td>\n",
       "      <td>1a</td>\n",
       "    </tr>\n",
       "  </tbody>\n",
       "</table>\n",
       "</div>"
      ],
      "text/plain": [
       "                             Field Name     Field Type Model\n",
       "13      Average weekly spirits intake_0  Alcohol/drugs     3\n",
       "19              Pack years of smoking_0  Alcohol/drugs    1a\n",
       "81        Current tobacco smoking_0_0.0  Alcohol/drugs    1b\n",
       "84           Past tobacco smoking_0_1.0  Alcohol/drugs     3\n",
       "88   Smoking/smokers in household_0_0.0  Alcohol/drugs     3\n",
       "124     Alcohol intake frequency._0_1.0  Alcohol/drugs    1b\n",
       "180                Smoking status_0_0.0  Alcohol/drugs    1a"
      ]
     },
     "execution_count": 132,
     "metadata": {},
     "output_type": "execute_result"
    }
   ],
   "source": [
    "df_selected_field_data[df_selected_field_data['Field Type'] == 'Alcohol/drugs']"
   ]
  },
  {
   "cell_type": "code",
   "execution_count": 133,
   "id": "06206e03-dad0-436d-80fa-c578744c96b9",
   "metadata": {},
   "outputs": [
    {
     "data": {
      "text/html": [
       "<div>\n",
       "<style scoped>\n",
       "    .dataframe tbody tr th:only-of-type {\n",
       "        vertical-align: middle;\n",
       "    }\n",
       "\n",
       "    .dataframe tbody tr th {\n",
       "        vertical-align: top;\n",
       "    }\n",
       "\n",
       "    .dataframe thead th {\n",
       "        text-align: right;\n",
       "    }\n",
       "</style>\n",
       "<table border=\"1\" class=\"dataframe\">\n",
       "  <thead>\n",
       "    <tr style=\"text-align: right;\">\n",
       "      <th></th>\n",
       "      <th>Field Name</th>\n",
       "      <th>Field Type</th>\n",
       "      <th>Model</th>\n",
       "    </tr>\n",
       "  </thead>\n",
       "  <tbody>\n",
       "    <tr>\n",
       "      <th>150</th>\n",
       "      <td>Falls in the last year_0_1.0</td>\n",
       "      <td>Symptom</td>\n",
       "      <td>1b</td>\n",
       "    </tr>\n",
       "    <tr>\n",
       "      <th>153</th>\n",
       "      <td>Wheeze or whistling in the chest in last year_...</td>\n",
       "      <td>Symptom</td>\n",
       "      <td>1b</td>\n",
       "    </tr>\n",
       "    <tr>\n",
       "      <th>154</th>\n",
       "      <td>Chest pain or discomfort_0_1.0</td>\n",
       "      <td>Symptom</td>\n",
       "      <td>1b</td>\n",
       "    </tr>\n",
       "    <tr>\n",
       "      <th>164</th>\n",
       "      <td>Neck/shoulder pain for 3+ months_0_1.0</td>\n",
       "      <td>Symptom</td>\n",
       "      <td>1b</td>\n",
       "    </tr>\n",
       "    <tr>\n",
       "      <th>178</th>\n",
       "      <td>Knee pain for 3+ months_0_1.0</td>\n",
       "      <td>Symptom</td>\n",
       "      <td>1b</td>\n",
       "    </tr>\n",
       "    <tr>\n",
       "      <th>229</th>\n",
       "      <td>Bleeding gums</td>\n",
       "      <td>Symptom</td>\n",
       "      <td>1b</td>\n",
       "    </tr>\n",
       "  </tbody>\n",
       "</table>\n",
       "</div>"
      ],
      "text/plain": [
       "                                            Field Name Field Type Model\n",
       "150                       Falls in the last year_0_1.0    Symptom    1b\n",
       "153  Wheeze or whistling in the chest in last year_...    Symptom    1b\n",
       "154                     Chest pain or discomfort_0_1.0    Symptom    1b\n",
       "164             Neck/shoulder pain for 3+ months_0_1.0    Symptom    1b\n",
       "178                      Knee pain for 3+ months_0_1.0    Symptom    1b\n",
       "229                                      Bleeding gums    Symptom    1b"
      ]
     },
     "execution_count": 133,
     "metadata": {},
     "output_type": "execute_result"
    }
   ],
   "source": [
    "df_selected_field_data[df_selected_field_data['Field Type'] == 'Symptom']"
   ]
  },
  {
   "cell_type": "code",
   "execution_count": 134,
   "id": "03503079-8f69-4dff-92cb-c2edde6be7b2",
   "metadata": {},
   "outputs": [
    {
     "data": {
      "text/html": [
       "<div>\n",
       "<style scoped>\n",
       "    .dataframe tbody tr th:only-of-type {\n",
       "        vertical-align: middle;\n",
       "    }\n",
       "\n",
       "    .dataframe tbody tr th {\n",
       "        vertical-align: top;\n",
       "    }\n",
       "\n",
       "    .dataframe thead th {\n",
       "        text-align: right;\n",
       "    }\n",
       "</style>\n",
       "<table border=\"1\" class=\"dataframe\">\n",
       "  <thead>\n",
       "    <tr style=\"text-align: right;\">\n",
       "      <th></th>\n",
       "      <th>Field Name</th>\n",
       "      <th>Field Type</th>\n",
       "      <th>Model</th>\n",
       "    </tr>\n",
       "  </thead>\n",
       "  <tbody>\n",
       "    <tr>\n",
       "      <th>67</th>\n",
       "      <td>Getting up in morning_0_1.0</td>\n",
       "      <td>Sleep</td>\n",
       "      <td>3</td>\n",
       "    </tr>\n",
       "    <tr>\n",
       "      <th>71</th>\n",
       "      <td>Nap during day_0_1.0</td>\n",
       "      <td>Sleep</td>\n",
       "      <td>3</td>\n",
       "    </tr>\n",
       "    <tr>\n",
       "      <th>74</th>\n",
       "      <td>Sleeplessness / insomnia_0_1.0</td>\n",
       "      <td>Sleep</td>\n",
       "      <td>1b</td>\n",
       "    </tr>\n",
       "    <tr>\n",
       "      <th>77</th>\n",
       "      <td>Daytime dozing / sleeping (narcolepsy)_0_0.0</td>\n",
       "      <td>Sleep</td>\n",
       "      <td>1b</td>\n",
       "    </tr>\n",
       "  </tbody>\n",
       "</table>\n",
       "</div>"
      ],
      "text/plain": [
       "                                      Field Name Field Type Model\n",
       "67                   Getting up in morning_0_1.0      Sleep     3\n",
       "71                          Nap during day_0_1.0      Sleep     3\n",
       "74                Sleeplessness / insomnia_0_1.0      Sleep    1b\n",
       "77  Daytime dozing / sleeping (narcolepsy)_0_0.0      Sleep    1b"
      ]
     },
     "execution_count": 134,
     "metadata": {},
     "output_type": "execute_result"
    }
   ],
   "source": [
    "df_selected_field_data[df_selected_field_data['Field Type'] == 'Sleep']"
   ]
  },
  {
   "cell_type": "code",
   "execution_count": 135,
   "id": "8235d5ad-848a-4e7a-ac16-44af54e02778",
   "metadata": {},
   "outputs": [
    {
     "data": {
      "text/html": [
       "<div>\n",
       "<style scoped>\n",
       "    .dataframe tbody tr th:only-of-type {\n",
       "        vertical-align: middle;\n",
       "    }\n",
       "\n",
       "    .dataframe tbody tr th {\n",
       "        vertical-align: top;\n",
       "    }\n",
       "\n",
       "    .dataframe thead th {\n",
       "        text-align: right;\n",
       "    }\n",
       "</style>\n",
       "<table border=\"1\" class=\"dataframe\">\n",
       "  <thead>\n",
       "    <tr style=\"text-align: right;\">\n",
       "      <th></th>\n",
       "      <th>Field Name</th>\n",
       "      <th>Field Type</th>\n",
       "      <th>Model</th>\n",
       "    </tr>\n",
       "  </thead>\n",
       "  <tbody>\n",
       "    <tr>\n",
       "      <th>205</th>\n",
       "      <td>Family history of IBS_1.0</td>\n",
       "      <td>Family history</td>\n",
       "      <td>1b</td>\n",
       "    </tr>\n",
       "    <tr>\n",
       "      <th>238</th>\n",
       "      <td>Family history diabetes</td>\n",
       "      <td>Family history</td>\n",
       "      <td>1b</td>\n",
       "    </tr>\n",
       "    <tr>\n",
       "      <th>239</th>\n",
       "      <td>Family history hypertension</td>\n",
       "      <td>Family history</td>\n",
       "      <td>1b</td>\n",
       "    </tr>\n",
       "  </tbody>\n",
       "</table>\n",
       "</div>"
      ],
      "text/plain": [
       "                      Field Name      Field Type Model\n",
       "205    Family history of IBS_1.0  Family history    1b\n",
       "238      Family history diabetes  Family history    1b\n",
       "239  Family history hypertension  Family history    1b"
      ]
     },
     "execution_count": 135,
     "metadata": {},
     "output_type": "execute_result"
    }
   ],
   "source": [
    "df_selected_field_data[df_selected_field_data['Field Type'] == 'Family history']"
   ]
  },
  {
   "cell_type": "code",
   "execution_count": 136,
   "id": "6d7bc5ba-9d22-4a38-98d8-9e30a0a51de2",
   "metadata": {},
   "outputs": [
    {
     "data": {
      "text/html": [
       "<div>\n",
       "<style scoped>\n",
       "    .dataframe tbody tr th:only-of-type {\n",
       "        vertical-align: middle;\n",
       "    }\n",
       "\n",
       "    .dataframe tbody tr th {\n",
       "        vertical-align: top;\n",
       "    }\n",
       "\n",
       "    .dataframe thead th {\n",
       "        text-align: right;\n",
       "    }\n",
       "</style>\n",
       "<table border=\"1\" class=\"dataframe\">\n",
       "  <thead>\n",
       "    <tr style=\"text-align: right;\">\n",
       "      <th></th>\n",
       "      <th>Field Name</th>\n",
       "      <th>Field Type</th>\n",
       "      <th>Model</th>\n",
       "    </tr>\n",
       "  </thead>\n",
       "  <tbody>\n",
       "    <tr>\n",
       "      <th>141</th>\n",
       "      <td>Hearing difficulty/problems_0_0.0</td>\n",
       "      <td>Hearing</td>\n",
       "      <td>1b</td>\n",
       "    </tr>\n",
       "    <tr>\n",
       "      <th>144</th>\n",
       "      <td>Hearing difficulty/problems with background no...</td>\n",
       "      <td>Hearing</td>\n",
       "      <td>1b</td>\n",
       "    </tr>\n",
       "  </tbody>\n",
       "</table>\n",
       "</div>"
      ],
      "text/plain": [
       "                                            Field Name Field Type Model\n",
       "141                  Hearing difficulty/problems_0_0.0    Hearing    1b\n",
       "144  Hearing difficulty/problems with background no...    Hearing    1b"
      ]
     },
     "execution_count": 136,
     "metadata": {},
     "output_type": "execute_result"
    }
   ],
   "source": [
    "df_selected_field_data[df_selected_field_data['Field Type'] == 'Hearing']"
   ]
  },
  {
   "cell_type": "code",
   "execution_count": 137,
   "id": "a6151e3e-a065-49ec-9c8f-9558d002fcc3",
   "metadata": {},
   "outputs": [
    {
     "data": {
      "text/html": [
       "<div>\n",
       "<style scoped>\n",
       "    .dataframe tbody tr th:only-of-type {\n",
       "        vertical-align: middle;\n",
       "    }\n",
       "\n",
       "    .dataframe tbody tr th {\n",
       "        vertical-align: top;\n",
       "    }\n",
       "\n",
       "    .dataframe thead th {\n",
       "        text-align: right;\n",
       "    }\n",
       "</style>\n",
       "<table border=\"1\" class=\"dataframe\">\n",
       "  <thead>\n",
       "    <tr style=\"text-align: right;\">\n",
       "      <th></th>\n",
       "      <th>Field Name</th>\n",
       "      <th>Field Type</th>\n",
       "      <th>Model</th>\n",
       "    </tr>\n",
       "  </thead>\n",
       "  <tbody>\n",
       "    <tr>\n",
       "      <th>130</th>\n",
       "      <td>Maternal smoking around birth_0_1.0</td>\n",
       "      <td>Early life</td>\n",
       "      <td>3</td>\n",
       "    </tr>\n",
       "    <tr>\n",
       "      <th>155</th>\n",
       "      <td>Relative age voice broke_0_1.0</td>\n",
       "      <td>Early life</td>\n",
       "      <td>3</td>\n",
       "    </tr>\n",
       "  </tbody>\n",
       "</table>\n",
       "</div>"
      ],
      "text/plain": [
       "                              Field Name  Field Type Model\n",
       "130  Maternal smoking around birth_0_1.0  Early life     3\n",
       "155       Relative age voice broke_0_1.0  Early life     3"
      ]
     },
     "execution_count": 137,
     "metadata": {},
     "output_type": "execute_result"
    }
   ],
   "source": [
    "df_selected_field_data[df_selected_field_data['Field Type'] == 'Early life']"
   ]
  },
  {
   "cell_type": "code",
   "execution_count": 138,
   "id": "75624ad9-8c60-4dc1-9932-13a821987dfb",
   "metadata": {},
   "outputs": [
    {
     "data": {
      "text/html": [
       "<div>\n",
       "<style scoped>\n",
       "    .dataframe tbody tr th:only-of-type {\n",
       "        vertical-align: middle;\n",
       "    }\n",
       "\n",
       "    .dataframe tbody tr th {\n",
       "        vertical-align: top;\n",
       "    }\n",
       "\n",
       "    .dataframe thead th {\n",
       "        text-align: right;\n",
       "    }\n",
       "</style>\n",
       "<table border=\"1\" class=\"dataframe\">\n",
       "  <thead>\n",
       "    <tr style=\"text-align: right;\">\n",
       "      <th></th>\n",
       "      <th>Field Name</th>\n",
       "      <th>Field Type</th>\n",
       "      <th>Model</th>\n",
       "    </tr>\n",
       "  </thead>\n",
       "  <tbody>\n",
       "    <tr>\n",
       "      <th>214</th>\n",
       "      <td>Health score</td>\n",
       "      <td>Health ratings</td>\n",
       "      <td>3</td>\n",
       "    </tr>\n",
       "    <tr>\n",
       "      <th>217</th>\n",
       "      <td>Overall health rating_0</td>\n",
       "      <td>Health ratings</td>\n",
       "      <td>3</td>\n",
       "    </tr>\n",
       "  </tbody>\n",
       "</table>\n",
       "</div>"
      ],
      "text/plain": [
       "                  Field Name      Field Type Model\n",
       "214             Health score  Health ratings     3\n",
       "217  Overall health rating_0  Health ratings     3"
      ]
     },
     "execution_count": 138,
     "metadata": {},
     "output_type": "execute_result"
    }
   ],
   "source": [
    "df_selected_field_data[df_selected_field_data['Field Type'] == 'Health ratings']"
   ]
  },
  {
   "cell_type": "code",
   "execution_count": 139,
   "id": "6e6a88d8-696b-4e1d-85a3-2f5a313cf453",
   "metadata": {},
   "outputs": [
    {
     "data": {
      "text/html": [
       "<div>\n",
       "<style scoped>\n",
       "    .dataframe tbody tr th:only-of-type {\n",
       "        vertical-align: middle;\n",
       "    }\n",
       "\n",
       "    .dataframe tbody tr th {\n",
       "        vertical-align: top;\n",
       "    }\n",
       "\n",
       "    .dataframe thead th {\n",
       "        text-align: right;\n",
       "    }\n",
       "</style>\n",
       "<table border=\"1\" class=\"dataframe\">\n",
       "  <thead>\n",
       "    <tr style=\"text-align: right;\">\n",
       "      <th></th>\n",
       "      <th>Field Name</th>\n",
       "      <th>Field Type</th>\n",
       "      <th>Model</th>\n",
       "    </tr>\n",
       "  </thead>\n",
       "  <tbody>\n",
       "    <tr>\n",
       "      <th>0</th>\n",
       "      <td>Waist circumference_0</td>\n",
       "      <td>Biometrics</td>\n",
       "      <td>1b</td>\n",
       "    </tr>\n",
       "    <tr>\n",
       "      <th>22</th>\n",
       "      <td>Body mass index (BMI)_0</td>\n",
       "      <td>Biometrics</td>\n",
       "      <td>1a</td>\n",
       "    </tr>\n",
       "  </tbody>\n",
       "</table>\n",
       "</div>"
      ],
      "text/plain": [
       "                 Field Name  Field Type Model\n",
       "0     Waist circumference_0  Biometrics    1b\n",
       "22  Body mass index (BMI)_0  Biometrics    1a"
      ]
     },
     "execution_count": 139,
     "metadata": {},
     "output_type": "execute_result"
    }
   ],
   "source": [
    "df_selected_field_data[df_selected_field_data['Field Type'] == 'Biometrics']"
   ]
  },
  {
   "cell_type": "code",
   "execution_count": 140,
   "id": "98df834d-6017-40cf-a2b7-330f0cc623a9",
   "metadata": {},
   "outputs": [
    {
     "data": {
      "text/html": [
       "<div>\n",
       "<style scoped>\n",
       "    .dataframe tbody tr th:only-of-type {\n",
       "        vertical-align: middle;\n",
       "    }\n",
       "\n",
       "    .dataframe tbody tr th {\n",
       "        vertical-align: top;\n",
       "    }\n",
       "\n",
       "    .dataframe thead th {\n",
       "        text-align: right;\n",
       "    }\n",
       "</style>\n",
       "<table border=\"1\" class=\"dataframe\">\n",
       "  <thead>\n",
       "    <tr style=\"text-align: right;\">\n",
       "      <th></th>\n",
       "      <th>Field Name</th>\n",
       "      <th>Field Type</th>\n",
       "      <th>Model</th>\n",
       "    </tr>\n",
       "  </thead>\n",
       "  <tbody>\n",
       "    <tr>\n",
       "      <th>25</th>\n",
       "      <td>Particulate matter air pollution (pm10); 2007</td>\n",
       "      <td>Environment</td>\n",
       "      <td>3</td>\n",
       "    </tr>\n",
       "  </tbody>\n",
       "</table>\n",
       "</div>"
      ],
      "text/plain": [
       "                                       Field Name   Field Type Model\n",
       "25  Particulate matter air pollution (pm10); 2007  Environment     3"
      ]
     },
     "execution_count": 140,
     "metadata": {},
     "output_type": "execute_result"
    }
   ],
   "source": [
    "df_selected_field_data[df_selected_field_data['Field Type'] == 'Environment']"
   ]
  },
  {
   "cell_type": "markdown",
   "id": "aab34236-9f90-476a-88ef-d01822e7ccac",
   "metadata": {
    "jp-MarkdownHeadingCollapsed": true,
    "tags": []
   },
   "source": [
    "# Filtering"
   ]
  },
  {
   "cell_type": "code",
   "execution_count": 117,
   "id": "5e0c2616-6b0f-4fab-8366-c1fa5398ffb9",
   "metadata": {},
   "outputs": [],
   "source": [
    "df_glaucoma_data = pd.read_pickle(UKBB_PATH+'processed_data/Clinical Feature Selection/glaucoma_data_checkpoint.pkl')"
   ]
  },
  {
   "cell_type": "code",
   "execution_count": 118,
   "id": "ba3f29bc-6cfb-4995-80bb-1a89e1381b84",
   "metadata": {},
   "outputs": [],
   "source": [
    "filter_series = (~df_glaucoma_data['Total Glaucoma'] | (df_glaucoma_data['Diagnosis Year'] > 2010))"
   ]
  },
  {
   "cell_type": "code",
   "execution_count": 119,
   "id": "c6aecf54-f895-49be-906d-a13fcae42b6a",
   "metadata": {},
   "outputs": [],
   "source": [
    "filtered_matrix = cleaned_matrix[filter_series]"
   ]
  },
  {
   "cell_type": "markdown",
   "id": "34f627e6-358b-44ab-a6ad-d5714284b14c",
   "metadata": {
    "jp-MarkdownHeadingCollapsed": true,
    "tags": []
   },
   "source": [
    "# Imputation"
   ]
  },
  {
   "cell_type": "code",
   "execution_count": 120,
   "id": "840ecced-1c98-48b1-b40e-55b12d3cec70",
   "metadata": {},
   "outputs": [],
   "source": [
    "smp_imputer = SimpleImputer(strategy='mean')"
   ]
  },
  {
   "cell_type": "code",
   "execution_count": 121,
   "id": "b8c20afe-cda0-4856-9f05-298b3dc5c4be",
   "metadata": {},
   "outputs": [],
   "source": [
    "imputed_matrix = pd.DataFrame(smp_imputer.fit_transform(filtered_matrix), columns=filtered_matrix.columns)"
   ]
  },
  {
   "cell_type": "code",
   "execution_count": 122,
   "id": "b987ebce-2057-4eb9-85df-1be8ac32a76d",
   "metadata": {},
   "outputs": [
    {
     "data": {
      "text/plain": [
       "['../glaucoma_project/Models/smp_imputer_clinical_data.joblib']"
      ]
     },
     "execution_count": 122,
     "metadata": {},
     "output_type": "execute_result"
    }
   ],
   "source": [
    "dump(smp_imputer, '../glaucoma_project/Models/smp_imputer_clinical_data.joblib')"
   ]
  },
  {
   "cell_type": "markdown",
   "id": "6cb1cb6f-e095-4390-8cbc-2f8beeb489a8",
   "metadata": {
    "jp-MarkdownHeadingCollapsed": true,
    "tags": []
   },
   "source": [
    "# Scaling"
   ]
  },
  {
   "cell_type": "code",
   "execution_count": 123,
   "id": "48792ab2-10b9-4eed-90b0-387e84559ade",
   "metadata": {},
   "outputs": [],
   "source": [
    "std_scaler = StandardScaler()"
   ]
  },
  {
   "cell_type": "code",
   "execution_count": 124,
   "id": "e4b0097f-793a-4ad8-b54e-71ee6043ed17",
   "metadata": {},
   "outputs": [],
   "source": [
    "columns_to_scale = []"
   ]
  },
  {
   "cell_type": "code",
   "execution_count": 125,
   "id": "e4059140-1878-45c5-a2ff-09b1b5c8abfc",
   "metadata": {},
   "outputs": [
    {
     "name": "stderr",
     "output_type": "stream",
     "text": [
      "100%|███████████████████████████████████████| 242/242 [00:01<00:00, 240.61it/s]\n"
     ]
    }
   ],
   "source": [
    "for col in tqdm(imputed_matrix.columns):\n",
    "    if len(imputed_matrix[col].value_counts().keys()) > 2:\n",
    "        columns_to_scale.append(col)"
   ]
  },
  {
   "cell_type": "code",
   "execution_count": 126,
   "id": "8ae1d7a0-78cc-4894-9a42-8b7587d03780",
   "metadata": {},
   "outputs": [],
   "source": [
    "scaled_cols = pd.DataFrame(std_scaler.fit_transform(imputed_matrix[columns_to_scale]), columns=columns_to_scale)"
   ]
  },
  {
   "cell_type": "code",
   "execution_count": 127,
   "id": "b2739559-673a-4be0-893a-e86fbb3e8ce1",
   "metadata": {},
   "outputs": [
    {
     "data": {
      "text/plain": [
       "['../glaucoma_project/Models/std_scaler_clinical_data.joblib']"
      ]
     },
     "execution_count": 127,
     "metadata": {},
     "output_type": "execute_result"
    }
   ],
   "source": [
    "dump(std_scaler, '../glaucoma_project/Models/std_scaler_clinical_data.joblib')"
   ]
  },
  {
   "cell_type": "code",
   "execution_count": 128,
   "id": "e837ac7b-9c6e-42d9-9743-da50e9abb993",
   "metadata": {},
   "outputs": [],
   "source": [
    "imputed_matrix[columns_to_scale] = scaled_cols"
   ]
  },
  {
   "cell_type": "code",
   "execution_count": 129,
   "id": "fee7f3d4-d7d2-403b-81f6-bda70732295f",
   "metadata": {},
   "outputs": [
    {
     "data": {
      "text/html": [
       "<div>\n",
       "<style scoped>\n",
       "    .dataframe tbody tr th:only-of-type {\n",
       "        vertical-align: middle;\n",
       "    }\n",
       "\n",
       "    .dataframe tbody tr th {\n",
       "        vertical-align: top;\n",
       "    }\n",
       "\n",
       "    .dataframe thead th {\n",
       "        text-align: right;\n",
       "    }\n",
       "</style>\n",
       "<table border=\"1\" class=\"dataframe\">\n",
       "  <thead>\n",
       "    <tr style=\"text-align: right;\">\n",
       "      <th></th>\n",
       "      <th>Waist circumference_0</th>\n",
       "      <th>Townsend deprivation index at recruitment</th>\n",
       "      <th>Number of days/week of vigorous physical activity 10+ minutes_0</th>\n",
       "      <th>Time spend outdoors in summer_0</th>\n",
       "      <th>Time spent outdoors in winter_0</th>\n",
       "      <th>Time spent watching television (TV)_0</th>\n",
       "      <th>Time spent using computer_0</th>\n",
       "      <th>Cooked vegetable intake_0</th>\n",
       "      <th>Fresh fruit intake_0</th>\n",
       "      <th>Dried fruit intake_0</th>\n",
       "      <th>...</th>\n",
       "      <th>On Ibuprofen</th>\n",
       "      <th>Sports club or gym</th>\n",
       "      <th>Religious group</th>\n",
       "      <th>Swimming/cycling/bowling/keep fit</th>\n",
       "      <th>On Fish Oil</th>\n",
       "      <th>On Glucosamine</th>\n",
       "      <th>Family history diabetes</th>\n",
       "      <th>Family history hypertension</th>\n",
       "      <th>IBS Diagnosis</th>\n",
       "      <th>Hiatus Hernia Diagnosis</th>\n",
       "    </tr>\n",
       "  </thead>\n",
       "  <tbody>\n",
       "    <tr>\n",
       "      <th>0</th>\n",
       "      <td>-0.911800</td>\n",
       "      <td>-1.118830</td>\n",
       "      <td>-4.412120e-01</td>\n",
       "      <td>0.929051</td>\n",
       "      <td>-1.454543e-01</td>\n",
       "      <td>1.950884</td>\n",
       "      <td>0.000000</td>\n",
       "      <td>-0.942502</td>\n",
       "      <td>-0.818550</td>\n",
       "      <td>-5.055417e-01</td>\n",
       "      <td>...</td>\n",
       "      <td>0.0</td>\n",
       "      <td>1.0</td>\n",
       "      <td>0.0</td>\n",
       "      <td>1.0</td>\n",
       "      <td>0.0</td>\n",
       "      <td>0.0</td>\n",
       "      <td>0.0</td>\n",
       "      <td>0.0</td>\n",
       "      <td>1.0</td>\n",
       "      <td>1.0</td>\n",
       "    </tr>\n",
       "    <tr>\n",
       "      <th>1</th>\n",
       "      <td>-1.209223</td>\n",
       "      <td>0.084647</td>\n",
       "      <td>-4.412120e-01</td>\n",
       "      <td>0.478434</td>\n",
       "      <td>-7.553898e-01</td>\n",
       "      <td>-0.573127</td>\n",
       "      <td>-0.178616</td>\n",
       "      <td>-0.412012</td>\n",
       "      <td>-0.184510</td>\n",
       "      <td>-5.055417e-01</td>\n",
       "      <td>...</td>\n",
       "      <td>1.0</td>\n",
       "      <td>0.0</td>\n",
       "      <td>0.0</td>\n",
       "      <td>1.0</td>\n",
       "      <td>0.0</td>\n",
       "      <td>0.0</td>\n",
       "      <td>0.0</td>\n",
       "      <td>1.0</td>\n",
       "      <td>0.0</td>\n",
       "      <td>0.0</td>\n",
       "    </tr>\n",
       "    <tr>\n",
       "      <th>2</th>\n",
       "      <td>1.541941</td>\n",
       "      <td>-1.556288</td>\n",
       "      <td>-4.412120e-01</td>\n",
       "      <td>-0.422799</td>\n",
       "      <td>-1.454543e-01</td>\n",
       "      <td>-0.573127</td>\n",
       "      <td>-0.178616</td>\n",
       "      <td>-0.942502</td>\n",
       "      <td>-0.818550</td>\n",
       "      <td>6.851648e-02</td>\n",
       "      <td>...</td>\n",
       "      <td>0.0</td>\n",
       "      <td>0.0</td>\n",
       "      <td>0.0</td>\n",
       "      <td>0.0</td>\n",
       "      <td>0.0</td>\n",
       "      <td>0.0</td>\n",
       "      <td>1.0</td>\n",
       "      <td>0.0</td>\n",
       "      <td>0.0</td>\n",
       "      <td>1.0</td>\n",
       "    </tr>\n",
       "    <tr>\n",
       "      <th>3</th>\n",
       "      <td>1.021451</td>\n",
       "      <td>0.072867</td>\n",
       "      <td>-9.660884e-01</td>\n",
       "      <td>-1.324032</td>\n",
       "      <td>-2.708658e-16</td>\n",
       "      <td>-0.573127</td>\n",
       "      <td>-0.178616</td>\n",
       "      <td>-0.412012</td>\n",
       "      <td>0.449530</td>\n",
       "      <td>-5.055417e-01</td>\n",
       "      <td>...</td>\n",
       "      <td>0.0</td>\n",
       "      <td>0.0</td>\n",
       "      <td>1.0</td>\n",
       "      <td>0.0</td>\n",
       "      <td>0.0</td>\n",
       "      <td>0.0</td>\n",
       "      <td>0.0</td>\n",
       "      <td>0.0</td>\n",
       "      <td>0.0</td>\n",
       "      <td>0.0</td>\n",
       "    </tr>\n",
       "    <tr>\n",
       "      <th>4</th>\n",
       "      <td>-0.019530</td>\n",
       "      <td>-0.901135</td>\n",
       "      <td>-4.412120e-01</td>\n",
       "      <td>-0.422799</td>\n",
       "      <td>-7.553898e-01</td>\n",
       "      <td>1.319881</td>\n",
       "      <td>0.000000</td>\n",
       "      <td>0.118478</td>\n",
       "      <td>11.228209</td>\n",
       "      <td>5.235040e+00</td>\n",
       "      <td>...</td>\n",
       "      <td>1.0</td>\n",
       "      <td>0.0</td>\n",
       "      <td>0.0</td>\n",
       "      <td>0.0</td>\n",
       "      <td>0.0</td>\n",
       "      <td>0.0</td>\n",
       "      <td>0.0</td>\n",
       "      <td>0.0</td>\n",
       "      <td>0.0</td>\n",
       "      <td>1.0</td>\n",
       "    </tr>\n",
       "    <tr>\n",
       "      <th>...</th>\n",
       "      <td>...</td>\n",
       "      <td>...</td>\n",
       "      <td>...</td>\n",
       "      <td>...</td>\n",
       "      <td>...</td>\n",
       "      <td>...</td>\n",
       "      <td>...</td>\n",
       "      <td>...</td>\n",
       "      <td>...</td>\n",
       "      <td>...</td>\n",
       "      <td>...</td>\n",
       "      <td>...</td>\n",
       "      <td>...</td>\n",
       "      <td>...</td>\n",
       "      <td>...</td>\n",
       "      <td>...</td>\n",
       "      <td>...</td>\n",
       "      <td>...</td>\n",
       "      <td>...</td>\n",
       "      <td>...</td>\n",
       "      <td>...</td>\n",
       "    </tr>\n",
       "    <tr>\n",
       "      <th>445154</th>\n",
       "      <td>1.095807</td>\n",
       "      <td>-0.567292</td>\n",
       "      <td>-4.412120e-01</td>\n",
       "      <td>-0.422799</td>\n",
       "      <td>4.644813e-01</td>\n",
       "      <td>-1.204130</td>\n",
       "      <td>0.000000</td>\n",
       "      <td>0.648969</td>\n",
       "      <td>-0.818550</td>\n",
       "      <td>-6.373327e-17</td>\n",
       "      <td>...</td>\n",
       "      <td>0.0</td>\n",
       "      <td>0.0</td>\n",
       "      <td>0.0</td>\n",
       "      <td>0.0</td>\n",
       "      <td>0.0</td>\n",
       "      <td>0.0</td>\n",
       "      <td>0.0</td>\n",
       "      <td>0.0</td>\n",
       "      <td>0.0</td>\n",
       "      <td>0.0</td>\n",
       "    </tr>\n",
       "    <tr>\n",
       "      <th>445155</th>\n",
       "      <td>-1.357934</td>\n",
       "      <td>0.955716</td>\n",
       "      <td>-9.660884e-01</td>\n",
       "      <td>-0.422799</td>\n",
       "      <td>-7.553898e-01</td>\n",
       "      <td>-1.204130</td>\n",
       "      <td>-0.178616</td>\n",
       "      <td>0.648969</td>\n",
       "      <td>-0.818550</td>\n",
       "      <td>6.851648e-02</td>\n",
       "      <td>...</td>\n",
       "      <td>0.0</td>\n",
       "      <td>0.0</td>\n",
       "      <td>1.0</td>\n",
       "      <td>0.0</td>\n",
       "      <td>1.0</td>\n",
       "      <td>1.0</td>\n",
       "      <td>0.0</td>\n",
       "      <td>0.0</td>\n",
       "      <td>0.0</td>\n",
       "      <td>0.0</td>\n",
       "    </tr>\n",
       "    <tr>\n",
       "      <th>445156</th>\n",
       "      <td>0.798383</td>\n",
       "      <td>-0.769106</td>\n",
       "      <td>-2.330919e-16</td>\n",
       "      <td>0.000000</td>\n",
       "      <td>-2.708658e-16</td>\n",
       "      <td>1.319881</td>\n",
       "      <td>-0.178616</td>\n",
       "      <td>-0.412012</td>\n",
       "      <td>1.083570</td>\n",
       "      <td>-6.373327e-17</td>\n",
       "      <td>...</td>\n",
       "      <td>0.0</td>\n",
       "      <td>0.0</td>\n",
       "      <td>0.0</td>\n",
       "      <td>0.0</td>\n",
       "      <td>0.0</td>\n",
       "      <td>1.0</td>\n",
       "      <td>0.0</td>\n",
       "      <td>0.0</td>\n",
       "      <td>0.0</td>\n",
       "      <td>0.0</td>\n",
       "    </tr>\n",
       "    <tr>\n",
       "      <th>445157</th>\n",
       "      <td>0.129181</td>\n",
       "      <td>-0.993041</td>\n",
       "      <td>8.366436e-02</td>\n",
       "      <td>-0.873415</td>\n",
       "      <td>-7.553898e-01</td>\n",
       "      <td>0.057876</td>\n",
       "      <td>0.000000</td>\n",
       "      <td>-0.412012</td>\n",
       "      <td>-0.184510</td>\n",
       "      <td>-5.055417e-01</td>\n",
       "      <td>...</td>\n",
       "      <td>0.0</td>\n",
       "      <td>1.0</td>\n",
       "      <td>0.0</td>\n",
       "      <td>1.0</td>\n",
       "      <td>1.0</td>\n",
       "      <td>1.0</td>\n",
       "      <td>0.0</td>\n",
       "      <td>0.0</td>\n",
       "      <td>0.0</td>\n",
       "      <td>0.0</td>\n",
       "    </tr>\n",
       "    <tr>\n",
       "      <th>445158</th>\n",
       "      <td>-0.168242</td>\n",
       "      <td>-0.927129</td>\n",
       "      <td>-4.412120e-01</td>\n",
       "      <td>0.929051</td>\n",
       "      <td>-1.454543e-01</td>\n",
       "      <td>0.057876</td>\n",
       "      <td>0.000000</td>\n",
       "      <td>0.118478</td>\n",
       "      <td>-0.184510</td>\n",
       "      <td>6.851648e-02</td>\n",
       "      <td>...</td>\n",
       "      <td>0.0</td>\n",
       "      <td>0.0</td>\n",
       "      <td>1.0</td>\n",
       "      <td>1.0</td>\n",
       "      <td>1.0</td>\n",
       "      <td>1.0</td>\n",
       "      <td>0.0</td>\n",
       "      <td>1.0</td>\n",
       "      <td>0.0</td>\n",
       "      <td>0.0</td>\n",
       "    </tr>\n",
       "  </tbody>\n",
       "</table>\n",
       "<p>445159 rows × 242 columns</p>\n",
       "</div>"
      ],
      "text/plain": [
       "        Waist circumference_0  Townsend deprivation index at recruitment  \\\n",
       "0                   -0.911800                                  -1.118830   \n",
       "1                   -1.209223                                   0.084647   \n",
       "2                    1.541941                                  -1.556288   \n",
       "3                    1.021451                                   0.072867   \n",
       "4                   -0.019530                                  -0.901135   \n",
       "...                       ...                                        ...   \n",
       "445154               1.095807                                  -0.567292   \n",
       "445155              -1.357934                                   0.955716   \n",
       "445156               0.798383                                  -0.769106   \n",
       "445157               0.129181                                  -0.993041   \n",
       "445158              -0.168242                                  -0.927129   \n",
       "\n",
       "        Number of days/week of vigorous physical activity 10+ minutes_0  \\\n",
       "0                                           -4.412120e-01                 \n",
       "1                                           -4.412120e-01                 \n",
       "2                                           -4.412120e-01                 \n",
       "3                                           -9.660884e-01                 \n",
       "4                                           -4.412120e-01                 \n",
       "...                                                   ...                 \n",
       "445154                                      -4.412120e-01                 \n",
       "445155                                      -9.660884e-01                 \n",
       "445156                                      -2.330919e-16                 \n",
       "445157                                       8.366436e-02                 \n",
       "445158                                      -4.412120e-01                 \n",
       "\n",
       "        Time spend outdoors in summer_0  Time spent outdoors in winter_0  \\\n",
       "0                              0.929051                    -1.454543e-01   \n",
       "1                              0.478434                    -7.553898e-01   \n",
       "2                             -0.422799                    -1.454543e-01   \n",
       "3                             -1.324032                    -2.708658e-16   \n",
       "4                             -0.422799                    -7.553898e-01   \n",
       "...                                 ...                              ...   \n",
       "445154                        -0.422799                     4.644813e-01   \n",
       "445155                        -0.422799                    -7.553898e-01   \n",
       "445156                         0.000000                    -2.708658e-16   \n",
       "445157                        -0.873415                    -7.553898e-01   \n",
       "445158                         0.929051                    -1.454543e-01   \n",
       "\n",
       "        Time spent watching television (TV)_0  Time spent using computer_0  \\\n",
       "0                                    1.950884                     0.000000   \n",
       "1                                   -0.573127                    -0.178616   \n",
       "2                                   -0.573127                    -0.178616   \n",
       "3                                   -0.573127                    -0.178616   \n",
       "4                                    1.319881                     0.000000   \n",
       "...                                       ...                          ...   \n",
       "445154                              -1.204130                     0.000000   \n",
       "445155                              -1.204130                    -0.178616   \n",
       "445156                               1.319881                    -0.178616   \n",
       "445157                               0.057876                     0.000000   \n",
       "445158                               0.057876                     0.000000   \n",
       "\n",
       "        Cooked vegetable intake_0  Fresh fruit intake_0  Dried fruit intake_0  \\\n",
       "0                       -0.942502             -0.818550         -5.055417e-01   \n",
       "1                       -0.412012             -0.184510         -5.055417e-01   \n",
       "2                       -0.942502             -0.818550          6.851648e-02   \n",
       "3                       -0.412012              0.449530         -5.055417e-01   \n",
       "4                        0.118478             11.228209          5.235040e+00   \n",
       "...                           ...                   ...                   ...   \n",
       "445154                   0.648969             -0.818550         -6.373327e-17   \n",
       "445155                   0.648969             -0.818550          6.851648e-02   \n",
       "445156                  -0.412012              1.083570         -6.373327e-17   \n",
       "445157                  -0.412012             -0.184510         -5.055417e-01   \n",
       "445158                   0.118478             -0.184510          6.851648e-02   \n",
       "\n",
       "        ...  On Ibuprofen  Sports club or gym  Religious group  \\\n",
       "0       ...           0.0                 1.0              0.0   \n",
       "1       ...           1.0                 0.0              0.0   \n",
       "2       ...           0.0                 0.0              0.0   \n",
       "3       ...           0.0                 0.0              1.0   \n",
       "4       ...           1.0                 0.0              0.0   \n",
       "...     ...           ...                 ...              ...   \n",
       "445154  ...           0.0                 0.0              0.0   \n",
       "445155  ...           0.0                 0.0              1.0   \n",
       "445156  ...           0.0                 0.0              0.0   \n",
       "445157  ...           0.0                 1.0              0.0   \n",
       "445158  ...           0.0                 0.0              1.0   \n",
       "\n",
       "        Swimming/cycling/bowling/keep fit  On Fish Oil  On Glucosamine  \\\n",
       "0                                     1.0          0.0             0.0   \n",
       "1                                     1.0          0.0             0.0   \n",
       "2                                     0.0          0.0             0.0   \n",
       "3                                     0.0          0.0             0.0   \n",
       "4                                     0.0          0.0             0.0   \n",
       "...                                   ...          ...             ...   \n",
       "445154                                0.0          0.0             0.0   \n",
       "445155                                0.0          1.0             1.0   \n",
       "445156                                0.0          0.0             1.0   \n",
       "445157                                1.0          1.0             1.0   \n",
       "445158                                1.0          1.0             1.0   \n",
       "\n",
       "        Family history diabetes  Family history hypertension  IBS Diagnosis  \\\n",
       "0                           0.0                          0.0            1.0   \n",
       "1                           0.0                          1.0            0.0   \n",
       "2                           1.0                          0.0            0.0   \n",
       "3                           0.0                          0.0            0.0   \n",
       "4                           0.0                          0.0            0.0   \n",
       "...                         ...                          ...            ...   \n",
       "445154                      0.0                          0.0            0.0   \n",
       "445155                      0.0                          0.0            0.0   \n",
       "445156                      0.0                          0.0            0.0   \n",
       "445157                      0.0                          0.0            0.0   \n",
       "445158                      0.0                          1.0            0.0   \n",
       "\n",
       "        Hiatus Hernia Diagnosis  \n",
       "0                           1.0  \n",
       "1                           0.0  \n",
       "2                           1.0  \n",
       "3                           0.0  \n",
       "4                           1.0  \n",
       "...                         ...  \n",
       "445154                      0.0  \n",
       "445155                      0.0  \n",
       "445156                      0.0  \n",
       "445157                      0.0  \n",
       "445158                      0.0  \n",
       "\n",
       "[445159 rows x 242 columns]"
      ]
     },
     "execution_count": 129,
     "metadata": {},
     "output_type": "execute_result"
    }
   ],
   "source": [
    "imputed_matrix"
   ]
  },
  {
   "cell_type": "code",
   "execution_count": 130,
   "id": "836eb960-f646-40e5-8d5f-40bffe2181ce",
   "metadata": {},
   "outputs": [],
   "source": [
    "glaucoma_diagnosis = df_glaucoma_data[filter_series]['Total Glaucoma'].astype(int).reset_index(drop=True)"
   ]
  },
  {
   "cell_type": "code",
   "execution_count": 131,
   "id": "ee81eba7-815b-49cd-b426-e97caecad3ad",
   "metadata": {},
   "outputs": [],
   "source": [
    "imputed_matrix.to_pickle(UKBB_PATH+'processed_data/imputed_matrix_selected_clinical_features.pkl')\n",
    "glaucoma_diagnosis.to_pickle(UKBB_PATH+'processed_data/glaucoma_diagnosis.pkl')"
   ]
  },
  {
   "cell_type": "markdown",
   "id": "7c472e2e-d9f9-413e-aa75-cdb8675c463f",
   "metadata": {
    "tags": []
   },
   "source": [
    "# Split into train and val for initial model selection"
   ]
  },
  {
   "cell_type": "code",
   "execution_count": 4,
   "id": "57e040f0-041a-4341-9a78-246ae2deb154",
   "metadata": {},
   "outputs": [],
   "source": [
    "imputed_matrix = pd.read_pickle(UKBB_PATH+'processed_data/imputed_matrix_selected_clinical_features.pkl')\n",
    "glaucoma_diagnosis = pd.read_pickle(UKBB_PATH+'processed_data/glaucoma_diagnosis.pkl')"
   ]
  },
  {
   "cell_type": "code",
   "execution_count": 4,
   "id": "61c9ac62-382e-4516-909b-b2c0cf3f36f3",
   "metadata": {},
   "outputs": [],
   "source": [
    "glaucoma_diagnosis = pd.read_pickle(UKBB_PATH+'processed_data/glaucoma_diagnosis.pkl')"
   ]
  },
  {
   "cell_type": "code",
   "execution_count": 5,
   "id": "46135aea-6482-4ac8-869b-6d61331a6a08",
   "metadata": {},
   "outputs": [
    {
     "data": {
      "text/plain": [
       "0    439661\n",
       "1      5498\n",
       "Name: Total Glaucoma, dtype: int64"
      ]
     },
     "execution_count": 5,
     "metadata": {},
     "output_type": "execute_result"
    }
   ],
   "source": [
    "glaucoma_diagnosis.value_counts()"
   ]
  },
  {
   "cell_type": "code",
   "execution_count": 6,
   "id": "a3223688-bd19-4dfa-a764-54d501ec3abc",
   "metadata": {},
   "outputs": [],
   "source": [
    "train_idx, val_idx = train_test_split(range(len(glaucoma_diagnosis)),random_state=0,test_size=0.1)"
   ]
  },
  {
   "cell_type": "code",
   "execution_count": 7,
   "id": "e7ac06e3-5ca2-44b7-a731-8ae0b0ad2938",
   "metadata": {},
   "outputs": [],
   "source": [
    "X_train = imputed_matrix.iloc[train_idx].reset_index(drop=True)\n",
    "y_train = glaucoma_diagnosis.iloc[train_idx].reset_index(drop=True)\n",
    "X_val = imputed_matrix.iloc[val_idx].reset_index(drop=True)\n",
    "y_val = glaucoma_diagnosis.iloc[val_idx].reset_index(drop=True)"
   ]
  },
  {
   "cell_type": "markdown",
   "id": "c2a182c1-2ab0-43b5-853f-6bfb41e9b787",
   "metadata": {
    "tags": []
   },
   "source": [
    "# Models"
   ]
  },
  {
   "cell_type": "code",
   "execution_count": 14,
   "id": "266a0ee9-6b2c-4822-8da0-ce77c4523978",
   "metadata": {},
   "outputs": [],
   "source": [
    "from sklearn.linear_model import LogisticRegression, SGDClassifier\n",
    "from sklearn.ensemble import RandomForestRegressor, AdaBoostClassifier, GradientBoostingClassifier, BaggingClassifier\n",
    "from sklearn.svm import LinearSVC\n",
    "from sklearn.neural_network import MLPClassifier\n",
    "from sklearn.neighbors import KNeighborsClassifier\n",
    "from sklearn.discriminant_analysis import LinearDiscriminantAnalysis, QuadraticDiscriminantAnalysis\n",
    "import xgboost as xgb"
   ]
  },
  {
   "cell_type": "code",
   "execution_count": 15,
   "id": "40ceb73c-199e-44ab-a328-5ed30506635b",
   "metadata": {},
   "outputs": [],
   "source": [
    "from sklearn.tree import DecisionTreeClassifier"
   ]
  },
  {
   "cell_type": "code",
   "execution_count": 16,
   "id": "838a1136-515b-4cff-802f-b57c3c554c99",
   "metadata": {},
   "outputs": [],
   "source": [
    "from sklearn.metrics import roc_curve, accuracy_score, confusion_matrix"
   ]
  },
  {
   "cell_type": "code",
   "execution_count": 17,
   "id": "61809e61-b9be-4492-a120-3384d80255b4",
   "metadata": {},
   "outputs": [],
   "source": [
    "def specificity(y_true, y_pred):\n",
    "    tn, fp, fn, tp = confusion_matrix(y_true, y_pred).ravel()\n",
    "    specificity = tn / (tn+fp)\n",
    "    return specificity"
   ]
  },
  {
   "cell_type": "code",
   "execution_count": 18,
   "id": "cbf34a52-af10-4bfd-a422-e16c399155cb",
   "metadata": {},
   "outputs": [],
   "source": [
    "def sensitivity(y_true, y_pred):\n",
    "    tn, fp, fn, tp = confusion_matrix(y_true, y_pred).ravel()\n",
    "    sensitivity = tp / (tp+fn)\n",
    "    return sensitivity"
   ]
  },
  {
   "cell_type": "code",
   "execution_count": 19,
   "id": "5e48aa10-9fcc-499e-bc3e-7ce3241577aa",
   "metadata": {},
   "outputs": [],
   "source": [
    "def cutoff_youdens_j(fpr,tpr,thresholds):\n",
    "    j_scores = tpr-fpr\n",
    "    j_ordered = sorted(zip(j_scores,thresholds))\n",
    "    return j_ordered[-1][1]"
   ]
  },
  {
   "cell_type": "code",
   "execution_count": 20,
   "id": "52c2c46b-8e6d-4216-9627-a60926e259dc",
   "metadata": {},
   "outputs": [],
   "source": [
    "def evaluate_model(y_true, y_pred_proba):\n",
    "    if len(y_pred_proba.shape) == 2:\n",
    "        probs = y_pred_proba[:,1]\n",
    "    else:\n",
    "        probs = y_pred_proba\n",
    "    auc = roc_auc_score(y_true,probs)\n",
    "    print('AUC',auc)\n",
    "    fpr, tpr, thresholds = roc_curve(y_true, probs)\n",
    "    yj_threshold = cutoff_youdens_j(fpr, tpr, thresholds)\n",
    "    print('Youden\\'s J threshold',yj_threshold)\n",
    "    acc = accuracy_score(y_true,(probs > yj_threshold).astype(int))\n",
    "    print('Accuracy',acc)\n",
    "    sens = sensitivity(y_true,(probs > yj_threshold).astype(int))\n",
    "    print('Sensitivity',sens)\n",
    "    spec = specificity(y_true,(probs > yj_threshold).astype(int))\n",
    "    print('Specificity',spec)\n",
    "    return auc,yj_threshold,acc,sens,spec"
   ]
  },
  {
   "cell_type": "markdown",
   "id": "5fa9ee3d-4556-43ef-96fc-c017d44ae5ed",
   "metadata": {
    "tags": []
   },
   "source": [
    "# Model 0: Age-only model"
   ]
  },
  {
   "cell_type": "code",
   "execution_count": 11,
   "id": "18bcfb3c-ea5b-4fcb-823b-53573b85651e",
   "metadata": {},
   "outputs": [],
   "source": [
    "age_clf = LogisticRegression(class_weight='balanced')"
   ]
  },
  {
   "cell_type": "code",
   "execution_count": 12,
   "id": "014c2693-4d40-4442-a803-e371ec295140",
   "metadata": {},
   "outputs": [
    {
     "data": {
      "text/plain": [
       "LogisticRegression(class_weight='balanced')"
      ]
     },
     "execution_count": 12,
     "metadata": {},
     "output_type": "execute_result"
    }
   ],
   "source": [
    "age_clf.fit(X_train[['Age when attended assessment centre_0']], y_train)"
   ]
  },
  {
   "cell_type": "code",
   "execution_count": 21,
   "id": "a721e83c-df23-4fa7-8541-4fcb6890a38b",
   "metadata": {},
   "outputs": [
    {
     "name": "stdout",
     "output_type": "stream",
     "text": [
      "AUC 0.6908355935233436\n",
      "Youden's J threshold 0.49480422517221134\n",
      "Accuracy 0.5764159114223885\n",
      "Sensitivity 0.7098941368078175\n",
      "Specificity 0.5747591166726893\n"
     ]
    }
   ],
   "source": [
    "y_train_pred_proba = age_clf.predict_proba(X_train[['Age when attended assessment centre_0']])\n",
    "age_train_stats = evaluate_model(y_train, y_train_pred_proba)"
   ]
  },
  {
   "cell_type": "code",
   "execution_count": 22,
   "id": "ce27c956-00a9-4e5f-87ad-4a9ae2222969",
   "metadata": {},
   "outputs": [
    {
     "name": "stdout",
     "output_type": "stream",
     "text": [
      "AUC 0.7049761915675652\n",
      "Youden's J threshold 0.49480422517221134\n",
      "Accuracy 0.5742429688201994\n",
      "Sensitivity 0.7235494880546075\n",
      "Specificity 0.5722513089005236\n"
     ]
    }
   ],
   "source": [
    "y_val_pred_proba = age_clf.predict_proba(X_val[['Age when attended assessment centre_0']])\n",
    "age_val_stats = evaluate_model(y_val,y_val_pred_proba)"
   ]
  },
  {
   "cell_type": "code",
   "execution_count": 24,
   "id": "a6e9b096-291f-4cca-8c4e-103a10f215ba",
   "metadata": {},
   "outputs": [
    {
     "data": {
      "text/plain": [
       "['../glaucoma_project/Models/age_model.joblib']"
      ]
     },
     "execution_count": 24,
     "metadata": {},
     "output_type": "execute_result"
    }
   ],
   "source": [
    "dump(age_clf, '../glaucoma_project/Models/age_model.joblib')"
   ]
  },
  {
   "cell_type": "code",
   "execution_count": 158,
   "id": "af5979ee-0eb4-4aa6-9755-1f25798df0d8",
   "metadata": {},
   "outputs": [],
   "source": [
    "models = [LogisticRegression(class_weight='balanced',n_jobs=-1, max_iter=300),\n",
    "SGDClassifier(class_weight='balanced',n_jobs=-1, random_state=42,loss='modified_huber'),\n",
    "RandomForestClassifier(class_weight='balanced',max_depth=10, random_state=42, n_jobs=-1),\n",
    "AdaBoostClassifier(DecisionTreeClassifier(class_weight='balanced',max_depth=10,random_state=42)),\n",
    "GradientBoostingClassifier(random_state=42),\n",
    "BaggingClassifier(DecisionTreeClassifier(class_weight='balanced',max_depth=10,random_state=42),n_jobs=-1,random_state=42),\n",
    "LinearSVC(class_weight='balanced',random_state=42),\n",
    "MLPClassifier(random_state=42),\n",
    "KNeighborsClassifier(n_jobs=-1),\n",
    "LinearDiscriminantAnalysis(),\n",
    "QuadraticDiscriminantAnalysis()]"
   ]
  },
  {
   "cell_type": "code",
   "execution_count": 159,
   "id": "d49666cc-0fda-47b2-93c9-6210eff37eb5",
   "metadata": {},
   "outputs": [],
   "source": [
    "model_names = ['LogisticRegression',\n",
    "               'SGDClassifier',\n",
    "               'RandomForestClassifier',\n",
    "               'AdaBoostClassifier',\n",
    "               'GradientBoostingClassifier',\n",
    "               'BaggingClassifier',\n",
    "               'LinearSVC',\n",
    "               'MLPClassifier',\n",
    "               'KNeighborsClassifier',\n",
    "               'LinearDiscriminantAnalysis',\n",
    "               'QuadraticDiscriminantAnalysis'\n",
    "]"
   ]
  },
  {
   "cell_type": "code",
   "execution_count": 197,
   "id": "82c4ec78-d04f-4d84-8d18-7404c9ddb580",
   "metadata": {},
   "outputs": [],
   "source": [
    "X_train_1a = X_train[[col for col in classification_dict.keys() if classification_dict[col][1] == '1a']]\n",
    "X_val_1a = X_val[[col for col in classification_dict.keys() if classification_dict[col][1] == '1a']]"
   ]
  },
  {
   "cell_type": "code",
   "execution_count": 174,
   "id": "35decad6-d15a-4a95-9a55-2dc53d5ff594",
   "metadata": {},
   "outputs": [
    {
     "name": "stdout",
     "output_type": "stream",
     "text": [
      "Training LogisticRegression\n",
      "Training took 11.503736019134521\n",
      "Training SGDClassifier\n",
      "Training took 6.199600696563721\n",
      "Training RandomForestClassifier\n",
      "Training took 6.365871429443359\n",
      "Training AdaBoostClassifier\n",
      "Training took 122.10607647895813\n",
      "Training GradientBoostingClassifier\n",
      "Training took 68.9199686050415\n",
      "Training BaggingClassifier\n",
      "Training took 4.300323009490967\n",
      "Training LinearSVC\n",
      "Training took 102.1246771812439\n",
      "Training MLPClassifier\n",
      "Training took 34.11379957199097\n",
      "Training KNeighborsClassifier\n",
      "Training took 0.021413803100585938\n",
      "Training LinearDiscriminantAnalysis\n",
      "Training took 1.437546730041504\n",
      "Training QuadraticDiscriminantAnalysis\n",
      "Training took 0.7186307907104492\n"
     ]
    }
   ],
   "source": [
    "for model, model_name in zip(models, model_names):\n",
    "    print('Training',model_name)\n",
    "    t0 = time.time()\n",
    "    model.fit(X_train_1a,y_train)\n",
    "    print('Training took',time.time()-t0)\n",
    "    dump(model,'../glaucoma_project/Models/'+model_name+'_clinical_1a_model.joblib')"
   ]
  },
  {
   "cell_type": "code",
   "execution_count": 198,
   "id": "8f07c7cc-f4ca-4e15-9916-d275a8459080",
   "metadata": {},
   "outputs": [],
   "source": [
    "param = {'max_depth':3, 'eta':1, 'objective':'binary:logistic' }\n",
    "num_round = 20"
   ]
  },
  {
   "cell_type": "code",
   "execution_count": 199,
   "id": "94942c91-194d-4a9a-8076-faf480d15c4b",
   "metadata": {},
   "outputs": [],
   "source": [
    "dtrain = xgb.DMatrix(X_train_1a, label=y_train)\n",
    "dval = xgb.DMatrix(X_val_1a, label=y_val)"
   ]
  },
  {
   "cell_type": "code",
   "execution_count": 200,
   "id": "0f35adf8-cf5f-477e-8029-f973cafe5fa1",
   "metadata": {},
   "outputs": [],
   "source": [
    "bst = xgb.train(param, dtrain, num_round)"
   ]
  },
  {
   "cell_type": "code",
   "execution_count": 201,
   "id": "592e2ee1-b560-4ecc-9e33-5c9a2c413c97",
   "metadata": {},
   "outputs": [
    {
     "data": {
      "text/plain": [
       "['../glaucoma_project/Models/XGB_clinical_1a_model.joblib']"
      ]
     },
     "execution_count": 201,
     "metadata": {},
     "output_type": "execute_result"
    }
   ],
   "source": [
    "dump(bst,'../glaucoma_project/Models/XGB_clinical_1a_model.joblib')"
   ]
  },
  {
   "cell_type": "code",
   "execution_count": 202,
   "id": "4f7ac536-16ff-4746-a4c2-ac06e45809cd",
   "metadata": {},
   "outputs": [],
   "source": [
    "y_pred = bst.predict(dtrain)"
   ]
  },
  {
   "cell_type": "code",
   "execution_count": 203,
   "id": "4567de2f-7e81-4036-aca8-9848aa7f7f1b",
   "metadata": {},
   "outputs": [
    {
     "name": "stdout",
     "output_type": "stream",
     "text": [
      "AUC 0.7253054984719369\n",
      "Youden's J threshold 0.013069622\n",
      "Accuracy 0.6139156306237723\n",
      "Sensitivity 0.7225162866449512\n",
      "Specificity 0.612567628009936\n"
     ]
    }
   ],
   "source": [
    "xgb_train_stats = evaluate_model(y_train, y_pred)"
   ]
  },
  {
   "cell_type": "code",
   "execution_count": 204,
   "id": "1d6814b5-f1d7-4454-8553-24c1f5eed83e",
   "metadata": {},
   "outputs": [],
   "source": [
    "y_pred = bst.predict(dval)"
   ]
  },
  {
   "cell_type": "code",
   "execution_count": 205,
   "id": "ea3dbaf8-c21d-40be-ab35-faa4938754ac",
   "metadata": {},
   "outputs": [
    {
     "name": "stdout",
     "output_type": "stream",
     "text": [
      "AUC 0.7037235782337553\n",
      "Youden's J threshold 0.012911822\n",
      "Accuracy 0.6074445143319256\n",
      "Sensitivity 0.7081911262798635\n",
      "Specificity 0.6061006146141589\n"
     ]
    }
   ],
   "source": [
    "xgb_val_stats = evaluate_model(y_val, y_pred)"
   ]
  },
  {
   "cell_type": "code",
   "execution_count": 206,
   "id": "f44ef2c0-40ff-42f2-9362-d13f3540c526",
   "metadata": {},
   "outputs": [
    {
     "name": "stdout",
     "output_type": "stream",
     "text": [
      "LogisticRegression\n",
      "Training:\n",
      "AUC 0.7057285592106348\n",
      "Youden's J threshold 0.49485715134414116\n",
      "Accuracy 0.583853954767711\n",
      "Sensitivity 0.7284201954397395\n",
      "Specificity 0.5820595303375272\n",
      "Validation:\n",
      "AUC 0.7162479246769411\n",
      "Youden's J threshold 0.5220853036884141\n",
      "Accuracy 0.6292568963968012\n",
      "Sensitivity 0.689419795221843\n",
      "Specificity 0.6284543592078307\n",
      "==========\n",
      "SGDClassifier\n",
      "Training:\n",
      "AUC 0.649151626567193\n",
      "Youden's J threshold 0.5327124883801883\n",
      "Accuracy 0.5804469315575213\n",
      "Sensitivity 0.6433224755700325\n",
      "Specificity 0.5796664906211543\n",
      "Validation:\n",
      "AUC 0.6526442742837077\n",
      "Youden's J threshold 0.5333056574849587\n",
      "Accuracy 0.5764893521430496\n",
      "Sensitivity 0.6621160409556314\n",
      "Specificity 0.5753471431823355\n",
      "==========\n",
      "RandomForestClassifier\n",
      "Training:\n",
      "AUC 0.8020774296126552\n",
      "Youden's J threshold 0.5135665446431534\n",
      "Accuracy 0.6923295801998288\n",
      "Sensitivity 0.7502035830618893\n",
      "Specificity 0.6916112207534917\n",
      "Validation:\n",
      "AUC 0.6984736032891297\n",
      "Youden's J threshold 0.44311456740333555\n",
      "Accuracy 0.547915356276395\n",
      "Sensitivity 0.7542662116040956\n",
      "Specificity 0.5451627589346688\n",
      "==========\n",
      "AdaBoostClassifier\n",
      "Training:\n",
      "AUC 0.9997549441899125\n",
      "Youden's J threshold 0.501910285388877\n",
      "Accuracy 0.9894369800545623\n",
      "Sensitivity 0.998371335504886\n",
      "Specificity 0.989326082616727\n",
      "Validation:\n",
      "AUC 0.5623130266969869\n",
      "Youden's J threshold 0.17419725264935806\n",
      "Accuracy 0.5435573726300656\n",
      "Sensitivity 0.552901023890785\n",
      "Specificity 0.5434327338948327\n",
      "==========\n",
      "GradientBoostingClassifier\n",
      "Training:\n",
      "AUC 0.7241149801653094\n",
      "Youden's J threshold 0.012262105199795807\n",
      "Accuracy 0.5833672371662553\n",
      "Sensitivity 0.7477605863192183\n",
      "Specificity 0.5813267093050583\n",
      "Validation:\n",
      "AUC 0.7129845884198333\n",
      "Youden's J threshold 0.010079466712534492\n",
      "Accuracy 0.4960912930182406\n",
      "Sensitivity 0.8327645051194539\n",
      "Specificity 0.4916002731618484\n",
      "==========\n",
      "BaggingClassifier\n",
      "Training:\n",
      "AUC 0.8017559515081054\n",
      "Youden's J threshold 0.4668426295101355\n",
      "Accuracy 0.6549671403219325\n",
      "Sensitivity 0.8127035830618893\n",
      "Specificity 0.6530092411259163\n",
      "Validation:\n",
      "AUC 0.6895558128856877\n",
      "Youden's J threshold 0.3661181274857018\n",
      "Accuracy 0.5217674543984185\n",
      "Sensitivity 0.7679180887372014\n",
      "Specificity 0.5184839517414068\n",
      "==========\n",
      "LinearSVC\n",
      "Training:\n",
      "AUC 0.6996716911049956\n",
      "Youden's J threshold 0.4667560693109037\n",
      "Accuracy 0.5666166637130812\n",
      "Sensitivity 0.7361563517915309\n",
      "Specificity 0.5645122570635103\n",
      "Validation:\n",
      "AUC 0.7101613721488345\n",
      "Youden's J threshold 0.4493712255850104\n",
      "Accuracy 0.5038862431485308\n",
      "Sensitivity 0.8139931740614335\n",
      "Specificity 0.4997496016389711\n",
      "==========\n",
      "MLPClassifier\n",
      "Training:\n",
      "AUC 0.7233245512343681\n",
      "Youden's J threshold 0.010850899459896717\n",
      "Accuracy 0.6016453550916901\n",
      "Sensitivity 0.7292345276872965\n",
      "Specificity 0.6000616580454905\n",
      "Validation:\n",
      "AUC 0.7060933116523418\n",
      "Youden's J threshold 0.009927602136391456\n",
      "Accuracy 0.5635277203702039\n",
      "Sensitivity 0.7474402730375427\n",
      "Specificity 0.5610744366036877\n",
      "==========\n",
      "KNeighborsClassifier\n",
      "Validation:\n",
      "AUC 0.5193573743210771\n",
      "Youden's J threshold 0.2\n",
      "Accuracy 0.9848369125707611\n",
      "Sensitivity 0.0017064846416382253\n",
      "Specificity 0.9979512861370362\n",
      "==========\n",
      "LinearDiscriminantAnalysis\n",
      "Training:\n",
      "AUC 0.704364570032878\n",
      "Youden's J threshold 0.010884885418295054\n",
      "Accuracy 0.539001055802797\n",
      "Sensitivity 0.7754478827361564\n",
      "Specificity 0.5360661661583247\n",
      "Validation:\n",
      "AUC 0.7146418946058304\n",
      "Youden's J threshold 0.012056585108117942\n",
      "Accuracy 0.5882379369215563\n",
      "Sensitivity 0.7337883959044369\n",
      "Specificity 0.5862963806055088\n",
      "==========\n",
      "QuadraticDiscriminantAnalysis\n",
      "Training:\n",
      "AUC 0.667696359922445\n",
      "Youden's J threshold 0.0064557223205819435\n",
      "Accuracy 0.5425977740781693\n",
      "Sensitivity 0.7390065146579805\n",
      "Specificity 0.5401598560638413\n",
      "Validation:\n",
      "AUC 0.6745168974221323\n",
      "Youden's J threshold 0.008434151484991841\n",
      "Accuracy 0.6161829454578129\n",
      "Sensitivity 0.6774744027303754\n",
      "Specificity 0.6153653539722286\n",
      "==========\n"
     ]
    }
   ],
   "source": [
    "train_stats = {}\n",
    "val_stats = {}\n",
    "for model, model_name in zip(models, model_names):\n",
    "    print(model_name)\n",
    "    if model_name != 'KNeighborsClassifier':\n",
    "        print('Training:')\n",
    "        try:\n",
    "            y_train_pred_proba = model.predict_proba(X_train_1a)\n",
    "        except:\n",
    "            y_train_pred_proba = model._predict_proba_lr(X_train_1a)\n",
    "        train_stats[model_name] = evaluate_model(y_train,y_train_pred_proba)\n",
    "    print('Validation:')\n",
    "    try:\n",
    "        y_val_pred_proba = model.predict_proba(X_val_1a)\n",
    "    except:\n",
    "        y_val_pred_proba = model._predict_proba_lr(X_val_1a)\n",
    "    val_stats[model_name] = evaluate_model(y_val,y_val_pred_proba)\n",
    "    print('==========')"
   ]
  },
  {
   "cell_type": "code",
   "execution_count": 217,
   "id": "8a4d03b2-237b-43ae-80b0-fa4c5715ed2c",
   "metadata": {},
   "outputs": [],
   "source": [
    "df_model_stats = pd.DataFrame()"
   ]
  },
  {
   "cell_type": "code",
   "execution_count": 218,
   "id": "610fc70a-04de-4841-8497-e7971c29003d",
   "metadata": {},
   "outputs": [],
   "source": [
    "df_model_stats['Model Names'] = model_names"
   ]
  },
  {
   "cell_type": "code",
   "execution_count": 219,
   "id": "be5355d7-aeef-4eed-95aa-075cf20f9876",
   "metadata": {},
   "outputs": [],
   "source": [
    "df_model_stats['Train AUC'] = df_model_stats['Model Names'].apply(lambda x: train_stats[x][0] if x in train_stats.keys() else np.nan)\n",
    "df_model_stats['Train Threshold'] = df_model_stats['Model Names'].apply(lambda x: train_stats[x][1] if x in train_stats.keys() else np.nan)\n",
    "df_model_stats['Train Accuracy'] = df_model_stats['Model Names'].apply(lambda x: train_stats[x][2] if x in train_stats.keys() else np.nan)\n",
    "df_model_stats['Train Sensitivity'] = df_model_stats['Model Names'].apply(lambda x: train_stats[x][3] if x in train_stats.keys() else np.nan)\n",
    "df_model_stats['Train Specificity'] = df_model_stats['Model Names'].apply(lambda x: train_stats[x][4] if x in train_stats.keys() else np.nan)"
   ]
  },
  {
   "cell_type": "code",
   "execution_count": 220,
   "id": "a6b519a7-15a2-474d-823d-1482826998e0",
   "metadata": {},
   "outputs": [],
   "source": [
    "df_model_stats['Val AUC'] = df_model_stats['Model Names'].apply(lambda x: val_stats[x][0] if x in val_stats.keys() else np.nan)\n",
    "df_model_stats['Val Threshold'] = df_model_stats['Model Names'].apply(lambda x: val_stats[x][1] if x in val_stats.keys() else np.nan)\n",
    "df_model_stats['Val Accuracy'] = df_model_stats['Model Names'].apply(lambda x: val_stats[x][2] if x in val_stats.keys() else np.nan)\n",
    "df_model_stats['Val Sensitivity'] = df_model_stats['Model Names'].apply(lambda x: val_stats[x][3] if x in val_stats.keys() else np.nan)\n",
    "df_model_stats['Val Specificity'] = df_model_stats['Model Names'].apply(lambda x: val_stats[x][4] if x in val_stats.keys() else np.nan)"
   ]
  },
  {
   "cell_type": "code",
   "execution_count": 221,
   "id": "8bc1f117-1bd5-46ac-84b0-f3e875897d50",
   "metadata": {},
   "outputs": [],
   "source": [
    "df_model_stats = df_model_stats.append({stat_name: stat for stat_name, stat in zip(df_model_stats.columns, ('LogisticRegression (Age Only)',) + age_train_stats + age_val_stats)}, ignore_index=True)"
   ]
  },
  {
   "cell_type": "code",
   "execution_count": 222,
   "id": "a1dcef4c-041c-4d8b-bb5a-e088053cf528",
   "metadata": {},
   "outputs": [],
   "source": [
    "df_model_stats = df_model_stats.append({stat_name: stat for stat_name, stat in zip(df_model_stats.columns, ('XGBoost',) + xgb_train_stats + xgb_val_stats)}, ignore_index=True)"
   ]
  },
  {
   "cell_type": "code",
   "execution_count": 223,
   "id": "66312b2a-c802-4d2a-9b41-e73ab58ff76f",
   "metadata": {},
   "outputs": [],
   "source": [
    "df_model_stats.sort_values('Val AUC', ascending=False).to_csv('../glaucoma_project/UKBB_Data/processed_data/initial_model_selection_clinical_data_1a.csv', index=False)"
   ]
  },
  {
   "cell_type": "markdown",
   "id": "b802dbb1-8e20-4057-81e1-be4301dd2f32",
   "metadata": {
    "tags": []
   },
   "source": [
    "# Model 1a"
   ]
  },
  {
   "cell_type": "code",
   "execution_count": 158,
   "id": "46f4210b-bd58-4eb5-93f0-dc5cb50055f4",
   "metadata": {},
   "outputs": [],
   "source": [
    "models = [LogisticRegression(class_weight='balanced',n_jobs=-1, max_iter=300),\n",
    "SGDClassifier(class_weight='balanced',n_jobs=-1, random_state=42,loss='modified_huber'),\n",
    "RandomForestClassifier(class_weight='balanced',max_depth=10, random_state=42, n_jobs=-1),\n",
    "AdaBoostClassifier(DecisionTreeClassifier(class_weight='balanced',max_depth=10,random_state=42)),\n",
    "GradientBoostingClassifier(random_state=42),\n",
    "BaggingClassifier(DecisionTreeClassifier(class_weight='balanced',max_depth=10,random_state=42),n_jobs=-1,random_state=42),\n",
    "LinearSVC(class_weight='balanced',random_state=42),\n",
    "MLPClassifier(random_state=42),\n",
    "KNeighborsClassifier(n_jobs=-1),\n",
    "LinearDiscriminantAnalysis(),\n",
    "QuadraticDiscriminantAnalysis()]"
   ]
  },
  {
   "cell_type": "code",
   "execution_count": 159,
   "id": "04411b72-ebba-4b5a-89aa-78a94c8ce4fb",
   "metadata": {},
   "outputs": [],
   "source": [
    "model_names = ['LogisticRegression',\n",
    "               'SGDClassifier',\n",
    "               'RandomForestClassifier',\n",
    "               'AdaBoostClassifier',\n",
    "               'GradientBoostingClassifier',\n",
    "               'BaggingClassifier',\n",
    "               'LinearSVC',\n",
    "               'MLPClassifier',\n",
    "               'KNeighborsClassifier',\n",
    "               'LinearDiscriminantAnalysis',\n",
    "               'QuadraticDiscriminantAnalysis'\n",
    "]"
   ]
  },
  {
   "cell_type": "code",
   "execution_count": 197,
   "id": "38f2d8d6-8558-4f63-8577-4fc3e0fb80e7",
   "metadata": {},
   "outputs": [],
   "source": [
    "X_train_1a = X_train[[col for col in classification_dict.keys() if classification_dict[col][1] == '1a']]\n",
    "X_val_1a = X_val[[col for col in classification_dict.keys() if classification_dict[col][1] == '1a']]"
   ]
  },
  {
   "cell_type": "code",
   "execution_count": 174,
   "id": "fa3995df-ebfe-4799-8ed8-4c11b4e9d001",
   "metadata": {},
   "outputs": [
    {
     "name": "stdout",
     "output_type": "stream",
     "text": [
      "Training LogisticRegression\n",
      "Training took 11.503736019134521\n",
      "Training SGDClassifier\n",
      "Training took 6.199600696563721\n",
      "Training RandomForestClassifier\n",
      "Training took 6.365871429443359\n",
      "Training AdaBoostClassifier\n",
      "Training took 122.10607647895813\n",
      "Training GradientBoostingClassifier\n",
      "Training took 68.9199686050415\n",
      "Training BaggingClassifier\n",
      "Training took 4.300323009490967\n",
      "Training LinearSVC\n",
      "Training took 102.1246771812439\n",
      "Training MLPClassifier\n",
      "Training took 34.11379957199097\n",
      "Training KNeighborsClassifier\n",
      "Training took 0.021413803100585938\n",
      "Training LinearDiscriminantAnalysis\n",
      "Training took 1.437546730041504\n",
      "Training QuadraticDiscriminantAnalysis\n",
      "Training took 0.7186307907104492\n"
     ]
    }
   ],
   "source": [
    "for model, model_name in zip(models, model_names):\n",
    "    print('Training',model_name)\n",
    "    t0 = time.time()\n",
    "    model.fit(X_train_1a,y_train)\n",
    "    print('Training took',time.time()-t0)\n",
    "    dump(model,'../glaucoma_project/Models/'+model_name+'_clinical_1a_model.joblib')"
   ]
  },
  {
   "cell_type": "code",
   "execution_count": 198,
   "id": "90bc140f-dec4-4f71-bcff-2e20b3939f8a",
   "metadata": {},
   "outputs": [],
   "source": [
    "param = {'max_depth':3, 'eta':1, 'objective':'binary:logistic' }\n",
    "num_round = 20"
   ]
  },
  {
   "cell_type": "code",
   "execution_count": 199,
   "id": "2d2b38a8-a977-4308-8f13-653d7b82e525",
   "metadata": {},
   "outputs": [],
   "source": [
    "dtrain = xgb.DMatrix(X_train_1a, label=y_train)\n",
    "dval = xgb.DMatrix(X_val_1a, label=y_val)"
   ]
  },
  {
   "cell_type": "code",
   "execution_count": 200,
   "id": "8a110ae7-425c-4151-82d2-58942afd218a",
   "metadata": {},
   "outputs": [],
   "source": [
    "bst = xgb.train(param, dtrain, num_round)"
   ]
  },
  {
   "cell_type": "code",
   "execution_count": 201,
   "id": "42987f22-507a-4355-8df1-ccdf4cc02aa7",
   "metadata": {},
   "outputs": [
    {
     "data": {
      "text/plain": [
       "['../glaucoma_project/Models/XGB_clinical_1a_model.joblib']"
      ]
     },
     "execution_count": 201,
     "metadata": {},
     "output_type": "execute_result"
    }
   ],
   "source": [
    "dump(bst,'../glaucoma_project/Models/XGB_clinical_1a_model.joblib')"
   ]
  },
  {
   "cell_type": "code",
   "execution_count": 202,
   "id": "9945a793-fcb6-406d-a639-e1e722fd2449",
   "metadata": {},
   "outputs": [],
   "source": [
    "y_pred = bst.predict(dtrain)"
   ]
  },
  {
   "cell_type": "code",
   "execution_count": 203,
   "id": "572df631-fedf-4e63-96cf-dcaf9834a034",
   "metadata": {},
   "outputs": [
    {
     "name": "stdout",
     "output_type": "stream",
     "text": [
      "AUC 0.7253054984719369\n",
      "Youden's J threshold 0.013069622\n",
      "Accuracy 0.6139156306237723\n",
      "Sensitivity 0.7225162866449512\n",
      "Specificity 0.612567628009936\n"
     ]
    }
   ],
   "source": [
    "xgb_train_stats = evaluate_model(y_train, y_pred)"
   ]
  },
  {
   "cell_type": "code",
   "execution_count": 204,
   "id": "0d0f026b-9336-4d6a-a99a-11d99981f4e2",
   "metadata": {},
   "outputs": [],
   "source": [
    "y_pred = bst.predict(dval)"
   ]
  },
  {
   "cell_type": "code",
   "execution_count": 205,
   "id": "497bdc5a-06fc-4312-b991-239026e08ee9",
   "metadata": {},
   "outputs": [
    {
     "name": "stdout",
     "output_type": "stream",
     "text": [
      "AUC 0.7037235782337553\n",
      "Youden's J threshold 0.012911822\n",
      "Accuracy 0.6074445143319256\n",
      "Sensitivity 0.7081911262798635\n",
      "Specificity 0.6061006146141589\n"
     ]
    }
   ],
   "source": [
    "xgb_val_stats = evaluate_model(y_val, y_pred)"
   ]
  },
  {
   "cell_type": "code",
   "execution_count": 206,
   "id": "b99395e9-0c0e-440e-befb-f5c12fc5b69f",
   "metadata": {},
   "outputs": [
    {
     "name": "stdout",
     "output_type": "stream",
     "text": [
      "LogisticRegression\n",
      "Training:\n",
      "AUC 0.7057285592106348\n",
      "Youden's J threshold 0.49485715134414116\n",
      "Accuracy 0.583853954767711\n",
      "Sensitivity 0.7284201954397395\n",
      "Specificity 0.5820595303375272\n",
      "Validation:\n",
      "AUC 0.7162479246769411\n",
      "Youden's J threshold 0.5220853036884141\n",
      "Accuracy 0.6292568963968012\n",
      "Sensitivity 0.689419795221843\n",
      "Specificity 0.6284543592078307\n",
      "==========\n",
      "SGDClassifier\n",
      "Training:\n",
      "AUC 0.649151626567193\n",
      "Youden's J threshold 0.5327124883801883\n",
      "Accuracy 0.5804469315575213\n",
      "Sensitivity 0.6433224755700325\n",
      "Specificity 0.5796664906211543\n",
      "Validation:\n",
      "AUC 0.6526442742837077\n",
      "Youden's J threshold 0.5333056574849587\n",
      "Accuracy 0.5764893521430496\n",
      "Sensitivity 0.6621160409556314\n",
      "Specificity 0.5753471431823355\n",
      "==========\n",
      "RandomForestClassifier\n",
      "Training:\n",
      "AUC 0.8020774296126552\n",
      "Youden's J threshold 0.5135665446431534\n",
      "Accuracy 0.6923295801998288\n",
      "Sensitivity 0.7502035830618893\n",
      "Specificity 0.6916112207534917\n",
      "Validation:\n",
      "AUC 0.6984736032891297\n",
      "Youden's J threshold 0.44311456740333555\n",
      "Accuracy 0.547915356276395\n",
      "Sensitivity 0.7542662116040956\n",
      "Specificity 0.5451627589346688\n",
      "==========\n",
      "AdaBoostClassifier\n",
      "Training:\n",
      "AUC 0.9997549441899125\n",
      "Youden's J threshold 0.501910285388877\n",
      "Accuracy 0.9894369800545623\n",
      "Sensitivity 0.998371335504886\n",
      "Specificity 0.989326082616727\n",
      "Validation:\n",
      "AUC 0.5623130266969869\n",
      "Youden's J threshold 0.17419725264935806\n",
      "Accuracy 0.5435573726300656\n",
      "Sensitivity 0.552901023890785\n",
      "Specificity 0.5434327338948327\n",
      "==========\n",
      "GradientBoostingClassifier\n",
      "Training:\n",
      "AUC 0.7241149801653094\n",
      "Youden's J threshold 0.012262105199795807\n",
      "Accuracy 0.5833672371662553\n",
      "Sensitivity 0.7477605863192183\n",
      "Specificity 0.5813267093050583\n",
      "Validation:\n",
      "AUC 0.7129845884198333\n",
      "Youden's J threshold 0.010079466712534492\n",
      "Accuracy 0.4960912930182406\n",
      "Sensitivity 0.8327645051194539\n",
      "Specificity 0.4916002731618484\n",
      "==========\n",
      "BaggingClassifier\n",
      "Training:\n",
      "AUC 0.8017559515081054\n",
      "Youden's J threshold 0.4668426295101355\n",
      "Accuracy 0.6549671403219325\n",
      "Sensitivity 0.8127035830618893\n",
      "Specificity 0.6530092411259163\n",
      "Validation:\n",
      "AUC 0.6895558128856877\n",
      "Youden's J threshold 0.3661181274857018\n",
      "Accuracy 0.5217674543984185\n",
      "Sensitivity 0.7679180887372014\n",
      "Specificity 0.5184839517414068\n",
      "==========\n",
      "LinearSVC\n",
      "Training:\n",
      "AUC 0.6996716911049956\n",
      "Youden's J threshold 0.4667560693109037\n",
      "Accuracy 0.5666166637130812\n",
      "Sensitivity 0.7361563517915309\n",
      "Specificity 0.5645122570635103\n",
      "Validation:\n",
      "AUC 0.7101613721488345\n",
      "Youden's J threshold 0.4493712255850104\n",
      "Accuracy 0.5038862431485308\n",
      "Sensitivity 0.8139931740614335\n",
      "Specificity 0.4997496016389711\n",
      "==========\n",
      "MLPClassifier\n",
      "Training:\n",
      "AUC 0.7233245512343681\n",
      "Youden's J threshold 0.010850899459896717\n",
      "Accuracy 0.6016453550916901\n",
      "Sensitivity 0.7292345276872965\n",
      "Specificity 0.6000616580454905\n",
      "Validation:\n",
      "AUC 0.7060933116523418\n",
      "Youden's J threshold 0.009927602136391456\n",
      "Accuracy 0.5635277203702039\n",
      "Sensitivity 0.7474402730375427\n",
      "Specificity 0.5610744366036877\n",
      "==========\n",
      "KNeighborsClassifier\n",
      "Validation:\n",
      "AUC 0.5193573743210771\n",
      "Youden's J threshold 0.2\n",
      "Accuracy 0.9848369125707611\n",
      "Sensitivity 0.0017064846416382253\n",
      "Specificity 0.9979512861370362\n",
      "==========\n",
      "LinearDiscriminantAnalysis\n",
      "Training:\n",
      "AUC 0.704364570032878\n",
      "Youden's J threshold 0.010884885418295054\n",
      "Accuracy 0.539001055802797\n",
      "Sensitivity 0.7754478827361564\n",
      "Specificity 0.5360661661583247\n",
      "Validation:\n",
      "AUC 0.7146418946058304\n",
      "Youden's J threshold 0.012056585108117942\n",
      "Accuracy 0.5882379369215563\n",
      "Sensitivity 0.7337883959044369\n",
      "Specificity 0.5862963806055088\n",
      "==========\n",
      "QuadraticDiscriminantAnalysis\n",
      "Training:\n",
      "AUC 0.667696359922445\n",
      "Youden's J threshold 0.0064557223205819435\n",
      "Accuracy 0.5425977740781693\n",
      "Sensitivity 0.7390065146579805\n",
      "Specificity 0.5401598560638413\n",
      "Validation:\n",
      "AUC 0.6745168974221323\n",
      "Youden's J threshold 0.008434151484991841\n",
      "Accuracy 0.6161829454578129\n",
      "Sensitivity 0.6774744027303754\n",
      "Specificity 0.6153653539722286\n",
      "==========\n"
     ]
    }
   ],
   "source": [
    "train_stats = {}\n",
    "val_stats = {}\n",
    "for model, model_name in zip(models, model_names):\n",
    "    print(model_name)\n",
    "    if model_name != 'KNeighborsClassifier':\n",
    "        print('Training:')\n",
    "        try:\n",
    "            y_train_pred_proba = model.predict_proba(X_train_1a)\n",
    "        except:\n",
    "            y_train_pred_proba = model._predict_proba_lr(X_train_1a)\n",
    "        train_stats[model_name] = evaluate_model(y_train,y_train_pred_proba)\n",
    "    print('Validation:')\n",
    "    try:\n",
    "        y_val_pred_proba = model.predict_proba(X_val_1a)\n",
    "    except:\n",
    "        y_val_pred_proba = model._predict_proba_lr(X_val_1a)\n",
    "    val_stats[model_name] = evaluate_model(y_val,y_val_pred_proba)\n",
    "    print('==========')"
   ]
  },
  {
   "cell_type": "code",
   "execution_count": 217,
   "id": "610d4abb-81c3-4b12-882d-a0d64859e735",
   "metadata": {},
   "outputs": [],
   "source": [
    "df_model_stats = pd.DataFrame()\n",
    "df_model_stats['Model Names'] = model_names\n",
    "df_model_stats['Train AUC'] = df_model_stats['Model Names'].apply(lambda x: train_stats[x][0] if x in train_stats.keys() else np.nan)\n",
    "df_model_stats['Train Threshold'] = df_model_stats['Model Names'].apply(lambda x: train_stats[x][1] if x in train_stats.keys() else np.nan)\n",
    "df_model_stats['Train Accuracy'] = df_model_stats['Model Names'].apply(lambda x: train_stats[x][2] if x in train_stats.keys() else np.nan)\n",
    "df_model_stats['Train Sensitivity'] = df_model_stats['Model Names'].apply(lambda x: train_stats[x][3] if x in train_stats.keys() else np.nan)\n",
    "df_model_stats['Train Specificity'] = df_model_stats['Model Names'].apply(lambda x: train_stats[x][4] if x in train_stats.keys() else np.nan)\n",
    "df_model_stats['Val AUC'] = df_model_stats['Model Names'].apply(lambda x: val_stats[x][0] if x in val_stats.keys() else np.nan)\n",
    "df_model_stats['Val Threshold'] = df_model_stats['Model Names'].apply(lambda x: val_stats[x][1] if x in val_stats.keys() else np.nan)\n",
    "df_model_stats['Val Accuracy'] = df_model_stats['Model Names'].apply(lambda x: val_stats[x][2] if x in val_stats.keys() else np.nan)\n",
    "df_model_stats['Val Sensitivity'] = df_model_stats['Model Names'].apply(lambda x: val_stats[x][3] if x in val_stats.keys() else np.nan)\n",
    "df_model_stats['Val Specificity'] = df_model_stats['Model Names'].apply(lambda x: val_stats[x][4] if x in val_stats.keys() else np.nan)"
   ]
  },
  {
   "cell_type": "code",
   "execution_count": 221,
   "id": "82e34eec-6240-4291-8d9d-3c352ece80a9",
   "metadata": {},
   "outputs": [],
   "source": [
    "df_model_stats = df_model_stats.append({stat_name: stat for stat_name, stat in zip(df_model_stats.columns, ('LogisticRegression (Age Only)',) + age_train_stats + age_val_stats)}, ignore_index=True)"
   ]
  },
  {
   "cell_type": "code",
   "execution_count": 222,
   "id": "89b91ef9-426e-4d54-9517-f80513a13ea8",
   "metadata": {},
   "outputs": [],
   "source": [
    "df_model_stats = df_model_stats.append({stat_name: stat for stat_name, stat in zip(df_model_stats.columns, ('XGBoost',) + xgb_train_stats + xgb_val_stats)}, ignore_index=True)"
   ]
  },
  {
   "cell_type": "code",
   "execution_count": 223,
   "id": "8431b012-3ffb-4550-942f-1dbf9d72f766",
   "metadata": {},
   "outputs": [],
   "source": [
    "df_model_stats.sort_values('Val AUC', ascending=False).to_csv('../glaucoma_project/UKBB_Data/processed_data/initial_model_selection_clinical_data_1a.csv', index=False)"
   ]
  },
  {
   "cell_type": "markdown",
   "id": "2c01d811-8906-408a-9275-b6fdd4fcdea7",
   "metadata": {},
   "source": [
    "Retry models that overfit"
   ]
  },
  {
   "cell_type": "code",
   "execution_count": 290,
   "id": "307e184c-aaa0-4f12-ad17-e26acb905479",
   "metadata": {},
   "outputs": [],
   "source": [
    "df_model_stats = pd.read_csv('../glaucoma_project/UKBB_Data/processed_data/initial_model_selection_clinical_data_1a.csv')"
   ]
  },
  {
   "cell_type": "code",
   "execution_count": 292,
   "id": "7977f3dc-fe2c-48c4-81b1-cfc026ccc55d",
   "metadata": {},
   "outputs": [],
   "source": [
    "df_model_stats['Train AUC - Val AUC'] = df_model_stats['Train AUC'] - df_model_stats['Val AUC']"
   ]
  },
  {
   "cell_type": "code",
   "execution_count": 295,
   "id": "ae0629f4-858e-4716-b299-dbd798c07e39",
   "metadata": {},
   "outputs": [
    {
     "data": {
      "text/html": [
       "<div>\n",
       "<style scoped>\n",
       "    .dataframe tbody tr th:only-of-type {\n",
       "        vertical-align: middle;\n",
       "    }\n",
       "\n",
       "    .dataframe tbody tr th {\n",
       "        vertical-align: top;\n",
       "    }\n",
       "\n",
       "    .dataframe thead th {\n",
       "        text-align: right;\n",
       "    }\n",
       "</style>\n",
       "<table border=\"1\" class=\"dataframe\">\n",
       "  <thead>\n",
       "    <tr style=\"text-align: right;\">\n",
       "      <th></th>\n",
       "      <th>Model Names</th>\n",
       "      <th>Train AUC</th>\n",
       "      <th>Train Threshold</th>\n",
       "      <th>Train Accuracy</th>\n",
       "      <th>Train Sensitivity</th>\n",
       "      <th>Train Specificity</th>\n",
       "      <th>Val AUC</th>\n",
       "      <th>Val Threshold</th>\n",
       "      <th>Val Accuracy</th>\n",
       "      <th>Val Sensitivity</th>\n",
       "      <th>Val Specificity</th>\n",
       "      <th>Train AUC - Val AUC</th>\n",
       "    </tr>\n",
       "  </thead>\n",
       "  <tbody>\n",
       "    <tr>\n",
       "      <th>7</th>\n",
       "      <td>RandomForestClassifier</td>\n",
       "      <td>0.802077</td>\n",
       "      <td>0.513567</td>\n",
       "      <td>0.692330</td>\n",
       "      <td>0.750204</td>\n",
       "      <td>0.691611</td>\n",
       "      <td>0.698474</td>\n",
       "      <td>0.443115</td>\n",
       "      <td>0.547915</td>\n",
       "      <td>0.754266</td>\n",
       "      <td>0.545163</td>\n",
       "      <td>0.103604</td>\n",
       "    </tr>\n",
       "    <tr>\n",
       "      <th>8</th>\n",
       "      <td>BaggingClassifier</td>\n",
       "      <td>0.801756</td>\n",
       "      <td>0.466843</td>\n",
       "      <td>0.654967</td>\n",
       "      <td>0.812704</td>\n",
       "      <td>0.653009</td>\n",
       "      <td>0.689556</td>\n",
       "      <td>0.366118</td>\n",
       "      <td>0.521767</td>\n",
       "      <td>0.767918</td>\n",
       "      <td>0.518484</td>\n",
       "      <td>0.112200</td>\n",
       "    </tr>\n",
       "    <tr>\n",
       "      <th>11</th>\n",
       "      <td>AdaBoostClassifier</td>\n",
       "      <td>0.999755</td>\n",
       "      <td>0.501910</td>\n",
       "      <td>0.989437</td>\n",
       "      <td>0.998371</td>\n",
       "      <td>0.989326</td>\n",
       "      <td>0.562313</td>\n",
       "      <td>0.174197</td>\n",
       "      <td>0.543557</td>\n",
       "      <td>0.552901</td>\n",
       "      <td>0.543433</td>\n",
       "      <td>0.437442</td>\n",
       "    </tr>\n",
       "  </tbody>\n",
       "</table>\n",
       "</div>"
      ],
      "text/plain": [
       "               Model Names  Train AUC  Train Threshold  Train Accuracy  \\\n",
       "7   RandomForestClassifier   0.802077         0.513567        0.692330   \n",
       "8        BaggingClassifier   0.801756         0.466843        0.654967   \n",
       "11      AdaBoostClassifier   0.999755         0.501910        0.989437   \n",
       "\n",
       "    Train Sensitivity  Train Specificity   Val AUC  Val Threshold  \\\n",
       "7            0.750204           0.691611  0.698474       0.443115   \n",
       "8            0.812704           0.653009  0.689556       0.366118   \n",
       "11           0.998371           0.989326  0.562313       0.174197   \n",
       "\n",
       "    Val Accuracy  Val Sensitivity  Val Specificity  Train AUC - Val AUC  \n",
       "7       0.547915         0.754266         0.545163             0.103604  \n",
       "8       0.521767         0.767918         0.518484             0.112200  \n",
       "11      0.543557         0.552901         0.543433             0.437442  "
      ]
     },
     "execution_count": 295,
     "metadata": {},
     "output_type": "execute_result"
    }
   ],
   "source": [
    "df_model_stats[df_model_stats['Train AUC - Val AUC'] > 0.05]"
   ]
  },
  {
   "cell_type": "code",
   "execution_count": 305,
   "id": "1dd7484d-ea27-4334-b596-4c77b27e70a7",
   "metadata": {},
   "outputs": [],
   "source": [
    "models = [\n",
    "RandomForestClassifier(class_weight='balanced',max_depth=5, random_state=42, n_jobs=-1),\n",
    "AdaBoostClassifier(DecisionTreeClassifier(class_weight='balanced',max_depth=1,random_state=42)),\n",
    "BaggingClassifier(DecisionTreeClassifier(class_weight='balanced',max_depth=5,random_state=42),n_jobs=-1,random_state=42),\n",
    "]"
   ]
  },
  {
   "cell_type": "code",
   "execution_count": 306,
   "id": "d7cc06cf-3832-4b86-99d5-73dd783e8396",
   "metadata": {},
   "outputs": [],
   "source": [
    "model_names = [\n",
    "               'RandomForestClassifier',\n",
    "               'AdaBoostClassifier',\n",
    "               'BaggingClassifier',\n",
    "]"
   ]
  },
  {
   "cell_type": "code",
   "execution_count": 307,
   "id": "00f04539-2f80-4b9f-a277-2f9c8b796262",
   "metadata": {},
   "outputs": [
    {
     "name": "stdout",
     "output_type": "stream",
     "text": [
      "Training RandomForestClassifier\n",
      "Training took 3.575226068496704\n",
      "Training AdaBoostClassifier\n",
      "Training took 17.460238456726074\n",
      "Training BaggingClassifier\n",
      "Training took 2.148622989654541\n"
     ]
    }
   ],
   "source": [
    "for model, model_name in zip(models, model_names):\n",
    "    print('Training',model_name)\n",
    "    t0 = time.time()\n",
    "    model.fit(X_train_1a,y_train)\n",
    "    print('Training took',time.time()-t0)\n",
    "    dump(model,'../glaucoma_project/Models/'+model_name+'_clinical_1a_model_v2.joblib')"
   ]
  },
  {
   "cell_type": "code",
   "execution_count": 308,
   "id": "eb95b803-08c0-4ba9-be7d-79fd398865c5",
   "metadata": {},
   "outputs": [
    {
     "name": "stdout",
     "output_type": "stream",
     "text": [
      "RandomForestClassifier\n",
      "Training:\n",
      "AUC 0.7128004519418345\n",
      "Youden's J threshold 0.5258106994061778\n",
      "Accuracy 0.5852292439902856\n",
      "Sensitivity 0.7345276872964169\n",
      "Specificity 0.583376081226894\n",
      "Validation:\n",
      "AUC 0.7040504440433859\n",
      "Youden's J threshold 0.513072842170541\n",
      "Accuracy 0.5457363644532303\n",
      "Sensitivity 0.7679180887372014\n",
      "Specificity 0.542772592761211\n",
      "==========\n",
      "AdaBoostClassifier\n",
      "Training:\n",
      "AUC 0.7081311509421434\n",
      "Youden's J threshold 0.4994751441959101\n",
      "Accuracy 0.5515733458465517\n",
      "Sensitivity 0.7624185667752443\n",
      "Specificity 0.5489562354225471\n",
      "Validation:\n",
      "AUC 0.7134981070567588\n",
      "Youden's J threshold 0.5001267535422818\n",
      "Accuracy 0.6058945098391589\n",
      "Sensitivity 0.7150170648464164\n",
      "Specificity 0.6044388800364215\n",
      "==========\n",
      "BaggingClassifier\n",
      "Training:\n",
      "AUC 0.7152395074975955\n",
      "Youden's J threshold 0.4928117370399569\n",
      "Accuracy 0.5722875477669646\n",
      "Sensitivity 0.7534609120521173\n",
      "Specificity 0.5700387384359578\n",
      "Validation:\n",
      "AUC 0.7035077912502747\n",
      "Youden's J threshold 0.4582739650341653\n",
      "Accuracy 0.4905876538772576\n",
      "Sensitivity 0.8242320819112628\n",
      "Specificity 0.48613703619394494\n",
      "==========\n"
     ]
    }
   ],
   "source": [
    "train_stats = {}\n",
    "val_stats = {}\n",
    "for model, model_name in zip(models, model_names):\n",
    "    print(model_name)\n",
    "    if model_name != 'KNeighborsClassifier':\n",
    "        print('Training:')\n",
    "        try:\n",
    "            y_train_pred_proba = model.predict_proba(X_train_1a)\n",
    "        except:\n",
    "            y_train_pred_proba = model._predict_proba_lr(X_train_1a)\n",
    "        train_stats[model_name] = evaluate_model(y_train,y_train_pred_proba)\n",
    "    print('Validation:')\n",
    "    try:\n",
    "        y_val_pred_proba = model.predict_proba(X_val_1a)\n",
    "    except:\n",
    "        y_val_pred_proba = model._predict_proba_lr(X_val_1a)\n",
    "    val_stats[model_name] = evaluate_model(y_val,y_val_pred_proba)\n",
    "    print('==========')"
   ]
  },
  {
   "cell_type": "code",
   "execution_count": 310,
   "id": "4cdaf355-f8ba-4fc3-a6cc-1473cce28e8d",
   "metadata": {},
   "outputs": [],
   "source": [
    "df_model_stats = pd.DataFrame()\n",
    "df_model_stats['Model Names'] = model_names\n",
    "df_model_stats['Train AUC'] = df_model_stats['Model Names'].apply(lambda x: train_stats[x][0] if x in train_stats.keys() else np.nan)\n",
    "df_model_stats['Train Threshold'] = df_model_stats['Model Names'].apply(lambda x: train_stats[x][1] if x in train_stats.keys() else np.nan)\n",
    "df_model_stats['Train Accuracy'] = df_model_stats['Model Names'].apply(lambda x: train_stats[x][2] if x in train_stats.keys() else np.nan)\n",
    "df_model_stats['Train Sensitivity'] = df_model_stats['Model Names'].apply(lambda x: train_stats[x][3] if x in train_stats.keys() else np.nan)\n",
    "df_model_stats['Train Specificity'] = df_model_stats['Model Names'].apply(lambda x: train_stats[x][4] if x in train_stats.keys() else np.nan)\n",
    "df_model_stats['Val AUC'] = df_model_stats['Model Names'].apply(lambda x: val_stats[x][0] if x in val_stats.keys() else np.nan)\n",
    "df_model_stats['Val Threshold'] = df_model_stats['Model Names'].apply(lambda x: val_stats[x][1] if x in val_stats.keys() else np.nan)\n",
    "df_model_stats['Val Accuracy'] = df_model_stats['Model Names'].apply(lambda x: val_stats[x][2] if x in val_stats.keys() else np.nan)\n",
    "df_model_stats['Val Sensitivity'] = df_model_stats['Model Names'].apply(lambda x: val_stats[x][3] if x in val_stats.keys() else np.nan)\n",
    "df_model_stats['Val Specificity'] = df_model_stats['Model Names'].apply(lambda x: val_stats[x][4] if x in val_stats.keys() else np.nan)"
   ]
  },
  {
   "cell_type": "code",
   "execution_count": 312,
   "id": "3dae6ed3-2170-4d63-8fac-e5b9ac990a3c",
   "metadata": {},
   "outputs": [],
   "source": [
    "df_model_stats.sort_values('Val AUC', ascending=False).to_csv('../glaucoma_project/UKBB_Data/processed_data/initial_model_selection_clinical_data_1a_supplemental.csv', index=False)"
   ]
  },
  {
   "cell_type": "markdown",
   "id": "4e44257c-79e7-49a4-90c1-5f9354dd477b",
   "metadata": {},
   "source": [
    "Best model is logistic regression..."
   ]
  },
  {
   "cell_type": "markdown",
   "id": "9729767f-127f-45e3-88e9-d1022c637ad6",
   "metadata": {
    "tags": []
   },
   "source": [
    "# Model 1b"
   ]
  },
  {
   "cell_type": "code",
   "execution_count": 314,
   "id": "2d0ca7d4-4453-4f93-89a6-50cb69f27d1e",
   "metadata": {},
   "outputs": [],
   "source": [
    "models = [LogisticRegression(class_weight='balanced',n_jobs=-1, max_iter=300),\n",
    "SGDClassifier(class_weight='balanced',n_jobs=-1, random_state=42,loss='modified_huber'),\n",
    "RandomForestClassifier(class_weight='balanced',max_depth=10, random_state=42, n_jobs=-1),\n",
    "AdaBoostClassifier(DecisionTreeClassifier(class_weight='balanced',max_depth=10,random_state=42)),\n",
    "GradientBoostingClassifier(random_state=42),\n",
    "BaggingClassifier(DecisionTreeClassifier(class_weight='balanced',max_depth=10,random_state=42),n_jobs=-1,random_state=42),\n",
    "LinearSVC(class_weight='balanced',random_state=42),\n",
    "MLPClassifier(random_state=42),\n",
    "KNeighborsClassifier(n_jobs=-1),\n",
    "LinearDiscriminantAnalysis(),\n",
    "QuadraticDiscriminantAnalysis()]"
   ]
  },
  {
   "cell_type": "code",
   "execution_count": 225,
   "id": "209caf60-088a-4f09-a091-646e3708241b",
   "metadata": {},
   "outputs": [],
   "source": [
    "model_names = ['LogisticRegression',\n",
    "               'SGDClassifier',\n",
    "               'RandomForestClassifier',\n",
    "               'AdaBoostClassifier',\n",
    "               'GradientBoostingClassifier',\n",
    "               'BaggingClassifier',\n",
    "               'LinearSVC',\n",
    "               'MLPClassifier',\n",
    "               'KNeighborsClassifier',\n",
    "               'LinearDiscriminantAnalysis',\n",
    "               'QuadraticDiscriminantAnalysis'\n",
    "]"
   ]
  },
  {
   "cell_type": "code",
   "execution_count": 247,
   "id": "ee5b126f-2200-434e-a47f-ed0e63e82e8f",
   "metadata": {},
   "outputs": [],
   "source": [
    "X_train_1b = X_train[[col for col in classification_dict.keys() if classification_dict[col][1] in ['1a','1b']]]\n",
    "X_val_1b = X_val[[col for col in classification_dict.keys() if classification_dict[col][1] in ['1a','1b']]]"
   ]
  },
  {
   "cell_type": "code",
   "execution_count": 232,
   "id": "27dc5b2d-1f74-48ab-9753-6ba09609187b",
   "metadata": {},
   "outputs": [
    {
     "name": "stdout",
     "output_type": "stream",
     "text": [
      "Training LogisticRegression\n"
     ]
    },
    {
     "name": "stderr",
     "output_type": "stream",
     "text": [
      "/home/cmay091/miniforge3/lib/python3.9/site-packages/sklearn/linear_model/_logistic.py:814: ConvergenceWarning: lbfgs failed to converge (status=1):\n",
      "STOP: TOTAL NO. of ITERATIONS REACHED LIMIT.\n",
      "\n",
      "Increase the number of iterations (max_iter) or scale the data as shown in:\n",
      "    https://scikit-learn.org/stable/modules/preprocessing.html\n",
      "Please also refer to the documentation for alternative solver options:\n",
      "    https://scikit-learn.org/stable/modules/linear_model.html#logistic-regression\n",
      "  n_iter_i = _check_optimize_result(\n"
     ]
    },
    {
     "name": "stdout",
     "output_type": "stream",
     "text": [
      "Training took 236.87725973129272\n",
      "Training SGDClassifier\n",
      "Training took 12.96200442314148\n",
      "Training RandomForestClassifier\n",
      "Training took 9.397969007492065\n",
      "Training AdaBoostClassifier\n",
      "Training took 402.98415350914\n",
      "Training GradientBoostingClassifier\n",
      "Training took 209.67638063430786\n",
      "Training BaggingClassifier\n",
      "Training took 14.783742189407349\n",
      "Training LinearSVC\n",
      "Training took 218.02727842330933\n",
      "Training MLPClassifier\n",
      "Training took 493.29800844192505\n",
      "Training KNeighborsClassifier\n",
      "Training took 0.04703474044799805\n",
      "Training LinearDiscriminantAnalysis\n",
      "Training took 8.286629915237427\n",
      "Training QuadraticDiscriminantAnalysis\n",
      "Training took 4.433009386062622\n"
     ]
    }
   ],
   "source": [
    "for model, model_name in zip(models, model_names):\n",
    "    print('Training',model_name)\n",
    "    t0 = time.time()\n",
    "    model.fit(X_train_1b,y_train)\n",
    "    print('Training took',time.time()-t0)\n",
    "    dump(model,'../glaucoma_project/Models/'+model_name+'_clinical_1b_model.joblib')"
   ]
  },
  {
   "cell_type": "code",
   "execution_count": 233,
   "id": "a448f893-8209-422c-89b3-23ce71ef0479",
   "metadata": {},
   "outputs": [],
   "source": [
    "param = {'max_depth':3, 'eta':1, 'objective':'binary:logistic' }\n",
    "num_round = 20"
   ]
  },
  {
   "cell_type": "code",
   "execution_count": 249,
   "id": "7f09d5f7-271d-4f85-b570-ba1cdfcea600",
   "metadata": {},
   "outputs": [],
   "source": [
    "dtrain = xgb.DMatrix(X_train_1b, label=y_train)\n",
    "dval = xgb.DMatrix(X_val_1b, label=y_val)"
   ]
  },
  {
   "cell_type": "code",
   "execution_count": 251,
   "id": "ea57d914-7606-4ca0-b141-102dffeb24f0",
   "metadata": {},
   "outputs": [],
   "source": [
    "bst = xgb.train(param, dtrain, num_round)"
   ]
  },
  {
   "cell_type": "code",
   "execution_count": 252,
   "id": "1a92519b-d09b-4d83-9eff-7a223e138626",
   "metadata": {},
   "outputs": [
    {
     "data": {
      "text/plain": [
       "['../glaucoma_project/Models/XGB_clinical_1b_model.joblib']"
      ]
     },
     "execution_count": 252,
     "metadata": {},
     "output_type": "execute_result"
    }
   ],
   "source": [
    "dump(bst,'../glaucoma_project/Models/XGB_clinical_1b_model.joblib')"
   ]
  },
  {
   "cell_type": "code",
   "execution_count": 253,
   "id": "5da06412-1126-4cc4-8239-44e26a53a66e",
   "metadata": {},
   "outputs": [],
   "source": [
    "y_pred = bst.predict(dtrain)"
   ]
  },
  {
   "cell_type": "code",
   "execution_count": 254,
   "id": "8ec2a70b-c31d-4c50-a4c3-b399909602b3",
   "metadata": {},
   "outputs": [
    {
     "name": "stdout",
     "output_type": "stream",
     "text": [
      "AUC 0.7359755150524758\n",
      "Youden's J threshold 0.01030101\n",
      "Accuracy 0.5592609879618513\n",
      "Sensitivity 0.7884771986970684\n",
      "Specificity 0.5564158481392664\n"
     ]
    }
   ],
   "source": [
    "xgb_train_stats = evaluate_model(y_train, y_pred)"
   ]
  },
  {
   "cell_type": "code",
   "execution_count": 255,
   "id": "4e701b36-99a9-48e3-b906-a5027da00b08",
   "metadata": {},
   "outputs": [],
   "source": [
    "y_pred = bst.predict(dval)"
   ]
  },
  {
   "cell_type": "code",
   "execution_count": 256,
   "id": "290dadb3-a9ad-41a2-b54e-a50662f8fed4",
   "metadata": {},
   "outputs": [
    {
     "name": "stdout",
     "output_type": "stream",
     "text": [
      "AUC 0.7041367394140072\n",
      "Youden's J threshold 0.009612103\n",
      "Accuracy 0.5306855961901339\n",
      "Sensitivity 0.7815699658703071\n",
      "Specificity 0.5273389483268837\n"
     ]
    }
   ],
   "source": [
    "xgb_val_stats = evaluate_model(y_val, y_pred)"
   ]
  },
  {
   "cell_type": "code",
   "execution_count": 257,
   "id": "56f29c5f-bf26-4388-9bef-f3d7444bdcda",
   "metadata": {},
   "outputs": [
    {
     "name": "stdout",
     "output_type": "stream",
     "text": [
      "LogisticRegression\n",
      "Training:\n",
      "AUC 0.7149258240534646\n",
      "Youden's J threshold 0.5047124273227159\n",
      "Accuracy 0.613436400985416\n",
      "Sensitivity 0.7125407166123778\n",
      "Specificity 0.6122062714318565\n",
      "Validation:\n",
      "AUC 0.7154512414646634\n",
      "Youden's J threshold 0.432406724444531\n",
      "Accuracy 0.49660796118249617\n",
      "Sensitivity 0.8344709897610921\n",
      "Specificity 0.49210106988390623\n",
      "==========\n",
      "SGDClassifier\n",
      "Training:\n",
      "AUC 0.6329725485986157\n",
      "Youden's J threshold 0.29044532317489635\n",
      "Accuracy 0.44447300963700853\n",
      "Sensitivity 0.7567182410423453\n",
      "Specificity 0.44059727441115304\n",
      "Validation:\n",
      "AUC 0.629258112308676\n",
      "Youden's J threshold 0.3160180498434062\n",
      "Accuracy 0.4668883098211879\n",
      "Sensitivity 0.7337883959044369\n",
      "Specificity 0.46332802185294786\n",
      "==========\n",
      "RandomForestClassifier\n",
      "Training:\n",
      "AUC 0.8425979534085672\n",
      "Youden's J threshold 0.5187069356267482\n",
      "Accuracy 0.7647232074440338\n",
      "Sensitivity 0.7477605863192183\n",
      "Specificity 0.7649337555056339\n",
      "Validation:\n",
      "AUC 0.687197791397888\n",
      "Youden's J threshold 0.43603520352576325\n",
      "Accuracy 0.5393341719831072\n",
      "Sensitivity 0.7610921501706485\n",
      "Specificity 0.5363760528112906\n",
      "==========\n",
      "AdaBoostClassifier\n",
      "Training:\n",
      "AUC 1.0\n",
      "Youden's J threshold 0.5304955956366174\n",
      "Accuracy 0.9999975040123003\n",
      "Sensitivity 0.9997964169381107\n",
      "Specificity 1.0\n",
      "Validation:\n",
      "AUC 0.502563650362157\n",
      "Youden's J threshold 0.03743732405616484\n",
      "Accuracy 0.37375325725581815\n",
      "Sensitivity 0.6467576791808873\n",
      "Specificity 0.3701115410880947\n",
      "==========\n",
      "GradientBoostingClassifier\n",
      "Training:\n",
      "AUC 0.7301373846209173\n",
      "Youden's J threshold 0.012972516611511284\n",
      "Accuracy 0.6172677421045669\n",
      "Sensitivity 0.7225162866449512\n",
      "Specificity 0.6159613474809909\n",
      "Validation:\n",
      "AUC 0.7158581873582622\n",
      "Youden's J threshold 0.011603195436127348\n",
      "Accuracy 0.5636849672028035\n",
      "Sensitivity 0.7679180887372014\n",
      "Specificity 0.5609606191668564\n",
      "==========\n",
      "BaggingClassifier\n",
      "Training:\n",
      "AUC 0.8330620459002614\n",
      "Youden's J threshold 0.48916976363801973\n",
      "Accuracy 0.7322828553100891\n",
      "Sensitivity 0.7837947882736156\n",
      "Specificity 0.7316434648789203\n",
      "Validation:\n",
      "AUC 0.684272760962406\n",
      "Youden's J threshold 0.4479357900683511\n",
      "Accuracy 0.6615149609129302\n",
      "Sensitivity 0.6126279863481229\n",
      "Specificity 0.6621670839972684\n",
      "==========\n",
      "LinearSVC\n",
      "Training:\n",
      "AUC 0.6975724611881216\n",
      "Youden's J threshold 0.3784614789504995\n",
      "Accuracy 0.5748783829993286\n",
      "Sensitivity 0.7219055374592834\n",
      "Specificity 0.5730534125453907\n",
      "Validation:\n",
      "AUC 0.6940702669232545\n",
      "Youden's J threshold 0.390543949673628\n",
      "Accuracy 0.6300431305597988\n",
      "Sensitivity 0.6604095563139932\n",
      "Specificity 0.6296380605508763\n",
      "==========\n",
      "MLPClassifier\n",
      "Training:\n",
      "AUC 0.9186690058566994\n",
      "Youden's J threshold 0.011179456404496116\n",
      "Accuracy 0.8180749445266734\n",
      "Sensitivity 0.8467019543973942\n",
      "Specificity 0.8177196125651011\n",
      "Validation:\n",
      "AUC 0.6293069023089013\n",
      "Youden's J threshold 0.0019807528219638235\n",
      "Accuracy 0.5273834127055441\n",
      "Sensitivity 0.6791808873720137\n",
      "Specificity 0.5253585249260186\n",
      "==========\n",
      "KNeighborsClassifier\n",
      "Validation:\n",
      "AUC 0.5132248480945096\n",
      "Youden's J threshold 0.2\n",
      "Accuracy 0.9852637254021026\n",
      "Sensitivity 0.0\n",
      "Specificity 0.9984065558843614\n",
      "==========\n",
      "LinearDiscriminantAnalysis\n",
      "Training:\n",
      "AUC 0.7128186508006701\n",
      "Youden's J threshold 0.01119419387465429\n",
      "Accuracy 0.5814128787973333\n",
      "Sensitivity 0.741042345276873\n",
      "Specificity 0.5794314824969486\n",
      "Validation:\n",
      "AUC 0.7125000679796978\n",
      "Youden's J threshold 0.010027889209070398\n",
      "Accuracy 0.5292029831970527\n",
      "Sensitivity 0.810580204778157\n",
      "Specificity 0.5254495788754837\n",
      "==========\n",
      "QuadraticDiscriminantAnalysis\n",
      "Training:\n",
      "AUC 0.6836540827049981\n",
      "Youden's J threshold 0.005129919205402494\n",
      "Accuracy 0.6144173241514266\n",
      "Sensitivity 0.6685667752442996\n",
      "Specificity 0.6137451956000415\n",
      "Validation:\n",
      "AUC 0.6350646273275278\n",
      "Youden's J threshold 0.001514232655106336\n",
      "Accuracy 0.5073906011321772\n",
      "Sensitivity 0.7047781569965871\n",
      "Specificity 0.5047575688595493\n",
      "==========\n"
     ]
    }
   ],
   "source": [
    "train_stats = {}\n",
    "val_stats = {}\n",
    "for model, model_name in zip(models, model_names):\n",
    "    print(model_name)\n",
    "    if model_name != 'KNeighborsClassifier':\n",
    "        print('Training:')\n",
    "        try:\n",
    "            y_train_pred_proba = model.predict_proba(X_train_1b)\n",
    "        except:\n",
    "            y_train_pred_proba = model._predict_proba_lr(X_train_1b)\n",
    "        train_stats[model_name] = evaluate_model(y_train,y_train_pred_proba)\n",
    "    print('Validation:')\n",
    "    try:\n",
    "        y_val_pred_proba = model.predict_proba(X_val_1b)\n",
    "    except:\n",
    "        y_val_pred_proba = model._predict_proba_lr(X_val_1b)\n",
    "    val_stats[model_name] = evaluate_model(y_val,y_val_pred_proba)\n",
    "    print('==========')"
   ]
  },
  {
   "cell_type": "code",
   "execution_count": 258,
   "id": "0984a250-316e-43ef-a21c-775c761ae287",
   "metadata": {},
   "outputs": [],
   "source": [
    "df_model_stats = pd.DataFrame()"
   ]
  },
  {
   "cell_type": "code",
   "execution_count": 259,
   "id": "f5679e22-29c0-4424-aff0-432ecc658be1",
   "metadata": {},
   "outputs": [],
   "source": [
    "df_model_stats['Model Names'] = model_names"
   ]
  },
  {
   "cell_type": "code",
   "execution_count": 260,
   "id": "27fe619f-7d03-4a88-9419-6942b74ccee4",
   "metadata": {},
   "outputs": [],
   "source": [
    "df_model_stats['Train AUC'] = df_model_stats['Model Names'].apply(lambda x: train_stats[x][0] if x in train_stats.keys() else np.nan)\n",
    "df_model_stats['Train Threshold'] = df_model_stats['Model Names'].apply(lambda x: train_stats[x][1] if x in train_stats.keys() else np.nan)\n",
    "df_model_stats['Train Accuracy'] = df_model_stats['Model Names'].apply(lambda x: train_stats[x][2] if x in train_stats.keys() else np.nan)\n",
    "df_model_stats['Train Sensitivity'] = df_model_stats['Model Names'].apply(lambda x: train_stats[x][3] if x in train_stats.keys() else np.nan)\n",
    "df_model_stats['Train Specificity'] = df_model_stats['Model Names'].apply(lambda x: train_stats[x][4] if x in train_stats.keys() else np.nan)"
   ]
  },
  {
   "cell_type": "code",
   "execution_count": 261,
   "id": "c39b1c1f-141f-49f0-acde-6ec68af5452e",
   "metadata": {},
   "outputs": [],
   "source": [
    "df_model_stats['Val AUC'] = df_model_stats['Model Names'].apply(lambda x: val_stats[x][0] if x in val_stats.keys() else np.nan)\n",
    "df_model_stats['Val Threshold'] = df_model_stats['Model Names'].apply(lambda x: val_stats[x][1] if x in val_stats.keys() else np.nan)\n",
    "df_model_stats['Val Accuracy'] = df_model_stats['Model Names'].apply(lambda x: val_stats[x][2] if x in val_stats.keys() else np.nan)\n",
    "df_model_stats['Val Sensitivity'] = df_model_stats['Model Names'].apply(lambda x: val_stats[x][3] if x in val_stats.keys() else np.nan)\n",
    "df_model_stats['Val Specificity'] = df_model_stats['Model Names'].apply(lambda x: val_stats[x][4] if x in val_stats.keys() else np.nan)"
   ]
  },
  {
   "cell_type": "code",
   "execution_count": 262,
   "id": "b24de879-6d23-430f-9be2-7373f521fe1c",
   "metadata": {},
   "outputs": [],
   "source": [
    "df_model_stats = df_model_stats.append({stat_name: stat for stat_name, stat in zip(df_model_stats.columns, ('LogisticRegression (Age Only)',) + age_train_stats + age_val_stats)}, ignore_index=True)"
   ]
  },
  {
   "cell_type": "code",
   "execution_count": 263,
   "id": "8a038532-ae7e-4642-a7f2-3695df8fc379",
   "metadata": {},
   "outputs": [],
   "source": [
    "df_model_stats = df_model_stats.append({stat_name: stat for stat_name, stat in zip(df_model_stats.columns, ('XGBoost',) + xgb_train_stats + xgb_val_stats)}, ignore_index=True)"
   ]
  },
  {
   "cell_type": "code",
   "execution_count": 264,
   "id": "798d56b3-2164-4142-aff1-c45038b6f86b",
   "metadata": {},
   "outputs": [],
   "source": [
    "df_model_stats.sort_values('Val AUC', ascending=False).to_csv('../glaucoma_project/UKBB_Data/processed_data/initial_model_selection_clinical_data_1b.csv', index=False)"
   ]
  },
  {
   "cell_type": "markdown",
   "id": "24f7e0e5-a603-4345-a694-9cc4a6210c29",
   "metadata": {},
   "source": [
    "Retry models that overfit"
   ]
  },
  {
   "cell_type": "code",
   "execution_count": 315,
   "id": "d3cd186f-b2f0-49cf-a17d-f1ca477a6534",
   "metadata": {},
   "outputs": [],
   "source": [
    "df_model_stats = pd.read_csv('../glaucoma_project/UKBB_Data/processed_data/initial_model_selection_clinical_data_1b.csv')"
   ]
  },
  {
   "cell_type": "code",
   "execution_count": 316,
   "id": "ddd9c5d4-c53a-4326-9152-3c26dd8ff39f",
   "metadata": {},
   "outputs": [],
   "source": [
    "df_model_stats['Train AUC - Val AUC'] = df_model_stats['Train AUC'] - df_model_stats['Val AUC']"
   ]
  },
  {
   "cell_type": "code",
   "execution_count": 317,
   "id": "c78fa394-6e4e-484a-b14c-47ed1e196dcd",
   "metadata": {},
   "outputs": [
    {
     "data": {
      "text/html": [
       "<div>\n",
       "<style scoped>\n",
       "    .dataframe tbody tr th:only-of-type {\n",
       "        vertical-align: middle;\n",
       "    }\n",
       "\n",
       "    .dataframe tbody tr th {\n",
       "        vertical-align: top;\n",
       "    }\n",
       "\n",
       "    .dataframe thead th {\n",
       "        text-align: right;\n",
       "    }\n",
       "</style>\n",
       "<table border=\"1\" class=\"dataframe\">\n",
       "  <thead>\n",
       "    <tr style=\"text-align: right;\">\n",
       "      <th></th>\n",
       "      <th>Model Names</th>\n",
       "      <th>Train AUC</th>\n",
       "      <th>Train Threshold</th>\n",
       "      <th>Train Accuracy</th>\n",
       "      <th>Train Sensitivity</th>\n",
       "      <th>Train Specificity</th>\n",
       "      <th>Val AUC</th>\n",
       "      <th>Val Threshold</th>\n",
       "      <th>Val Accuracy</th>\n",
       "      <th>Val Sensitivity</th>\n",
       "      <th>Val Specificity</th>\n",
       "      <th>Train AUC - Val AUC</th>\n",
       "    </tr>\n",
       "  </thead>\n",
       "  <tbody>\n",
       "    <tr>\n",
       "      <th>6</th>\n",
       "      <td>RandomForestClassifier</td>\n",
       "      <td>0.842598</td>\n",
       "      <td>0.518707</td>\n",
       "      <td>0.764723</td>\n",
       "      <td>0.747761</td>\n",
       "      <td>0.764934</td>\n",
       "      <td>0.687198</td>\n",
       "      <td>0.436035</td>\n",
       "      <td>0.539334</td>\n",
       "      <td>0.761092</td>\n",
       "      <td>0.536376</td>\n",
       "      <td>0.155400</td>\n",
       "    </tr>\n",
       "    <tr>\n",
       "      <th>7</th>\n",
       "      <td>BaggingClassifier</td>\n",
       "      <td>0.833062</td>\n",
       "      <td>0.489170</td>\n",
       "      <td>0.732283</td>\n",
       "      <td>0.783795</td>\n",
       "      <td>0.731643</td>\n",
       "      <td>0.684273</td>\n",
       "      <td>0.447936</td>\n",
       "      <td>0.661515</td>\n",
       "      <td>0.612628</td>\n",
       "      <td>0.662167</td>\n",
       "      <td>0.148789</td>\n",
       "    </tr>\n",
       "    <tr>\n",
       "      <th>9</th>\n",
       "      <td>MLPClassifier</td>\n",
       "      <td>0.918669</td>\n",
       "      <td>0.011179</td>\n",
       "      <td>0.818075</td>\n",
       "      <td>0.846702</td>\n",
       "      <td>0.817720</td>\n",
       "      <td>0.629307</td>\n",
       "      <td>0.001981</td>\n",
       "      <td>0.527383</td>\n",
       "      <td>0.679181</td>\n",
       "      <td>0.525359</td>\n",
       "      <td>0.289362</td>\n",
       "    </tr>\n",
       "    <tr>\n",
       "      <th>12</th>\n",
       "      <td>AdaBoostClassifier</td>\n",
       "      <td>1.000000</td>\n",
       "      <td>0.530496</td>\n",
       "      <td>0.999998</td>\n",
       "      <td>0.999796</td>\n",
       "      <td>1.000000</td>\n",
       "      <td>0.502564</td>\n",
       "      <td>0.037437</td>\n",
       "      <td>0.373753</td>\n",
       "      <td>0.646758</td>\n",
       "      <td>0.370112</td>\n",
       "      <td>0.497436</td>\n",
       "    </tr>\n",
       "  </tbody>\n",
       "</table>\n",
       "</div>"
      ],
      "text/plain": [
       "               Model Names  Train AUC  Train Threshold  Train Accuracy  \\\n",
       "6   RandomForestClassifier   0.842598         0.518707        0.764723   \n",
       "7        BaggingClassifier   0.833062         0.489170        0.732283   \n",
       "9            MLPClassifier   0.918669         0.011179        0.818075   \n",
       "12      AdaBoostClassifier   1.000000         0.530496        0.999998   \n",
       "\n",
       "    Train Sensitivity  Train Specificity   Val AUC  Val Threshold  \\\n",
       "6            0.747761           0.764934  0.687198       0.436035   \n",
       "7            0.783795           0.731643  0.684273       0.447936   \n",
       "9            0.846702           0.817720  0.629307       0.001981   \n",
       "12           0.999796           1.000000  0.502564       0.037437   \n",
       "\n",
       "    Val Accuracy  Val Sensitivity  Val Specificity  Train AUC - Val AUC  \n",
       "6       0.539334         0.761092         0.536376             0.155400  \n",
       "7       0.661515         0.612628         0.662167             0.148789  \n",
       "9       0.527383         0.679181         0.525359             0.289362  \n",
       "12      0.373753         0.646758         0.370112             0.497436  "
      ]
     },
     "execution_count": 317,
     "metadata": {},
     "output_type": "execute_result"
    }
   ],
   "source": [
    "df_model_stats[df_model_stats['Train AUC - Val AUC'] > 0.05]"
   ]
  },
  {
   "cell_type": "code",
   "execution_count": 327,
   "id": "4fecd591-7e53-4d7a-825b-a03b2a07d198",
   "metadata": {},
   "outputs": [],
   "source": [
    "models = [ RandomForestClassifier(class_weight='balanced',max_depth=5, random_state=42, n_jobs=-1),\n",
    "AdaBoostClassifier(DecisionTreeClassifier(class_weight='balanced',max_depth=1,random_state=42)),\n",
    "BaggingClassifier(DecisionTreeClassifier(class_weight='balanced',max_depth=5,random_state=42),n_jobs=-1,random_state=42),\n",
    "MLPClassifier(random_state=42,alpha=0.1)]"
   ]
  },
  {
   "cell_type": "code",
   "execution_count": 328,
   "id": "f95b7721-2b35-4c90-8c30-a5dd3856e45f",
   "metadata": {},
   "outputs": [],
   "source": [
    "model_names = ['RandomForestClassifier',\n",
    "               'AdaBoostClassifier',\n",
    "               'BaggingClassifier',\n",
    "               'MLPClassifier',\n",
    "]"
   ]
  },
  {
   "cell_type": "code",
   "execution_count": 329,
   "id": "d679a29a-f9c3-4566-b7e2-67d4c2af3291",
   "metadata": {},
   "outputs": [
    {
     "name": "stdout",
     "output_type": "stream",
     "text": [
      "Training RandomForestClassifier\n",
      "Training took 5.028035879135132\n",
      "Training AdaBoostClassifier\n",
      "Training took 50.71330285072327\n",
      "Training BaggingClassifier\n",
      "Training took 7.018242835998535\n",
      "Training MLPClassifier\n",
      "Training took 70.10692048072815\n"
     ]
    }
   ],
   "source": [
    "for model, model_name in zip(models, model_names):\n",
    "    print('Training',model_name)\n",
    "    t0 = time.time()\n",
    "    model.fit(X_train_1b,y_train)\n",
    "    print('Training took',time.time()-t0)\n",
    "    dump(model,'../glaucoma_project/Models/'+model_name+'_clinical_1b_model_v2.joblib')"
   ]
  },
  {
   "cell_type": "code",
   "execution_count": 330,
   "id": "b7f76ac9-8e9f-450d-84a5-990f624e0c6f",
   "metadata": {},
   "outputs": [
    {
     "name": "stdout",
     "output_type": "stream",
     "text": [
      "RandomForestClassifier\n",
      "Training:\n",
      "AUC 0.7116098256011056\n",
      "Youden's J threshold 0.5070441404444831\n",
      "Accuracy 0.5740122752675075\n",
      "Sensitivity 0.7463355048859935\n",
      "Specificity 0.5718733179862078\n",
      "Validation:\n",
      "AUC 0.6993571451323817\n",
      "Youden's J threshold 0.4968976434809643\n",
      "Accuracy 0.5357848863330039\n",
      "Sensitivity 0.7679180887372014\n",
      "Specificity 0.5326883678579558\n",
      "==========\n",
      "AdaBoostClassifier\n",
      "Training:\n",
      "AUC 0.7131828476467212\n",
      "Youden's J threshold 0.4995672125601444\n",
      "Accuracy 0.5672132047733269\n",
      "Sensitivity 0.7497964169381107\n",
      "Specificity 0.5649468957448368\n",
      "Validation:\n",
      "AUC 0.7055707420042279\n",
      "Youden's J threshold 0.49890898725813754\n",
      "Accuracy 0.5152529427621529\n",
      "Sensitivity 0.8088737201365188\n",
      "Specificity 0.5113362167083997\n",
      "==========\n",
      "BaggingClassifier\n",
      "Training:\n",
      "AUC 0.7205130115880793\n",
      "Youden's J threshold 0.4997281273510715\n",
      "Accuracy 0.579373656846619\n",
      "Sensitivity 0.7514250814332247\n",
      "Specificity 0.5772380733376966\n",
      "Validation:\n",
      "AUC 0.7033803001828071\n",
      "Youden's J threshold 0.5060793731917362\n",
      "Accuracy 0.5947973762242789\n",
      "Sensitivity 0.7184300341296929\n",
      "Specificity 0.5931481903027543\n",
      "==========\n",
      "MLPClassifier\n",
      "Training:\n",
      "AUC 0.7086167277022986\n",
      "Youden's J threshold 0.012483329999231923\n",
      "Accuracy 0.5759566496856303\n",
      "Sensitivity 0.7408387622149837\n",
      "Specificity 0.5739100550626562\n",
      "Validation:\n",
      "AUC 0.7122963619596487\n",
      "Youden's J threshold 0.013102327021630007\n",
      "Accuracy 0.5939886782280528\n",
      "Sensitivity 0.7320819112627986\n",
      "Specificity 0.5921465968586388\n",
      "==========\n"
     ]
    }
   ],
   "source": [
    "train_stats = {}\n",
    "val_stats = {}\n",
    "for model, model_name in zip(models, model_names):\n",
    "    print(model_name)\n",
    "    if model_name != 'KNeighborsClassifier':\n",
    "        print('Training:')\n",
    "        try:\n",
    "            y_train_pred_proba = model.predict_proba(X_train_1b)\n",
    "        except:\n",
    "            y_train_pred_proba = model._predict_proba_lr(X_train_1b)\n",
    "        train_stats[model_name] = evaluate_model(y_train,y_train_pred_proba)\n",
    "    print('Validation:')\n",
    "    try:\n",
    "        y_val_pred_proba = model.predict_proba(X_val_1b)\n",
    "    except:\n",
    "        y_val_pred_proba = model._predict_proba_lr(X_val_1b)\n",
    "    val_stats[model_name] = evaluate_model(y_val,y_val_pred_proba)\n",
    "    print('==========')"
   ]
  },
  {
   "cell_type": "code",
   "execution_count": 331,
   "id": "0bb4cc4d-d1fb-474c-bd8f-818529ccf06c",
   "metadata": {},
   "outputs": [],
   "source": [
    "df_model_stats = pd.DataFrame()\n",
    "df_model_stats['Model Names'] = model_names\n",
    "df_model_stats['Train AUC'] = df_model_stats['Model Names'].apply(lambda x: train_stats[x][0] if x in train_stats.keys() else np.nan)\n",
    "df_model_stats['Train Threshold'] = df_model_stats['Model Names'].apply(lambda x: train_stats[x][1] if x in train_stats.keys() else np.nan)\n",
    "df_model_stats['Train Accuracy'] = df_model_stats['Model Names'].apply(lambda x: train_stats[x][2] if x in train_stats.keys() else np.nan)\n",
    "df_model_stats['Train Sensitivity'] = df_model_stats['Model Names'].apply(lambda x: train_stats[x][3] if x in train_stats.keys() else np.nan)\n",
    "df_model_stats['Train Specificity'] = df_model_stats['Model Names'].apply(lambda x: train_stats[x][4] if x in train_stats.keys() else np.nan)\n",
    "df_model_stats['Val AUC'] = df_model_stats['Model Names'].apply(lambda x: val_stats[x][0] if x in val_stats.keys() else np.nan)\n",
    "df_model_stats['Val Threshold'] = df_model_stats['Model Names'].apply(lambda x: val_stats[x][1] if x in val_stats.keys() else np.nan)\n",
    "df_model_stats['Val Accuracy'] = df_model_stats['Model Names'].apply(lambda x: val_stats[x][2] if x in val_stats.keys() else np.nan)\n",
    "df_model_stats['Val Sensitivity'] = df_model_stats['Model Names'].apply(lambda x: val_stats[x][3] if x in val_stats.keys() else np.nan)\n",
    "df_model_stats['Val Specificity'] = df_model_stats['Model Names'].apply(lambda x: val_stats[x][4] if x in val_stats.keys() else np.nan)"
   ]
  },
  {
   "cell_type": "code",
   "execution_count": 333,
   "id": "0ae6950e-199f-46c2-b66b-b1065a596705",
   "metadata": {},
   "outputs": [],
   "source": [
    "df_model_stats.sort_values('Val AUC', ascending=False).to_csv('../glaucoma_project/UKBB_Data/processed_data/initial_model_selection_clinical_data_1b_supplemental.csv', index=False)"
   ]
  },
  {
   "cell_type": "markdown",
   "id": "3bb65775-a765-4c8e-870c-0ad106c5e7ba",
   "metadata": {},
   "source": [
    "Best model was GradientBoostingClassifier..."
   ]
  },
  {
   "cell_type": "markdown",
   "id": "443453c5-e626-4170-a8eb-4540922de129",
   "metadata": {
    "tags": []
   },
   "source": [
    "# Model 2"
   ]
  },
  {
   "cell_type": "code",
   "execution_count": 265,
   "id": "843ba6f4-7f38-4379-af93-32c51930f265",
   "metadata": {},
   "outputs": [],
   "source": [
    "models = [LogisticRegression(class_weight='balanced',n_jobs=-1, max_iter=300),\n",
    "SGDClassifier(class_weight='balanced',n_jobs=-1, random_state=42,loss='modified_huber'),\n",
    "RandomForestClassifier(class_weight='balanced',max_depth=10, random_state=42, n_jobs=-1),\n",
    "AdaBoostClassifier(DecisionTreeClassifier(class_weight='balanced',max_depth=10,random_state=42)),\n",
    "GradientBoostingClassifier(random_state=42),\n",
    "BaggingClassifier(DecisionTreeClassifier(class_weight='balanced',max_depth=10,random_state=42),n_jobs=-1,random_state=42),\n",
    "LinearSVC(class_weight='balanced',random_state=42),\n",
    "MLPClassifier(random_state=42),\n",
    "KNeighborsClassifier(n_jobs=-1),\n",
    "LinearDiscriminantAnalysis(),\n",
    "QuadraticDiscriminantAnalysis()]"
   ]
  },
  {
   "cell_type": "code",
   "execution_count": 266,
   "id": "2b6ef916-3556-4557-a222-9269d552ea09",
   "metadata": {},
   "outputs": [],
   "source": [
    "model_names = ['LogisticRegression',\n",
    "               'SGDClassifier',\n",
    "               'RandomForestClassifier',\n",
    "               'AdaBoostClassifier',\n",
    "               'GradientBoostingClassifier',\n",
    "               'BaggingClassifier',\n",
    "               'LinearSVC',\n",
    "               'MLPClassifier',\n",
    "               'KNeighborsClassifier',\n",
    "               'LinearDiscriminantAnalysis',\n",
    "               'QuadraticDiscriminantAnalysis'\n",
    "]"
   ]
  },
  {
   "cell_type": "code",
   "execution_count": 267,
   "id": "1f965f10-4aa2-427e-8cfa-b5b44525d25a",
   "metadata": {},
   "outputs": [],
   "source": [
    "X_train_2 = X_train[[col for col in classification_dict.keys() if classification_dict[col][1] in ['1a','1b','2']]]\n",
    "X_val_2 = X_val[[col for col in classification_dict.keys() if classification_dict[col][1] in ['1a','1b','2']]]"
   ]
  },
  {
   "cell_type": "code",
   "execution_count": 272,
   "id": "301c2da5-88bd-4dfe-8a2c-efb3841c3b52",
   "metadata": {},
   "outputs": [
    {
     "name": "stdout",
     "output_type": "stream",
     "text": [
      "Training LogisticRegression\n"
     ]
    },
    {
     "name": "stderr",
     "output_type": "stream",
     "text": [
      "/home/cmay091/miniforge3/lib/python3.9/site-packages/sklearn/linear_model/_logistic.py:814: ConvergenceWarning: lbfgs failed to converge (status=1):\n",
      "STOP: TOTAL NO. of ITERATIONS REACHED LIMIT.\n",
      "\n",
      "Increase the number of iterations (max_iter) or scale the data as shown in:\n",
      "    https://scikit-learn.org/stable/modules/preprocessing.html\n",
      "Please also refer to the documentation for alternative solver options:\n",
      "    https://scikit-learn.org/stable/modules/linear_model.html#logistic-regression\n",
      "  n_iter_i = _check_optimize_result(\n"
     ]
    },
    {
     "name": "stdout",
     "output_type": "stream",
     "text": [
      "Training took 259.79570508003235\n",
      "Training SGDClassifier\n",
      "Training took 13.874680519104004\n",
      "Training RandomForestClassifier\n",
      "Training took 9.305098295211792\n",
      "Training AdaBoostClassifier\n",
      "Training took 430.17840456962585\n",
      "Training GradientBoostingClassifier\n",
      "Training took 227.20680451393127\n",
      "Training BaggingClassifier\n",
      "Training took 15.560014486312866\n",
      "Training LinearSVC\n",
      "Training took 233.28614401817322\n",
      "Training MLPClassifier\n",
      "Training took 362.91291403770447\n",
      "Training KNeighborsClassifier\n",
      "Training took 0.04902935028076172\n",
      "Training LinearDiscriminantAnalysis\n",
      "Training took 8.932491540908813\n",
      "Training QuadraticDiscriminantAnalysis\n",
      "Training took 4.735562086105347\n"
     ]
    }
   ],
   "source": [
    "for model, model_name in zip(models, model_names):\n",
    "    print('Training',model_name)\n",
    "    t0 = time.time()\n",
    "    model.fit(X_train_2,y_train)\n",
    "    print('Training took',time.time()-t0)\n",
    "    dump(model,'../glaucoma_project/Models/'+model_name+'_clinical_2_model.joblib')"
   ]
  },
  {
   "cell_type": "code",
   "execution_count": 273,
   "id": "7f559576-856b-4ae8-be72-a991047ac880",
   "metadata": {},
   "outputs": [],
   "source": [
    "param = {'max_depth':3, 'eta':1, 'objective':'binary:logistic' }\n",
    "num_round = 20"
   ]
  },
  {
   "cell_type": "code",
   "execution_count": 274,
   "id": "725883d6-218a-4e7b-82df-179737f6b2bc",
   "metadata": {},
   "outputs": [],
   "source": [
    "dtrain = xgb.DMatrix(X_train_2, label=y_train)\n",
    "dval = xgb.DMatrix(X_val_2, label=y_val)"
   ]
  },
  {
   "cell_type": "code",
   "execution_count": 275,
   "id": "423da844-d5ef-4ae4-bdca-773ca42aef33",
   "metadata": {},
   "outputs": [],
   "source": [
    "bst = xgb.train(param, dtrain, num_round)"
   ]
  },
  {
   "cell_type": "code",
   "execution_count": 276,
   "id": "303a1126-dd9f-4c06-826a-a2c2eab67f77",
   "metadata": {},
   "outputs": [
    {
     "data": {
      "text/plain": [
       "['../glaucoma_project/Models/XGB_clinical_2_model.joblib']"
      ]
     },
     "execution_count": 276,
     "metadata": {},
     "output_type": "execute_result"
    }
   ],
   "source": [
    "dump(bst,'../glaucoma_project/Models/XGB_clinical_2_model.joblib')"
   ]
  },
  {
   "cell_type": "code",
   "execution_count": 277,
   "id": "34189d8d-2445-4bc9-9101-2c400e78823f",
   "metadata": {},
   "outputs": [],
   "source": [
    "y_pred = bst.predict(dtrain)"
   ]
  },
  {
   "cell_type": "code",
   "execution_count": 278,
   "id": "22ec4b37-4d04-454c-ac31-a37e9238c90a",
   "metadata": {},
   "outputs": [
    {
     "name": "stdout",
     "output_type": "stream",
     "text": [
      "AUC 0.7595164716590088\n",
      "Youden's J threshold 0.0111725405\n",
      "Accuracy 0.6041762866192596\n",
      "Sensitivity 0.7785016286644951\n",
      "Specificity 0.6020124781733046\n"
     ]
    }
   ],
   "source": [
    "xgb_train_stats = evaluate_model(y_train, y_pred)"
   ]
  },
  {
   "cell_type": "code",
   "execution_count": 279,
   "id": "c91eaef9-4e81-4e0d-9b89-124c6bf8bd4a",
   "metadata": {},
   "outputs": [],
   "source": [
    "y_pred = bst.predict(dval)"
   ]
  },
  {
   "cell_type": "code",
   "execution_count": 280,
   "id": "fbaa4a16-2e8a-4211-9d96-1e1b46fe3aab",
   "metadata": {},
   "outputs": [
    {
     "name": "stdout",
     "output_type": "stream",
     "text": [
      "AUC 0.7271068267931685\n",
      "Youden's J threshold 0.0094262175\n",
      "Accuracy 0.5411088148081589\n",
      "Sensitivity 0.8020477815699659\n",
      "Specificity 0.5376280446164352\n"
     ]
    }
   ],
   "source": [
    "xgb_val_stats = evaluate_model(y_val, y_pred)"
   ]
  },
  {
   "cell_type": "code",
   "execution_count": 281,
   "id": "c99c1d4a-b14e-416f-a993-e3bf08b22807",
   "metadata": {},
   "outputs": [
    {
     "name": "stdout",
     "output_type": "stream",
     "text": [
      "LogisticRegression\n",
      "Training:\n",
      "AUC 0.7331040391156046\n",
      "Youden's J threshold 0.4771157881321405\n",
      "Accuracy 0.5958921034437142\n",
      "Sensitivity 0.755700325732899\n",
      "Specificity 0.5939084883418282\n",
      "Validation:\n",
      "AUC 0.7304280623300022\n",
      "Youden's J threshold 0.44794678911480407\n",
      "Accuracy 0.547555934944739\n",
      "Sensitivity 0.8037542662116041\n",
      "Specificity 0.5441384020031869\n",
      "==========\n",
      "SGDClassifier\n",
      "Training:\n",
      "AUC 0.6447419140220254\n",
      "Youden's J threshold 0.08969045424608396\n",
      "Accuracy 0.5637887096492389\n",
      "Sensitivity 0.6703990228013029\n",
      "Specificity 0.562465412110752\n",
      "Validation:\n",
      "AUC 0.6486540796753134\n",
      "Youden's J threshold 0.07105748237657461\n",
      "Accuracy 0.542546500134783\n",
      "Sensitivity 0.7167235494880546\n",
      "Specificity 0.5402230821761894\n",
      "==========\n",
      "RandomForestClassifier\n",
      "Training:\n",
      "AUC 0.8299613056522446\n",
      "Youden's J threshold 0.5355903535949916\n",
      "Accuracy 0.7535336945859531\n",
      "Sensitivity 0.7253664495114006\n",
      "Specificity 0.7538833197298165\n",
      "Validation:\n",
      "AUC 0.7106156319120787\n",
      "Youden's J threshold 0.4331557101493894\n",
      "Accuracy 0.5590349537245035\n",
      "Sensitivity 0.7713310580204779\n",
      "Specificity 0.5562030503073071\n",
      "==========\n",
      "AdaBoostClassifier\n",
      "Training:\n",
      "AUC 1.0\n",
      "Youden's J threshold 0.5279378119252655\n",
      "Accuracy 0.9999975040123003\n",
      "Sensitivity 0.9997964169381107\n",
      "Specificity 1.0\n",
      "Validation:\n",
      "AUC 0.5312978528515346\n",
      "Youden's J threshold 0.04646195956583312\n",
      "Accuracy 0.36975469494114477\n",
      "Sensitivity 0.6877133105802048\n",
      "Specificity 0.3655133166401093\n",
      "==========\n",
      "GradientBoostingClassifier\n",
      "Training:\n",
      "AUC 0.753628262019728\n",
      "Youden's J threshold 0.01197475742705799\n",
      "Accuracy 0.6189450458388142\n",
      "Sensitivity 0.7567182410423453\n",
      "Specificity 0.6172349398960405\n",
      "Validation:\n",
      "AUC 0.7382208858492685\n",
      "Youden's J threshold 0.011013524949604139\n",
      "Accuracy 0.579319795129841\n",
      "Sensitivity 0.78839590443686\n",
      "Specificity 0.5765308445253813\n",
      "==========\n",
      "BaggingClassifier\n",
      "Training:\n",
      "AUC 0.8138529552948631\n",
      "Youden's J threshold 0.4372538433359262\n",
      "Accuracy 0.6244536906922122\n",
      "Sensitivity 0.8625814332247557\n",
      "Specificity 0.6214979367297483\n",
      "Validation:\n",
      "AUC 0.7038157587039263\n",
      "Youden's J threshold 0.4556685493865462\n",
      "Accuracy 0.6419040345044479\n",
      "Sensitivity 0.6774744027303754\n",
      "Specificity 0.6414295470066014\n",
      "==========\n",
      "LinearSVC\n",
      "Training:\n",
      "AUC 0.7081154093446674\n",
      "Youden's J threshold 0.3988126109810849\n",
      "Accuracy 0.6230659215311387\n",
      "Sensitivity 0.688314332247557\n",
      "Specificity 0.622256027452992\n",
      "Validation:\n",
      "AUC 0.7069646559955375\n",
      "Youden's J threshold 0.38805461662137875\n",
      "Accuracy 0.5731647048252314\n",
      "Sensitivity 0.7508532423208191\n",
      "Specificity 0.5707944457090827\n",
      "==========\n",
      "MLPClassifier\n",
      "Training:\n",
      "AUC 0.9345683151150523\n",
      "Youden's J threshold 0.016335885283056305\n",
      "Accuracy 0.8482464438415247\n",
      "Sensitivity 0.8572882736156352\n",
      "Specificity 0.8481342123816431\n",
      "Validation:\n",
      "AUC 0.5958051088102465\n",
      "Youden's J threshold 0.001472209811892299\n",
      "Accuracy 0.4982253571749483\n",
      "Sensitivity 0.6535836177474402\n",
      "Specificity 0.4961529706351013\n",
      "==========\n",
      "KNeighborsClassifier\n",
      "Validation:\n",
      "AUC 0.5271781277847398\n",
      "Youden's J threshold 0.2\n",
      "Accuracy 0.9852412615688741\n",
      "Sensitivity 0.0034129692832764505\n",
      "Specificity 0.9983382654222627\n",
      "==========\n",
      "LinearDiscriminantAnalysis\n",
      "Training:\n",
      "AUC 0.7305139652616821\n",
      "Youden's J threshold 0.010693515071088866\n",
      "Accuracy 0.6032003554286485\n",
      "Sensitivity 0.745114006514658\n",
      "Specificity 0.6014388561927168\n",
      "Validation:\n",
      "AUC 0.7283611687535786\n",
      "Youden's J threshold 0.009553286162628337\n",
      "Accuracy 0.5518015994249259\n",
      "Sensitivity 0.8122866894197952\n",
      "Specificity 0.5483268836785795\n",
      "==========\n",
      "QuadraticDiscriminantAnalysis\n",
      "Training:\n",
      "AUC 0.6966977769759156\n",
      "Youden's J threshold 0.0024291693253314767\n",
      "Accuracy 0.5947239812002206\n",
      "Sensitivity 0.7058224755700325\n",
      "Specificity 0.5933449742375503\n",
      "Validation:\n",
      "AUC 0.6485289776086529\n",
      "Youden's J threshold 0.0035112653115290152\n",
      "Accuracy 0.622495282595022\n",
      "Sensitivity 0.6092150170648464\n",
      "Specificity 0.6226724334167995\n",
      "==========\n"
     ]
    }
   ],
   "source": [
    "train_stats = {}\n",
    "val_stats = {}\n",
    "for model, model_name in zip(models, model_names):\n",
    "    print(model_name)\n",
    "    if model_name != 'KNeighborsClassifier':\n",
    "        print('Training:')\n",
    "        try:\n",
    "            y_train_pred_proba = model.predict_proba(X_train_2)\n",
    "        except:\n",
    "            y_train_pred_proba = model._predict_proba_lr(X_train_2)\n",
    "        train_stats[model_name] = evaluate_model(y_train,y_train_pred_proba)\n",
    "    print('Validation:')\n",
    "    try:\n",
    "        y_val_pred_proba = model.predict_proba(X_val_2)\n",
    "    except:\n",
    "        y_val_pred_proba = model._predict_proba_lr(X_val_2)\n",
    "    val_stats[model_name] = evaluate_model(y_val,y_val_pred_proba)\n",
    "    print('==========')"
   ]
  },
  {
   "cell_type": "code",
   "execution_count": 282,
   "id": "1769919f-11d0-43ad-a516-7055b8e76abf",
   "metadata": {},
   "outputs": [],
   "source": [
    "df_model_stats = pd.DataFrame()"
   ]
  },
  {
   "cell_type": "code",
   "execution_count": 283,
   "id": "777a90f4-c4ea-4d61-9b22-2fb056c289e6",
   "metadata": {},
   "outputs": [],
   "source": [
    "df_model_stats['Model Names'] = model_names"
   ]
  },
  {
   "cell_type": "code",
   "execution_count": 284,
   "id": "cd903735-5bcc-4397-b5d3-655f5b69c13d",
   "metadata": {},
   "outputs": [],
   "source": [
    "df_model_stats['Train AUC'] = df_model_stats['Model Names'].apply(lambda x: train_stats[x][0] if x in train_stats.keys() else np.nan)\n",
    "df_model_stats['Train Threshold'] = df_model_stats['Model Names'].apply(lambda x: train_stats[x][1] if x in train_stats.keys() else np.nan)\n",
    "df_model_stats['Train Accuracy'] = df_model_stats['Model Names'].apply(lambda x: train_stats[x][2] if x in train_stats.keys() else np.nan)\n",
    "df_model_stats['Train Sensitivity'] = df_model_stats['Model Names'].apply(lambda x: train_stats[x][3] if x in train_stats.keys() else np.nan)\n",
    "df_model_stats['Train Specificity'] = df_model_stats['Model Names'].apply(lambda x: train_stats[x][4] if x in train_stats.keys() else np.nan)"
   ]
  },
  {
   "cell_type": "code",
   "execution_count": 285,
   "id": "1f4303a9-7c5f-4490-88e6-c91542e4398e",
   "metadata": {},
   "outputs": [],
   "source": [
    "df_model_stats['Val AUC'] = df_model_stats['Model Names'].apply(lambda x: val_stats[x][0] if x in val_stats.keys() else np.nan)\n",
    "df_model_stats['Val Threshold'] = df_model_stats['Model Names'].apply(lambda x: val_stats[x][1] if x in val_stats.keys() else np.nan)\n",
    "df_model_stats['Val Accuracy'] = df_model_stats['Model Names'].apply(lambda x: val_stats[x][2] if x in val_stats.keys() else np.nan)\n",
    "df_model_stats['Val Sensitivity'] = df_model_stats['Model Names'].apply(lambda x: val_stats[x][3] if x in val_stats.keys() else np.nan)\n",
    "df_model_stats['Val Specificity'] = df_model_stats['Model Names'].apply(lambda x: val_stats[x][4] if x in val_stats.keys() else np.nan)"
   ]
  },
  {
   "cell_type": "code",
   "execution_count": 286,
   "id": "203efdf0-6755-4cf2-adb1-a4d379e4b36b",
   "metadata": {},
   "outputs": [],
   "source": [
    "df_model_stats = df_model_stats.append({stat_name: stat for stat_name, stat in zip(df_model_stats.columns, ('LogisticRegression (Age Only)',) + age_train_stats + age_val_stats)}, ignore_index=True)"
   ]
  },
  {
   "cell_type": "code",
   "execution_count": 287,
   "id": "c71451fb-bc0f-4569-957b-4b93df19b419",
   "metadata": {},
   "outputs": [],
   "source": [
    "df_model_stats = df_model_stats.append({stat_name: stat for stat_name, stat in zip(df_model_stats.columns, ('XGBoost',) + xgb_train_stats + xgb_val_stats)}, ignore_index=True)"
   ]
  },
  {
   "cell_type": "code",
   "execution_count": 288,
   "id": "f27ea58c-2194-4ff9-aaea-f7516d168d93",
   "metadata": {},
   "outputs": [],
   "source": [
    "df_model_stats.sort_values('Val AUC', ascending=False).to_csv('../glaucoma_project/UKBB_Data/processed_data/initial_model_selection_clinical_data_2.csv', index=False)"
   ]
  },
  {
   "cell_type": "markdown",
   "id": "e88cc334-0b26-46ca-b304-324207cbac8f",
   "metadata": {},
   "source": [
    "Retry models that overfit"
   ]
  },
  {
   "cell_type": "code",
   "execution_count": 349,
   "id": "d5333609-ac8f-4731-89e8-3e0961ee8721",
   "metadata": {},
   "outputs": [],
   "source": [
    "df_model_stats = pd.read_csv('../glaucoma_project/UKBB_Data/processed_data/initial_model_selection_clinical_data_2.csv')"
   ]
  },
  {
   "cell_type": "code",
   "execution_count": 350,
   "id": "f2346355-5d99-4d3d-9fa8-825273230897",
   "metadata": {},
   "outputs": [],
   "source": [
    "df_model_stats['Train AUC - Val AUC'] = df_model_stats['Train AUC'] - df_model_stats['Val AUC']"
   ]
  },
  {
   "cell_type": "code",
   "execution_count": 351,
   "id": "59f4cc9c-f5b7-4db0-a4cd-4944ae28b888",
   "metadata": {},
   "outputs": [
    {
     "data": {
      "text/html": [
       "<div>\n",
       "<style scoped>\n",
       "    .dataframe tbody tr th:only-of-type {\n",
       "        vertical-align: middle;\n",
       "    }\n",
       "\n",
       "    .dataframe tbody tr th {\n",
       "        vertical-align: top;\n",
       "    }\n",
       "\n",
       "    .dataframe thead th {\n",
       "        text-align: right;\n",
       "    }\n",
       "</style>\n",
       "<table border=\"1\" class=\"dataframe\">\n",
       "  <thead>\n",
       "    <tr style=\"text-align: right;\">\n",
       "      <th></th>\n",
       "      <th>Model Names</th>\n",
       "      <th>Train AUC</th>\n",
       "      <th>Train Threshold</th>\n",
       "      <th>Train Accuracy</th>\n",
       "      <th>Train Sensitivity</th>\n",
       "      <th>Train Specificity</th>\n",
       "      <th>Val AUC</th>\n",
       "      <th>Val Threshold</th>\n",
       "      <th>Val Accuracy</th>\n",
       "      <th>Val Sensitivity</th>\n",
       "      <th>Val Specificity</th>\n",
       "      <th>Train AUC - Val AUC</th>\n",
       "    </tr>\n",
       "  </thead>\n",
       "  <tbody>\n",
       "    <tr>\n",
       "      <th>4</th>\n",
       "      <td>RandomForestClassifier</td>\n",
       "      <td>0.829961</td>\n",
       "      <td>0.535590</td>\n",
       "      <td>0.753534</td>\n",
       "      <td>0.725366</td>\n",
       "      <td>0.753883</td>\n",
       "      <td>0.710616</td>\n",
       "      <td>0.433156</td>\n",
       "      <td>0.559035</td>\n",
       "      <td>0.771331</td>\n",
       "      <td>0.556203</td>\n",
       "      <td>0.119346</td>\n",
       "    </tr>\n",
       "    <tr>\n",
       "      <th>7</th>\n",
       "      <td>BaggingClassifier</td>\n",
       "      <td>0.813853</td>\n",
       "      <td>0.437254</td>\n",
       "      <td>0.624454</td>\n",
       "      <td>0.862581</td>\n",
       "      <td>0.621498</td>\n",
       "      <td>0.703816</td>\n",
       "      <td>0.455669</td>\n",
       "      <td>0.641904</td>\n",
       "      <td>0.677474</td>\n",
       "      <td>0.641430</td>\n",
       "      <td>0.110037</td>\n",
       "    </tr>\n",
       "    <tr>\n",
       "      <th>10</th>\n",
       "      <td>MLPClassifier</td>\n",
       "      <td>0.934568</td>\n",
       "      <td>0.016336</td>\n",
       "      <td>0.848246</td>\n",
       "      <td>0.857288</td>\n",
       "      <td>0.848134</td>\n",
       "      <td>0.595805</td>\n",
       "      <td>0.001472</td>\n",
       "      <td>0.498225</td>\n",
       "      <td>0.653584</td>\n",
       "      <td>0.496153</td>\n",
       "      <td>0.338763</td>\n",
       "    </tr>\n",
       "    <tr>\n",
       "      <th>11</th>\n",
       "      <td>AdaBoostClassifier</td>\n",
       "      <td>1.000000</td>\n",
       "      <td>0.527938</td>\n",
       "      <td>0.999998</td>\n",
       "      <td>0.999796</td>\n",
       "      <td>1.000000</td>\n",
       "      <td>0.531298</td>\n",
       "      <td>0.046462</td>\n",
       "      <td>0.369755</td>\n",
       "      <td>0.687713</td>\n",
       "      <td>0.365513</td>\n",
       "      <td>0.468702</td>\n",
       "    </tr>\n",
       "  </tbody>\n",
       "</table>\n",
       "</div>"
      ],
      "text/plain": [
       "               Model Names  Train AUC  Train Threshold  Train Accuracy  \\\n",
       "4   RandomForestClassifier   0.829961         0.535590        0.753534   \n",
       "7        BaggingClassifier   0.813853         0.437254        0.624454   \n",
       "10           MLPClassifier   0.934568         0.016336        0.848246   \n",
       "11      AdaBoostClassifier   1.000000         0.527938        0.999998   \n",
       "\n",
       "    Train Sensitivity  Train Specificity   Val AUC  Val Threshold  \\\n",
       "4            0.725366           0.753883  0.710616       0.433156   \n",
       "7            0.862581           0.621498  0.703816       0.455669   \n",
       "10           0.857288           0.848134  0.595805       0.001472   \n",
       "11           0.999796           1.000000  0.531298       0.046462   \n",
       "\n",
       "    Val Accuracy  Val Sensitivity  Val Specificity  Train AUC - Val AUC  \n",
       "4       0.559035         0.771331         0.556203             0.119346  \n",
       "7       0.641904         0.677474         0.641430             0.110037  \n",
       "10      0.498225         0.653584         0.496153             0.338763  \n",
       "11      0.369755         0.687713         0.365513             0.468702  "
      ]
     },
     "execution_count": 351,
     "metadata": {},
     "output_type": "execute_result"
    }
   ],
   "source": [
    "df_model_stats[df_model_stats['Train AUC - Val AUC'] > 0.05]"
   ]
  },
  {
   "cell_type": "code",
   "execution_count": 353,
   "id": "93af570d-9159-435a-90f4-76c71ce4814b",
   "metadata": {},
   "outputs": [],
   "source": [
    "models = [ RandomForestClassifier(class_weight='balanced',max_depth=5, random_state=42, n_jobs=-1),\n",
    "AdaBoostClassifier(DecisionTreeClassifier(class_weight='balanced',max_depth=1,random_state=42)),\n",
    "BaggingClassifier(DecisionTreeClassifier(class_weight='balanced',max_depth=5,random_state=42),n_jobs=-1,random_state=42),\n",
    "MLPClassifier(random_state=42,alpha=0.1)]"
   ]
  },
  {
   "cell_type": "code",
   "execution_count": 354,
   "id": "1bce44c8-a430-4627-9ff4-01f924cf019e",
   "metadata": {},
   "outputs": [],
   "source": [
    "model_names = ['RandomForestClassifier',\n",
    "               'AdaBoostClassifier',\n",
    "               'BaggingClassifier',\n",
    "               'MLPClassifier',\n",
    "]"
   ]
  },
  {
   "cell_type": "code",
   "execution_count": 355,
   "id": "7837b0d6-76dd-440a-ab57-98b096f8960e",
   "metadata": {},
   "outputs": [
    {
     "name": "stdout",
     "output_type": "stream",
     "text": [
      "Training RandomForestClassifier\n",
      "Training took 4.929687261581421\n",
      "Training AdaBoostClassifier\n",
      "Training took 53.6724808216095\n",
      "Training BaggingClassifier\n",
      "Training took 8.538477182388306\n",
      "Training MLPClassifier\n",
      "Training took 86.29969811439514\n"
     ]
    }
   ],
   "source": [
    "for model, model_name in zip(models, model_names):\n",
    "    print('Training',model_name)\n",
    "    t0 = time.time()\n",
    "    model.fit(X_train_2,y_train)\n",
    "    print('Training took',time.time()-t0)\n",
    "    dump(model,'../glaucoma_project/Models/'+model_name+'_clinical_2_model_v2.joblib')"
   ]
  },
  {
   "cell_type": "code",
   "execution_count": 356,
   "id": "3695f2b2-80ae-4cc1-8c20-6d75a340d365",
   "metadata": {},
   "outputs": [
    {
     "name": "stdout",
     "output_type": "stream",
     "text": [
      "RandomForestClassifier\n",
      "Training:\n",
      "AUC 0.735786956190184\n",
      "Youden's J threshold 0.48788904875515626\n",
      "Accuracy 0.5515933137481498\n",
      "Sensitivity 0.8102605863192183\n",
      "Specificity 0.5483826134419593\n",
      "Validation:\n",
      "AUC 0.7208655718957168\n",
      "Youden's J threshold 0.49730857815933743\n",
      "Accuracy 0.5678407763500763\n",
      "Sensitivity 0.7764505119453925\n",
      "Specificity 0.5650580468927839\n",
      "==========\n",
      "AdaBoostClassifier\n",
      "Training:\n",
      "AUC 0.7376436534076873\n",
      "Youden's J threshold 0.4998510520764763\n",
      "Accuracy 0.6054018165798479\n",
      "Sensitivity 0.7471498371335505\n",
      "Specificity 0.6036423732282789\n",
      "Validation:\n",
      "AUC 0.7294398123294195\n",
      "Youden's J threshold 0.49842589610832866\n",
      "Accuracy 0.5235870248899273\n",
      "Sensitivity 0.8191126279863481\n",
      "Specificity 0.5196448895970863\n",
      "==========\n",
      "BaggingClassifier\n",
      "Training:\n",
      "AUC 0.7352709914950863\n",
      "Youden's J threshold 0.5127882434402917\n",
      "Accuracy 0.6254121499689249\n",
      "Sensitivity 0.7294381107491856\n",
      "Specificity 0.6241209306321719\n",
      "Validation:\n",
      "AUC 0.7147220523808822\n",
      "Youden's J threshold 0.5066456389152408\n",
      "Accuracy 0.5983466618743822\n",
      "Sensitivity 0.7286689419795221\n",
      "Specificity 0.5966082403824265\n",
      "==========\n",
      "MLPClassifier\n",
      "Training:\n",
      "AUC 0.7316802237391592\n",
      "Youden's J threshold 0.010575315284780668\n",
      "Accuracy 0.5910124474906587\n",
      "Sensitivity 0.7579397394136808\n",
      "Specificity 0.5889404671355036\n",
      "Validation:\n",
      "AUC 0.7305644490264919\n",
      "Youden's J threshold 0.012925984784295474\n",
      "Accuracy 0.6643903315661784\n",
      "Sensitivity 0.6757679180887372\n",
      "Specificity 0.6642385613475984\n",
      "==========\n"
     ]
    }
   ],
   "source": [
    "train_stats = {}\n",
    "val_stats = {}\n",
    "for model, model_name in zip(models, model_names):\n",
    "    print(model_name)\n",
    "    if model_name != 'KNeighborsClassifier':\n",
    "        print('Training:')\n",
    "        try:\n",
    "            y_train_pred_proba = model.predict_proba(X_train_2)\n",
    "        except:\n",
    "            y_train_pred_proba = model._predict_proba_lr(X_train_2)\n",
    "        train_stats[model_name] = evaluate_model(y_train,y_train_pred_proba)\n",
    "    print('Validation:')\n",
    "    try:\n",
    "        y_val_pred_proba = model.predict_proba(X_val_2)\n",
    "    except:\n",
    "        y_val_pred_proba = model._predict_proba_lr(X_val_2)\n",
    "    val_stats[model_name] = evaluate_model(y_val,y_val_pred_proba)\n",
    "    print('==========')"
   ]
  },
  {
   "cell_type": "code",
   "execution_count": 357,
   "id": "1b37f403-56de-4412-9365-3ee2f5fd261b",
   "metadata": {},
   "outputs": [],
   "source": [
    "df_model_stats = pd.DataFrame()\n",
    "df_model_stats['Model Names'] = model_names\n",
    "df_model_stats['Train AUC'] = df_model_stats['Model Names'].apply(lambda x: train_stats[x][0] if x in train_stats.keys() else np.nan)\n",
    "df_model_stats['Train Threshold'] = df_model_stats['Model Names'].apply(lambda x: train_stats[x][1] if x in train_stats.keys() else np.nan)\n",
    "df_model_stats['Train Accuracy'] = df_model_stats['Model Names'].apply(lambda x: train_stats[x][2] if x in train_stats.keys() else np.nan)\n",
    "df_model_stats['Train Sensitivity'] = df_model_stats['Model Names'].apply(lambda x: train_stats[x][3] if x in train_stats.keys() else np.nan)\n",
    "df_model_stats['Train Specificity'] = df_model_stats['Model Names'].apply(lambda x: train_stats[x][4] if x in train_stats.keys() else np.nan)\n",
    "df_model_stats['Val AUC'] = df_model_stats['Model Names'].apply(lambda x: val_stats[x][0] if x in val_stats.keys() else np.nan)\n",
    "df_model_stats['Val Threshold'] = df_model_stats['Model Names'].apply(lambda x: val_stats[x][1] if x in val_stats.keys() else np.nan)\n",
    "df_model_stats['Val Accuracy'] = df_model_stats['Model Names'].apply(lambda x: val_stats[x][2] if x in val_stats.keys() else np.nan)\n",
    "df_model_stats['Val Sensitivity'] = df_model_stats['Model Names'].apply(lambda x: val_stats[x][3] if x in val_stats.keys() else np.nan)\n",
    "df_model_stats['Val Specificity'] = df_model_stats['Model Names'].apply(lambda x: val_stats[x][4] if x in val_stats.keys() else np.nan)"
   ]
  },
  {
   "cell_type": "code",
   "execution_count": 358,
   "id": "efc02ecf-4b33-4fd1-94cf-f339d02946e6",
   "metadata": {},
   "outputs": [],
   "source": [
    "df_model_stats.sort_values('Val AUC', ascending=False).to_csv('../glaucoma_project/UKBB_Data/processed_data/initial_model_selection_clinical_data_2_supplemental.csv', index=False)"
   ]
  },
  {
   "cell_type": "markdown",
   "id": "00b8ac0a-12e5-4578-863f-78eec535239c",
   "metadata": {},
   "source": [
    "Best model was GradientBoostingClassifier again..."
   ]
  },
  {
   "cell_type": "markdown",
   "id": "72d7e406-239b-46d4-9a7a-f04d8453b7c8",
   "metadata": {
    "tags": []
   },
   "source": [
    "# Model 3"
   ]
  },
  {
   "cell_type": "markdown",
   "id": "b8171c41-828a-4b9d-92ed-dde8da4a08ae",
   "metadata": {
    "tags": []
   },
   "source": [
    "## Pipeline to try the other models"
   ]
  },
  {
   "cell_type": "code",
   "execution_count": 65,
   "id": "72a20a08-d33d-45fe-9917-000211213619",
   "metadata": {},
   "outputs": [],
   "source": [
    "models = [LogisticRegression(class_weight='balanced',n_jobs=-1, max_iter=300),\n",
    "SGDClassifier(class_weight='balanced',n_jobs=-1, random_state=42,loss='modified_huber'),\n",
    "RandomForestClassifier(class_weight='balanced',max_depth=10, random_state=42, n_jobs=-1),\n",
    "AdaBoostClassifier(DecisionTreeClassifier(class_weight='balanced',max_depth=10,random_state=42)),\n",
    "GradientBoostingClassifier(random_state=42),\n",
    "BaggingClassifier(DecisionTreeClassifier(class_weight='balanced',max_depth=10,random_state=42),n_jobs=-1,random_state=42),\n",
    "LinearSVC(class_weight='balanced',random_state=42),\n",
    "MLPClassifier(random_state=42),\n",
    "KNeighborsClassifier(n_jobs=-1),\n",
    "LinearDiscriminantAnalysis(),\n",
    "QuadraticDiscriminantAnalysis()]"
   ]
  },
  {
   "cell_type": "code",
   "execution_count": 66,
   "id": "95734c83-fbd6-468e-b0c5-b2c67d808563",
   "metadata": {},
   "outputs": [],
   "source": [
    "model_names = ['LogisticRegression',\n",
    "               'SGDClassifier',\n",
    "               'RandomForestClassifier',\n",
    "               'AdaBoostClassifier',\n",
    "               'GradientBoostingClassifier',\n",
    "               'BaggingClassifier',\n",
    "               'LinearSVC',\n",
    "               'MLPClassifier',\n",
    "               'KNeighborsClassifier',\n",
    "               'LinearDiscriminantAnalysis',\n",
    "               'QuadraticDiscriminantAnalysis'\n",
    "]"
   ]
  },
  {
   "cell_type": "code",
   "execution_count": 67,
   "id": "a61f1abf-7bb8-4e00-9196-966ee155ae50",
   "metadata": {},
   "outputs": [
    {
     "name": "stdout",
     "output_type": "stream",
     "text": [
      "Training LogisticRegression\n"
     ]
    },
    {
     "name": "stderr",
     "output_type": "stream",
     "text": [
      "/home/cmay091/miniforge3/lib/python3.9/site-packages/sklearn/linear_model/_logistic.py:814: ConvergenceWarning: lbfgs failed to converge (status=1):\n",
      "STOP: TOTAL NO. of ITERATIONS REACHED LIMIT.\n",
      "\n",
      "Increase the number of iterations (max_iter) or scale the data as shown in:\n",
      "    https://scikit-learn.org/stable/modules/preprocessing.html\n",
      "Please also refer to the documentation for alternative solver options:\n",
      "    https://scikit-learn.org/stable/modules/linear_model.html#logistic-regression\n",
      "  n_iter_i = _check_optimize_result(\n"
     ]
    },
    {
     "name": "stdout",
     "output_type": "stream",
     "text": [
      "Training took 582.5166902542114\n",
      "Training SGDClassifier\n",
      "Training took 21.71672797203064\n",
      "Training RandomForestClassifier\n",
      "Training took 13.527515411376953\n",
      "Training AdaBoostClassifier\n",
      "Training took 842.5735867023468\n",
      "Training GradientBoostingClassifier\n",
      "Training took 410.1408112049103\n",
      "Training BaggingClassifier\n",
      "Training took 31.87856674194336\n",
      "Training LinearSVC\n",
      "Training took 300.7420377731323\n",
      "Training MLPClassifier\n",
      "Training took 813.8047106266022\n",
      "Training KNeighborsClassifier\n",
      "Training took 0.07845449447631836\n",
      "Training LinearDiscriminantAnalysis\n",
      "Training took 19.8011736869812\n",
      "Training QuadraticDiscriminantAnalysis\n",
      "Training took 10.482309579849243\n"
     ]
    }
   ],
   "source": [
    "for model, model_name in zip(models, model_names):\n",
    "    print('Training',model_name)\n",
    "    t0 = time.time()\n",
    "    model.fit(X_train,y_train)\n",
    "    print('Training took',time.time()-t0)\n",
    "    dump(model,'../glaucoma_project/Models/'+model_name+'_clinical_initial_model.joblib')"
   ]
  },
  {
   "cell_type": "markdown",
   "id": "b3745f4a-ca8a-4f21-856a-2593e463718d",
   "metadata": {
    "tags": []
   },
   "source": [
    "## Training and testing XGBoost"
   ]
  },
  {
   "cell_type": "code",
   "execution_count": 69,
   "id": "3eb13ea6-e7eb-4544-931a-a0f0dedaca99",
   "metadata": {},
   "outputs": [],
   "source": [
    "param = {'max_depth':3, 'eta':1, 'objective':'binary:logistic' }\n",
    "num_round = 20"
   ]
  },
  {
   "cell_type": "code",
   "execution_count": 70,
   "id": "bfc8fb04-e1a8-4af7-a22b-5b1967338dae",
   "metadata": {},
   "outputs": [],
   "source": [
    "dtrain = xgb.DMatrix(X_train, label=y_train)\n",
    "dval = xgb.DMatrix(X_val, label=y_val)"
   ]
  },
  {
   "cell_type": "code",
   "execution_count": 71,
   "id": "277dbc0a-1580-407c-a2d9-79436ee40a8b",
   "metadata": {},
   "outputs": [],
   "source": [
    "bst = xgb.train(param, dtrain, num_round)"
   ]
  },
  {
   "cell_type": "code",
   "execution_count": 72,
   "id": "5fc35f20-e854-4894-a715-5cfc3e88e095",
   "metadata": {},
   "outputs": [
    {
     "data": {
      "text/plain": [
       "['../glaucoma_project/Models/XGB_clinical_initial_model.joblib']"
      ]
     },
     "execution_count": 72,
     "metadata": {},
     "output_type": "execute_result"
    }
   ],
   "source": [
    "dump(bst,'../glaucoma_project/Models/XGB_clinical_initial_model.joblib')"
   ]
  },
  {
   "cell_type": "code",
   "execution_count": 119,
   "id": "c45ebf90-f333-4102-a3e1-8acf77fb86a6",
   "metadata": {},
   "outputs": [],
   "source": [
    "y_pred = bst.predict(dtrain)"
   ]
  },
  {
   "cell_type": "code",
   "execution_count": 120,
   "id": "366b6487-f099-474c-8353-f2865f32a4db",
   "metadata": {},
   "outputs": [
    {
     "name": "stdout",
     "output_type": "stream",
     "text": [
      "AUC 0.7618728026738328\n",
      "Youden's J threshold 0.012641026\n",
      "Accuracy 0.666224044847907\n",
      "Sensitivity 0.7198697068403909\n",
      "Specificity 0.6655581695646791\n"
     ]
    }
   ],
   "source": [
    "xgb_train_stats = evaluate_model(y_train, y_pred)"
   ]
  },
  {
   "cell_type": "code",
   "execution_count": 121,
   "id": "90372c3d-da01-4e69-8e11-27df5cc5833e",
   "metadata": {},
   "outputs": [],
   "source": [
    "y_pred = bst.predict(dval)"
   ]
  },
  {
   "cell_type": "code",
   "execution_count": 122,
   "id": "f7a67f6b-26dc-49dd-853f-aa02ef57189a",
   "metadata": {},
   "outputs": [
    {
     "name": "stdout",
     "output_type": "stream",
     "text": [
      "AUC 0.7357737721118535\n",
      "Youden's J threshold 0.009801479\n",
      "Accuracy 0.579140084464013\n",
      "Sensitivity 0.7832764505119454\n",
      "Specificity 0.5764170270885499\n"
     ]
    }
   ],
   "source": [
    "xgb_val_stats = evaluate_model(y_val, y_pred)"
   ]
  },
  {
   "cell_type": "markdown",
   "id": "59ee60da-2caf-45f1-b42a-f334734bae27",
   "metadata": {
    "tags": []
   },
   "source": [
    "## Validate models"
   ]
  },
  {
   "cell_type": "code",
   "execution_count": 77,
   "id": "0ba6876c-c9fd-45af-828c-5b03d5c1358c",
   "metadata": {},
   "outputs": [
    {
     "name": "stdout",
     "output_type": "stream",
     "text": [
      "LogisticRegression\n",
      "Training:\n",
      "AUC 0.7403546634642258\n",
      "Youden's J threshold 0.48132248829273966\n",
      "Accuracy 0.6133789932683211\n",
      "Sensitivity 0.7449104234527687\n",
      "Specificity 0.6117463630597553\n",
      "Validation:\n",
      "AUC 0.7328964245786619\n",
      "Youden's J threshold 0.4863427841390447\n",
      "Accuracy 0.6197546949411448\n",
      "Sensitivity 0.7286689419795221\n",
      "Specificity 0.6183018438424767\n",
      "==========\n",
      "SGDClassifier\n",
      "Training:\n",
      "AUC 0.633805178479044\n",
      "Youden's J threshold 0.05503207607983851\n",
      "Accuracy 0.5756571311616576\n",
      "Sensitivity 0.6502442996742671\n",
      "Specificity 0.574731320012837\n",
      "Validation:\n",
      "AUC 0.6487846006950245\n",
      "Youden's J threshold 0.11280181466850592\n",
      "Accuracy 0.6037379818492228\n",
      "Sensitivity 0.6484641638225256\n",
      "Specificity 0.6031413612565445\n",
      "==========\n",
      "RandomForestClassifier\n",
      "Training:\n",
      "AUC 0.8514694892621799\n",
      "Youden's J threshold 0.5302665303021459\n",
      "Accuracy 0.789648140613963\n",
      "Sensitivity 0.7274022801302932\n",
      "Specificity 0.7904207656210911\n",
      "Validation:\n",
      "AUC 0.7112326544945456\n",
      "Youden's J threshold 0.42739746868157985\n",
      "Accuracy 0.5449950579566897\n",
      "Sensitivity 0.7815699658703071\n",
      "Specificity 0.5418392897791942\n",
      "==========\n",
      "AdaBoostClassifier\n",
      "Training:\n",
      "AUC 1.0\n",
      "Youden's J threshold 0.5446892590608593\n",
      "Accuracy 0.9999975040123003\n",
      "Sensitivity 0.9997964169381107\n",
      "Specificity 1.0\n",
      "Validation:\n",
      "AUC 0.5446557469259581\n",
      "Youden's J threshold 0.10879302887721805\n",
      "Accuracy 0.5814538592865487\n",
      "Sensitivity 0.4948805460750853\n",
      "Specificity 0.5826086956521739\n",
      "==========\n",
      "GradientBoostingClassifier\n",
      "Training:\n",
      "AUC 0.7570678916110858\n",
      "Youden's J threshold 0.012709885764497561\n",
      "Accuracy 0.6483777327945328\n",
      "Sensitivity 0.7343241042345277\n",
      "Specificity 0.6473109258562003\n",
      "Validation:\n",
      "AUC 0.7399983412953745\n",
      "Youden's J threshold 0.009802384960020153\n",
      "Accuracy 0.5409066403091023\n",
      "Sensitivity 0.8242320819112628\n",
      "Specificity 0.5371272478943774\n",
      "==========\n",
      "BaggingClassifier\n",
      "Training:\n",
      "AUC 0.8221522028745929\n",
      "Youden's J threshold 0.4604238741679031\n",
      "Accuracy 0.6586961459453928\n",
      "Sensitivity 0.8399837133550488\n",
      "Specificity 0.6564459190712884\n",
      "Validation:\n",
      "AUC 0.7080815041615229\n",
      "Youden's J threshold 0.32537100759850707\n",
      "Accuracy 0.5184877347470572\n",
      "Sensitivity 0.8020477815699659\n",
      "Specificity 0.5147052128386069\n",
      "==========\n",
      "LinearSVC\n",
      "Training:\n",
      "AUC 0.6849595199720153\n",
      "Youden's J threshold 0.3260805307622359\n",
      "Accuracy 0.5266958364429181\n",
      "Sensitivity 0.7489820846905537\n",
      "Specificity 0.5239367145864237\n",
      "Validation:\n",
      "AUC 0.6833343692144422\n",
      "Youden's J threshold 0.34265446089774626\n",
      "Accuracy 0.6333453140443885\n",
      "Sensitivity 0.6450511945392492\n",
      "Specificity 0.6331891645800136\n",
      "==========\n",
      "MLPClassifier\n",
      "Training:\n",
      "AUC 0.9988691170318152\n",
      "Youden's J threshold 0.0516804719122311\n",
      "Accuracy 0.9873253744605547\n",
      "Sensitivity 0.9859527687296417\n",
      "Specificity 0.9873424118909057\n",
      "Validation:\n",
      "AUC 0.6163225858078591\n",
      "Youden's J threshold 2.2428679631317678e-10\n",
      "Accuracy 0.5329993710126696\n",
      "Sensitivity 0.6399317406143344\n",
      "Specificity 0.5315729569770089\n",
      "==========\n",
      "KNeighborsClassifier\n",
      "Validation:\n",
      "AUC 0.5240960642474181\n",
      "Youden's J threshold 0.2\n",
      "Accuracy 0.9847919849043041\n",
      "Sensitivity 0.010238907849829351\n",
      "Specificity 0.9977919417254724\n",
      "==========\n",
      "LinearDiscriminantAnalysis\n",
      "Training:\n",
      "AUC 0.7367799112493889\n",
      "Youden's J threshold 0.011168667688032128\n",
      "Accuracy 0.6349168711296591\n",
      "Sensitivity 0.7204804560260586\n",
      "Specificity 0.6338548155186225\n",
      "Validation:\n",
      "AUC 0.7309708899280501\n",
      "Youden's J threshold 0.010744922132014952\n",
      "Accuracy 0.6157561326264713\n",
      "Sensitivity 0.7372013651877133\n",
      "Specificity 0.6141361256544503\n",
      "==========\n",
      "QuadraticDiscriminantAnalysis\n",
      "Training:\n",
      "AUC 0.7474481223743135\n",
      "Youden's J threshold 0.005467277764950345\n",
      "Accuracy 0.6532923325753851\n",
      "Sensitivity 0.7343241042345277\n",
      "Specificity 0.6522865279697573\n",
      "Validation:\n",
      "AUC 0.6321078989301161\n",
      "Youden's J threshold 0.00011349791048161256\n",
      "Accuracy 0.4981355018420343\n",
      "Sensitivity 0.7286689419795221\n",
      "Specificity 0.4950603232415206\n",
      "==========\n"
     ]
    }
   ],
   "source": [
    "train_stats = {}\n",
    "val_stats = {}\n",
    "for model, model_name in zip(models, model_names):\n",
    "    print(model_name)\n",
    "    if model_name != 'KNeighborsClassifier':\n",
    "        print('Training:')\n",
    "        try:\n",
    "            y_train_pred_proba = model.predict_proba(X_train)\n",
    "        except:\n",
    "            y_train_pred_proba = model._predict_proba_lr(X_train)\n",
    "        train_stats[model_name] = evaluate_model(y_train,y_train_pred_proba)\n",
    "    print('Validation:')\n",
    "    try:\n",
    "        y_val_pred_proba = model.predict_proba(X_val)\n",
    "    except:\n",
    "        y_val_pred_proba = model._predict_proba_lr(X_val)\n",
    "    val_stats[model_name] = evaluate_model(y_val,y_val_pred_proba)\n",
    "    print('==========')"
   ]
  },
  {
   "cell_type": "code",
   "execution_count": 125,
   "id": "b5dbdfbd-b6dc-411b-9d0a-c194ebc77bd5",
   "metadata": {},
   "outputs": [],
   "source": [
    "df_model_stats = pd.DataFrame()"
   ]
  },
  {
   "cell_type": "code",
   "execution_count": 126,
   "id": "f1a8fa1c-2045-46ef-abfb-be4da31c3c03",
   "metadata": {},
   "outputs": [],
   "source": [
    "df_model_stats['Model Names'] = model_names"
   ]
  },
  {
   "cell_type": "code",
   "execution_count": 127,
   "id": "c4a59dce-b2da-41e4-90ce-555650fac40e",
   "metadata": {},
   "outputs": [],
   "source": [
    "df_model_stats['Train AUC'] = df_model_stats['Model Names'].apply(lambda x: train_stats[x][0] if x in train_stats.keys() else np.nan)\n",
    "df_model_stats['Train Threshold'] = df_model_stats['Model Names'].apply(lambda x: train_stats[x][1] if x in train_stats.keys() else np.nan)\n",
    "df_model_stats['Train Accuracy'] = df_model_stats['Model Names'].apply(lambda x: train_stats[x][2] if x in train_stats.keys() else np.nan)\n",
    "df_model_stats['Train Sensitivity'] = df_model_stats['Model Names'].apply(lambda x: train_stats[x][3] if x in train_stats.keys() else np.nan)\n",
    "df_model_stats['Train Specificity'] = df_model_stats['Model Names'].apply(lambda x: train_stats[x][4] if x in train_stats.keys() else np.nan)"
   ]
  },
  {
   "cell_type": "code",
   "execution_count": 128,
   "id": "52bcf7e0-164d-4012-8034-233c382d1237",
   "metadata": {},
   "outputs": [],
   "source": [
    "df_model_stats['Val AUC'] = df_model_stats['Model Names'].apply(lambda x: val_stats[x][0] if x in val_stats.keys() else np.nan)\n",
    "df_model_stats['Val Threshold'] = df_model_stats['Model Names'].apply(lambda x: val_stats[x][1] if x in val_stats.keys() else np.nan)\n",
    "df_model_stats['Val Accuracy'] = df_model_stats['Model Names'].apply(lambda x: val_stats[x][2] if x in val_stats.keys() else np.nan)\n",
    "df_model_stats['Val Sensitivity'] = df_model_stats['Model Names'].apply(lambda x: val_stats[x][3] if x in val_stats.keys() else np.nan)\n",
    "df_model_stats['Val Specificity'] = df_model_stats['Model Names'].apply(lambda x: val_stats[x][4] if x in val_stats.keys() else np.nan)"
   ]
  },
  {
   "cell_type": "code",
   "execution_count": 132,
   "id": "48b74b76-2645-426c-b21f-340450a8461a",
   "metadata": {},
   "outputs": [],
   "source": [
    "df_model_stats = df_model_stats.append({stat_name: stat for stat_name, stat in zip(df_model_stats.columns, ('LogisticRegression (Age Only)',) + age_train_stats + age_val_stats)}, ignore_index=True)"
   ]
  },
  {
   "cell_type": "code",
   "execution_count": 133,
   "id": "dc7260b2-7970-415d-b294-8b1c1120f866",
   "metadata": {},
   "outputs": [],
   "source": [
    "df_model_stats = df_model_stats.append({stat_name: stat for stat_name, stat in zip(df_model_stats.columns, ('XGBoost',) + xgb_train_stats + xgb_val_stats)}, ignore_index=True)"
   ]
  },
  {
   "cell_type": "code",
   "execution_count": 135,
   "id": "1c83388c-b851-42fd-84a9-3f5017501741",
   "metadata": {},
   "outputs": [],
   "source": [
    "df_model_stats.sort_values('Val AUC', ascending=False).to_csv('../glaucoma_project/UKBB_Data/processed_data/initial_model_selection_clinical_data_maximal_only.csv', index=False)"
   ]
  },
  {
   "cell_type": "markdown",
   "id": "c92be774-16ac-4bb2-a50c-1758b6fb0178",
   "metadata": {
    "tags": []
   },
   "source": [
    "## Retry models that overfit"
   ]
  },
  {
   "cell_type": "code",
   "execution_count": 360,
   "id": "326407da-5d2d-4b25-aa6b-865203ef7e0a",
   "metadata": {},
   "outputs": [],
   "source": [
    "df_model_stats = pd.read_csv('../glaucoma_project/UKBB_Data/processed_data/initial_model_selection_clinical_data_maximal_only.csv')"
   ]
  },
  {
   "cell_type": "code",
   "execution_count": 361,
   "id": "773e14ec-dd6a-4389-bc5e-ed369041fef3",
   "metadata": {},
   "outputs": [],
   "source": [
    "df_model_stats['Train AUC - Val AUC'] = df_model_stats['Train AUC'] - df_model_stats['Val AUC']"
   ]
  },
  {
   "cell_type": "code",
   "execution_count": 362,
   "id": "384e89e3-c706-499c-9fa2-ebac61b8fe22",
   "metadata": {},
   "outputs": [
    {
     "data": {
      "text/html": [
       "<div>\n",
       "<style scoped>\n",
       "    .dataframe tbody tr th:only-of-type {\n",
       "        vertical-align: middle;\n",
       "    }\n",
       "\n",
       "    .dataframe tbody tr th {\n",
       "        vertical-align: top;\n",
       "    }\n",
       "\n",
       "    .dataframe thead th {\n",
       "        text-align: right;\n",
       "    }\n",
       "</style>\n",
       "<table border=\"1\" class=\"dataframe\">\n",
       "  <thead>\n",
       "    <tr style=\"text-align: right;\">\n",
       "      <th></th>\n",
       "      <th>Model Names</th>\n",
       "      <th>Train AUC</th>\n",
       "      <th>Train Threshold</th>\n",
       "      <th>Train Accuracy</th>\n",
       "      <th>Train Sensitivity</th>\n",
       "      <th>Train Specificity</th>\n",
       "      <th>Val AUC</th>\n",
       "      <th>Val Threshold</th>\n",
       "      <th>Val Accuracy</th>\n",
       "      <th>Val Sensitivity</th>\n",
       "      <th>Val Specificity</th>\n",
       "      <th>Train AUC - Val AUC</th>\n",
       "    </tr>\n",
       "  </thead>\n",
       "  <tbody>\n",
       "    <tr>\n",
       "      <th>4</th>\n",
       "      <td>RandomForestClassifier</td>\n",
       "      <td>0.851469</td>\n",
       "      <td>0.530267</td>\n",
       "      <td>0.789648</td>\n",
       "      <td>0.727402</td>\n",
       "      <td>0.790421</td>\n",
       "      <td>0.711233</td>\n",
       "      <td>4.273975e-01</td>\n",
       "      <td>0.544995</td>\n",
       "      <td>0.781570</td>\n",
       "      <td>0.541839</td>\n",
       "      <td>0.140237</td>\n",
       "    </tr>\n",
       "    <tr>\n",
       "      <th>5</th>\n",
       "      <td>BaggingClassifier</td>\n",
       "      <td>0.822152</td>\n",
       "      <td>0.460424</td>\n",
       "      <td>0.658696</td>\n",
       "      <td>0.839984</td>\n",
       "      <td>0.656446</td>\n",
       "      <td>0.708082</td>\n",
       "      <td>3.253710e-01</td>\n",
       "      <td>0.518488</td>\n",
       "      <td>0.802048</td>\n",
       "      <td>0.514705</td>\n",
       "      <td>0.114071</td>\n",
       "    </tr>\n",
       "    <tr>\n",
       "      <th>9</th>\n",
       "      <td>QuadraticDiscriminantAnalysis</td>\n",
       "      <td>0.747448</td>\n",
       "      <td>0.005467</td>\n",
       "      <td>0.653292</td>\n",
       "      <td>0.734324</td>\n",
       "      <td>0.652287</td>\n",
       "      <td>0.632108</td>\n",
       "      <td>1.134979e-04</td>\n",
       "      <td>0.498136</td>\n",
       "      <td>0.728669</td>\n",
       "      <td>0.495060</td>\n",
       "      <td>0.115340</td>\n",
       "    </tr>\n",
       "    <tr>\n",
       "      <th>10</th>\n",
       "      <td>MLPClassifier</td>\n",
       "      <td>0.998869</td>\n",
       "      <td>0.051680</td>\n",
       "      <td>0.987325</td>\n",
       "      <td>0.985953</td>\n",
       "      <td>0.987342</td>\n",
       "      <td>0.616323</td>\n",
       "      <td>2.242868e-10</td>\n",
       "      <td>0.532999</td>\n",
       "      <td>0.639932</td>\n",
       "      <td>0.531573</td>\n",
       "      <td>0.382547</td>\n",
       "    </tr>\n",
       "    <tr>\n",
       "      <th>11</th>\n",
       "      <td>AdaBoostClassifier</td>\n",
       "      <td>1.000000</td>\n",
       "      <td>0.544689</td>\n",
       "      <td>0.999998</td>\n",
       "      <td>0.999796</td>\n",
       "      <td>1.000000</td>\n",
       "      <td>0.544656</td>\n",
       "      <td>1.087930e-01</td>\n",
       "      <td>0.581454</td>\n",
       "      <td>0.494881</td>\n",
       "      <td>0.582609</td>\n",
       "      <td>0.455344</td>\n",
       "    </tr>\n",
       "  </tbody>\n",
       "</table>\n",
       "</div>"
      ],
      "text/plain": [
       "                      Model Names  Train AUC  Train Threshold  Train Accuracy  \\\n",
       "4          RandomForestClassifier   0.851469         0.530267        0.789648   \n",
       "5               BaggingClassifier   0.822152         0.460424        0.658696   \n",
       "9   QuadraticDiscriminantAnalysis   0.747448         0.005467        0.653292   \n",
       "10                  MLPClassifier   0.998869         0.051680        0.987325   \n",
       "11             AdaBoostClassifier   1.000000         0.544689        0.999998   \n",
       "\n",
       "    Train Sensitivity  Train Specificity   Val AUC  Val Threshold  \\\n",
       "4            0.727402           0.790421  0.711233   4.273975e-01   \n",
       "5            0.839984           0.656446  0.708082   3.253710e-01   \n",
       "9            0.734324           0.652287  0.632108   1.134979e-04   \n",
       "10           0.985953           0.987342  0.616323   2.242868e-10   \n",
       "11           0.999796           1.000000  0.544656   1.087930e-01   \n",
       "\n",
       "    Val Accuracy  Val Sensitivity  Val Specificity  Train AUC - Val AUC  \n",
       "4       0.544995         0.781570         0.541839             0.140237  \n",
       "5       0.518488         0.802048         0.514705             0.114071  \n",
       "9       0.498136         0.728669         0.495060             0.115340  \n",
       "10      0.532999         0.639932         0.531573             0.382547  \n",
       "11      0.581454         0.494881         0.582609             0.455344  "
      ]
     },
     "execution_count": 362,
     "metadata": {},
     "output_type": "execute_result"
    }
   ],
   "source": [
    "df_model_stats[df_model_stats['Train AUC - Val AUC'] > 0.05]"
   ]
  },
  {
   "cell_type": "code",
   "execution_count": 364,
   "id": "ede38081-c2f6-486a-8843-0fa921b4ae13",
   "metadata": {},
   "outputs": [],
   "source": [
    "models = [ RandomForestClassifier(class_weight='balanced',max_depth=5, random_state=42, n_jobs=-1),\n",
    "AdaBoostClassifier(DecisionTreeClassifier(class_weight='balanced',max_depth=1,random_state=42)),\n",
    "BaggingClassifier(DecisionTreeClassifier(class_weight='balanced',max_depth=5,random_state=42),n_jobs=-1,random_state=42),\n",
    "MLPClassifier(random_state=42,alpha=0.1),\n",
    "         QuadraticDiscriminantAnalysis(reg_param=1)]"
   ]
  },
  {
   "cell_type": "code",
   "execution_count": 365,
   "id": "3e5700d7-cb03-444c-b788-7b75f1cca2c6",
   "metadata": {},
   "outputs": [],
   "source": [
    "model_names = ['RandomForestClassifier',\n",
    "               'AdaBoostClassifier',\n",
    "               'BaggingClassifier',\n",
    "               'MLPClassifier',\n",
    "               'QuadraticDiscriminantAnalysis'\n",
    "]"
   ]
  },
  {
   "cell_type": "code",
   "execution_count": 366,
   "id": "b61a13b9-c436-477e-9a30-852082602540",
   "metadata": {},
   "outputs": [
    {
     "name": "stdout",
     "output_type": "stream",
     "text": [
      "Training RandomForestClassifier\n",
      "Training took 6.581325054168701\n",
      "Training AdaBoostClassifier\n",
      "Training took 95.44723296165466\n",
      "Training BaggingClassifier\n",
      "Training took 15.304724931716919\n",
      "Training MLPClassifier\n",
      "Training took 142.0470733642578\n",
      "Training QuadraticDiscriminantAnalysis\n",
      "Training took 8.96567988395691\n"
     ]
    }
   ],
   "source": [
    "for model, model_name in zip(models, model_names):\n",
    "    print('Training',model_name)\n",
    "    t0 = time.time()\n",
    "    model.fit(X_train,y_train)\n",
    "    print('Training took',time.time()-t0)\n",
    "    dump(model,'../glaucoma_project/Models/'+model_name+'_clinical_3_model_v2.joblib')"
   ]
  },
  {
   "cell_type": "code",
   "execution_count": 367,
   "id": "dff6b0b9-04e5-41d8-919a-c7b3314d6a9f",
   "metadata": {},
   "outputs": [
    {
     "name": "stdout",
     "output_type": "stream",
     "text": [
      "RandomForestClassifier\n",
      "Training:\n",
      "AUC 0.737373564295728\n",
      "Youden's J threshold 0.5029385118896673\n",
      "Accuracy 0.5902486752545284\n",
      "Sensitivity 0.7709690553745928\n",
      "Specificity 0.5880054885768363\n",
      "Validation:\n",
      "AUC 0.7119700205648296\n",
      "Youden's J threshold 0.4938119090548381\n",
      "Accuracy 0.5617081498786953\n",
      "Sensitivity 0.7764505119453925\n",
      "Specificity 0.5588436148417938\n",
      "==========\n",
      "AdaBoostClassifier\n",
      "Training:\n",
      "AUC 0.7413111763059987\n",
      "Youden's J threshold 0.49902714709788176\n",
      "Accuracy 0.5698514637719865\n",
      "Sensitivity 0.7899022801302932\n",
      "Specificity 0.567120089151469\n",
      "Validation:\n",
      "AUC 0.7364330197980187\n",
      "Youden's J threshold 0.49831365578865283\n",
      "Accuracy 0.5192290412435978\n",
      "Sensitivity 0.8276450511945392\n",
      "Specificity 0.5151149556111997\n",
      "==========\n",
      "BaggingClassifier\n",
      "Training:\n",
      "AUC 0.7370001662881467\n",
      "Youden's J threshold 0.5106709038879227\n",
      "Accuracy 0.5909400638473654\n",
      "Sensitivity 0.7626221498371335\n",
      "Specificity 0.5888090647434747\n",
      "Validation:\n",
      "AUC 0.7160483945526119\n",
      "Youden's J threshold 0.46952999053578637\n",
      "Accuracy 0.5409291041423309\n",
      "Sensitivity 0.7849829351535836\n",
      "Specificity 0.5376735715911678\n",
      "==========\n",
      "MLPClassifier\n",
      "Training:\n",
      "AUC 0.738780124053933\n",
      "Youden's J threshold 0.011617794907213895\n",
      "Accuracy 0.5839512982880021\n",
      "Sensitivity 0.7728013029315961\n",
      "Specificity 0.5816072028726584\n",
      "Validation:\n",
      "AUC 0.7312179475725031\n",
      "Youden's J threshold 0.013972747081973661\n",
      "Accuracy 0.6602345224189056\n",
      "Sensitivity 0.6808873720136519\n",
      "Specificity 0.6599590257227407\n",
      "==========\n",
      "QuadraticDiscriminantAnalysis\n",
      "Training:\n",
      "AUC 0.7002011989036049\n",
      "Youden's J threshold 0.007009793909955238\n",
      "Accuracy 0.5272973694785632\n",
      "Sensitivity 0.7736156351791531\n",
      "Specificity 0.5242399508757212\n",
      "Validation:\n",
      "AUC 0.7011793117968471\n",
      "Youden's J threshold 0.009182635506492728\n",
      "Accuracy 0.5871596729265882\n",
      "Sensitivity 0.7201365187713311\n",
      "Specificity 0.5853858411108582\n",
      "==========\n"
     ]
    }
   ],
   "source": [
    "train_stats = {}\n",
    "val_stats = {}\n",
    "for model, model_name in zip(models, model_names):\n",
    "    print(model_name)\n",
    "    if model_name != 'KNeighborsClassifier':\n",
    "        print('Training:')\n",
    "        try:\n",
    "            y_train_pred_proba = model.predict_proba(X_train)\n",
    "        except:\n",
    "            y_train_pred_proba = model._predict_proba_lr(X_train)\n",
    "        train_stats[model_name] = evaluate_model(y_train,y_train_pred_proba)\n",
    "    print('Validation:')\n",
    "    try:\n",
    "        y_val_pred_proba = model.predict_proba(X_val)\n",
    "    except:\n",
    "        y_val_pred_proba = model._predict_proba_lr(X_val)\n",
    "    val_stats[model_name] = evaluate_model(y_val,y_val_pred_proba)\n",
    "    print('==========')"
   ]
  },
  {
   "cell_type": "code",
   "execution_count": 368,
   "id": "598ba00f-0fdb-469e-a07a-d56e0ce274a3",
   "metadata": {},
   "outputs": [],
   "source": [
    "df_model_stats = pd.DataFrame()\n",
    "df_model_stats['Model Names'] = model_names\n",
    "df_model_stats['Train AUC'] = df_model_stats['Model Names'].apply(lambda x: train_stats[x][0] if x in train_stats.keys() else np.nan)\n",
    "df_model_stats['Train Threshold'] = df_model_stats['Model Names'].apply(lambda x: train_stats[x][1] if x in train_stats.keys() else np.nan)\n",
    "df_model_stats['Train Accuracy'] = df_model_stats['Model Names'].apply(lambda x: train_stats[x][2] if x in train_stats.keys() else np.nan)\n",
    "df_model_stats['Train Sensitivity'] = df_model_stats['Model Names'].apply(lambda x: train_stats[x][3] if x in train_stats.keys() else np.nan)\n",
    "df_model_stats['Train Specificity'] = df_model_stats['Model Names'].apply(lambda x: train_stats[x][4] if x in train_stats.keys() else np.nan)\n",
    "df_model_stats['Val AUC'] = df_model_stats['Model Names'].apply(lambda x: val_stats[x][0] if x in val_stats.keys() else np.nan)\n",
    "df_model_stats['Val Threshold'] = df_model_stats['Model Names'].apply(lambda x: val_stats[x][1] if x in val_stats.keys() else np.nan)\n",
    "df_model_stats['Val Accuracy'] = df_model_stats['Model Names'].apply(lambda x: val_stats[x][2] if x in val_stats.keys() else np.nan)\n",
    "df_model_stats['Val Sensitivity'] = df_model_stats['Model Names'].apply(lambda x: val_stats[x][3] if x in val_stats.keys() else np.nan)\n",
    "df_model_stats['Val Specificity'] = df_model_stats['Model Names'].apply(lambda x: val_stats[x][4] if x in val_stats.keys() else np.nan)"
   ]
  },
  {
   "cell_type": "code",
   "execution_count": 369,
   "id": "6f3e5e50-2667-46e9-8303-3130a306ddf4",
   "metadata": {},
   "outputs": [],
   "source": [
    "df_model_stats.sort_values('Val AUC', ascending=False).to_csv('../glaucoma_project/UKBB_Data/processed_data/initial_model_selection_clinical_data_maximal_only_supplemental.csv', index=False)"
   ]
  },
  {
   "cell_type": "markdown",
   "id": "baeb0b3e-0e98-462b-9279-ddda8c404284",
   "metadata": {},
   "source": [
    "Best model was GradientBoostingClassifier again..."
   ]
  }
 ],
 "metadata": {
  "kernelspec": {
   "display_name": "Python 3 (ipykernel)",
   "language": "python",
   "name": "python3"
  },
  "language_info": {
   "codemirror_mode": {
    "name": "ipython",
    "version": 3
   },
   "file_extension": ".py",
   "mimetype": "text/x-python",
   "name": "python",
   "nbconvert_exporter": "python",
   "pygments_lexer": "ipython3",
   "version": "3.9.7"
  }
 },
 "nbformat": 4,
 "nbformat_minor": 5
}
