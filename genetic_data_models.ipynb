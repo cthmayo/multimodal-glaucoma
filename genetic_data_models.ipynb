{
 "cells": [
  {
   "cell_type": "markdown",
   "id": "d699dceb-9de7-41cb-9a5f-c5ad7aa3e2bf",
   "metadata": {},
   "source": [
    "# Import"
   ]
  },
  {
   "cell_type": "code",
   "execution_count": 1,
   "id": "273d92eb-6d92-47cb-b169-a8dd29fa237f",
   "metadata": {},
   "outputs": [],
   "source": [
    "import numpy as np\n",
    "import pandas as pd\n",
    "import matplotlib.pyplot as plt\n",
    "import os\n",
    "from tqdm import tqdm\n",
    "from collections import Counter\n",
    "from matplotlib_venn import venn2, venn3\n",
    "from scipy import stats\n",
    "UKBB_PATH = '../glaucoma_project/UKBB_Data/'\n",
    "UKBB_GENOME_PATH = '../glaucoma_project/UKBB_Data_Basket2/raw_genome/merged_raw_genome/'\n",
    "UKBB_IMPUTED_GENOME_PATH = '../glaucoma_project/UKBB_Data_Basket2/imputed_genome/merged_imputed_genome/'\n",
    "GWAS_PATH = '../glaucoma_project/GWAS/'\n",
    "from sklearn.model_selection import train_test_split\n",
    "from tableone import TableOne\n",
    "import statsmodels.api as sm\n",
    "import re\n",
    "import seaborn as sns\n",
    "import gzip\n",
    "import time\n",
    "import venn\n",
    "tqdm.pandas()\n",
    "from sklearn.ensemble import RandomForestClassifier\n",
    "from sklearn.ensemble import RandomForestRegressor\n",
    "from sklearn.metrics import accuracy_score\n",
    "from sklearn.metrics import roc_auc_score\n",
    "import shap\n",
    "from joblib import dump, load\n",
    "\n",
    "UKBB_PATH = '../glaucoma_project/UKBB_Data/'\n",
    "HTML_FILE_NAME = 'ukb49508.html'\n",
    "TOTAL_POP = 502419\n",
    "TEST_SET_RANDOM_SPLIT = 42\n",
    "CHUNK_SIZE = 10000"
   ]
  },
  {
   "cell_type": "code",
   "execution_count": 2,
   "id": "e79f2c83-ed21-4a42-b0c7-e98428de29f2",
   "metadata": {},
   "outputs": [],
   "source": [
    "df_genes = pd.read_pickle(UKBB_PATH+'processed_data/extracted_genes.pkl')"
   ]
  },
  {
   "cell_type": "code",
   "execution_count": 3,
   "id": "ac5dfb4f-bd0c-4476-8480-8499579cf603",
   "metadata": {},
   "outputs": [],
   "source": [
    "train_idx, test_idx = train_test_split(range(TOTAL_POP),random_state=TEST_SET_RANDOM_SPLIT, test_size=0.1)"
   ]
  },
  {
   "cell_type": "code",
   "execution_count": 4,
   "id": "47a48a2a-6cce-474b-bbc6-3de902109aa1",
   "metadata": {},
   "outputs": [],
   "source": [
    "def get_dataframe_for_analysis(column_names, idx=train_idx):\n",
    "    print('Preparing dataframe...')\n",
    "    df_selected_cols = pd.DataFrame()\n",
    "    for chunk in tqdm(pd.read_csv(UKBB_PATH+'ukb49508.tab', sep='\\t', chunksize=CHUNK_SIZE, usecols=column_names), total=TOTAL_POP // CHUNK_SIZE):\n",
    "        df_selected_cols = pd.concat([df_selected_cols, chunk])\n",
    "    return df_selected_cols.iloc[idx].reset_index(drop=True)"
   ]
  },
  {
   "cell_type": "markdown",
   "id": "9a59b415-7556-44f5-b426-fc3686f2a9d1",
   "metadata": {},
   "source": [
    "# Processing and imputation"
   ]
  },
  {
   "cell_type": "code",
   "execution_count": 5,
   "id": "4fb3e90a-c837-4cb1-abe8-ca0ed16aa493",
   "metadata": {},
   "outputs": [
    {
     "name": "stdout",
     "output_type": "stream",
     "text": [
      "Preparing dataframe...\n"
     ]
    },
    {
     "name": "stderr",
     "output_type": "stream",
     "text": [
      "51it [05:48,  6.83s/it]                                                                                                       \n"
     ]
    }
   ],
   "source": [
    "id_fields = get_dataframe_for_analysis(['f.eid'])"
   ]
  },
  {
   "cell_type": "code",
   "execution_count": 6,
   "id": "349569b4-9f73-4f98-a358-ee31eb2ae9e1",
   "metadata": {},
   "outputs": [
    {
     "data": {
      "text/html": [
       "<div>\n",
       "<style scoped>\n",
       "    .dataframe tbody tr th:only-of-type {\n",
       "        vertical-align: middle;\n",
       "    }\n",
       "\n",
       "    .dataframe tbody tr th {\n",
       "        vertical-align: top;\n",
       "    }\n",
       "\n",
       "    .dataframe thead th {\n",
       "        text-align: right;\n",
       "    }\n",
       "</style>\n",
       "<table border=\"1\" class=\"dataframe\">\n",
       "  <thead>\n",
       "    <tr style=\"text-align: right;\">\n",
       "      <th></th>\n",
       "      <th>f.eid</th>\n",
       "    </tr>\n",
       "  </thead>\n",
       "  <tbody>\n",
       "    <tr>\n",
       "      <th>0</th>\n",
       "      <td>3869176</td>\n",
       "    </tr>\n",
       "    <tr>\n",
       "      <th>1</th>\n",
       "      <td>2586731</td>\n",
       "    </tr>\n",
       "    <tr>\n",
       "      <th>2</th>\n",
       "      <td>3806758</td>\n",
       "    </tr>\n",
       "    <tr>\n",
       "      <th>3</th>\n",
       "      <td>3200572</td>\n",
       "    </tr>\n",
       "    <tr>\n",
       "      <th>4</th>\n",
       "      <td>2560773</td>\n",
       "    </tr>\n",
       "    <tr>\n",
       "      <th>...</th>\n",
       "      <td>...</td>\n",
       "    </tr>\n",
       "    <tr>\n",
       "      <th>452172</th>\n",
       "      <td>3591797</td>\n",
       "    </tr>\n",
       "    <tr>\n",
       "      <th>452173</th>\n",
       "      <td>4658390</td>\n",
       "    </tr>\n",
       "    <tr>\n",
       "      <th>452174</th>\n",
       "      <td>2319334</td>\n",
       "    </tr>\n",
       "    <tr>\n",
       "      <th>452175</th>\n",
       "      <td>2468682</td>\n",
       "    </tr>\n",
       "    <tr>\n",
       "      <th>452176</th>\n",
       "      <td>2219590</td>\n",
       "    </tr>\n",
       "  </tbody>\n",
       "</table>\n",
       "<p>452177 rows × 1 columns</p>\n",
       "</div>"
      ],
      "text/plain": [
       "          f.eid\n",
       "0       3869176\n",
       "1       2586731\n",
       "2       3806758\n",
       "3       3200572\n",
       "4       2560773\n",
       "...         ...\n",
       "452172  3591797\n",
       "452173  4658390\n",
       "452174  2319334\n",
       "452175  2468682\n",
       "452176  2219590\n",
       "\n",
       "[452177 rows x 1 columns]"
      ]
     },
     "execution_count": 6,
     "metadata": {},
     "output_type": "execute_result"
    }
   ],
   "source": [
    "id_fields"
   ]
  },
  {
   "cell_type": "code",
   "execution_count": 7,
   "id": "f0c2feec-c69f-4a7e-8793-42da7dc09216",
   "metadata": {},
   "outputs": [],
   "source": [
    "df_genes['Participant'] = df_genes['Participant'].apply(lambda x: x.split('_')[0])"
   ]
  },
  {
   "cell_type": "code",
   "execution_count": 8,
   "id": "e096ec78-dd19-4291-b170-61d98444aaf9",
   "metadata": {},
   "outputs": [],
   "source": [
    "df_genes['f.eid'] = df_genes['Participant'].astype(int)"
   ]
  },
  {
   "cell_type": "code",
   "execution_count": 9,
   "id": "ccc31c0f-3222-49c5-97a3-a6de9d70decd",
   "metadata": {},
   "outputs": [],
   "source": [
    "df_selected_genes = pd.merge(id_fields, df_genes, on='f.eid', how='left')"
   ]
  },
  {
   "cell_type": "code",
   "execution_count": 10,
   "id": "d5f07951-73b1-4841-b6ae-98991ba16857",
   "metadata": {},
   "outputs": [],
   "source": [
    "from sklearn.impute import SimpleImputer"
   ]
  },
  {
   "cell_type": "code",
   "execution_count": 11,
   "id": "179686e7-3c30-4864-8cc2-1bfc7d5046f9",
   "metadata": {},
   "outputs": [],
   "source": [
    "smp_imputer = SimpleImputer(strategy='most_frequent',verbose=2)"
   ]
  },
  {
   "cell_type": "code",
   "execution_count": 12,
   "id": "c4790006-9d90-442c-84ef-e59e2139b9db",
   "metadata": {},
   "outputs": [
    {
     "name": "stdout",
     "output_type": "stream",
     "text": [
      "101.91621923446655\n"
     ]
    }
   ],
   "source": [
    "t0 = time.time()\n",
    "df_selected_genes_imputed = pd.DataFrame(smp_imputer.fit_transform(df_selected_genes), columns=df_selected_genes.columns)\n",
    "print(time.time() - t0)"
   ]
  },
  {
   "cell_type": "code",
   "execution_count": 14,
   "id": "1f9f3c6a-ffe3-4b8e-87fc-9d29ebd33d76",
   "metadata": {},
   "outputs": [
    {
     "data": {
      "text/plain": [
       "['../glaucoma_project/Models/smp_imputer_genetic.joblib']"
      ]
     },
     "execution_count": 14,
     "metadata": {},
     "output_type": "execute_result"
    }
   ],
   "source": [
    "dump(smp_imputer, '../glaucoma_project/Models/smp_imputer_genetic.joblib')"
   ]
  },
  {
   "cell_type": "code",
   "execution_count": 52,
   "id": "d19673be-442c-4956-a341-7938137e372d",
   "metadata": {},
   "outputs": [],
   "source": [
    "df_gene_data = pd.read_pickle(UKBB_PATH+'processed_data/gene_data.pkl')"
   ]
  },
  {
   "cell_type": "code",
   "execution_count": 53,
   "id": "4faf72c3-a417-4a48-8da0-f98e3e7ecad7",
   "metadata": {},
   "outputs": [],
   "source": [
    "df_gene_data = df_gene_data[~((df_gene_data['ID in UKBB'] == 'Absent') | (df_gene_data['ID in UKBB'] == 'Wrong SNP found at right position'))].reset_index(drop=True)"
   ]
  },
  {
   "cell_type": "code",
   "execution_count": 54,
   "id": "b9f70d68-8eed-427d-ac54-5e9c474bef3a",
   "metadata": {},
   "outputs": [],
   "source": [
    "df_glaucoma_data = pd.read_pickle(UKBB_PATH+'processed_data/Clinical Feature Selection/glaucoma_data_checkpoint.pkl')"
   ]
  },
  {
   "cell_type": "code",
   "execution_count": 55,
   "id": "265d4713-987f-4580-a188-e0c56a48271f",
   "metadata": {},
   "outputs": [],
   "source": [
    "df_selected_genes['Total Glaucoma'] = df_glaucoma_data['Total Glaucoma']"
   ]
  },
  {
   "cell_type": "code",
   "execution_count": 59,
   "id": "962cb5a1-4d02-4093-9a33-32a39d6f000b",
   "metadata": {},
   "outputs": [],
   "source": [
    "df_selected_genes_imputed = df_selected_genes_imputed[~df_selected_genes['Participant'].isna()].reset_index(drop=True)\n",
    "df_selected_genes = df_selected_genes[~df_selected_genes['Participant'].isna()].reset_index(drop=True)"
   ]
  },
  {
   "cell_type": "code",
   "execution_count": 62,
   "id": "8c7f04d0-d387-4720-8a45-4a76d087d36c",
   "metadata": {},
   "outputs": [],
   "source": [
    "df_selected_genes.to_pickle(UKBB_PATH+'processed_data/unimputed_genes.pkl')\n",
    "df_selected_genes_imputed.to_pickle(UKBB_PATH+'processed_data/imputed_genes.pkl')"
   ]
  },
  {
   "cell_type": "markdown",
   "id": "03926ddb-1d8f-409f-a0d4-7c14483ba547",
   "metadata": {},
   "source": [
    "# Initial model"
   ]
  },
  {
   "cell_type": "code",
   "execution_count": 2,
   "id": "0e560f6e-ee8b-49c9-b850-dbee14b4275c",
   "metadata": {},
   "outputs": [],
   "source": [
    "df_selected_genes_imputed = pd.read_pickle(UKBB_PATH+'processed_data/imputed_genes.pkl')"
   ]
  },
  {
   "cell_type": "code",
   "execution_count": 3,
   "id": "b1c1f38a-952b-4554-8688-0fb39bac21f0",
   "metadata": {},
   "outputs": [],
   "source": [
    "df_selected_genes = pd.read_pickle(UKBB_PATH+'processed_data/unimputed_genes.pkl')"
   ]
  },
  {
   "cell_type": "code",
   "execution_count": 4,
   "id": "9be668ca-8678-4a9d-a1b4-6c07239fedd3",
   "metadata": {},
   "outputs": [],
   "source": [
    "glaucoma_diagnosis = df_selected_genes['Total Glaucoma'].astype(int)"
   ]
  },
  {
   "cell_type": "code",
   "execution_count": 5,
   "id": "f495ad57-59bc-4dfd-8e7c-2cec8eb012c9",
   "metadata": {},
   "outputs": [],
   "source": [
    "glaucoma_diagnosis.to_pickle(UKBB_PATH+'processed_data/glaucoma_diagnosis_for_genetic_ml.pkl')"
   ]
  },
  {
   "cell_type": "code",
   "execution_count": 2,
   "id": "f22d1f90-f91f-467a-8aea-bfde219ff45b",
   "metadata": {},
   "outputs": [],
   "source": [
    "glaucoma_diagnosis = pd.read_pickle(UKBB_PATH+'processed_data/glaucoma_diagnosis_for_genetic_ml.pkl')"
   ]
  },
  {
   "cell_type": "code",
   "execution_count": 4,
   "id": "cc8b869f-cb33-4184-9fe8-d83bb653de66",
   "metadata": {},
   "outputs": [
    {
     "data": {
      "text/plain": [
       "0    426407\n",
       "1     12098\n",
       "Name: Total Glaucoma, dtype: int64"
      ]
     },
     "execution_count": 4,
     "metadata": {},
     "output_type": "execute_result"
    }
   ],
   "source": [
    "glaucoma_diagnosis.value_counts()"
   ]
  },
  {
   "cell_type": "code",
   "execution_count": 8,
   "id": "e9aaee33-54e2-4b6d-a462-532ea5c5e6f7",
   "metadata": {},
   "outputs": [],
   "source": [
    "int_train_idx, int_val_idx = train_test_split(range(len(df_selected_genes_imputed)),random_state=TEST_SET_RANDOM_SPLIT, test_size=0.1)"
   ]
  },
  {
   "cell_type": "code",
   "execution_count": 9,
   "id": "ea13d7b6-59eb-4887-b688-82fab330aaee",
   "metadata": {},
   "outputs": [],
   "source": [
    "X_train = df_selected_genes_imputed.iloc[int_train_idx].copy().reset_index(drop=True)\n",
    "X_val = df_selected_genes_imputed.iloc[int_val_idx].copy().reset_index(drop=True)"
   ]
  },
  {
   "cell_type": "code",
   "execution_count": 12,
   "id": "01469468-e763-42ee-ac0c-7abaf70b2ba7",
   "metadata": {},
   "outputs": [],
   "source": [
    "X_train.to_pickle(UKBB_PATH+'processed_data/X_train_initial_genetic_only.pkl')\n",
    "X_val.to_pickle(UKBB_PATH+'processed_data/X_val_initial_genetic_only.pkl')"
   ]
  },
  {
   "cell_type": "code",
   "execution_count": 10,
   "id": "5788e6c1-cfb8-4fd4-ad44-d0bbf6fbd634",
   "metadata": {},
   "outputs": [],
   "source": [
    "X_train = X_train[X_train.columns[2:]]\n",
    "X_val = X_val[X_val.columns[2:]]"
   ]
  },
  {
   "cell_type": "code",
   "execution_count": 11,
   "id": "a515c5b1-0fd8-475e-96d1-5fdc7bf9c0f0",
   "metadata": {},
   "outputs": [],
   "source": [
    "y_train = glaucoma_diagnosis.iloc[int_train_idx].copy().reset_index(drop=True)\n",
    "y_val = glaucoma_diagnosis.iloc[int_val_idx].copy().reset_index(drop=True)"
   ]
  },
  {
   "cell_type": "code",
   "execution_count": 13,
   "id": "9f347993-0641-49cc-a500-093c7c0ceb75",
   "metadata": {},
   "outputs": [],
   "source": [
    "y_train.to_pickle(UKBB_PATH+'processed_data/y_train_initial_genetic_only.pkl')\n",
    "y_val.to_pickle(UKBB_PATH+'processed_data/y_val_initial_genetic_only.pkl')"
   ]
  },
  {
   "cell_type": "markdown",
   "id": "b24acefc-8672-45c6-8581-64a393ec56e4",
   "metadata": {
    "jp-MarkdownHeadingCollapsed": true,
    "tags": []
   },
   "source": [
    "# Model selection"
   ]
  },
  {
   "cell_type": "code",
   "execution_count": 2,
   "id": "49054103-b95b-4e64-ac54-40e69b41aef3",
   "metadata": {},
   "outputs": [],
   "source": [
    "X_train = pd.read_pickle(UKBB_PATH+'processed_data/X_train_initial_genetic_only.pkl')\n",
    "X_val = pd.read_pickle(UKBB_PATH+'processed_data/X_val_initial_genetic_only.pkl')\n",
    "y_train = pd.read_pickle(UKBB_PATH+'processed_data/y_train_initial_genetic_only.pkl')\n",
    "y_val = pd.read_pickle(UKBB_PATH+'processed_data/y_val_initial_genetic_only.pkl')"
   ]
  },
  {
   "cell_type": "code",
   "execution_count": 3,
   "id": "cde68552-f0dd-4271-8fb8-db22b17f7b0d",
   "metadata": {},
   "outputs": [],
   "source": [
    "from sklearn.linear_model import LogisticRegression, SGDClassifier\n",
    "from sklearn.ensemble import RandomForestRegressor, AdaBoostClassifier, GradientBoostingClassifier, BaggingClassifier\n",
    "from sklearn.svm import LinearSVC\n",
    "from sklearn.neural_network import MLPClassifier\n",
    "from sklearn.neighbors import KNeighborsClassifier\n",
    "from sklearn.discriminant_analysis import LinearDiscriminantAnalysis, QuadraticDiscriminantAnalysis\n",
    "import xgboost as xgb\n",
    "from sklearn.tree import DecisionTreeClassifier\n",
    "from sklearn.metrics import roc_curve, accuracy_score, confusion_matrix"
   ]
  },
  {
   "cell_type": "code",
   "execution_count": 4,
   "id": "f927aa7a-c197-4ada-9627-989fa45fc318",
   "metadata": {},
   "outputs": [],
   "source": [
    "def specificity(y_true, y_pred):\n",
    "    tn, fp, fn, tp = confusion_matrix(y_true, y_pred).ravel()\n",
    "    specificity = tn / (tn+fp)\n",
    "    return specificity"
   ]
  },
  {
   "cell_type": "code",
   "execution_count": 5,
   "id": "b7891bb0-b8b8-42ee-8483-d29c17ed408c",
   "metadata": {},
   "outputs": [],
   "source": [
    "def sensitivity(y_true, y_pred):\n",
    "    tn, fp, fn, tp = confusion_matrix(y_true, y_pred).ravel()\n",
    "    sensitivity = tp / (tp+fn)\n",
    "    return sensitivity"
   ]
  },
  {
   "cell_type": "code",
   "execution_count": 6,
   "id": "272fcf89-e303-42c1-b6e0-60f2bb310ab2",
   "metadata": {},
   "outputs": [],
   "source": [
    "def cutoff_youdens_j(fpr,tpr,thresholds):\n",
    "    j_scores = tpr-fpr\n",
    "    j_ordered = sorted(zip(j_scores,thresholds))\n",
    "    return j_ordered[-1][1]"
   ]
  },
  {
   "cell_type": "code",
   "execution_count": 7,
   "id": "56ef4303-48b6-4fcc-bf56-c3aa417fd1a1",
   "metadata": {},
   "outputs": [],
   "source": [
    "def evaluate_model(y_true, y_pred_proba):\n",
    "    if len(y_pred_proba.shape) == 2:\n",
    "        probs = y_pred_proba[:,1]\n",
    "    else:\n",
    "        probs = y_pred_proba\n",
    "    auc = roc_auc_score(y_true,probs)\n",
    "    print('AUC',auc)\n",
    "    fpr, tpr, thresholds = roc_curve(y_true, probs)\n",
    "    yj_threshold = cutoff_youdens_j(fpr, tpr, thresholds)\n",
    "    print('Youden\\'s J threshold',yj_threshold)\n",
    "    acc = accuracy_score(y_true,(probs > yj_threshold).astype(int))\n",
    "    print('Accuracy',acc)\n",
    "    sens = sensitivity(y_true,(probs > yj_threshold).astype(int))\n",
    "    print('Sensitivity',sens)\n",
    "    spec = specificity(y_true,(probs > yj_threshold).astype(int))\n",
    "    print('Specificity',spec)\n",
    "    return auc,yj_threshold,acc,sens,spec"
   ]
  },
  {
   "cell_type": "markdown",
   "id": "3d2027bc-6bb2-40b9-ae45-ce9dbbdbbb2d",
   "metadata": {
    "tags": []
   },
   "source": [
    "# Optimising hyperparameters"
   ]
  },
  {
   "cell_type": "code",
   "execution_count": 8,
   "id": "4101842e-708e-4d40-945c-d80720c12427",
   "metadata": {},
   "outputs": [],
   "source": [
    "models = [LogisticRegression(class_weight='balanced',n_jobs=-1, max_iter=300),\n",
    "SGDClassifier(class_weight='balanced',n_jobs=-1, random_state=42,loss='modified_huber'),\n",
    "RandomForestClassifier(class_weight='balanced',max_depth=10, random_state=42, n_jobs=-1),\n",
    "AdaBoostClassifier(DecisionTreeClassifier(class_weight='balanced',max_depth=10,random_state=42)),\n",
    "GradientBoostingClassifier(random_state=42),\n",
    "BaggingClassifier(DecisionTreeClassifier(class_weight='balanced',max_depth=10,random_state=42),n_jobs=1,random_state=42),\n",
    "LinearSVC(class_weight='balanced',random_state=42),\n",
    "MLPClassifier(random_state=42),\n",
    "KNeighborsClassifier(n_jobs=-1),\n",
    "LinearDiscriminantAnalysis(),\n",
    "QuadraticDiscriminantAnalysis()]"
   ]
  },
  {
   "cell_type": "code",
   "execution_count": 9,
   "id": "634536ff-18c9-4509-b4dc-fbca89d00424",
   "metadata": {},
   "outputs": [],
   "source": [
    "model_names = ['LogisticRegression',\n",
    "               'SGDClassifier',\n",
    "               'RandomForestClassifier',\n",
    "               'AdaBoostClassifier',\n",
    "               'GradientBoostingClassifier',\n",
    "               'BaggingClassifier',\n",
    "               'LinearSVC',\n",
    "               'MLPClassifier',\n",
    "               'KNeighborsClassifier',\n",
    "               'LinearDiscriminantAnalysis',\n",
    "               'QuadraticDiscriminantAnalysis'\n",
    "]"
   ]
  },
  {
   "cell_type": "code",
   "execution_count": 29,
   "id": "361ddda5-207a-4c5d-92ac-c83531db15d3",
   "metadata": {},
   "outputs": [
    {
     "name": "stdout",
     "output_type": "stream",
     "text": [
      "Training SGDClassifier\n",
      "Training took 401.5163297653198\n",
      "Training RandomForestClassifier\n",
      "Training took 40.92296648025513\n",
      "Training AdaBoostClassifier\n",
      "Training took 1973.4057693481445\n",
      "Training GradientBoostingClassifier\n",
      "Training took 1704.020925283432\n",
      "Training BaggingClassifier\n",
      "Training took 221.86514902114868\n",
      "Training LinearSVC\n"
     ]
    },
    {
     "name": "stderr",
     "output_type": "stream",
     "text": [
      "Liblinear failed to converge, increase the number of iterations.\n"
     ]
    },
    {
     "name": "stdout",
     "output_type": "stream",
     "text": [
      "Training took 989.9864153862\n",
      "Training MLPClassifier\n",
      "Training took 3248.861126422882\n",
      "Training KNeighborsClassifier\n",
      "Training took 17.420405387878418\n",
      "Training LinearDiscriminantAnalysis\n",
      "Training took 128.38816952705383\n",
      "Training QuadraticDiscriminantAnalysis\n"
     ]
    },
    {
     "name": "stderr",
     "output_type": "stream",
     "text": [
      "Variables are collinear\n"
     ]
    },
    {
     "name": "stdout",
     "output_type": "stream",
     "text": [
      "Training took 87.32210516929626\n"
     ]
    }
   ],
   "source": [
    "for model, model_name in zip(models, model_names):\n",
    "    print('Training',model_name)\n",
    "    t0 = time.time()\n",
    "    model.fit(X_train,y_train)\n",
    "    print('Training took',time.time()-t0)\n",
    "    dump(model,'../glaucoma_project/Models/'+model_name+'_genetic_initial_model.joblib')"
   ]
  },
  {
   "cell_type": "code",
   "execution_count": 10,
   "id": "3f0b483a-968a-44f7-bc90-b9d8ab67289d",
   "metadata": {},
   "outputs": [],
   "source": [
    "models = []\n",
    "for model_name in model_names:\n",
    "    models.append(load('../glaucoma_project/Models/'+model_name+'_genetic_initial_model.joblib'))"
   ]
  },
  {
   "cell_type": "code",
   "execution_count": 6,
   "id": "860108f8-689e-42fc-ac0a-c80440b5614c",
   "metadata": {},
   "outputs": [],
   "source": [
    "param = {'max_depth':3, 'eta':1, 'objective':'binary:logistic' }\n",
    "num_round = 20"
   ]
  },
  {
   "cell_type": "code",
   "execution_count": 7,
   "id": "7c9c22fc-21f4-4b02-979a-9766ec4f026f",
   "metadata": {},
   "outputs": [],
   "source": [
    "dtrain = xgb.DMatrix(X_train.astype(int), label=y_train)\n",
    "dval = xgb.DMatrix(X_val.astype(int), label=y_val)"
   ]
  },
  {
   "cell_type": "code",
   "execution_count": 8,
   "id": "9d926db5-989a-4701-94f3-ca20ec27c504",
   "metadata": {},
   "outputs": [],
   "source": [
    "bst = xgb.train(param, dtrain, num_round)"
   ]
  },
  {
   "cell_type": "code",
   "execution_count": 9,
   "id": "ca5b72de-8089-4719-8bbd-a40b343ea408",
   "metadata": {},
   "outputs": [],
   "source": [
    "y_pred = bst.predict(dtrain)"
   ]
  },
  {
   "cell_type": "code",
   "execution_count": 17,
   "id": "de91801e-7ad3-45c7-b312-d890665628ef",
   "metadata": {},
   "outputs": [
    {
     "name": "stdout",
     "output_type": "stream",
     "text": [
      "AUC 0.6541007723298712\n",
      "Youden's J threshold 0.029095747\n",
      "Accuracy 0.663393757569922\n",
      "Sensitivity 0.555952380952381\n",
      "Specificity 0.6664512396608067\n"
     ]
    }
   ],
   "source": [
    "xgb_train_stats = evaluate_model(y_train, y_pred)"
   ]
  },
  {
   "cell_type": "code",
   "execution_count": 18,
   "id": "379cd8e8-ecfc-46e3-af2f-15f831b1461b",
   "metadata": {},
   "outputs": [],
   "source": [
    "y_pred = bst.predict(dval)"
   ]
  },
  {
   "cell_type": "code",
   "execution_count": 19,
   "id": "3d6dcc79-98d4-420e-8337-a3abfa583e7a",
   "metadata": {},
   "outputs": [
    {
     "name": "stdout",
     "output_type": "stream",
     "text": [
      "AUC 0.5874733736401155\n",
      "Youden's J threshold 0.03032571\n",
      "Accuracy 0.684385760872044\n",
      "Sensitivity 0.4405772495755518\n",
      "Specificity 0.6911161624446371\n"
     ]
    }
   ],
   "source": [
    "xgb_val_stats = evaluate_model(y_val, y_pred)"
   ]
  },
  {
   "cell_type": "markdown",
   "id": "4eda86b3-5bed-4157-9fad-8cb28300d149",
   "metadata": {
    "jp-MarkdownHeadingCollapsed": true,
    "tags": []
   },
   "source": [
    "## Validate models"
   ]
  },
  {
   "cell_type": "code",
   "execution_count": null,
   "id": "2eb4b9f4-7038-4fa1-be49-3e38fbadd0f0",
   "metadata": {},
   "outputs": [
    {
     "name": "stdout",
     "output_type": "stream",
     "text": [
      "LogisticRegression\n",
      "Training:\n",
      "AUC 0.6929987853021127\n",
      "Youden's J threshold 0.4974438124952202\n",
      "Accuracy 0.6361192335564824\n",
      "Sensitivity 0.6437728937728938\n",
      "Specificity 0.6359014317209317\n",
      "Validation:\n",
      "AUC 0.6626246295067273\n",
      "Youden's J threshold 0.4839183484254699\n",
      "Accuracy 0.6078994777770176\n",
      "Sensitivity 0.6392190152801358\n",
      "Specificity 0.6070348932580321\n",
      "==========\n",
      "SGDClassifier\n",
      "Training:\n",
      "AUC 0.5968509968395957\n",
      "Youden's J threshold 0.9997619960218707\n",
      "Accuracy 0.4472880041758097\n",
      "Sensitivity 0.737912087912088\n",
      "Specificity 0.4390176528532786\n",
      "Validation:\n",
      "AUC 0.5793063983194027\n",
      "Youden's J threshold 0.9917219247738345\n",
      "Accuracy 0.4449613463775056\n",
      "Sensitivity 0.7088285229202037\n",
      "Specificity 0.43767721978768775\n",
      "==========\n",
      "RandomForestClassifier\n",
      "Training:\n",
      "AUC 0.9164380645878571\n",
      "Youden's J threshold 0.4696678037030685\n",
      "Accuracy 0.8464376390458478\n",
      "Sensitivity 0.8258241758241758\n",
      "Specificity 0.847024240750103\n",
      "Validation:\n",
      "AUC 0.5930216467894575\n",
      "Youden's J threshold 0.4354877182956549\n",
      "Accuracy 0.5583909146883765\n",
      "Sensitivity 0.5814940577249575\n",
      "Specificity 0.557753146017388\n",
      "==========\n",
      "AdaBoostClassifier\n",
      "Training:\n",
      "AUC 0.9999999995227158\n",
      "Youden's J threshold 0.5177616467657322\n",
      "Accuracy 0.9999949322697856\n",
      "Sensitivity 0.9999084249084249\n",
      "Specificity 0.9999973940281549\n",
      "Validation:\n",
      "AUC 0.47554651897954825\n",
      "Youden's J threshold 0.463975967978856\n",
      "Accuracy 0.9425782764361132\n",
      "Sensitivity 0.03904923599320883\n",
      "Specificity 0.9675204461837696\n",
      "==========\n",
      "GradientBoostingClassifier\n",
      "Training:\n",
      "AUC 0.6734405443275715\n",
      "Youden's J threshold 0.028401604498874314\n",
      "Accuracy 0.6434040957395593\n",
      "Sensitivity 0.6087912087912087\n",
      "Specificity 0.6443890820203578\n",
      "Validation:\n",
      "AUC 0.629902062102385\n",
      "Youden's J threshold 0.027590627876145205\n",
      "Accuracy 0.6008300836925041\n",
      "Sensitivity 0.5933786078098472\n",
      "Specificity 0.6010357837508494\n",
      "==========\n",
      "BaggingClassifier\n",
      "Training:\n",
      "AUC 0.8677305392800045\n",
      "Youden's J threshold 0.4562083737576759\n",
      "Accuracy 0.7734471207690787\n",
      "Sensitivity 0.8002747252747253\n",
      "Specificity 0.7726836819255005\n",
      "Validation:\n",
      "AUC 0.5348194150032722\n",
      "Youden's J threshold 0.396947704641481\n",
      "Accuracy 0.5162710086429044\n",
      "Sensitivity 0.5458404074702886\n",
      "Specificity 0.5154547371874487\n",
      "==========\n",
      "LinearSVC\n",
      "Training:\n",
      "AUC 0.5739822197977456\n",
      "Youden's J threshold 0.2785185737284766\n",
      "Accuracy 0.5581370010186137\n",
      "Sensitivity 0.5531135531135531\n",
      "Specificity 0.5582799543433733\n",
      "Validation:\n",
      "AUC 0.5606386936595296\n",
      "Youden's J threshold 0.2630781647447685\n",
      "Accuracy 0.40411849216665524\n",
      "Sensitivity 0.6952461799660441\n",
      "Specificity 0.39608183160312144\n",
      "==========\n",
      "MLPClassifier\n",
      "Training:\n",
      "AUC 0.7103628787634505\n",
      "Youden's J threshold 0.03312147691895769\n",
      "Accuracy 0.644577275284173\n",
      "Sensitivity 0.6571428571428571\n",
      "Specificity 0.6442196938504277\n",
      "Validation:\n",
      "AUC 0.6525251829196459\n",
      "Youden's J threshold 0.03175103738682349\n",
      "Accuracy 0.6182755239333196\n",
      "Sensitivity 0.6179966044142614\n",
      "Specificity 0.6182832235839992\n",
      "==========\n",
      "KNeighborsClassifier\n",
      "Validation:\n",
      "AUC 0.5138952110130194\n",
      "Youden's J threshold 0.2\n",
      "Accuracy 0.9657248409386331\n",
      "Sensitivity 0.006791171477079796\n",
      "Specificity 0.9921964708363602\n",
      "==========\n",
      "LinearDiscriminantAnalysis\n",
      "Training:\n",
      "AUC 0.6905753052266002\n",
      "Youden's J threshold 0.029586360538630504\n",
      "Accuracy 0.6867990695647327\n",
      "Sensitivity 0.5880952380952381\n",
      "Specificity 0.6896079054761892\n",
      "Validation:\n",
      "AUC 0.6611884303410979\n",
      "Youden's J threshold 0.02672670224489868\n",
      "Accuracy 0.6355157237007137\n",
      "Sensitivity 0.6052631578947368\n",
      "Specificity 0.6363508541700841\n",
      "==========\n",
      "QuadraticDiscriminantAnalysis\n",
      "Training:\n"
     ]
    }
   ],
   "source": [
    "train_stats = {}\n",
    "val_stats = {}\n",
    "for model, model_name in zip(models, model_names):\n",
    "    print(model_name)\n",
    "    if model_name != 'KNeighborsClassifier':\n",
    "        print('Training:')\n",
    "        try:\n",
    "            y_train_pred_proba = model.predict_proba(X_train)\n",
    "        except:\n",
    "            y_train_pred_proba = model._predict_proba_lr(X_train)\n",
    "        train_stats[model_name] = evaluate_model(y_train,y_train_pred_proba)\n",
    "    print('Validation:')\n",
    "    try:\n",
    "        y_val_pred_proba = model.predict_proba(X_val)\n",
    "    except:\n",
    "        y_val_pred_proba = model._predict_proba_lr(X_val)\n",
    "    val_stats[model_name] = evaluate_model(y_val,y_val_pred_proba)\n",
    "    print('==========')"
   ]
  },
  {
   "cell_type": "code",
   "execution_count": 8,
   "id": "5bf820e1-d6f9-47a8-a2ec-5ef613056f35",
   "metadata": {},
   "outputs": [],
   "source": [
    "model = load('../glaucoma_project/Models/QuadraticDiscriminantAnalysis_genetic_initial_model.joblib')"
   ]
  },
  {
   "cell_type": "code",
   "execution_count": 10,
   "id": "e2e2300f-b90e-4bf8-a3dc-bee3a1a1da93",
   "metadata": {},
   "outputs": [],
   "source": [
    "y_train_pred_proba = model.predict_proba(X_train)"
   ]
  },
  {
   "cell_type": "code",
   "execution_count": 12,
   "id": "c31ade9a-f54f-44d4-a52a-260077cf5ce8",
   "metadata": {},
   "outputs": [
    {
     "name": "stdout",
     "output_type": "stream",
     "text": [
      "AUC 0.5462131551616065\n",
      "Youden's J threshold 1.0\n",
      "Accuracy 0.9723301930298439\n",
      "Sensitivity 0.0\n",
      "Specificity 1.0\n"
     ]
    },
    {
     "data": {
      "text/plain": [
       "(0.5462131551616065, 1.0, 0.9723301930298439, 0.0, 1.0)"
      ]
     },
     "execution_count": 12,
     "metadata": {},
     "output_type": "execute_result"
    }
   ],
   "source": [
    "evaluate_model(y_train, y_train_pred_proba)"
   ]
  },
  {
   "cell_type": "code",
   "execution_count": 13,
   "id": "35187c96-2a14-4433-bb2d-6baf0d24326a",
   "metadata": {},
   "outputs": [],
   "source": [
    "y_val_pred_proba = model.predict_proba(X_val)"
   ]
  },
  {
   "cell_type": "code",
   "execution_count": 14,
   "id": "0364511f-455e-4a7d-9e93-d5d89ed59a79",
   "metadata": {},
   "outputs": [
    {
     "name": "stdout",
     "output_type": "stream",
     "text": [
      "AUC 0.4751080163172404\n",
      "Youden's J threshold 2.0\n",
      "Accuracy 0.9731363024788489\n",
      "Sensitivity 0.0\n",
      "Specificity 1.0\n"
     ]
    },
    {
     "data": {
      "text/plain": [
       "(0.4751080163172404, 2.0, 0.9731363024788489, 0.0, 1.0)"
      ]
     },
     "execution_count": 14,
     "metadata": {},
     "output_type": "execute_result"
    }
   ],
   "source": [
    "evaluate_model(y_val, y_val_pred_proba)"
   ]
  },
  {
   "cell_type": "code",
   "execution_count": 125,
   "id": "7880b79b-0119-4a82-9c54-85c7d88bdee2",
   "metadata": {},
   "outputs": [],
   "source": [
    "df_model_stats = pd.DataFrame()"
   ]
  },
  {
   "cell_type": "code",
   "execution_count": 126,
   "id": "3c1ec81d-a62f-46f0-9de4-90d54e0050c3",
   "metadata": {},
   "outputs": [],
   "source": [
    "df_model_stats['Model Names'] = model_names"
   ]
  },
  {
   "cell_type": "code",
   "execution_count": 127,
   "id": "1d104765-6783-43ba-82e9-ba779da22ffb",
   "metadata": {},
   "outputs": [],
   "source": [
    "df_model_stats['Train AUC'] = df_model_stats['Model Names'].apply(lambda x: train_stats[x][0] if x in train_stats.keys() else np.nan)\n",
    "df_model_stats['Train Threshold'] = df_model_stats['Model Names'].apply(lambda x: train_stats[x][1] if x in train_stats.keys() else np.nan)\n",
    "df_model_stats['Train Accuracy'] = df_model_stats['Model Names'].apply(lambda x: train_stats[x][2] if x in train_stats.keys() else np.nan)\n",
    "df_model_stats['Train Sensitivity'] = df_model_stats['Model Names'].apply(lambda x: train_stats[x][3] if x in train_stats.keys() else np.nan)\n",
    "df_model_stats['Train Specificity'] = df_model_stats['Model Names'].apply(lambda x: train_stats[x][4] if x in train_stats.keys() else np.nan)"
   ]
  },
  {
   "cell_type": "code",
   "execution_count": 128,
   "id": "a9e6154f-5ecb-40e5-b9f0-9fb87952bd42",
   "metadata": {},
   "outputs": [],
   "source": [
    "df_model_stats['Val AUC'] = df_model_stats['Model Names'].apply(lambda x: val_stats[x][0] if x in val_stats.keys() else np.nan)\n",
    "df_model_stats['Val Threshold'] = df_model_stats['Model Names'].apply(lambda x: val_stats[x][1] if x in val_stats.keys() else np.nan)\n",
    "df_model_stats['Val Accuracy'] = df_model_stats['Model Names'].apply(lambda x: val_stats[x][2] if x in val_stats.keys() else np.nan)\n",
    "df_model_stats['Val Sensitivity'] = df_model_stats['Model Names'].apply(lambda x: val_stats[x][3] if x in val_stats.keys() else np.nan)\n",
    "df_model_stats['Val Specificity'] = df_model_stats['Model Names'].apply(lambda x: val_stats[x][4] if x in val_stats.keys() else np.nan)"
   ]
  },
  {
   "cell_type": "code",
   "execution_count": 133,
   "id": "02cc3a06-6471-4aef-a200-fe375240b133",
   "metadata": {},
   "outputs": [],
   "source": [
    "df_model_stats = df_model_stats.append({stat_name: stat for stat_name, stat in zip(df_model_stats.columns, ('XGBoost',) + xgb_train_stats + xgb_val_stats)}, ignore_index=True)"
   ]
  },
  {
   "cell_type": "code",
   "execution_count": 135,
   "id": "06322b4c-d83d-43e1-b977-d9e48fb80a9f",
   "metadata": {},
   "outputs": [],
   "source": [
    "df_model_stats.sort_values('Val AUC', ascending=False).to_csv('../glaucoma_project/UKBB_Data/processed_data/initial_model_selection_genetic_data_only.csv', index=False)"
   ]
  },
  {
   "cell_type": "markdown",
   "id": "68364ce2-bb8b-412d-a7bc-c2c71a1498c6",
   "metadata": {
    "tags": []
   },
   "source": [
    "## Retry models that overfit"
   ]
  },
  {
   "cell_type": "code",
   "execution_count": 8,
   "id": "7f6080d1-b155-4f9a-9138-4a7a5fbbf94c",
   "metadata": {},
   "outputs": [],
   "source": [
    "df_model_stats = pd.read_csv('../glaucoma_project/UKBB_Data/processed_data/initial_model_selection_genetic_data_only.csv')"
   ]
  },
  {
   "cell_type": "code",
   "execution_count": 9,
   "id": "1ab9d828-1915-40ac-8f71-7522241b1e5b",
   "metadata": {},
   "outputs": [],
   "source": [
    "df_model_stats['Train AUC - Val AUC'] = df_model_stats['Train AUC'] - df_model_stats['Val AUC']"
   ]
  },
  {
   "cell_type": "code",
   "execution_count": 10,
   "id": "a7e7089a-5e5a-47f1-a388-cc55dbac8d2f",
   "metadata": {},
   "outputs": [
    {
     "data": {
      "text/html": [
       "<div>\n",
       "<style scoped>\n",
       "    .dataframe tbody tr th:only-of-type {\n",
       "        vertical-align: middle;\n",
       "    }\n",
       "\n",
       "    .dataframe tbody tr th {\n",
       "        vertical-align: top;\n",
       "    }\n",
       "\n",
       "    .dataframe thead th {\n",
       "        text-align: right;\n",
       "    }\n",
       "</style>\n",
       "<table border=\"1\" class=\"dataframe\">\n",
       "  <thead>\n",
       "    <tr style=\"text-align: right;\">\n",
       "      <th></th>\n",
       "      <th>Model Names</th>\n",
       "      <th>Train AUC</th>\n",
       "      <th>Train Threshold</th>\n",
       "      <th>Train Accuracy</th>\n",
       "      <th>Train Sensitivity</th>\n",
       "      <th>Train Specificity</th>\n",
       "      <th>Val AUC</th>\n",
       "      <th>Val Threshold</th>\n",
       "      <th>Val Accuracy</th>\n",
       "      <th>Val Sensitivity</th>\n",
       "      <th>Val Specificity</th>\n",
       "      <th>Train AUC - Val AUC</th>\n",
       "    </tr>\n",
       "  </thead>\n",
       "  <tbody>\n",
       "    <tr>\n",
       "      <th>2</th>\n",
       "      <td>MLPClassifier</td>\n",
       "      <td>0.710363</td>\n",
       "      <td>0.033121</td>\n",
       "      <td>0.644577</td>\n",
       "      <td>0.657143</td>\n",
       "      <td>0.644220</td>\n",
       "      <td>0.652525</td>\n",
       "      <td>0.031751</td>\n",
       "      <td>0.618276</td>\n",
       "      <td>0.617997</td>\n",
       "      <td>0.618283</td>\n",
       "      <td>0.057838</td>\n",
       "    </tr>\n",
       "    <tr>\n",
       "      <th>4</th>\n",
       "      <td>RandomForestClassifier</td>\n",
       "      <td>0.916438</td>\n",
       "      <td>0.469668</td>\n",
       "      <td>0.846438</td>\n",
       "      <td>0.825824</td>\n",
       "      <td>0.847024</td>\n",
       "      <td>0.593022</td>\n",
       "      <td>0.435488</td>\n",
       "      <td>0.558391</td>\n",
       "      <td>0.581494</td>\n",
       "      <td>0.557753</td>\n",
       "      <td>0.323416</td>\n",
       "    </tr>\n",
       "    <tr>\n",
       "      <th>5</th>\n",
       "      <td>XGBoost</td>\n",
       "      <td>0.654101</td>\n",
       "      <td>0.029096</td>\n",
       "      <td>0.663394</td>\n",
       "      <td>0.555952</td>\n",
       "      <td>0.666451</td>\n",
       "      <td>0.587473</td>\n",
       "      <td>0.030326</td>\n",
       "      <td>0.684386</td>\n",
       "      <td>0.440577</td>\n",
       "      <td>0.691116</td>\n",
       "      <td>0.066627</td>\n",
       "    </tr>\n",
       "    <tr>\n",
       "      <th>8</th>\n",
       "      <td>BaggingClassifier</td>\n",
       "      <td>0.867731</td>\n",
       "      <td>0.456208</td>\n",
       "      <td>0.773447</td>\n",
       "      <td>0.800275</td>\n",
       "      <td>0.772684</td>\n",
       "      <td>0.534819</td>\n",
       "      <td>0.396948</td>\n",
       "      <td>0.516271</td>\n",
       "      <td>0.545840</td>\n",
       "      <td>0.515455</td>\n",
       "      <td>0.332911</td>\n",
       "    </tr>\n",
       "    <tr>\n",
       "      <th>10</th>\n",
       "      <td>AdaBoostClassifier</td>\n",
       "      <td>1.000000</td>\n",
       "      <td>0.517762</td>\n",
       "      <td>0.999995</td>\n",
       "      <td>0.999908</td>\n",
       "      <td>0.999997</td>\n",
       "      <td>0.475547</td>\n",
       "      <td>0.463976</td>\n",
       "      <td>0.942578</td>\n",
       "      <td>0.039049</td>\n",
       "      <td>0.967520</td>\n",
       "      <td>0.524453</td>\n",
       "    </tr>\n",
       "    <tr>\n",
       "      <th>11</th>\n",
       "      <td>QuadraticDiscriminantAnalysis</td>\n",
       "      <td>0.546213</td>\n",
       "      <td>1.000000</td>\n",
       "      <td>0.972330</td>\n",
       "      <td>0.000000</td>\n",
       "      <td>1.000000</td>\n",
       "      <td>0.475108</td>\n",
       "      <td>2.000000</td>\n",
       "      <td>0.973136</td>\n",
       "      <td>0.000000</td>\n",
       "      <td>1.000000</td>\n",
       "      <td>0.071105</td>\n",
       "    </tr>\n",
       "  </tbody>\n",
       "</table>\n",
       "</div>"
      ],
      "text/plain": [
       "                      Model Names  Train AUC  Train Threshold  Train Accuracy  \\\n",
       "2                   MLPClassifier   0.710363         0.033121        0.644577   \n",
       "4          RandomForestClassifier   0.916438         0.469668        0.846438   \n",
       "5                         XGBoost   0.654101         0.029096        0.663394   \n",
       "8               BaggingClassifier   0.867731         0.456208        0.773447   \n",
       "10             AdaBoostClassifier   1.000000         0.517762        0.999995   \n",
       "11  QuadraticDiscriminantAnalysis   0.546213         1.000000        0.972330   \n",
       "\n",
       "    Train Sensitivity  Train Specificity   Val AUC  Val Threshold  \\\n",
       "2            0.657143           0.644220  0.652525       0.031751   \n",
       "4            0.825824           0.847024  0.593022       0.435488   \n",
       "5            0.555952           0.666451  0.587473       0.030326   \n",
       "8            0.800275           0.772684  0.534819       0.396948   \n",
       "10           0.999908           0.999997  0.475547       0.463976   \n",
       "11           0.000000           1.000000  0.475108       2.000000   \n",
       "\n",
       "    Val Accuracy  Val Sensitivity  Val Specificity  Train AUC - Val AUC  \n",
       "2       0.618276         0.617997         0.618283             0.057838  \n",
       "4       0.558391         0.581494         0.557753             0.323416  \n",
       "5       0.684386         0.440577         0.691116             0.066627  \n",
       "8       0.516271         0.545840         0.515455             0.332911  \n",
       "10      0.942578         0.039049         0.967520             0.524453  \n",
       "11      0.973136         0.000000         1.000000             0.071105  "
      ]
     },
     "execution_count": 10,
     "metadata": {},
     "output_type": "execute_result"
    }
   ],
   "source": [
    "df_model_stats[df_model_stats['Train AUC - Val AUC'] > 0.05]"
   ]
  },
  {
   "cell_type": "code",
   "execution_count": 11,
   "id": "8bcec1e3-f184-41b6-a5b8-f471911091e8",
   "metadata": {},
   "outputs": [],
   "source": [
    "models = [ RandomForestClassifier(class_weight='balanced',max_depth=5, random_state=42, n_jobs=-1),\n",
    "AdaBoostClassifier(DecisionTreeClassifier(class_weight='balanced',max_depth=1,random_state=42)),\n",
    "BaggingClassifier(DecisionTreeClassifier(class_weight='balanced',max_depth=5,random_state=42),n_jobs=-1,random_state=42),\n",
    "MLPClassifier(random_state=42,alpha=0.1),\n",
    "         QuadraticDiscriminantAnalysis(reg_param=1)]"
   ]
  },
  {
   "cell_type": "code",
   "execution_count": 12,
   "id": "2e3e6c67-cd72-4ee4-b903-41326a734091",
   "metadata": {},
   "outputs": [],
   "source": [
    "model_names = ['RandomForestClassifier',\n",
    "               'AdaBoostClassifier',\n",
    "               'BaggingClassifier',\n",
    "               'MLPClassifier',\n",
    "               'QuadraticDiscriminantAnalysis'\n",
    "]"
   ]
  },
  {
   "cell_type": "code",
   "execution_count": 13,
   "id": "2a18efb8-e3da-4cbe-9609-9e0c29a86d5c",
   "metadata": {},
   "outputs": [
    {
     "name": "stdout",
     "output_type": "stream",
     "text": [
      "Training RandomForestClassifier\n",
      "Training took 30.020475149154663\n",
      "Training AdaBoostClassifier\n",
      "Training took 2263.958827018738\n",
      "Training BaggingClassifier\n"
     ]
    },
    {
     "ename": "TerminatedWorkerError",
     "evalue": "A worker process managed by the executor was unexpectedly terminated. This could be caused by a segmentation fault while calling the function or by an excessive memory usage causing the Operating System to kill the worker.\n\nThe exit codes of the workers are {SIGKILL(-9)}",
     "output_type": "error",
     "traceback": [
      "\u001b[0;31m---------------------------------------------------------------------------\u001b[0m",
      "\u001b[0;31mTerminatedWorkerError\u001b[0m                     Traceback (most recent call last)",
      "\u001b[0;32m/tmp/ipykernel_3736563/1801535307.py\u001b[0m in \u001b[0;36m<module>\u001b[0;34m\u001b[0m\n\u001b[1;32m      2\u001b[0m     \u001b[0mprint\u001b[0m\u001b[0;34m(\u001b[0m\u001b[0;34m'Training'\u001b[0m\u001b[0;34m,\u001b[0m\u001b[0mmodel_name\u001b[0m\u001b[0;34m)\u001b[0m\u001b[0;34m\u001b[0m\u001b[0;34m\u001b[0m\u001b[0m\n\u001b[1;32m      3\u001b[0m     \u001b[0mt0\u001b[0m \u001b[0;34m=\u001b[0m \u001b[0mtime\u001b[0m\u001b[0;34m.\u001b[0m\u001b[0mtime\u001b[0m\u001b[0;34m(\u001b[0m\u001b[0;34m)\u001b[0m\u001b[0;34m\u001b[0m\u001b[0;34m\u001b[0m\u001b[0m\n\u001b[0;32m----> 4\u001b[0;31m     \u001b[0mmodel\u001b[0m\u001b[0;34m.\u001b[0m\u001b[0mfit\u001b[0m\u001b[0;34m(\u001b[0m\u001b[0mX_train\u001b[0m\u001b[0;34m,\u001b[0m\u001b[0my_train\u001b[0m\u001b[0;34m)\u001b[0m\u001b[0;34m\u001b[0m\u001b[0;34m\u001b[0m\u001b[0m\n\u001b[0m\u001b[1;32m      5\u001b[0m     \u001b[0mprint\u001b[0m\u001b[0;34m(\u001b[0m\u001b[0;34m'Training took'\u001b[0m\u001b[0;34m,\u001b[0m\u001b[0mtime\u001b[0m\u001b[0;34m.\u001b[0m\u001b[0mtime\u001b[0m\u001b[0;34m(\u001b[0m\u001b[0;34m)\u001b[0m\u001b[0;34m-\u001b[0m\u001b[0mt0\u001b[0m\u001b[0;34m)\u001b[0m\u001b[0;34m\u001b[0m\u001b[0;34m\u001b[0m\u001b[0m\n\u001b[1;32m      6\u001b[0m     \u001b[0mdump\u001b[0m\u001b[0;34m(\u001b[0m\u001b[0mmodel\u001b[0m\u001b[0;34m,\u001b[0m\u001b[0;34m'../glaucoma_project/Models/'\u001b[0m\u001b[0;34m+\u001b[0m\u001b[0mmodel_name\u001b[0m\u001b[0;34m+\u001b[0m\u001b[0;34m'_genetic_model_v2.joblib'\u001b[0m\u001b[0;34m)\u001b[0m\u001b[0;34m\u001b[0m\u001b[0;34m\u001b[0m\u001b[0m\n",
      "\u001b[0;32m~/miniforge3/lib/python3.9/site-packages/sklearn/ensemble/_bagging.py\u001b[0m in \u001b[0;36mfit\u001b[0;34m(self, X, y, sample_weight)\u001b[0m\n\u001b[1;32m    267\u001b[0m             \u001b[0mmulti_output\u001b[0m\u001b[0;34m=\u001b[0m\u001b[0;32mTrue\u001b[0m\u001b[0;34m,\u001b[0m\u001b[0;34m\u001b[0m\u001b[0;34m\u001b[0m\u001b[0m\n\u001b[1;32m    268\u001b[0m         )\n\u001b[0;32m--> 269\u001b[0;31m         \u001b[0;32mreturn\u001b[0m \u001b[0mself\u001b[0m\u001b[0;34m.\u001b[0m\u001b[0m_fit\u001b[0m\u001b[0;34m(\u001b[0m\u001b[0mX\u001b[0m\u001b[0;34m,\u001b[0m \u001b[0my\u001b[0m\u001b[0;34m,\u001b[0m \u001b[0mself\u001b[0m\u001b[0;34m.\u001b[0m\u001b[0mmax_samples\u001b[0m\u001b[0;34m,\u001b[0m \u001b[0msample_weight\u001b[0m\u001b[0;34m=\u001b[0m\u001b[0msample_weight\u001b[0m\u001b[0;34m)\u001b[0m\u001b[0;34m\u001b[0m\u001b[0;34m\u001b[0m\u001b[0m\n\u001b[0m\u001b[1;32m    270\u001b[0m \u001b[0;34m\u001b[0m\u001b[0m\n\u001b[1;32m    271\u001b[0m     \u001b[0;32mdef\u001b[0m \u001b[0m_parallel_args\u001b[0m\u001b[0;34m(\u001b[0m\u001b[0mself\u001b[0m\u001b[0;34m)\u001b[0m\u001b[0;34m:\u001b[0m\u001b[0;34m\u001b[0m\u001b[0;34m\u001b[0m\u001b[0m\n",
      "\u001b[0;32m~/miniforge3/lib/python3.9/site-packages/sklearn/ensemble/_bagging.py\u001b[0m in \u001b[0;36m_fit\u001b[0;34m(self, X, y, max_samples, max_depth, sample_weight)\u001b[0m\n\u001b[1;32m    392\u001b[0m         \u001b[0mself\u001b[0m\u001b[0;34m.\u001b[0m\u001b[0m_seeds\u001b[0m \u001b[0;34m=\u001b[0m \u001b[0mseeds\u001b[0m\u001b[0;34m\u001b[0m\u001b[0;34m\u001b[0m\u001b[0m\n\u001b[1;32m    393\u001b[0m \u001b[0;34m\u001b[0m\u001b[0m\n\u001b[0;32m--> 394\u001b[0;31m         all_results = Parallel(\n\u001b[0m\u001b[1;32m    395\u001b[0m             \u001b[0mn_jobs\u001b[0m\u001b[0;34m=\u001b[0m\u001b[0mn_jobs\u001b[0m\u001b[0;34m,\u001b[0m \u001b[0mverbose\u001b[0m\u001b[0;34m=\u001b[0m\u001b[0mself\u001b[0m\u001b[0;34m.\u001b[0m\u001b[0mverbose\u001b[0m\u001b[0;34m,\u001b[0m \u001b[0;34m**\u001b[0m\u001b[0mself\u001b[0m\u001b[0;34m.\u001b[0m\u001b[0m_parallel_args\u001b[0m\u001b[0;34m(\u001b[0m\u001b[0;34m)\u001b[0m\u001b[0;34m\u001b[0m\u001b[0;34m\u001b[0m\u001b[0m\n\u001b[1;32m    396\u001b[0m         \u001b[0;34m)\u001b[0m\u001b[0;34m(\u001b[0m\u001b[0;34m\u001b[0m\u001b[0;34m\u001b[0m\u001b[0m\n",
      "\u001b[0;32m~/miniforge3/lib/python3.9/site-packages/joblib/parallel.py\u001b[0m in \u001b[0;36m__call__\u001b[0;34m(self, iterable)\u001b[0m\n\u001b[1;32m   1054\u001b[0m \u001b[0;34m\u001b[0m\u001b[0m\n\u001b[1;32m   1055\u001b[0m             \u001b[0;32mwith\u001b[0m \u001b[0mself\u001b[0m\u001b[0;34m.\u001b[0m\u001b[0m_backend\u001b[0m\u001b[0;34m.\u001b[0m\u001b[0mretrieval_context\u001b[0m\u001b[0;34m(\u001b[0m\u001b[0;34m)\u001b[0m\u001b[0;34m:\u001b[0m\u001b[0;34m\u001b[0m\u001b[0;34m\u001b[0m\u001b[0m\n\u001b[0;32m-> 1056\u001b[0;31m                 \u001b[0mself\u001b[0m\u001b[0;34m.\u001b[0m\u001b[0mretrieve\u001b[0m\u001b[0;34m(\u001b[0m\u001b[0;34m)\u001b[0m\u001b[0;34m\u001b[0m\u001b[0;34m\u001b[0m\u001b[0m\n\u001b[0m\u001b[1;32m   1057\u001b[0m             \u001b[0;31m# Make sure that we get a last message telling us we are done\u001b[0m\u001b[0;34m\u001b[0m\u001b[0;34m\u001b[0m\u001b[0m\n\u001b[1;32m   1058\u001b[0m             \u001b[0melapsed_time\u001b[0m \u001b[0;34m=\u001b[0m \u001b[0mtime\u001b[0m\u001b[0;34m.\u001b[0m\u001b[0mtime\u001b[0m\u001b[0;34m(\u001b[0m\u001b[0;34m)\u001b[0m \u001b[0;34m-\u001b[0m \u001b[0mself\u001b[0m\u001b[0;34m.\u001b[0m\u001b[0m_start_time\u001b[0m\u001b[0;34m\u001b[0m\u001b[0;34m\u001b[0m\u001b[0m\n",
      "\u001b[0;32m~/miniforge3/lib/python3.9/site-packages/joblib/parallel.py\u001b[0m in \u001b[0;36mretrieve\u001b[0;34m(self)\u001b[0m\n\u001b[1;32m    933\u001b[0m             \u001b[0;32mtry\u001b[0m\u001b[0;34m:\u001b[0m\u001b[0;34m\u001b[0m\u001b[0;34m\u001b[0m\u001b[0m\n\u001b[1;32m    934\u001b[0m                 \u001b[0;32mif\u001b[0m \u001b[0mgetattr\u001b[0m\u001b[0;34m(\u001b[0m\u001b[0mself\u001b[0m\u001b[0;34m.\u001b[0m\u001b[0m_backend\u001b[0m\u001b[0;34m,\u001b[0m \u001b[0;34m'supports_timeout'\u001b[0m\u001b[0;34m,\u001b[0m \u001b[0;32mFalse\u001b[0m\u001b[0;34m)\u001b[0m\u001b[0;34m:\u001b[0m\u001b[0;34m\u001b[0m\u001b[0;34m\u001b[0m\u001b[0m\n\u001b[0;32m--> 935\u001b[0;31m                     \u001b[0mself\u001b[0m\u001b[0;34m.\u001b[0m\u001b[0m_output\u001b[0m\u001b[0;34m.\u001b[0m\u001b[0mextend\u001b[0m\u001b[0;34m(\u001b[0m\u001b[0mjob\u001b[0m\u001b[0;34m.\u001b[0m\u001b[0mget\u001b[0m\u001b[0;34m(\u001b[0m\u001b[0mtimeout\u001b[0m\u001b[0;34m=\u001b[0m\u001b[0mself\u001b[0m\u001b[0;34m.\u001b[0m\u001b[0mtimeout\u001b[0m\u001b[0;34m)\u001b[0m\u001b[0;34m)\u001b[0m\u001b[0;34m\u001b[0m\u001b[0;34m\u001b[0m\u001b[0m\n\u001b[0m\u001b[1;32m    936\u001b[0m                 \u001b[0;32melse\u001b[0m\u001b[0;34m:\u001b[0m\u001b[0;34m\u001b[0m\u001b[0;34m\u001b[0m\u001b[0m\n\u001b[1;32m    937\u001b[0m                     \u001b[0mself\u001b[0m\u001b[0;34m.\u001b[0m\u001b[0m_output\u001b[0m\u001b[0;34m.\u001b[0m\u001b[0mextend\u001b[0m\u001b[0;34m(\u001b[0m\u001b[0mjob\u001b[0m\u001b[0;34m.\u001b[0m\u001b[0mget\u001b[0m\u001b[0;34m(\u001b[0m\u001b[0;34m)\u001b[0m\u001b[0;34m)\u001b[0m\u001b[0;34m\u001b[0m\u001b[0;34m\u001b[0m\u001b[0m\n",
      "\u001b[0;32m~/miniforge3/lib/python3.9/site-packages/joblib/_parallel_backends.py\u001b[0m in \u001b[0;36mwrap_future_result\u001b[0;34m(future, timeout)\u001b[0m\n\u001b[1;32m    540\u001b[0m         AsyncResults.get from multiprocessing.\"\"\"\n\u001b[1;32m    541\u001b[0m         \u001b[0;32mtry\u001b[0m\u001b[0;34m:\u001b[0m\u001b[0;34m\u001b[0m\u001b[0;34m\u001b[0m\u001b[0m\n\u001b[0;32m--> 542\u001b[0;31m             \u001b[0;32mreturn\u001b[0m \u001b[0mfuture\u001b[0m\u001b[0;34m.\u001b[0m\u001b[0mresult\u001b[0m\u001b[0;34m(\u001b[0m\u001b[0mtimeout\u001b[0m\u001b[0;34m=\u001b[0m\u001b[0mtimeout\u001b[0m\u001b[0;34m)\u001b[0m\u001b[0;34m\u001b[0m\u001b[0;34m\u001b[0m\u001b[0m\n\u001b[0m\u001b[1;32m    543\u001b[0m         \u001b[0;32mexcept\u001b[0m \u001b[0mCfTimeoutError\u001b[0m \u001b[0;32mas\u001b[0m \u001b[0me\u001b[0m\u001b[0;34m:\u001b[0m\u001b[0;34m\u001b[0m\u001b[0;34m\u001b[0m\u001b[0m\n\u001b[1;32m    544\u001b[0m             \u001b[0;32mraise\u001b[0m \u001b[0mTimeoutError\u001b[0m \u001b[0;32mfrom\u001b[0m \u001b[0me\u001b[0m\u001b[0;34m\u001b[0m\u001b[0;34m\u001b[0m\u001b[0m\n",
      "\u001b[0;32m~/miniforge3/lib/python3.9/concurrent/futures/_base.py\u001b[0m in \u001b[0;36mresult\u001b[0;34m(self, timeout)\u001b[0m\n\u001b[1;32m    443\u001b[0m                     \u001b[0;32mraise\u001b[0m \u001b[0mCancelledError\u001b[0m\u001b[0;34m(\u001b[0m\u001b[0;34m)\u001b[0m\u001b[0;34m\u001b[0m\u001b[0;34m\u001b[0m\u001b[0m\n\u001b[1;32m    444\u001b[0m                 \u001b[0;32melif\u001b[0m \u001b[0mself\u001b[0m\u001b[0;34m.\u001b[0m\u001b[0m_state\u001b[0m \u001b[0;34m==\u001b[0m \u001b[0mFINISHED\u001b[0m\u001b[0;34m:\u001b[0m\u001b[0;34m\u001b[0m\u001b[0;34m\u001b[0m\u001b[0m\n\u001b[0;32m--> 445\u001b[0;31m                     \u001b[0;32mreturn\u001b[0m \u001b[0mself\u001b[0m\u001b[0;34m.\u001b[0m\u001b[0m__get_result\u001b[0m\u001b[0;34m(\u001b[0m\u001b[0;34m)\u001b[0m\u001b[0;34m\u001b[0m\u001b[0;34m\u001b[0m\u001b[0m\n\u001b[0m\u001b[1;32m    446\u001b[0m                 \u001b[0;32melse\u001b[0m\u001b[0;34m:\u001b[0m\u001b[0;34m\u001b[0m\u001b[0;34m\u001b[0m\u001b[0m\n\u001b[1;32m    447\u001b[0m                     \u001b[0;32mraise\u001b[0m \u001b[0mTimeoutError\u001b[0m\u001b[0;34m(\u001b[0m\u001b[0;34m)\u001b[0m\u001b[0;34m\u001b[0m\u001b[0;34m\u001b[0m\u001b[0m\n",
      "\u001b[0;32m~/miniforge3/lib/python3.9/concurrent/futures/_base.py\u001b[0m in \u001b[0;36m__get_result\u001b[0;34m(self)\u001b[0m\n\u001b[1;32m    388\u001b[0m         \u001b[0;32mif\u001b[0m \u001b[0mself\u001b[0m\u001b[0;34m.\u001b[0m\u001b[0m_exception\u001b[0m\u001b[0;34m:\u001b[0m\u001b[0;34m\u001b[0m\u001b[0;34m\u001b[0m\u001b[0m\n\u001b[1;32m    389\u001b[0m             \u001b[0;32mtry\u001b[0m\u001b[0;34m:\u001b[0m\u001b[0;34m\u001b[0m\u001b[0;34m\u001b[0m\u001b[0m\n\u001b[0;32m--> 390\u001b[0;31m                 \u001b[0;32mraise\u001b[0m \u001b[0mself\u001b[0m\u001b[0;34m.\u001b[0m\u001b[0m_exception\u001b[0m\u001b[0;34m\u001b[0m\u001b[0;34m\u001b[0m\u001b[0m\n\u001b[0m\u001b[1;32m    391\u001b[0m             \u001b[0;32mfinally\u001b[0m\u001b[0;34m:\u001b[0m\u001b[0;34m\u001b[0m\u001b[0;34m\u001b[0m\u001b[0m\n\u001b[1;32m    392\u001b[0m                 \u001b[0;31m# Break a reference cycle with the exception in self._exception\u001b[0m\u001b[0;34m\u001b[0m\u001b[0;34m\u001b[0m\u001b[0m\n",
      "\u001b[0;31mTerminatedWorkerError\u001b[0m: A worker process managed by the executor was unexpectedly terminated. This could be caused by a segmentation fault while calling the function or by an excessive memory usage causing the Operating System to kill the worker.\n\nThe exit codes of the workers are {SIGKILL(-9)}"
     ]
    }
   ],
   "source": [
    "for model, model_name in zip(models, model_names):\n",
    "    print('Training',model_name)\n",
    "    t0 = time.time()\n",
    "    model.fit(X_train,y_train)\n",
    "    print('Training took',time.time()-t0)\n",
    "    dump(model,'../glaucoma_project/Models/'+model_name+'_genetic_model_v2.joblib')"
   ]
  },
  {
   "cell_type": "code",
   "execution_count": 11,
   "id": "e36879f3-c0e3-4cc4-83a1-796dcef1a146",
   "metadata": {},
   "outputs": [],
   "source": [
    "models = [ \n",
    "BaggingClassifier(DecisionTreeClassifier(class_weight='balanced',max_depth=5,random_state=42),n_jobs=1,random_state=42),\n",
    "MLPClassifier(random_state=42,alpha=0.1),\n",
    "         QuadraticDiscriminantAnalysis(reg_param=1)\n",
    "]"
   ]
  },
  {
   "cell_type": "code",
   "execution_count": 12,
   "id": "bd7f8d25-eb4a-462b-86af-44b62b2e0218",
   "metadata": {},
   "outputs": [],
   "source": [
    "model_names = [\n",
    "               'BaggingClassifier',\n",
    "               'MLPClassifier',\n",
    "               'QuadraticDiscriminantAnalysis'\n",
    "]"
   ]
  },
  {
   "cell_type": "code",
   "execution_count": 13,
   "id": "40a4d261-d343-4e7d-8c7a-413ad36e6bcb",
   "metadata": {},
   "outputs": [
    {
     "name": "stdout",
     "output_type": "stream",
     "text": [
      "Training BaggingClassifier\n",
      "Training took 439.0493040084839\n",
      "Training MLPClassifier\n",
      "Training took 822.6835014820099\n",
      "Training QuadraticDiscriminantAnalysis\n",
      "Training took 88.72513175010681\n"
     ]
    },
    {
     "name": "stderr",
     "output_type": "stream",
     "text": [
      "Variables are collinear\n"
     ]
    }
   ],
   "source": [
    "for model, model_name in zip(models, model_names):\n",
    "    print('Training',model_name)\n",
    "    t0 = time.time()\n",
    "    model.fit(X_train,y_train)\n",
    "    print('Training took',time.time()-t0)\n",
    "    dump(model,'../glaucoma_project/Models/'+model_name+'_genetic_model_v2.joblib')"
   ]
  },
  {
   "cell_type": "code",
   "execution_count": 14,
   "id": "10010b01-597d-4774-abb9-215baa0ffab0",
   "metadata": {},
   "outputs": [],
   "source": [
    "model_names = ['RandomForestClassifier',\n",
    "               'AdaBoostClassifier',\n",
    "               'BaggingClassifier',\n",
    "               'MLPClassifier',\n",
    "               'QuadraticDiscriminantAnalysis'\n",
    "]"
   ]
  },
  {
   "cell_type": "code",
   "execution_count": 15,
   "id": "8e9eda7e-7039-4312-b014-bcc3a7f91d7a",
   "metadata": {},
   "outputs": [],
   "source": [
    "models = [load('../glaucoma_project/Models/'+model_name+'_genetic_model_v2.joblib') for model_name in model_names]"
   ]
  },
  {
   "cell_type": "code",
   "execution_count": 17,
   "id": "a281cecc-8e9a-452c-8726-602dafc276d1",
   "metadata": {},
   "outputs": [
    {
     "name": "stdout",
     "output_type": "stream",
     "text": [
      "RandomForestClassifier\n",
      "Training:\n",
      "AUC 0.6133029716374234\n",
      "Youden's J threshold 0.4914206318251086\n",
      "Accuracy 0.5674312182316662\n",
      "Sensitivity 0.593040293040293\n",
      "Specificity 0.5667024553466724\n",
      "Validation:\n",
      "AUC 0.5880708616164534\n",
      "Youden's J threshold 0.5091571483602827\n",
      "Accuracy 0.7192310323595813\n",
      "Sensitivity 0.399830220713073\n",
      "Specificity 0.7280481803482296\n",
      "==========\n",
      "AdaBoostClassifier\n",
      "Training:\n",
      "AUC 0.6281103647356376\n",
      "Youden's J threshold 0.4999106818429564\n",
      "Accuracy 0.586050059039057\n",
      "Sensitivity 0.5991758241758242\n",
      "Specificity 0.5856765363507013\n",
      "Validation:\n",
      "AUC 0.6158494074872772\n",
      "Youden's J threshold 0.5005670383999075\n",
      "Accuracy 0.682880664066954\n",
      "Sensitivity 0.4898132427843803\n",
      "Specificity 0.6882103437770956\n",
      "==========\n",
      "BaggingClassifier\n",
      "Training:\n",
      "AUC 0.6137078714105052\n",
      "Youden's J threshold 0.48504598288670564\n",
      "Accuracy 0.5673197281669513\n",
      "Sensitivity 0.5967032967032967\n",
      "Specificity 0.5664835537116857\n",
      "Validation:\n",
      "AUC 0.5702928142656456\n",
      "Youden's J threshold 0.47921021717669954\n",
      "Accuracy 0.5228387037923878\n",
      "Sensitivity 0.5882852292020373\n",
      "Specificity 0.5210320343074075\n",
      "==========\n",
      "MLPClassifier\n",
      "Training:\n",
      "AUC 0.6776958504298928\n",
      "Youden's J threshold 0.029133525382470934\n",
      "Accuracy 0.6770588920928206\n",
      "Sensitivity 0.5785714285714286\n",
      "Specificity 0.6798615707755893\n",
      "Validation:\n",
      "AUC 0.6642720531548857\n",
      "Youden's J threshold 0.027010175593122375\n",
      "Accuracy 0.6283095026339194\n",
      "Sensitivity 0.6230899830220713\n",
      "Specificity 0.6284535889203946\n",
      "==========\n",
      "QuadraticDiscriminantAnalysis\n",
      "Training:\n",
      "AUC 0.6155485949697566\n",
      "Youden's J threshold 0.02099816797684121\n",
      "Accuracy 0.5660147876367654\n",
      "Sensitivity 0.5988095238095238\n",
      "Specificity 0.5650815408590325\n",
      "Validation:\n",
      "AUC 0.607733696575255\n",
      "Youden's J threshold 0.015708045860469404\n",
      "Accuracy 0.5192127887619439\n",
      "Sensitivity 0.6502546689303905\n",
      "Specificity 0.5155953413165233\n",
      "==========\n"
     ]
    }
   ],
   "source": [
    "train_stats = {}\n",
    "val_stats = {}\n",
    "for model, model_name in zip(models, model_names):\n",
    "    print(model_name)\n",
    "    if model_name != 'KNeighborsClassifier':\n",
    "        print('Training:')\n",
    "        try:\n",
    "            y_train_pred_proba = model.predict_proba(X_train)\n",
    "        except:\n",
    "            y_train_pred_proba = model._predict_proba_lr(X_train)\n",
    "        train_stats[model_name] = evaluate_model(y_train,y_train_pred_proba)\n",
    "    print('Validation:')\n",
    "    try:\n",
    "        y_val_pred_proba = model.predict_proba(X_val)\n",
    "    except:\n",
    "        y_val_pred_proba = model._predict_proba_lr(X_val)\n",
    "    val_stats[model_name] = evaluate_model(y_val,y_val_pred_proba)\n",
    "    print('==========')"
   ]
  },
  {
   "cell_type": "code",
   "execution_count": 20,
   "id": "d00c3428-b82e-4939-b968-298ce40769b3",
   "metadata": {},
   "outputs": [],
   "source": [
    "df_model_stats = pd.DataFrame()\n",
    "df_model_stats['Model Names'] = model_names\n",
    "df_model_stats['Train AUC'] = df_model_stats['Model Names'].apply(lambda x: train_stats[x][0] if x in train_stats.keys() else np.nan)\n",
    "df_model_stats['Train Threshold'] = df_model_stats['Model Names'].apply(lambda x: train_stats[x][1] if x in train_stats.keys() else np.nan)\n",
    "df_model_stats['Train Accuracy'] = df_model_stats['Model Names'].apply(lambda x: train_stats[x][2] if x in train_stats.keys() else np.nan)\n",
    "df_model_stats['Train Sensitivity'] = df_model_stats['Model Names'].apply(lambda x: train_stats[x][3] if x in train_stats.keys() else np.nan)\n",
    "df_model_stats['Train Specificity'] = df_model_stats['Model Names'].apply(lambda x: train_stats[x][4] if x in train_stats.keys() else np.nan)\n",
    "df_model_stats['Val AUC'] = df_model_stats['Model Names'].apply(lambda x: val_stats[x][0] if x in val_stats.keys() else np.nan)\n",
    "df_model_stats['Val Threshold'] = df_model_stats['Model Names'].apply(lambda x: val_stats[x][1] if x in val_stats.keys() else np.nan)\n",
    "df_model_stats['Val Accuracy'] = df_model_stats['Model Names'].apply(lambda x: val_stats[x][2] if x in val_stats.keys() else np.nan)\n",
    "df_model_stats['Val Sensitivity'] = df_model_stats['Model Names'].apply(lambda x: val_stats[x][3] if x in val_stats.keys() else np.nan)\n",
    "df_model_stats['Val Specificity'] = df_model_stats['Model Names'].apply(lambda x: val_stats[x][4] if x in val_stats.keys() else np.nan)"
   ]
  },
  {
   "cell_type": "code",
   "execution_count": 21,
   "id": "73b3c46b-67df-4050-a1b8-1edaed889e0b",
   "metadata": {},
   "outputs": [],
   "source": [
    "df_model_stats.sort_values('Val AUC', ascending=False).to_csv('../glaucoma_project/UKBB_Data/processed_data/initial_model_selection_genetic_data_only_v2.csv', index=False)"
   ]
  },
  {
   "cell_type": "markdown",
   "id": "541b602a-a0be-481e-be5b-1101be9ff0a5",
   "metadata": {},
   "source": [
    "Best model was MLPClassifier"
   ]
  },
  {
   "cell_type": "code",
   "execution_count": 13,
   "id": "e217d86f-f97a-4efe-ac12-b554010b7dba",
   "metadata": {},
   "outputs": [],
   "source": [
    "best_model = MLPClassifier(random_state=42,alpha=0.1)"
   ]
  },
  {
   "cell_type": "code",
   "execution_count": 17,
   "id": "8a49d510-30d0-4040-951b-e75057571e0d",
   "metadata": {},
   "outputs": [],
   "source": [
    "X_train = pd.read_pickle(UKBB_PATH+'processed_data/imputed_genes.pkl')\n",
    "X_train = X_train[X_train.columns[2:]]"
   ]
  },
  {
   "cell_type": "code",
   "execution_count": 9,
   "id": "b22bb3c2-1779-41bf-9eb2-e9901d6406f4",
   "metadata": {},
   "outputs": [],
   "source": [
    "y_train = pd.read_pickle(UKBB_PATH+'processed_data/glaucoma_diagnosis_for_genetic_ml.pkl')"
   ]
  },
  {
   "cell_type": "code",
   "execution_count": 19,
   "id": "908b760b-3db5-42a4-adb3-abbb3071dd4e",
   "metadata": {},
   "outputs": [
    {
     "data": {
      "text/html": [
       "<div>\n",
       "<style scoped>\n",
       "    .dataframe tbody tr th:only-of-type {\n",
       "        vertical-align: middle;\n",
       "    }\n",
       "\n",
       "    .dataframe tbody tr th {\n",
       "        vertical-align: top;\n",
       "    }\n",
       "\n",
       "    .dataframe thead th {\n",
       "        text-align: right;\n",
       "    }\n",
       "</style>\n",
       "<table border=\"1\" class=\"dataframe\">\n",
       "  <thead>\n",
       "    <tr style=\"text-align: right;\">\n",
       "      <th></th>\n",
       "      <th>rs71628956</th>\n",
       "      <th>rs78389809</th>\n",
       "      <th>rs6704012</th>\n",
       "      <th>rs12024620</th>\n",
       "      <th>rs12021948</th>\n",
       "      <th>rs302714</th>\n",
       "      <th>rs172531</th>\n",
       "      <th>rs534975221</th>\n",
       "      <th>rs28991009</th>\n",
       "      <th>rs143038218</th>\n",
       "      <th>...</th>\n",
       "      <th>rs181331502</th>\n",
       "      <th>rs1047922</th>\n",
       "      <th>rs41506447</th>\n",
       "      <th>rs2107482</th>\n",
       "      <th>rs66819623</th>\n",
       "      <th>rs12558081</th>\n",
       "      <th>rs17146835</th>\n",
       "      <th>rs67499600</th>\n",
       "      <th>rs138274479</th>\n",
       "      <th>rs12013156</th>\n",
       "    </tr>\n",
       "  </thead>\n",
       "  <tbody>\n",
       "    <tr>\n",
       "      <th>0</th>\n",
       "      <td>0</td>\n",
       "      <td>0</td>\n",
       "      <td>0</td>\n",
       "      <td>0</td>\n",
       "      <td>0</td>\n",
       "      <td>2</td>\n",
       "      <td>2</td>\n",
       "      <td>0</td>\n",
       "      <td>0</td>\n",
       "      <td>0</td>\n",
       "      <td>...</td>\n",
       "      <td>0</td>\n",
       "      <td>0</td>\n",
       "      <td>0</td>\n",
       "      <td>1</td>\n",
       "      <td>1</td>\n",
       "      <td>1</td>\n",
       "      <td>1</td>\n",
       "      <td>1</td>\n",
       "      <td>0</td>\n",
       "      <td>0</td>\n",
       "    </tr>\n",
       "    <tr>\n",
       "      <th>1</th>\n",
       "      <td>1</td>\n",
       "      <td>1</td>\n",
       "      <td>1</td>\n",
       "      <td>0</td>\n",
       "      <td>0</td>\n",
       "      <td>0</td>\n",
       "      <td>0</td>\n",
       "      <td>0</td>\n",
       "      <td>0</td>\n",
       "      <td>0</td>\n",
       "      <td>...</td>\n",
       "      <td>0</td>\n",
       "      <td>1</td>\n",
       "      <td>1</td>\n",
       "      <td>2</td>\n",
       "      <td>1</td>\n",
       "      <td>0</td>\n",
       "      <td>0</td>\n",
       "      <td>0</td>\n",
       "      <td>0</td>\n",
       "      <td>0</td>\n",
       "    </tr>\n",
       "    <tr>\n",
       "      <th>2</th>\n",
       "      <td>0</td>\n",
       "      <td>0</td>\n",
       "      <td>0</td>\n",
       "      <td>0</td>\n",
       "      <td>0</td>\n",
       "      <td>1</td>\n",
       "      <td>1</td>\n",
       "      <td>0</td>\n",
       "      <td>0</td>\n",
       "      <td>0</td>\n",
       "      <td>...</td>\n",
       "      <td>0</td>\n",
       "      <td>1</td>\n",
       "      <td>1</td>\n",
       "      <td>1</td>\n",
       "      <td>0</td>\n",
       "      <td>0</td>\n",
       "      <td>0</td>\n",
       "      <td>0</td>\n",
       "      <td>0</td>\n",
       "      <td>0</td>\n",
       "    </tr>\n",
       "    <tr>\n",
       "      <th>3</th>\n",
       "      <td>1</td>\n",
       "      <td>1</td>\n",
       "      <td>0</td>\n",
       "      <td>0</td>\n",
       "      <td>0</td>\n",
       "      <td>1</td>\n",
       "      <td>1</td>\n",
       "      <td>0</td>\n",
       "      <td>0</td>\n",
       "      <td>0</td>\n",
       "      <td>...</td>\n",
       "      <td>0</td>\n",
       "      <td>0</td>\n",
       "      <td>0</td>\n",
       "      <td>0</td>\n",
       "      <td>1</td>\n",
       "      <td>1</td>\n",
       "      <td>1</td>\n",
       "      <td>1</td>\n",
       "      <td>1</td>\n",
       "      <td>0</td>\n",
       "    </tr>\n",
       "    <tr>\n",
       "      <th>4</th>\n",
       "      <td>1</td>\n",
       "      <td>1</td>\n",
       "      <td>1</td>\n",
       "      <td>0</td>\n",
       "      <td>0</td>\n",
       "      <td>1</td>\n",
       "      <td>1</td>\n",
       "      <td>0</td>\n",
       "      <td>0</td>\n",
       "      <td>0</td>\n",
       "      <td>...</td>\n",
       "      <td>0</td>\n",
       "      <td>0</td>\n",
       "      <td>0</td>\n",
       "      <td>1</td>\n",
       "      <td>1</td>\n",
       "      <td>1</td>\n",
       "      <td>1</td>\n",
       "      <td>1</td>\n",
       "      <td>0</td>\n",
       "      <td>0</td>\n",
       "    </tr>\n",
       "    <tr>\n",
       "      <th>...</th>\n",
       "      <td>...</td>\n",
       "      <td>...</td>\n",
       "      <td>...</td>\n",
       "      <td>...</td>\n",
       "      <td>...</td>\n",
       "      <td>...</td>\n",
       "      <td>...</td>\n",
       "      <td>...</td>\n",
       "      <td>...</td>\n",
       "      <td>...</td>\n",
       "      <td>...</td>\n",
       "      <td>...</td>\n",
       "      <td>...</td>\n",
       "      <td>...</td>\n",
       "      <td>...</td>\n",
       "      <td>...</td>\n",
       "      <td>...</td>\n",
       "      <td>...</td>\n",
       "      <td>...</td>\n",
       "      <td>...</td>\n",
       "      <td>...</td>\n",
       "    </tr>\n",
       "    <tr>\n",
       "      <th>438500</th>\n",
       "      <td>0</td>\n",
       "      <td>0</td>\n",
       "      <td>0</td>\n",
       "      <td>0</td>\n",
       "      <td>0</td>\n",
       "      <td>1</td>\n",
       "      <td>1</td>\n",
       "      <td>0</td>\n",
       "      <td>0</td>\n",
       "      <td>0</td>\n",
       "      <td>...</td>\n",
       "      <td>0</td>\n",
       "      <td>0</td>\n",
       "      <td>0</td>\n",
       "      <td>0</td>\n",
       "      <td>0</td>\n",
       "      <td>0</td>\n",
       "      <td>0</td>\n",
       "      <td>0</td>\n",
       "      <td>0</td>\n",
       "      <td>0</td>\n",
       "    </tr>\n",
       "    <tr>\n",
       "      <th>438501</th>\n",
       "      <td>0</td>\n",
       "      <td>0</td>\n",
       "      <td>0</td>\n",
       "      <td>0</td>\n",
       "      <td>0</td>\n",
       "      <td>0</td>\n",
       "      <td>0</td>\n",
       "      <td>0</td>\n",
       "      <td>0</td>\n",
       "      <td>0</td>\n",
       "      <td>...</td>\n",
       "      <td>0</td>\n",
       "      <td>0</td>\n",
       "      <td>0</td>\n",
       "      <td>1</td>\n",
       "      <td>1</td>\n",
       "      <td>1</td>\n",
       "      <td>1</td>\n",
       "      <td>1</td>\n",
       "      <td>0</td>\n",
       "      <td>0</td>\n",
       "    </tr>\n",
       "    <tr>\n",
       "      <th>438502</th>\n",
       "      <td>0</td>\n",
       "      <td>0</td>\n",
       "      <td>0</td>\n",
       "      <td>0</td>\n",
       "      <td>0</td>\n",
       "      <td>1</td>\n",
       "      <td>1</td>\n",
       "      <td>0</td>\n",
       "      <td>0</td>\n",
       "      <td>0</td>\n",
       "      <td>...</td>\n",
       "      <td>0</td>\n",
       "      <td>0</td>\n",
       "      <td>0</td>\n",
       "      <td>1</td>\n",
       "      <td>0</td>\n",
       "      <td>0</td>\n",
       "      <td>0</td>\n",
       "      <td>0</td>\n",
       "      <td>1</td>\n",
       "      <td>0</td>\n",
       "    </tr>\n",
       "    <tr>\n",
       "      <th>438503</th>\n",
       "      <td>0</td>\n",
       "      <td>0</td>\n",
       "      <td>0</td>\n",
       "      <td>0</td>\n",
       "      <td>0</td>\n",
       "      <td>1</td>\n",
       "      <td>1</td>\n",
       "      <td>0</td>\n",
       "      <td>0</td>\n",
       "      <td>0</td>\n",
       "      <td>...</td>\n",
       "      <td>0</td>\n",
       "      <td>0</td>\n",
       "      <td>0</td>\n",
       "      <td>2</td>\n",
       "      <td>1</td>\n",
       "      <td>2</td>\n",
       "      <td>2</td>\n",
       "      <td>2</td>\n",
       "      <td>0</td>\n",
       "      <td>0</td>\n",
       "    </tr>\n",
       "    <tr>\n",
       "      <th>438504</th>\n",
       "      <td>0</td>\n",
       "      <td>0</td>\n",
       "      <td>0</td>\n",
       "      <td>0</td>\n",
       "      <td>0</td>\n",
       "      <td>0</td>\n",
       "      <td>0</td>\n",
       "      <td>0</td>\n",
       "      <td>0</td>\n",
       "      <td>0</td>\n",
       "      <td>...</td>\n",
       "      <td>0</td>\n",
       "      <td>0</td>\n",
       "      <td>0</td>\n",
       "      <td>2</td>\n",
       "      <td>1</td>\n",
       "      <td>1</td>\n",
       "      <td>1</td>\n",
       "      <td>1</td>\n",
       "      <td>0</td>\n",
       "      <td>0</td>\n",
       "    </tr>\n",
       "  </tbody>\n",
       "</table>\n",
       "<p>438505 rows × 1184 columns</p>\n",
       "</div>"
      ],
      "text/plain": [
       "       rs71628956 rs78389809 rs6704012 rs12024620 rs12021948 rs302714  \\\n",
       "0               0          0         0          0          0        2   \n",
       "1               1          1         1          0          0        0   \n",
       "2               0          0         0          0          0        1   \n",
       "3               1          1         0          0          0        1   \n",
       "4               1          1         1          0          0        1   \n",
       "...           ...        ...       ...        ...        ...      ...   \n",
       "438500          0          0         0          0          0        1   \n",
       "438501          0          0         0          0          0        0   \n",
       "438502          0          0         0          0          0        1   \n",
       "438503          0          0         0          0          0        1   \n",
       "438504          0          0         0          0          0        0   \n",
       "\n",
       "       rs172531 rs534975221 rs28991009 rs143038218  ... rs181331502 rs1047922  \\\n",
       "0             2           0          0           0  ...           0         0   \n",
       "1             0           0          0           0  ...           0         1   \n",
       "2             1           0          0           0  ...           0         1   \n",
       "3             1           0          0           0  ...           0         0   \n",
       "4             1           0          0           0  ...           0         0   \n",
       "...         ...         ...        ...         ...  ...         ...       ...   \n",
       "438500        1           0          0           0  ...           0         0   \n",
       "438501        0           0          0           0  ...           0         0   \n",
       "438502        1           0          0           0  ...           0         0   \n",
       "438503        1           0          0           0  ...           0         0   \n",
       "438504        0           0          0           0  ...           0         0   \n",
       "\n",
       "       rs41506447 rs2107482 rs66819623 rs12558081 rs17146835 rs67499600  \\\n",
       "0               0         1          1          1          1          1   \n",
       "1               1         2          1          0          0          0   \n",
       "2               1         1          0          0          0          0   \n",
       "3               0         0          1          1          1          1   \n",
       "4               0         1          1          1          1          1   \n",
       "...           ...       ...        ...        ...        ...        ...   \n",
       "438500          0         0          0          0          0          0   \n",
       "438501          0         1          1          1          1          1   \n",
       "438502          0         1          0          0          0          0   \n",
       "438503          0         2          1          2          2          2   \n",
       "438504          0         2          1          1          1          1   \n",
       "\n",
       "       rs138274479 rs12013156  \n",
       "0                0          0  \n",
       "1                0          0  \n",
       "2                0          0  \n",
       "3                1          0  \n",
       "4                0          0  \n",
       "...            ...        ...  \n",
       "438500           0          0  \n",
       "438501           0          0  \n",
       "438502           1          0  \n",
       "438503           0          0  \n",
       "438504           0          0  \n",
       "\n",
       "[438505 rows x 1184 columns]"
      ]
     },
     "execution_count": 19,
     "metadata": {},
     "output_type": "execute_result"
    }
   ],
   "source": [
    "X_train"
   ]
  },
  {
   "cell_type": "code",
   "execution_count": null,
   "id": "ad066ae8-181d-49a7-a6b0-e02966136115",
   "metadata": {},
   "outputs": [],
   "source": [
    "best_model.fit(X_train,y_train)"
   ]
  }
 ],
 "metadata": {
  "kernelspec": {
   "display_name": "Python 3 (ipykernel)",
   "language": "python",
   "name": "python3"
  },
  "language_info": {
   "codemirror_mode": {
    "name": "ipython",
    "version": 3
   },
   "file_extension": ".py",
   "mimetype": "text/x-python",
   "name": "python",
   "nbconvert_exporter": "python",
   "pygments_lexer": "ipython3",
   "version": "3.9.7"
  }
 },
 "nbformat": 4,
 "nbformat_minor": 5
}
